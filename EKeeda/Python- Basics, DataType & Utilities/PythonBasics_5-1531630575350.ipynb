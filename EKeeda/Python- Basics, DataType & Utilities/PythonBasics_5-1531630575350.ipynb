{
 "cells": [
  {
   "cell_type": "markdown",
   "metadata": {},
   "source": [
    "# <center>Python Basics<center/> \n",
    "<img height=\"60\" width=\"120\" src=\"https://www.python.org/static/img/python-logo-large.png?1414305901\"></img>"
   ]
  },
  {
   "cell_type": "markdown",
   "metadata": {},
   "source": [
    "# <center>Data types in depth</center>"
   ]
  },
  {
   "cell_type": "markdown",
   "metadata": {},
   "source": [
    "# Table of contents\n",
    "<br/>\n",
    "\n",
    "<a href = \"#14.-Lists\">14. Lists</a><br/>\n",
    "<a href = \"#15.-Tuples\">15. Tuples</a><br/>\n",
    "<a href = \"#16.-Sets\">16. Sets</a><br/>\n",
    "<a href = \"#17.-Dictionary\">17. Dictionary</a><br/>\n",
    "<a href = \"#18.-Strings\">18. Strings</a><br/>"
   ]
  },
  {
   "cell_type": "markdown",
   "metadata": {},
   "source": [
    "The most basic **DATA STRUCTURE** in Python is the **sequence**. Each element of a <u>sequence is assigned a number</u> - its **position or index**. <br/>\n",
    "The first index is <i>zero, the second index is one, and so forth</i>.\n",
    "\n",
    "Popular sequences in python are **Lists, Tuples, Sets, Dictionary and Strings**.\n",
    "\n",
    "The popular operations include **indexing, slicing, adding, multiplying, and checking for membership**. In addition, Python has built-in functions for finding the **length** of a sequence and for finding its **largest and smallest elements**."
   ]
  },
  {
   "cell_type": "markdown",
   "metadata": {},
   "source": [
    "# 14. Lists"
   ]
  },
  {
   "cell_type": "markdown",
   "metadata": {},
   "source": [
    "Points to remeber:\n",
    "\n",
    "<ul>\n",
    "    <li>Lists are collection of items (Strings, integers or even other lists)</li>\n",
    "    <li>Lists are enclosed in [ ]</li>\n",
    "    <li>Every item in a list has an assigned index value.</li>\n",
    "    <li>Each item in a list is separated by a comma</li>\n",
    "    <li>Lists are mutable, which means they can be changed.</li>\n",
    "</ul>"
   ]
  },
  {
   "cell_type": "markdown",
   "metadata": {
    "collapsed": true
   },
   "source": [
    "## 14.1 How to create a List"
   ]
  },
  {
   "cell_type": "code",
   "execution_count": null,
   "metadata": {},
   "outputs": [
    {
     "name": "stdout",
     "output_type": "stream",
     "text": [
      "[[100, 45, 6], ['String1', 'String3'], [12, 4, 6]]\n"
     ]
    }
   ],
   "source": [
    "blankList=[] #Decleare an empty list\n",
    "listOfString = ['String1', 'String2'] #List of Strings\n",
    "listOfNumbers = [1,2,3,4,5,6]  # List of Numbers\n",
    "listOfList = [ [100, 45,6],['String1','String3'],[12,4,6]]#list of List with Mixed Datatype\n",
    "print(listOfList)\n",
    "\n",
    "                            "
   ]
  },
  {
   "cell_type": "markdown",
   "metadata": {},
   "source": [
    "## 14.2 Finding the Length of the List"
   ]
  },
  {
   "cell_type": "code",
   "execution_count": 2,
   "metadata": {},
   "outputs": [
    {
     "name": "stdout",
     "output_type": "stream",
     "text": [
      "3\n"
     ]
    }
   ],
   "source": [
    "print(len(listOfList))"
   ]
  },
  {
   "cell_type": "markdown",
   "metadata": {},
   "source": [
    "## 14.3 Add an element to the end of the List - Append"
   ]
  },
  {
   "cell_type": "code",
   "execution_count": 3,
   "metadata": {},
   "outputs": [
    {
     "name": "stdout",
     "output_type": "stream",
     "text": [
      "[12, 13, 14, 25, 'Appended Emements']\n"
     ]
    }
   ],
   "source": [
    "listOfNumbers= [12,13,14,25]\n",
    "listOfNumbers.append('Appended Emements')#append function will add the item to at the end\n",
    "print(listOfNumbers)"
   ]
  },
  {
   "cell_type": "markdown",
   "metadata": {},
   "source": [
    "## 14.4  Insert an element at a particular position in the List"
   ]
  },
  {
   "cell_type": "code",
   "execution_count": 4,
   "metadata": {},
   "outputs": [
    {
     "name": "stdout",
     "output_type": "stream",
     "text": [
      "[55.5, 'Bill', 'Data Science', 1000, 19.9]\n"
     ]
    }
   ],
   "source": [
    "listOfMixedDataTypes = [55.5, 'Bill', 1000,19.9]\n",
    "listOfMixedDataTypes.insert(2,'Data Science')\n",
    "print(listOfMixedDataTypes)"
   ]
  },
  {
   "cell_type": "markdown",
   "metadata": {},
   "source": [
    "## 14.5 Remove an item from the List"
   ]
  },
  {
   "cell_type": "code",
   "execution_count": 6,
   "metadata": {},
   "outputs": [
    {
     "name": "stdout",
     "output_type": "stream",
     "text": [
      "4\n",
      "['Bill', 1000, 19.9]\n",
      "3\n"
     ]
    }
   ],
   "source": [
    "listOfMixedDataTypes = [55.5, 'Bill', 1000,19.9]\n",
    "print(len(listOfMixedDataTypes))\n",
    "listOfMixedDataTypes.remove(55.5)\n",
    "print(listOfMixedDataTypes)\n",
    "print(len(listOfMixedDataTypes))"
   ]
  },
  {
   "cell_type": "markdown",
   "metadata": {},
   "source": [
    "## 14.6 List in a List - Append vs Extend "
   ]
  },
  {
   "cell_type": "code",
   "execution_count": 8,
   "metadata": {},
   "outputs": [
    {
     "name": "stdout",
     "output_type": "stream",
     "text": [
      "[55.5, 'Bill', 1000, 19.9, [12, 7.8, 30, 64]]\n",
      "5\n"
     ]
    }
   ],
   "source": [
    "listOfMixedDataTypes = [55.5, 'Bill', 1000,19.9]\n",
    "listOfNumbers= [12,7.8,30,64]\n",
    "listOfMixedDataTypes.append(listOfNumbers) # It adds the object as it is. using the append() methos\n",
    "print(listOfMixedDataTypes)\n",
    "print(len(listOfMixedDataTypes))"
   ]
  },
  {
   "cell_type": "code",
   "execution_count": 9,
   "metadata": {},
   "outputs": [
    {
     "name": "stdout",
     "output_type": "stream",
     "text": [
      "[55.5, 'Bill', 1000, 19.9, 12, 7.8, 30, 64]\n",
      "8\n"
     ]
    }
   ],
   "source": [
    "listOfMixedDataTypes = [55.5, 'Bill', 1000,19.9]\n",
    "listOfNumbers= [12,7.8,30,64]\n",
    "listOfMixedDataTypes.extend(listOfNumbers) # using the extend method\n",
    "print(listOfMixedDataTypes)\n",
    "print(len(listOfMixedDataTypes))"
   ]
  },
  {
   "cell_type": "code",
   "execution_count": 10,
   "metadata": {},
   "outputs": [
    {
     "name": "stdout",
     "output_type": "stream",
     "text": [
      "[55.5, 'Bill', 1000, 19.9, 64, 12, 30, 7.8]\n",
      "8\n"
     ]
    }
   ],
   "source": [
    "listOfMixedDataTypes = [55.5, 'Bill', 1000,19.9]\n",
    "setOfNumbers= {12,7.8,30,64}\n",
    "listOfMixedDataTypes.extend(setOfNumbers) # using the extend method\n",
    "print(listOfMixedDataTypes)\n",
    "print(len(listOfMixedDataTypes))"
   ]
  },
  {
   "cell_type": "code",
   "execution_count": 12,
   "metadata": {},
   "outputs": [
    {
     "name": "stdout",
     "output_type": "stream",
     "text": [
      "[55.5, 'Bill', 1000, 19.9, 12, 7.8, 30, 64]\n",
      "8\n"
     ]
    }
   ],
   "source": [
    "listOfMixedDataTypes = [55.5, 'Bill', 1000,19.9]\n",
    "tupleOfNumbers= (12,7.8,30,64)\n",
    "listOfMixedDataTypes.extend(tupleOfNumbers) # using the extend method\n",
    "print(listOfMixedDataTypes)\n",
    "print(len(listOfMixedDataTypes))"
   ]
  },
  {
   "cell_type": "code",
   "execution_count": 13,
   "metadata": {},
   "outputs": [
    {
     "name": "stdout",
     "output_type": "stream",
     "text": [
      "[55.5, 'Bill', 1000, 19.9, (12, 7.8, 30, 64)]\n",
      "5\n"
     ]
    }
   ],
   "source": [
    "listOfMixedDataTypes = [55.5, 'Bill', 1000,19.9]\n",
    "tupleOfNumbers= (12,7.8,30,64)\n",
    "listOfMixedDataTypes.append(tupleOfNumbers) # using the extend method\n",
    "print(listOfMixedDataTypes)\n",
    "print(len(listOfMixedDataTypes))"
   ]
  },
  {
   "cell_type": "markdown",
   "metadata": {},
   "source": [
    "## 14.7 Delete an element in a List - del vs pop vs remove"
   ]
  },
  {
   "cell_type": "code",
   "execution_count": 15,
   "metadata": {},
   "outputs": [
    {
     "name": "stdout",
     "output_type": "stream",
     "text": [
      "[55.5, 19.9]\n"
     ]
    }
   ],
   "source": [
    "listOfMixedDataTypes=[55.5, 'Bill', 1000,19.9]\n",
    "\n",
    "#using del keyword\n",
    "#del listOfMixedDataTypes[2]\n",
    "del listOfMixedDataTypes[1:3]\n",
    "print(listOfMixedDataTypes)\n"
   ]
  },
  {
   "cell_type": "code",
   "execution_count": 17,
   "metadata": {},
   "outputs": [
    {
     "name": "stdout",
     "output_type": "stream",
     "text": [
      "[55.5, 'Bill', 1000, 19.9, [12, 7.8, 30, 64]]\n",
      "[55.5, 'Bill', 1000, 19.9, [7.8, 30, 64]]\n"
     ]
    }
   ],
   "source": [
    "listOfMixedDataTypes = [55.5, 'Bill', 1000,19.9]\n",
    "listOfNumbers= [12,7.8,30,64]\n",
    "listOfMixedDataTypes.append(listOfNumbers)\n",
    "print(listOfMixedDataTypes)\n",
    "del listOfMixedDataTypes[4][0]\n",
    "print(listOfMixedDataTypes)"
   ]
  },
  {
   "cell_type": "code",
   "execution_count": 19,
   "metadata": {},
   "outputs": [
    {
     "name": "stdout",
     "output_type": "stream",
     "text": [
      "[55.5, 'Bill', 1000, 19.9, (12, 7.8, 30, 64)]\n"
     ]
    },
    {
     "ename": "TypeError",
     "evalue": "'tuple' object doesn't support item deletion",
     "output_type": "error",
     "traceback": [
      "\u001b[1;31m---------------------------------------------------------------------------\u001b[0m",
      "\u001b[1;31mTypeError\u001b[0m                                 Traceback (most recent call last)",
      "Input \u001b[1;32mIn [19]\u001b[0m, in \u001b[0;36m<cell line: 5>\u001b[1;34m()\u001b[0m\n\u001b[0;32m      3\u001b[0m listOfMixedDataTypes\u001b[38;5;241m.\u001b[39mappend(tupleOfNumbers)\n\u001b[0;32m      4\u001b[0m \u001b[38;5;28mprint\u001b[39m(listOfMixedDataTypes)\n\u001b[1;32m----> 5\u001b[0m \u001b[38;5;28;01mdel\u001b[39;00m listOfMixedDataTypes[\u001b[38;5;241m4\u001b[39m][\u001b[38;5;241m0\u001b[39m]\n\u001b[0;32m      6\u001b[0m \u001b[38;5;28mprint\u001b[39m(listOfMixedDataTypes)\n",
      "\u001b[1;31mTypeError\u001b[0m: 'tuple' object doesn't support item deletion"
     ]
    }
   ],
   "source": [
    "listOfMixedDataTypes = [55.5, 'Bill', 1000,19.9]\n",
    "tupleOfNumbers= (12,7.8,30,64)\n",
    "listOfMixedDataTypes.append(tupleOfNumbers)\n",
    "print(listOfMixedDataTypes)\n",
    "del listOfMixedDataTypes[4][0]\n",
    "print(listOfMixedDataTypes)"
   ]
  },
  {
   "cell_type": "code",
   "execution_count": 21,
   "metadata": {},
   "outputs": [
    {
     "name": "stdout",
     "output_type": "stream",
     "text": [
      "Popped Items is: Bill\n",
      "[55.5, 1000, 19.9]\n"
     ]
    }
   ],
   "source": [
    "##pop\n",
    "listOfMixedDataTypes=[55.5, 'Bill', 1000,19.9]\n",
    "poppedItem = listOfMixedDataTypes.pop(1) #pop() takes index as the input \n",
    "print('Popped Items is: {}'.format(poppedItem))\n",
    "print(listOfMixedDataTypes)\n"
   ]
  },
  {
   "cell_type": "code",
   "execution_count": 23,
   "metadata": {},
   "outputs": [
    {
     "name": "stdout",
     "output_type": "stream",
     "text": [
      "None\n",
      "[55.5, 'Bill', 19.9]\n"
     ]
    }
   ],
   "source": [
    "listOfMixedDataTypes=[55.5, 'Bill', 1000,19.9]\n",
    "itemDeleted = listOfMixedDataTypes.remove(1000) #using the remove function - takes the value as input\n",
    "#Unlike Pop, it doesnot show the item which it is removing\n",
    "print(itemDeleted)\n",
    "print(listOfMixedDataTypes)"
   ]
  },
  {
   "cell_type": "markdown",
   "metadata": {},
   "source": [
    "## 14.8 Membership of List - in and not in"
   ]
  },
  {
   "cell_type": "code",
   "execution_count": 24,
   "metadata": {},
   "outputs": [
    {
     "name": "stdout",
     "output_type": "stream",
     "text": [
      "Found in list\n",
      "Not Found in List\n"
     ]
    }
   ],
   "source": [
    "listOfMixedDataTypes=[55.5, 'Bill', 1000,19.9]\n",
    "if 'Bill' in listOfMixedDataTypes:\n",
    "    print(\"Found in list\")\n",
    "if 131 not in listOfMixedDataTypes:\n",
    "    print('Not Found in List')"
   ]
  },
  {
   "cell_type": "markdown",
   "metadata": {},
   "source": [
    "## 14.9 Reversing a list - reverse"
   ]
  },
  {
   "cell_type": "code",
   "execution_count": 26,
   "metadata": {},
   "outputs": [
    {
     "name": "stdout",
     "output_type": "stream",
     "text": [
      "[55.5, 'Bill', 1000, 19.9]\n",
      "[19.9, 1000, 'Bill', 55.5]\n"
     ]
    }
   ],
   "source": [
    "listOfMixedDataTypes=[55.5, 'Bill', 1000,19.9]\n",
    "print(listOfMixedDataTypes)\n",
    "listOfMixedDataTypes.reverse() # revrse() function\n",
    "print(listOfMixedDataTypes)"
   ]
  },
  {
   "cell_type": "markdown",
   "metadata": {},
   "source": [
    "## 14.10 Sorting a list"
   ]
  },
  {
   "cell_type": "markdown",
   "metadata": {},
   "source": [
    "Sort a List is using sorted(list) function. \n",
    "\n",
    "The function returns a new list with the elements in ascending order. \n",
    "\n",
    "The original list is not changed. \n",
    "\n",
    "Use the optional argument reverse=True, e.g. sorted(yourList, reverse=True), \n",
    "makes it sort backwards."
   ]
  },
  {
   "cell_type": "code",
   "execution_count": 28,
   "metadata": {},
   "outputs": [
    {
     "name": "stdout",
     "output_type": "stream",
     "text": [
      "[5, 11, 12, 45, 67, 87, 109]\n",
      "[12, 5, 67, 87, 45, 11, 109]\n"
     ]
    }
   ],
   "source": [
    "myListNum = [12,5,67,87,45,11,109]\n",
    "sorted_list = sorted(myListNum)\n",
    "print(sorted_list)\n",
    "print(myListNum) #Original List remains unchanged."
   ]
  },
  {
   "cell_type": "code",
   "execution_count": 29,
   "metadata": {},
   "outputs": [
    {
     "ename": "TypeError",
     "evalue": "'<' not supported between instances of 'str' and 'int'",
     "output_type": "error",
     "traceback": [
      "\u001b[1;31m---------------------------------------------------------------------------\u001b[0m",
      "\u001b[1;31mTypeError\u001b[0m                                 Traceback (most recent call last)",
      "Input \u001b[1;32mIn [29]\u001b[0m, in \u001b[0;36m<cell line: 2>\u001b[1;34m()\u001b[0m\n\u001b[0;32m      1\u001b[0m myListNum \u001b[38;5;241m=\u001b[39m [\u001b[38;5;241m12\u001b[39m,\u001b[38;5;241m5\u001b[39m,\u001b[38;5;241m67\u001b[39m,\u001b[38;5;241m87\u001b[39m,\u001b[38;5;241m45\u001b[39m,\u001b[38;5;241m11\u001b[39m,\u001b[38;5;241m109\u001b[39m,\u001b[38;5;124m'\u001b[39m\u001b[38;5;124mString\u001b[39m\u001b[38;5;124m'\u001b[39m]\n\u001b[1;32m----> 2\u001b[0m sorted_list \u001b[38;5;241m=\u001b[39m \u001b[38;5;28;43msorted\u001b[39;49m\u001b[43m(\u001b[49m\u001b[43mmyListNum\u001b[49m\u001b[43m)\u001b[49m\n\u001b[0;32m      3\u001b[0m \u001b[38;5;28mprint\u001b[39m(sorted_list)\n\u001b[0;32m      4\u001b[0m \u001b[38;5;28mprint\u001b[39m(myListNum)\n",
      "\u001b[1;31mTypeError\u001b[0m: '<' not supported between instances of 'str' and 'int'"
     ]
    }
   ],
   "source": [
    "myListNum = [12,5,67,87,45,11,109,'String'] #Mixed datatype is not alloed in the sorted() function\n",
    "sorted_list = sorted(myListNum)\n",
    "print(sorted_list)\n",
    "print(myListNum) #Original List remains unchanged."
   ]
  },
  {
   "cell_type": "code",
   "execution_count": 30,
   "metadata": {},
   "outputs": [
    {
     "name": "stdout",
     "output_type": "stream",
     "text": [
      "[109, 87, 67, 45, 12, 11, 5]\n"
     ]
    }
   ],
   "source": [
    "myListNum = [12,5,67,87,45,11,109]# Print a Reverse Sorted List\n",
    "reverse_sorted_list = sorted(myListNum, reverse=True)\n",
    "print(reverse_sorted_list)\n"
   ]
  },
  {
   "cell_type": "code",
   "execution_count": 31,
   "metadata": {},
   "outputs": [
    {
     "name": "stdout",
     "output_type": "stream",
     "text": [
      "[5, 11, 12, 45, 67, 87, 109]\n"
     ]
    }
   ],
   "source": [
    "## Sort the Original List\n",
    "myListNum = [12,5,67,87,45,11,109]\n",
    "myListNum.sort()\n",
    "print(myListNum)"
   ]
  },
  {
   "cell_type": "code",
   "execution_count": 50,
   "metadata": {},
   "outputs": [
    {
     "name": "stdout",
     "output_type": "stream",
     "text": [
      "[109, 87, 67, 45, 12, 11, 5]\n"
     ]
    }
   ],
   "source": [
    "## Sort the Reverse Original List\n",
    "myListNum = [12,5,67,87,45,11,109]\n",
    "myListNum.sort(reverse=True)\n",
    "print(myListNum)"
   ]
  },
  {
   "cell_type": "markdown",
   "metadata": {},
   "source": [
    "## 14.11 Multiple References to a List"
   ]
  },
  {
   "cell_type": "code",
   "execution_count": 37,
   "metadata": {},
   "outputs": [
    {
     "name": "stdout",
     "output_type": "stream",
     "text": [
      "Ref List: [1, 2, 3, 4, 5, 6, 10]\n",
      " Original List:  [1, 2, 3, 4, 5, 6, 10]\n"
     ]
    }
   ],
   "source": [
    "myList = [1,2,3,4,5,6]\n",
    "newRef = myList\n",
    "##doing some changes to the newRef list. Lets check the effect on the original list\n",
    "newRef.append(10)\n",
    "print(\"Ref List:\", newRef)\n",
    "print(\" Original List: \",myList)"
   ]
  },
  {
   "cell_type": "markdown",
   "metadata": {},
   "source": [
    "## 14.12 Split a String to create a list"
   ]
  },
  {
   "cell_type": "code",
   "execution_count": 56,
   "metadata": {
    "scrolled": true
   },
   "outputs": [
    {
     "name": "stdout",
     "output_type": "stream",
     "text": [
      "[' apple', 'banana', 'grapes ']\n",
      "['apple', 'banana', 'grapes']\n"
     ]
    }
   ],
   "source": [
    "myString = \" apple, banana, grapes \"\n",
    "newList=[]\n",
    "myList= myString.split(', ')\n",
    "print(myList)\n",
    "for elements in myList:\n",
    "    newList.append(elements.strip())\n",
    "print(newList)\n"
   ]
  },
  {
   "cell_type": "markdown",
   "metadata": {},
   "source": [
    "## 14.13 Indexing in a List"
   ]
  },
  {
   "cell_type": "markdown",
   "metadata": {},
   "source": [
    "Each item in the list has an assigned index value starting from 0.\n",
    "\n",
    "Accessing elements in a list is called indexing."
   ]
  },
  {
   "cell_type": "code",
   "execution_count": 58,
   "metadata": {},
   "outputs": [
    {
     "name": "stdout",
     "output_type": "stream",
     "text": [
      "4\n",
      "[3, 4, 5]\n"
     ]
    }
   ],
   "source": [
    "myList = [1,2,3,4,5,6]\n",
    "print(myList[3])\n",
    "\n"
   ]
  },
  {
   "cell_type": "markdown",
   "metadata": {},
   "source": [
    "## 14.14 List Slicing"
   ]
  },
  {
   "cell_type": "markdown",
   "metadata": {},
   "source": [
    "Accessing parts of segments is called slicing. \n",
    "\n",
    "Slicing is done using colon (**:**) symbol\n",
    "\n",
    "Start index:End Index\n",
    "\n",
    "Value at start index is included but not the value at end index."
   ]
  },
  {
   "cell_type": "code",
   "execution_count": 62,
   "metadata": {},
   "outputs": [
    {
     "name": "stdout",
     "output_type": "stream",
     "text": [
      "[1, 2, 3, 4, 5, 6]\n",
      "[3, 4, 5]\n",
      "[1, 3, 5]\n",
      "[6, 5, 4, 3, 2, 1]\n"
     ]
    }
   ],
   "source": [
    "print(myList)\n",
    "print(myList[2:5])\n",
    "print(myList[0::2])\n",
    "print(myList[::-1])\n"
   ]
  },
  {
   "cell_type": "code",
   "execution_count": null,
   "metadata": {},
   "outputs": [],
   "source": []
  },
  {
   "cell_type": "markdown",
   "metadata": {},
   "source": [
    "## 14.15 Extend a List using \"+\""
   ]
  },
  {
   "cell_type": "code",
   "execution_count": 65,
   "metadata": {},
   "outputs": [
    {
     "name": "stdout",
     "output_type": "stream",
     "text": [
      "[1.3, 'Amit', 'Ten', 'Hundred', 100, 40.5, 3, 'Data Science', 'Twelve', 'One', 2, 0.5]\n"
     ]
    }
   ],
   "source": [
    "list1 = [1.3,'Amit', 'Ten','Hundred',100,40.5]\n",
    "list2 = [3, 'Data Science', 'Twelve','One',2,0.5]\n",
    "joinedList= list1+list2\n",
    "print(joinedList)"
   ]
  },
  {
   "cell_type": "markdown",
   "metadata": {},
   "source": [
    "## 14.16 Count an item in a List"
   ]
  },
  {
   "cell_type": "code",
   "execution_count": 67,
   "metadata": {},
   "outputs": [
    {
     "name": "stdout",
     "output_type": "stream",
     "text": [
      "2\n"
     ]
    }
   ],
   "source": [
    "list2 = [3, 'Data Science', 'Twelve','One',2,0.5,2]\n",
    "print(list2.count(2)) # Count an Item in the list >> Count for which Item"
   ]
  },
  {
   "cell_type": "markdown",
   "metadata": {},
   "source": [
    "## 14.17 Looping in List "
   ]
  },
  {
   "cell_type": "code",
   "execution_count": 69,
   "metadata": {},
   "outputs": [
    {
     "name": "stdout",
     "output_type": "stream",
     "text": [
      "12\n",
      "43\n",
      "2\n",
      "Hundred\n",
      "12\n",
      "13\n",
      "Four\n",
      "100\n"
     ]
    }
   ],
   "source": [
    "listOfItems = [12,43,2,'Hundred',12,13, 'Four', 100]\n",
    "for item in listOfItems:\n",
    "    print(item)"
   ]
  },
  {
   "cell_type": "markdown",
   "metadata": {},
   "source": [
    "## 14.18 List Comprehensions"
   ]
  },
  {
   "cell_type": "markdown",
   "metadata": {},
   "source": [
    "List comprehensions provide a concise way to create lists.<br/>\n",
    "This can be thought of a process that makes it easier to create lists.\n",
    "\n",
    "Common applications are to make new lists where each element is the result of some operations applied to each member of another sequence or iterable, or to create a subsequence of those elements that satisfy a certain condition."
   ]
  },
  {
   "cell_type": "code",
   "execution_count": 71,
   "metadata": {},
   "outputs": [
    {
     "name": "stdout",
     "output_type": "stream",
     "text": [
      "[0, 1, 4, 9, 16, 25, 36, 49, 64, 81]\n"
     ]
    }
   ],
   "source": [
    "##normal way to create an empty list\n",
    "myList=[]\n",
    "for i in range(10):\n",
    "    myList.append(i**2)\n",
    "print(myList)"
   ]
  },
  {
   "cell_type": "code",
   "execution_count": 72,
   "metadata": {},
   "outputs": [
    {
     "name": "stdout",
     "output_type": "stream",
     "text": [
      "[0, 1, 4, 9, 16, 25, 36, 49, 64, 81]\n"
     ]
    }
   ],
   "source": [
    "#List Comprehension: Simplifies the syntax. \n",
    "myList = [i**2 for i in range(10)] ## [Operation_Happens for i in Condition]\n",
    "print(myList)\n",
    "\n"
   ]
  },
  {
   "cell_type": "markdown",
   "metadata": {},
   "source": [
    "## 14.19 Nested List Comprehensions"
   ]
  },
  {
   "cell_type": "code",
   "execution_count": 77,
   "metadata": {},
   "outputs": [
    {
     "name": "stdout",
     "output_type": "stream",
     "text": [
      "1\n"
     ]
    }
   ],
   "source": [
    "matrix = [[0,1,2],\n",
    "          [0,1,2],\n",
    "          [0,1,2],\n",
    "          [0,1,2]] \n",
    "# 4*3 matrix\n",
    "print(matrix[2][1])"
   ]
  },
  {
   "cell_type": "code",
   "execution_count": 76,
   "metadata": {},
   "outputs": [
    {
     "name": "stdout",
     "output_type": "stream",
     "text": [
      "[[0, 1, 2], [0, 1, 2], [0, 1, 2], [0, 1, 2]]\n"
     ]
    }
   ],
   "source": [
    "sameList=[]\n",
    "for rowVal in range(4):\n",
    "    rowList=[]\n",
    "    for columnVal in range(3):\n",
    "        rowList.append(columnVal)\n",
    "    sameList.append(rowList)\n",
    "print(sameList)\n",
    "    \n",
    "        "
   ]
  },
  {
   "cell_type": "code",
   "execution_count": 80,
   "metadata": {},
   "outputs": [
    {
     "name": "stdout",
     "output_type": "stream",
     "text": [
      "[[0, 1, 2], [0, 1, 2], [0, 1, 2], [0, 1, 2]]\n"
     ]
    }
   ],
   "source": [
    "myMatrix=[]\n",
    "#[[],[],[]]\n",
    "[myMatrix.append([colVal for colVal in range(3)]) for rowVal in range(4)]\n",
    "print(myMatrix)"
   ]
  },
  {
   "cell_type": "markdown",
   "metadata": {
    "collapsed": true
   },
   "source": [
    "#### Excercise: Perform the below list operations"
   ]
  },
  {
   "cell_type": "code",
   "execution_count": 212,
   "metadata": {},
   "outputs": [
    {
     "name": "stdout",
     "output_type": "stream",
     "text": [
      "[1, 4, 9, 16, 25, 36, 64]\n",
      "[(1, 1), (2, 2), (3, 3), (4, 4), (5, 5), (6, 6), (8, 8)]\n",
      "[4, 6, 8]\n",
      "[[0.5, 1.0, 1.5], [2.0, 2.5, 3.0], [3.5, 4.0, 4.5]]\n"
     ]
    }
   ],
   "source": [
    "myList = [1, 2, 3, 4, 5, 6, 8]\n",
    "newList=[]\n",
    "# for listItem in myList:\n",
    "#     newList.append(listItem**2)\n",
    "# print(newList)\n",
    "newList = [listItem**2 for listItem in myList]\n",
    "print(newList)# Square the values of myList and store in a new list\n",
    "    \n",
    "    \n",
    "    \n",
    "    \n",
    "newList=[(i,i) for i in myList]    \n",
    "print(newList)   # Make a combination of x and x values e.g. (x,x)\n",
    "\n",
    "\n",
    "newList =[ even for even in myList if even%2==0 and even!=2]\n",
    "print(newList) # Store only the even numbers greater than 2\n",
    "\n",
    "\n",
    "newList = [([ (row+col)/2  for col in range(0,3)]) for row in range (1,10,3) ]\n",
    "print(newList)   # Create a 3*3 matrix that stores half of number from 1 to 9\n",
    "\n",
    "\n",
    "# (1+0)/2,1+1, 1+2\n",
    "# 4+0,4+1,4+2\n",
    "# 7+0,7+1,7+2\n",
    "\n",
    "#print(newList)"
   ]
  },
  {
   "cell_type": "markdown",
   "metadata": {
    "collapsed": true
   },
   "source": [
    "<center> <h1>End of LIST section</h1> </center>"
   ]
  },
  {
   "cell_type": "markdown",
   "metadata": {},
   "source": [
    "# 15. Tuples"
   ]
  },
  {
   "cell_type": "markdown",
   "metadata": {},
   "source": [
    "A tuple is very similar to a list\n",
    "\n",
    "But tuples are immutable i.e. we can't change the elements of tuple once it is assigned <br/>\n",
    "whereas in a list, elements can be changed"
   ]
  },
  {
   "cell_type": "markdown",
   "metadata": {},
   "source": [
    "## 15.1 Creating a Tuple"
   ]
  },
  {
   "cell_type": "markdown",
   "metadata": {},
   "source": []
  },
  {
   "cell_type": "code",
   "execution_count": 2,
   "metadata": {},
   "outputs": [],
   "source": [
    "emptyTuple= () ## Create an Empty Tuple"
   ]
  },
  {
   "cell_type": "code",
   "execution_count": 4,
   "metadata": {},
   "outputs": [
    {
     "name": "stdout",
     "output_type": "stream",
     "text": [
      "(12.2, 100, 12)\n",
      "('x', 'y', 100, 'h')\n",
      "('Hello', 100, ('Welcome', 12, 11), [90, 'same', 26, 'array'])\n"
     ]
    }
   ],
   "source": [
    "myNumberTuple = (12.2,100,12)# Tuple haivng nummbers\n",
    "print(myNumberTuple)\n",
    "\n",
    "myMixedTuple = ('x','y',100,'h')# Creating a tuple having multiple data types\n",
    "print(myMixedTuple)\n",
    "\n",
    "myNestedTuple= ('Hello',100, ('Welcome',12,11), [90,'same',26,'array']) # Nested Tuple # Hybrid\n",
    "print(myNestedTuple)"
   ]
  },
  {
   "cell_type": "code",
   "execution_count": 7,
   "metadata": {},
   "outputs": [
    {
     "name": "stdout",
     "output_type": "stream",
     "text": [
      "<class 'tuple'>\n"
     ]
    }
   ],
   "source": [
    "isItTuple = ('Amit')##Only Parenthesis is not enough\n",
    "print(type(isItTuple))"
   ]
  },
  {
   "cell_type": "code",
   "execution_count": 8,
   "metadata": {},
   "outputs": [
    {
     "name": "stdout",
     "output_type": "stream",
     "text": [
      "<class 'tuple'>\n"
     ]
    }
   ],
   "source": [
    "isItTuple = ('Amit',)##Only Parenthesis is not enough\n",
    "print(type(isItTuple))"
   ]
  },
  {
   "cell_type": "code",
   "execution_count": 10,
   "metadata": {},
   "outputs": [
    {
     "name": "stdout",
     "output_type": "stream",
     "text": [
      "<class 'tuple'>\n"
     ]
    }
   ],
   "source": [
    "isItTuple = \"Amit\", #Parenthesis is actually Optional\n",
    "print(type(isItTuple))"
   ]
  },
  {
   "cell_type": "markdown",
   "metadata": {},
   "source": [
    "### Accessing Elements in Tuple"
   ]
  },
  {
   "cell_type": "code",
   "execution_count": 12,
   "metadata": {},
   "outputs": [
    {
     "name": "stdout",
     "output_type": "stream",
     "text": [
      "<class 'tuple'>\n",
      "Java\n"
     ]
    }
   ],
   "source": [
    "myTuple = 'Amit', 'Ajit', 'DataScience', 'Java','Microservice'\n",
    "print(type(myTuple))\n",
    "print(myTuple[3])#Printing an Index in the Tuple\n"
   ]
  },
  {
   "cell_type": "code",
   "execution_count": 13,
   "metadata": {},
   "outputs": [
    {
     "name": "stdout",
     "output_type": "stream",
     "text": [
      "Microservice\n"
     ]
    }
   ],
   "source": [
    "myTuple = 'Amit', 'Ajit', 'DataScience', 'Java','Microservice'\n",
    "\n",
    "print(myTuple[-1])#Printing the last element in the tuple- Negative Index\n"
   ]
  },
  {
   "cell_type": "code",
   "execution_count": 18,
   "metadata": {},
   "outputs": [
    {
     "name": "stdout",
     "output_type": "stream",
     "text": [
      "('Rakesh', 'Rohan', 'Gaurav')\n",
      "Gaurav\n"
     ]
    }
   ],
   "source": [
    "myTuple = 'Amit', 'Ajit', 'DataScience', 'Java','Microservice', ( 'Rakesh','Rohan','Gaurav')\n",
    "print(myTuple[-1])\n",
    "print(myTuple[-1][-1])"
   ]
  },
  {
   "cell_type": "code",
   "execution_count": 28,
   "metadata": {},
   "outputs": [
    {
     "name": "stdout",
     "output_type": "stream",
     "text": [
      "(12, 13, 14)\n",
      "(13, 14, 15)\n",
      "(13, 12, 11, 10)\n",
      "(13, 14, 15)\n",
      "(10, 11, 12, 13, 14, 15)\n"
     ]
    }
   ],
   "source": [
    "myTuple = 10,11,12,13,14,15,\n",
    "print(myTuple[2:5])\n",
    "print(myTuple[-3:])\n",
    "print(myTuple[-3::-1])  ## -1 is the step counter. -ve step counter means go towards left.\n",
    "print(myTuple[-3::]) # By Default the step counter is +1 and it will move towards the right.\n",
    "print(myTuple[::])  ##It is print all the tuple elements with a step counter of +1"
   ]
  },
  {
   "cell_type": "code",
   "execution_count": null,
   "metadata": {},
   "outputs": [],
   "source": []
  },
  {
   "cell_type": "code",
   "execution_count": null,
   "metadata": {},
   "outputs": [],
   "source": []
  },
  {
   "cell_type": "markdown",
   "metadata": {},
   "source": [
    "### Altering the values in a Tuple"
   ]
  },
  {
   "cell_type": "markdown",
   "metadata": {},
   "source": [
    "#### Tuples are immutable i.e. once set their values cannot be changed\n",
    "#### But, if the element is itself a mutable datatype like list, its nested items can be changed."
   ]
  },
  {
   "cell_type": "code",
   "execution_count": 31,
   "metadata": {},
   "outputs": [
    {
     "ename": "TypeError",
     "evalue": "'tuple' object does not support item assignment",
     "output_type": "error",
     "traceback": [
      "\u001b[1;31m---------------------------------------------------------------------------\u001b[0m",
      "\u001b[1;31mTypeError\u001b[0m                                 Traceback (most recent call last)",
      "Input \u001b[1;32mIn [31]\u001b[0m, in \u001b[0;36m<cell line: 2>\u001b[1;34m()\u001b[0m\n\u001b[0;32m      1\u001b[0m myTuple \u001b[38;5;241m=\u001b[39m \u001b[38;5;241m11\u001b[39m,\u001b[38;5;241m22\u001b[39m,\u001b[38;5;241m33\u001b[39m,\u001b[38;5;241m44\u001b[39m,[\u001b[38;5;241m55\u001b[39m,\u001b[38;5;241m66\u001b[39m,\u001b[38;5;241m77\u001b[39m]\n\u001b[1;32m----> 2\u001b[0m myTuple[\u001b[38;5;241m1\u001b[39m]\u001b[38;5;241m=\u001b[39m\u001b[38;5;241m1\u001b[39m\n",
      "\u001b[1;31mTypeError\u001b[0m: 'tuple' object does not support item assignment"
     ]
    }
   ],
   "source": [
    "myTuple = 11,22,33,44,[55,66,77]#Created a Tuple\n",
    "myTuple[1]=1  # Error: Type Error"
   ]
  },
  {
   "cell_type": "code",
   "execution_count": 39,
   "metadata": {},
   "outputs": [
    {
     "name": "stdout",
     "output_type": "stream",
     "text": [
      "(11, 22, 33, 44, [55, 66, 77])\n",
      "(11, 22, 33, 44, [55, 66, 'Data Science'])\n"
     ]
    }
   ],
   "source": [
    "myTuple = 11,22,33,44,[55,66,77]\n",
    "print(myTuple)\n",
    " \n",
    "myTuple[4][2]='Data Science'  #List is mutable hence value can be altered\n",
    "print(myTuple)\n",
    "\n"
   ]
  },
  {
   "cell_type": "code",
   "execution_count": 63,
   "metadata": {},
   "outputs": [
    {
     "name": "stdout",
     "output_type": "stream",
     "text": [
      "<class 'tuple'>\n"
     ]
    }
   ],
   "source": [
    "myTuple = 10,\n",
    "print(type(myTuple))"
   ]
  },
  {
   "cell_type": "code",
   "execution_count": 64,
   "metadata": {},
   "outputs": [
    {
     "name": "stdout",
     "output_type": "stream",
     "text": [
      "2569557519616\n",
      "(11, 22, 33, 44, 55, 66)\n",
      "2569557014848\n",
      "(11, 22, 33, 44, 55, 2, 4, 5, 6, 7)\n",
      "(11, 22, 33, 44, 55, 2, 4, 5, 6, 7, 10)\n",
      "<class 'tuple'>\n"
     ]
    }
   ],
   "source": [
    "#Concatinating Tuples\n",
    "myTuple = (11,22,33)\n",
    "print(id(myTuple))\n",
    "myTuple= (myTuple+(44,55,66)) #New Tuple is Created with new Memory Location and the old tuple with the \n",
    "#same name is garbage collected.\n",
    "\n",
    "print(myTuple)\n",
    "print(id(myTuple))\n",
    "\n",
    "myTuple1 = 11,22,33,44,55, + 2,4,5,6,7\n",
    "print(myTuple1)\n",
    "\n",
    "myTuple1 =myTuple1+ (10,)\n",
    "print(myTuple1)\n",
    "\n",
    "print(type((10,)))\n"
   ]
  },
  {
   "cell_type": "code",
   "execution_count": 65,
   "metadata": {},
   "outputs": [
    {
     "name": "stdout",
     "output_type": "stream",
     "text": [
      "(10, 10, 10, 10)\n"
     ]
    }
   ],
   "source": [
    "#Using the * operator in Tuple  >> Repeats items using * operator\n",
    "myTuple = (10,)*4\n",
    "print(myTuple)"
   ]
  },
  {
   "cell_type": "markdown",
   "metadata": {},
   "source": [
    "### Deleting from a tuple "
   ]
  },
  {
   "cell_type": "code",
   "execution_count": 66,
   "metadata": {},
   "outputs": [],
   "source": [
    "# Since Tuple is immutable , hence the entire tuple needs to be deleted using del keyword\n",
    "myTuple = 11,22,33,44,[55,66,77]\n",
    "del myTuple   # Deleting the entire tuple"
   ]
  },
  {
   "cell_type": "markdown",
   "metadata": {},
   "source": [
    "### Count occurance of an item in Tuple"
   ]
  },
  {
   "cell_type": "code",
   "execution_count": 68,
   "metadata": {},
   "outputs": [
    {
     "data": {
      "text/plain": [
       "2"
      ]
     },
     "execution_count": 68,
     "metadata": {},
     "output_type": "execute_result"
    }
   ],
   "source": [
    "myTuple = ('Amit',12,34,56,'Data Science','Tree Set', 'Hash Set',12)\n",
    "myTuple.count(12) ##Finds the frequency of a particular element in a tuple"
   ]
  },
  {
   "cell_type": "markdown",
   "metadata": {},
   "source": [
    "### Tuple Index - Get the index position of an item"
   ]
  },
  {
   "cell_type": "code",
   "execution_count": 72,
   "metadata": {},
   "outputs": [
    {
     "name": "stdout",
     "output_type": "stream",
     "text": [
      "Data Science\n",
      "1\n"
     ]
    }
   ],
   "source": [
    "myTuple = ('Amit',12,34,56,'Data Science','Tree Set', 'Hash Set',12)\n",
    "print(myTuple[4])  # Print the element value at index 4\n",
    "print(myTuple.index(12)) ## Returns the index of the first element equal to 12"
   ]
  },
  {
   "cell_type": "markdown",
   "metadata": {},
   "source": [
    "### Memebership in Tuple"
   ]
  },
  {
   "cell_type": "code",
   "execution_count": 73,
   "metadata": {},
   "outputs": [
    {
     "name": "stdout",
     "output_type": "stream",
     "text": [
      "True\n"
     ]
    }
   ],
   "source": [
    "myTuple = ('Amit',12,34,56,'Data Science','Tree Set', 'Hash Set',12)\n",
    "print(34 in myTuple)"
   ]
  },
  {
   "cell_type": "code",
   "execution_count": 74,
   "metadata": {},
   "outputs": [
    {
     "name": "stdout",
     "output_type": "stream",
     "text": [
      "False\n"
     ]
    }
   ],
   "source": [
    "print(24 in myTuple)"
   ]
  },
  {
   "cell_type": "markdown",
   "metadata": {},
   "source": [
    "## Apply common built-in Functions on Tuple"
   ]
  },
  {
   "cell_type": "markdown",
   "metadata": {},
   "source": [
    "#### Lenght of a Tuple"
   ]
  },
  {
   "cell_type": "code",
   "execution_count": 75,
   "metadata": {},
   "outputs": [
    {
     "name": "stdout",
     "output_type": "stream",
     "text": [
      "8\n"
     ]
    }
   ],
   "source": [
    "myTuple = ('Amit',12,34,56,'Data Science','Tree Set', 'Hash Set',12)\n",
    "print(len(myTuple))"
   ]
  },
  {
   "cell_type": "markdown",
   "metadata": {},
   "source": [
    "#### Sorting in Tuple"
   ]
  },
  {
   "cell_type": "code",
   "execution_count": 77,
   "metadata": {},
   "outputs": [
    {
     "name": "stdout",
     "output_type": "stream",
     "text": [
      "(12, 4, 56, 6, 78, 45, 23)\n",
      "[4, 6, 12, 23, 45, 56, 78]\n"
     ]
    }
   ],
   "source": [
    "myTuple = 12,4,56,6,78,45,23\n",
    "print(myTuple)\n",
    "\n",
    "sortedTuple = sorted(myTuple) # Returns a new sorted list . Does not change the original one.\n",
    "print(sortedTuple)"
   ]
  },
  {
   "cell_type": "code",
   "execution_count": 81,
   "metadata": {},
   "outputs": [
    {
     "name": "stdout",
     "output_type": "stream",
     "text": [
      "78\n",
      "0.2\n"
     ]
    }
   ],
   "source": [
    "myTuple = 12,4,56,6,78,45,23,0.2\n",
    "print(max(myTuple)) # Maximum element in the tuple\n",
    "print(min(myTuple))# Minimum element in the tuple"
   ]
  },
  {
   "cell_type": "code",
   "execution_count": 80,
   "metadata": {},
   "outputs": [
    {
     "name": "stdout",
     "output_type": "stream",
     "text": [
      "224.2\n"
     ]
    }
   ],
   "source": [
    "print(sum(myTuple))# Sum of the elements in the tuple"
   ]
  },
  {
   "cell_type": "markdown",
   "metadata": {},
   "source": [
    "# 16. Sets"
   ]
  },
  {
   "cell_type": "markdown",
   "metadata": {
    "collapsed": true
   },
   "source": [
    "<ul><li>A set is an <b>unordered</b> collection of items. Every element is <b>unique</b> (no duplicates).</li>\n",
    "<li>Set is <b>mutable</b>. We can add or remove items to a Set.</li>\n",
    "<li>Sets can be used to perform mathematical <b>set operations</b> <i>like union, intersection, symmetric difference etc</i>.</li></ul>"
   ]
  },
  {
   "cell_type": "markdown",
   "metadata": {},
   "source": [
    "### Creating a Set\n"
   ]
  },
  {
   "cell_type": "code",
   "execution_count": 82,
   "metadata": {},
   "outputs": [
    {
     "name": "stdout",
     "output_type": "stream",
     "text": [
      "{1, 2, 3}\n"
     ]
    }
   ],
   "source": [
    "mySet = {1,2,3}\n",
    "print(mySet)"
   ]
  },
  {
   "cell_type": "code",
   "execution_count": null,
   "metadata": {},
   "outputs": [],
   "source": []
  },
  {
   "cell_type": "markdown",
   "metadata": {},
   "source": [
    "mySet = {1,2,2,3,4,4,5,5,6,6,'',''}\n",
    "print(mySet)## Duplicates are not allowed"
   ]
  },
  {
   "cell_type": "code",
   "execution_count": 88,
   "metadata": {},
   "outputs": [
    {
     "name": "stdout",
     "output_type": "stream",
     "text": [
      "{1, 2, 3, 4, 5, 66, 77}\n"
     ]
    }
   ],
   "source": [
    "mySet=set([1,2,3,4,5,66,66,77,77])# We can make set from a list using set() method\n",
    "print(mySet)"
   ]
  },
  {
   "cell_type": "code",
   "execution_count": 90,
   "metadata": {},
   "outputs": [
    {
     "name": "stdout",
     "output_type": "stream",
     "text": [
      "<class 'set'>\n"
     ]
    }
   ],
   "source": [
    "mySet = set() ## We cannot use {} to initialize a empty set. it considers as a empth Dict. We can\n",
    "#use set() method to initialize a empty set.\n",
    "print(type(mySet))"
   ]
  },
  {
   "cell_type": "markdown",
   "metadata": {},
   "source": [
    "### Adding element to Set"
   ]
  },
  {
   "cell_type": "code",
   "execution_count": 96,
   "metadata": {},
   "outputs": [
    {
     "name": "stdout",
     "output_type": "stream",
     "text": [
      "{56, 'a', 5}\n",
      "{2, 5, 'a', 12, 56, 'r'}\n"
     ]
    }
   ],
   "source": [
    "mySet = {'a', 56}\n",
    "\n",
    "mySet.add(5)# Add a single value using add() method\n",
    "print(mySet)\n",
    "\n",
    "mySet.update([2,'r',12]) # Add multiple elements using the update() method\n",
    "print(mySet)\n",
    "\n",
    "#print(mySet[3])     #Indexing is not supported >> It does not support duplicated. "
   ]
  },
  {
   "cell_type": "code",
   "execution_count": 98,
   "metadata": {},
   "outputs": [
    {
     "name": "stdout",
     "output_type": "stream",
     "text": [
      "{1, 2, 3, 4, 5, 'a', 12, 56, 'One', 'r'}\n"
     ]
    }
   ],
   "source": [
    "mySet.update([12,'One'],{4,1,5},(1,2,3))# Adding a list, tuple and set to the original set using update()\n",
    "print(mySet)"
   ]
  },
  {
   "cell_type": "markdown",
   "metadata": {},
   "source": [
    "### Removing elements from a Set\n",
    "\n",
    "Methods\n",
    "\n",
    "- remove()    &nbsp;                     -Raises KeyError if  elem is not contained in the set.\n",
    "- discard()     &nbsp;                     -Doesn't raises KeyError\n",
    "<br/><br/>\n",
    "- pop()        &nbsp;&nbsp;&nbsp;&nbsp;&nbsp;&nbsp;&nbsp;                     -Removes a random item\n",
    "- clear()      &nbsp;&nbsp;&nbsp;&nbsp;&nbsp;                     -Delete the entire Set"
   ]
  },
  {
   "cell_type": "code",
   "execution_count": 105,
   "metadata": {},
   "outputs": [
    {
     "name": "stdout",
     "output_type": "stream",
     "text": [
      "{1, 2, 3, 4, 5, 12, 'a', 'One'}\n"
     ]
    },
    {
     "ename": "KeyError",
     "evalue": "13",
     "output_type": "error",
     "traceback": [
      "\u001b[1;31m---------------------------------------------------------------------------\u001b[0m",
      "\u001b[1;31mKeyError\u001b[0m                                  Traceback (most recent call last)",
      "Input \u001b[1;32mIn [105]\u001b[0m, in \u001b[0;36m<cell line: 6>\u001b[1;34m()\u001b[0m\n\u001b[0;32m      4\u001b[0m mySet\u001b[38;5;241m.\u001b[39mremove(\u001b[38;5;241m56\u001b[39m) \u001b[38;5;66;03m# 56 is removed from mySet\u001b[39;00m\n\u001b[0;32m      5\u001b[0m \u001b[38;5;28mprint\u001b[39m(mySet)\n\u001b[1;32m----> 6\u001b[0m \u001b[43mmySet\u001b[49m\u001b[38;5;241;43m.\u001b[39;49m\u001b[43mremove\u001b[49m\u001b[43m(\u001b[49m\u001b[38;5;241;43m13\u001b[39;49m\u001b[43m)\u001b[49m\n",
      "\u001b[1;31mKeyError\u001b[0m: 13"
     ]
    }
   ],
   "source": [
    "#mySet\n",
    "mySet = {'a', 56}\n",
    "mySet.update([12,'One'],{4,1,5},(1,2,3))\n",
    "mySet.remove(56) # 56 is removed from mySet\n",
    "print(mySet)\n",
    "mySet.remove(13) ## It raises a keyError as 13 does not belong to the set.\n",
    "\n"
   ]
  },
  {
   "cell_type": "code",
   "execution_count": 107,
   "metadata": {},
   "outputs": [
    {
     "name": "stdout",
     "output_type": "stream",
     "text": [
      "{1, 2, 3, 4, 5, 12, 'a', 'One'}\n",
      "{1, 2, 3, 4, 5, 'a', 'One'}\n"
     ]
    }
   ],
   "source": [
    "mySet = {'a', 56}\n",
    "mySet.update([12,'One'],{4,1,5},(1,2,3))\n",
    "mySet.remove(56) # 56 is removed from mySet\n",
    "print(mySet)\n",
    "mySet.discard(13) ## 13 does not exists, but we didnot get a Key Error.\n",
    "mySet.discard(12)\n",
    "print(mySet)"
   ]
  },
  {
   "cell_type": "code",
   "execution_count": 108,
   "metadata": {},
   "outputs": [
    {
     "name": "stdout",
     "output_type": "stream",
     "text": [
      "{1, 2, 3, 4, 5, 12, 'a', 56, 'One'}\n"
     ]
    }
   ],
   "source": [
    "mySet = {'a', 56}\n",
    "mySet.update([12,'One'],{4,1,5},(1,2,3))\n",
    "print(mySet)"
   ]
  },
  {
   "cell_type": "code",
   "execution_count": 111,
   "metadata": {},
   "outputs": [
    {
     "name": "stdout",
     "output_type": "stream",
     "text": [
      "1\n",
      "{2, 3, 4, 5, 12, 'a', 56, 'One'}\n"
     ]
    }
   ],
   "source": [
    "mySet = {'a', 56}\n",
    "mySet.update([12,'One'],{4,1,5},(1,2,3))\n",
    "print(mySet.pop()) #It removes a random element\n",
    "print(mySet)"
   ]
  },
  {
   "cell_type": "code",
   "execution_count": 112,
   "metadata": {},
   "outputs": [
    {
     "ename": "TypeError",
     "evalue": "set.pop() takes no arguments (1 given)",
     "output_type": "error",
     "traceback": [
      "\u001b[1;31m---------------------------------------------------------------------------\u001b[0m",
      "\u001b[1;31mTypeError\u001b[0m                                 Traceback (most recent call last)",
      "Input \u001b[1;32mIn [112]\u001b[0m, in \u001b[0;36m<cell line: 1>\u001b[1;34m()\u001b[0m\n\u001b[1;32m----> 1\u001b[0m \u001b[43mmySet\u001b[49m\u001b[38;5;241;43m.\u001b[39;49m\u001b[43mpop\u001b[49m\u001b[43m(\u001b[49m\u001b[38;5;241;43m12\u001b[39;49m\u001b[43m)\u001b[49m\n",
      "\u001b[1;31mTypeError\u001b[0m: set.pop() takes no arguments (1 given)"
     ]
    }
   ],
   "source": [
    "mySet.pop(12)# Pop takes no arguments"
   ]
  },
  {
   "cell_type": "code",
   "execution_count": 113,
   "metadata": {},
   "outputs": [
    {
     "name": "stdout",
     "output_type": "stream",
     "text": [
      "set()\n"
     ]
    }
   ],
   "source": [
    "mySet.clear() # It will Empty all the items in the set. It doesnot deletes the set.\n",
    "print(mySet)"
   ]
  },
  {
   "cell_type": "code",
   "execution_count": null,
   "metadata": {},
   "outputs": [],
   "source": []
  },
  {
   "cell_type": "code",
   "execution_count": null,
   "metadata": {},
   "outputs": [],
   "source": []
  },
  {
   "cell_type": "markdown",
   "metadata": {},
   "source": [
    "### Python Set Operations\n",
    "\n",
    "Operations:\n",
    "\n",
    "- union\n",
    "\n",
    "- intersection\n",
    "\n",
    "- symmetric difference\n",
    "\n",
    "- subset\n",
    "\n",
    "\n",
    "<img height=\"240\" width=\"360\" src='https://raw.githubusercontent.com/amity1415/DS/main/EKeeda/Images/EDA/set.png?token=GHSAT0AAAAAABXDSGQKMI65RGHSAHQ3Q57IYXFECHA'></img>"
   ]
  },
  {
   "cell_type": "code",
   "execution_count": 115,
   "metadata": {},
   "outputs": [
    {
     "name": "stdout",
     "output_type": "stream",
     "text": [
      "{1, 2, 3, 4, 5, 6, 7}\n",
      "{1, 2, 3, 4, 5, 6, 7}\n"
     ]
    }
   ],
   "source": [
    "mySet1 = {1,2,3,4,5,6}\n",
    "mySet2 = { 3,4,5,6,7}\n",
    "\n",
    "print( mySet1 | mySet2)  #Union of 2 sets using | operator\n",
    "print(mySet1.union(mySet2))#Alternatively use the union() method"
   ]
  },
  {
   "cell_type": "code",
   "execution_count": 116,
   "metadata": {},
   "outputs": [
    {
     "name": "stdout",
     "output_type": "stream",
     "text": [
      "{3, 4, 5, 6}\n",
      "{3, 4, 5, 6}\n"
     ]
    }
   ],
   "source": [
    "mySet1 = {1,2,3,4,5,6}\n",
    "mySet2 = { 3,4,5,6,7}\n",
    "\n",
    "print( mySet1 & mySet2)  #Intersection of 2 sets using & operator\n",
    "print(mySet1.intersection(mySet2))#Alternatively use the intersection() method"
   ]
  },
  {
   "cell_type": "code",
   "execution_count": 117,
   "metadata": {},
   "outputs": [
    {
     "name": "stdout",
     "output_type": "stream",
     "text": [
      "{1, 2}\n",
      "{1, 2}\n"
     ]
    }
   ],
   "source": [
    "mySet1 = {1,2,3,4,5,6}\n",
    "mySet2 = { 3,4,5,6,7}\n",
    "\n",
    "print( mySet1 - mySet2)  #set Difference: set of elements that are only in mySet1 but not in mySet2\n",
    "print(mySet1.difference(mySet2))#Alternatively use the difference() method"
   ]
  },
  {
   "cell_type": "code",
   "execution_count": 118,
   "metadata": {},
   "outputs": [
    {
     "name": "stdout",
     "output_type": "stream",
     "text": [
      "{1, 2, 7}\n",
      "{1, 2, 7}\n"
     ]
    }
   ],
   "source": [
    "#Symmetric Difference: set of elements in both mySet1 and mySet2\n",
    "#except those that are common in both\n",
    "mySet1 = {1,2,3,4,5,6}\n",
    "mySet2 = { 3,4,5,6,7}\n",
    "\n",
    "print( mySet1 ^ mySet2)  \n",
    "print(mySet1.symmetric_difference(mySet2))#Alternatively use the symmetric_difference() method"
   ]
  },
  {
   "cell_type": "code",
   "execution_count": 121,
   "metadata": {},
   "outputs": [
    {
     "name": "stdout",
     "output_type": "stream",
     "text": [
      "Is set myset2 a subset of myset1?  True\n",
      "Is set myset1 a subset of myset2?  False\n",
      "Is set myset2 a subset of myset3?  True\n",
      "Is set myset3 a subset of myset2?  True\n"
     ]
    }
   ],
   "source": [
    "mySet1 = {1,2,3,4,5,6,7,8,9}\n",
    "mySet2= {1,2,3,4,5}\n",
    "mySet3 = {1,2,3,4,5}\n",
    "\n",
    "print('Is set myset2 a subset of myset1? ', mySet2.issubset(mySet1))\n",
    "print('Is set myset1 a subset of myset2? ', mySet1.issubset(mySet2))\n",
    "\n",
    "\n",
    "print('Is set myset2 a subset of myset3? ', mySet2.issubset(mySet3))\n",
    "print('Is set myset3 a subset of myset2? ', mySet3.issubset(mySet2))"
   ]
  },
  {
   "cell_type": "markdown",
   "metadata": {},
   "source": [
    "### Frozen Sets\n"
   ]
  },
  {
   "cell_type": "markdown",
   "metadata": {},
   "source": [
    "Like tuples are immutable lists, <b>frozen sets</b> are <b>immutable sets</b>"
   ]
  },
  {
   "cell_type": "markdown",
   "metadata": {},
   "source": [
    "Frozensets can be created using - <b>frozenset()</b>"
   ]
  },
  {
   "cell_type": "markdown",
   "metadata": {},
   "source": [
    "Sets being mutable are unhashable, so they can't be used as dictionary keys.<br/> On the other hand, frozensets are hashable and can be used as keys to a dictionary."
   ]
  },
  {
   "cell_type": "markdown",
   "metadata": {},
   "source": [
    "This datatype supports methods like <b>copy(), difference(), intersection(), isdisjoint(), issubset(), issuperset(), symmetric_difference() and union()</b>. \n",
    "\n",
    "Being immutable it does <b>not</b> have method that add or remove elements."
   ]
  },
  {
   "cell_type": "code",
   "execution_count": 124,
   "metadata": {},
   "outputs": [
    {
     "ename": "AttributeError",
     "evalue": "'frozenset' object has no attribute 'add'",
     "output_type": "error",
     "traceback": [
      "\u001b[1;31m---------------------------------------------------------------------------\u001b[0m",
      "\u001b[1;31mAttributeError\u001b[0m                            Traceback (most recent call last)",
      "Input \u001b[1;32mIn [124]\u001b[0m, in \u001b[0;36m<cell line: 3>\u001b[1;34m()\u001b[0m\n\u001b[0;32m      1\u001b[0m mySet1 \u001b[38;5;241m=\u001b[39m \u001b[38;5;28mfrozenset\u001b[39m([\u001b[38;5;241m1\u001b[39m,\u001b[38;5;241m2\u001b[39m,\u001b[38;5;241m3\u001b[39m,\u001b[38;5;241m4\u001b[39m,\u001b[38;5;241m5\u001b[39m,\u001b[38;5;241m6\u001b[39m,\u001b[38;5;241m7\u001b[39m,\u001b[38;5;241m8\u001b[39m,\u001b[38;5;241m9\u001b[39m])\n\u001b[0;32m      2\u001b[0m mySet2\u001b[38;5;241m=\u001b[39m \u001b[38;5;28mfrozenset\u001b[39m([\u001b[38;5;241m1\u001b[39m,\u001b[38;5;241m2\u001b[39m,\u001b[38;5;241m3\u001b[39m,\u001b[38;5;241m4\u001b[39m,\u001b[38;5;241m5\u001b[39m])\n\u001b[1;32m----> 3\u001b[0m \u001b[43mmySet1\u001b[49m\u001b[38;5;241;43m.\u001b[39;49m\u001b[43madd\u001b[49m(\u001b[38;5;241m9\u001b[39m)\n",
      "\u001b[1;31mAttributeError\u001b[0m: 'frozenset' object has no attribute 'add'"
     ]
    }
   ],
   "source": [
    "mySet1 = frozenset([1,2,3,4,5,6,7,8,9])\n",
    "mySet2= frozenset([1,2,3,4,5])\n",
    "mySet1.add(9)"
   ]
  },
  {
   "cell_type": "code",
   "execution_count": 125,
   "metadata": {},
   "outputs": [
    {
     "ename": "TypeError",
     "evalue": "'frozenset' object is not subscriptable",
     "output_type": "error",
     "traceback": [
      "\u001b[1;31m---------------------------------------------------------------------------\u001b[0m",
      "\u001b[1;31mTypeError\u001b[0m                                 Traceback (most recent call last)",
      "Input \u001b[1;32mIn [125]\u001b[0m, in \u001b[0;36m<cell line: 1>\u001b[1;34m()\u001b[0m\n\u001b[1;32m----> 1\u001b[0m \u001b[38;5;28mprint\u001b[39m(\u001b[43mmySet1\u001b[49m\u001b[43m[\u001b[49m\u001b[38;5;241;43m4\u001b[39;49m\u001b[43m]\u001b[49m)\n",
      "\u001b[1;31mTypeError\u001b[0m: 'frozenset' object is not subscriptable"
     ]
    }
   ],
   "source": [
    "print(mySet1[4])# frozenset doesnot support indexing"
   ]
  },
  {
   "cell_type": "code",
   "execution_count": 127,
   "metadata": {},
   "outputs": [
    {
     "name": "stdout",
     "output_type": "stream",
     "text": [
      "frozenset({1, 2, 3, 4, 5, 6, 7, 8})\n",
      "frozenset({1, 2, 3, 4, 5, 6, 7, 8})\n"
     ]
    }
   ],
   "source": [
    "\n",
    "mySet1 = frozenset([1,2,3,4,5,6])\n",
    "mySet2= frozenset([4,5,6,7,8])\n",
    "\n",
    "print( mySet1 | mySet2)  #Union of 2 sets using | operator\n",
    "print(mySet1.union(mySet2))#Alternatively use the union() method"
   ]
  },
  {
   "cell_type": "code",
   "execution_count": 128,
   "metadata": {},
   "outputs": [
    {
     "name": "stdout",
     "output_type": "stream",
     "text": [
      "frozenset({4, 5, 6})\n",
      "frozenset({4, 5, 6})\n"
     ]
    }
   ],
   "source": [
    "mySet1 = frozenset([1,2,3,4,5,6])\n",
    "mySet2= frozenset([4,5,6,7,8])\n",
    "\n",
    "print( mySet1 & mySet2)  \n",
    "print(mySet1.intersection(mySet2))"
   ]
  },
  {
   "cell_type": "code",
   "execution_count": 129,
   "metadata": {},
   "outputs": [
    {
     "name": "stdout",
     "output_type": "stream",
     "text": [
      "frozenset({1, 2, 3})\n",
      "frozenset({1, 2, 3})\n"
     ]
    }
   ],
   "source": [
    "mySet1 = frozenset([1,2,3,4,5,6])\n",
    "mySet2= frozenset([4,5,6,7,8])\n",
    "\n",
    "print( mySet1 - mySet2)  \n",
    "print(mySet1.difference(mySet2))"
   ]
  },
  {
   "cell_type": "code",
   "execution_count": 130,
   "metadata": {},
   "outputs": [
    {
     "name": "stdout",
     "output_type": "stream",
     "text": [
      "frozenset({1, 2, 3, 7, 8})\n",
      "frozenset({1, 2, 3, 7, 8})\n"
     ]
    }
   ],
   "source": [
    "mySet1 = frozenset([1,2,3,4,5,6])\n",
    "mySet2= frozenset([4,5,6,7,8])\n",
    "\n",
    "print( mySet1 ^ mySet2)  \n",
    "print(mySet1.symmetric_difference(mySet2))"
   ]
  },
  {
   "cell_type": "code",
   "execution_count": null,
   "metadata": {},
   "outputs": [],
   "source": []
  },
  {
   "cell_type": "markdown",
   "metadata": {},
   "source": [
    "# 17. Dictionary"
   ]
  },
  {
   "cell_type": "markdown",
   "metadata": {},
   "source": [
    "Python dictionary is an unordered collection of items.<br/>\n",
    "While other compound data types have <b>only value</b> as an element, a <u>dictionary</u> has a <b>key: value</b> pair."
   ]
  },
  {
   "cell_type": "markdown",
   "metadata": {},
   "source": [
    "### Create a Dictionary\n"
   ]
  },
  {
   "cell_type": "code",
   "execution_count": 140,
   "metadata": {
    "scrolled": true
   },
   "outputs": [
    {
     "name": "stdout",
     "output_type": "stream",
     "text": [
      "{100: 'excellent', 50: 'fair'}\n",
      "{'name': 'Amit', 10: ['sun', 'start']}\n",
      "{4: 'abcd', 2: 'ab'}\n"
     ]
    }
   ],
   "source": [
    "myDict={}  # Creaate an empty dictionary\n",
    "\n",
    "myIntegratedKeyDict = {100:'excellent', 50:'fair'} #Dict with Numeric Keys\n",
    "print(myIntegratedKeyDict)\n",
    "\n",
    "myMixedKeysDict = {'name': 'Amit',10:['sun','start']}# Creating a dictionary with mixed keys\n",
    "print(myMixedKeysDict)\n",
    "\n",
    "myDict = dict()  # Create an empty dictionary using the dict() method\n",
    "\n",
    "myDict = dict([(4,'abcd'), (2,'ab')])  #Creating a dict with list of tuples\n",
    "print(myDict)"
   ]
  },
  {
   "cell_type": "markdown",
   "metadata": {},
   "source": [
    "### Dict Access"
   ]
  },
  {
   "cell_type": "code",
   "execution_count": 141,
   "metadata": {},
   "outputs": [
    {
     "name": "stdout",
     "output_type": "stream",
     "text": [
      "AMIT\n"
     ]
    }
   ],
   "source": [
    "\n",
    "myDict = {'name':'AMIT', 'marks': 85, 'hobby':'cricket'}\n",
    "print(myDict['name'])    #Passing the key to get the value\n",
    "    "
   ]
  },
  {
   "cell_type": "code",
   "execution_count": 143,
   "metadata": {},
   "outputs": [
    {
     "name": "stdout",
     "output_type": "stream",
     "text": [
      "85\n"
     ]
    }
   ],
   "source": [
    "print(myDict['marks']) \n"
   ]
  },
  {
   "cell_type": "code",
   "execution_count": 144,
   "metadata": {},
   "outputs": [
    {
     "ename": "KeyError",
     "evalue": "'score'",
     "output_type": "error",
     "traceback": [
      "\u001b[1;31m---------------------------------------------------------------------------\u001b[0m",
      "\u001b[1;31mKeyError\u001b[0m                                  Traceback (most recent call last)",
      "Input \u001b[1;32mIn [144]\u001b[0m, in \u001b[0;36m<cell line: 1>\u001b[1;34m()\u001b[0m\n\u001b[1;32m----> 1\u001b[0m \u001b[38;5;28mprint\u001b[39m(\u001b[43mmyDict\u001b[49m\u001b[43m[\u001b[49m\u001b[38;5;124;43m'\u001b[39;49m\u001b[38;5;124;43mscore\u001b[39;49m\u001b[38;5;124;43m'\u001b[39;49m\u001b[43m]\u001b[49m)\n",
      "\u001b[1;31mKeyError\u001b[0m: 'score'"
     ]
    }
   ],
   "source": [
    "print(myDict['score'])# Gives KeyError if the key is not found"
   ]
  },
  {
   "cell_type": "code",
   "execution_count": 145,
   "metadata": {},
   "outputs": [
    {
     "name": "stdout",
     "output_type": "stream",
     "text": [
      "cricket\n"
     ]
    }
   ],
   "source": [
    "print(myDict.get('hobby')) # Alternatively use .get(key) to access the value"
   ]
  },
  {
   "cell_type": "code",
   "execution_count": 146,
   "metadata": {},
   "outputs": [
    {
     "name": "stdout",
     "output_type": "stream",
     "text": [
      "None\n"
     ]
    }
   ],
   "source": [
    "print(myDict.get('score'))#Gives NONE using get method if the key is not present"
   ]
  },
  {
   "cell_type": "code",
   "execution_count": 151,
   "metadata": {},
   "outputs": [
    {
     "name": "stdout",
     "output_type": "stream",
     "text": [
      "100\n"
     ]
    }
   ],
   "source": [
    "print(myDict.get('score','100')) ## "
   ]
  },
  {
   "cell_type": "markdown",
   "metadata": {},
   "source": [
    "### Add or Modify  Elements in a Dictionary\n"
   ]
  },
  {
   "cell_type": "code",
   "execution_count": 152,
   "metadata": {},
   "outputs": [
    {
     "name": "stdout",
     "output_type": "stream",
     "text": [
      "{'name': 'Binod', 'marks': 85, 'hobby': 'cricket'}\n"
     ]
    }
   ],
   "source": [
    "myDict = {'name':'AMIT', 'marks': 85, 'hobby':'cricket'}\n",
    "myDict['name'] = 'Binod' #Update the valie in the key 'name'\n",
    "print(myDict)"
   ]
  },
  {
   "cell_type": "code",
   "execution_count": 153,
   "metadata": {},
   "outputs": [
    {
     "name": "stdout",
     "output_type": "stream",
     "text": [
      "{'name': 'Binod', 'marks': 85, 'hobby': 'cricket', 'division': 'A'}\n"
     ]
    }
   ],
   "source": [
    "myDict['division']= 'A'# Adding a new key-value pair\n",
    "print(myDict)"
   ]
  },
  {
   "cell_type": "markdown",
   "metadata": {},
   "source": [
    "### Delete or Remove Element in a Dictionary"
   ]
  },
  {
   "cell_type": "code",
   "execution_count": 154,
   "metadata": {},
   "outputs": [
    {
     "name": "stdout",
     "output_type": "stream",
     "text": [
      "{'name': 'AMIT', 'hobby': 'cricket'}\n"
     ]
    }
   ],
   "source": [
    "myDict = {'name':'AMIT', 'marks': 85, 'hobby':'cricket'}\n",
    "\n",
    "del myDict['marks']  # Deleting a particular key\n",
    "print(myDict)"
   ]
  },
  {
   "cell_type": "code",
   "execution_count": 155,
   "metadata": {},
   "outputs": [
    {
     "name": "stdout",
     "output_type": "stream",
     "text": [
      "{}\n"
     ]
    }
   ],
   "source": [
    "myDict = {'name':'AMIT', 'marks': 85, 'hobby':'cricket'}\n",
    "myDict.clear()  ## Remove all items\n",
    "print(myDict)"
   ]
  },
  {
   "cell_type": "code",
   "execution_count": 156,
   "metadata": {},
   "outputs": [
    {
     "ename": "NameError",
     "evalue": "name 'myDict' is not defined",
     "output_type": "error",
     "traceback": [
      "\u001b[1;31m---------------------------------------------------------------------------\u001b[0m",
      "\u001b[1;31mNameError\u001b[0m                                 Traceback (most recent call last)",
      "Input \u001b[1;32mIn [156]\u001b[0m, in \u001b[0;36m<cell line: 4>\u001b[1;34m()\u001b[0m\n\u001b[0;32m      1\u001b[0m myDict \u001b[38;5;241m=\u001b[39m {\u001b[38;5;124m'\u001b[39m\u001b[38;5;124mname\u001b[39m\u001b[38;5;124m'\u001b[39m:\u001b[38;5;124m'\u001b[39m\u001b[38;5;124mAMIT\u001b[39m\u001b[38;5;124m'\u001b[39m, \u001b[38;5;124m'\u001b[39m\u001b[38;5;124mmarks\u001b[39m\u001b[38;5;124m'\u001b[39m: \u001b[38;5;241m85\u001b[39m, \u001b[38;5;124m'\u001b[39m\u001b[38;5;124mhobby\u001b[39m\u001b[38;5;124m'\u001b[39m:\u001b[38;5;124m'\u001b[39m\u001b[38;5;124mcricket\u001b[39m\u001b[38;5;124m'\u001b[39m}\n\u001b[0;32m      2\u001b[0m \u001b[38;5;28;01mdel\u001b[39;00m myDict\n\u001b[1;32m----> 4\u001b[0m \u001b[38;5;28mprint\u001b[39m(\u001b[43mmyDict\u001b[49m)\n",
      "\u001b[1;31mNameError\u001b[0m: name 'myDict' is not defined"
     ]
    }
   ],
   "source": [
    "myDict = {'name':'AMIT', 'marks': 85, 'hobby':'cricket'}\n",
    "del myDict #Deleting the dictionary itself\n",
    "\n",
    "print(myDict) #  NameError is thrown because dict is deleted"
   ]
  },
  {
   "cell_type": "code",
   "execution_count": null,
   "metadata": {},
   "outputs": [],
   "source": []
  },
  {
   "cell_type": "markdown",
   "metadata": {},
   "source": [
    "### Dictionary Methods"
   ]
  },
  {
   "cell_type": "code",
   "execution_count": 162,
   "metadata": {},
   "outputs": [
    {
     "name": "stdout",
     "output_type": "stream",
     "text": [
      "{'name': 'AMIT', 'marks': 85, 'hobby': 'cricket'}\n",
      "2569559078208\n",
      "{'name': 'AMIT', 'marks': 85, 'hobby': 'cricket'}\n",
      "2569559078784\n"
     ]
    }
   ],
   "source": [
    "myDict = {'name':'AMIT', 'marks': 85, 'hobby':'cricket'}\n",
    "print(myDict)\n",
    "print(id(myDict))\n",
    "\n",
    "myNewDict = myDict.copy() # Copy method allocates a completely new memory location to the copied data structure.\n",
    "# Changes/Updates in the new dictionary will not impact the old \\n\n",
    "#Dictionary anymore as both are having different locations in the memory\n",
    "print(myNewDict)\n",
    "print(id(myNewDict))"
   ]
  },
  {
   "cell_type": "code",
   "execution_count": 166,
   "metadata": {},
   "outputs": [
    {
     "name": "stdout",
     "output_type": "stream",
     "text": [
      "{'name': 'AMIT', 'marks': 85, 'hobby': 'cricket'}\n",
      "2569557454976\n",
      "{'name': 'AMIT', 'marks': 85, 'hobby': 'cricket'}\n",
      "2569557454976\n",
      "{'name': 'Ajit', 'marks': 85, 'hobby': 'cricket'}\n"
     ]
    }
   ],
   "source": [
    "myDict = {'name':'AMIT', 'marks': 85, 'hobby':'cricket'}\n",
    "print(myDict)\n",
    "print(id(myDict))\n",
    "\n",
    "myNewDict = myDict\n",
    "print(myNewDict)\n",
    "print(id(myNewDict))\n",
    "myNewDict['name'] = 'Ajit'\n",
    "print(myDict)"
   ]
  },
  {
   "cell_type": "code",
   "execution_count": 167,
   "metadata": {},
   "outputs": [
    {
     "name": "stdout",
     "output_type": "stream",
     "text": [
      "{'apple': 100, 'banana': 100, 'grapes': 100}\n"
     ]
    }
   ],
   "source": [
    "# fromkeys([seq], value) -> Return a new Dictionary with the keys from seq and value equal to 'Value'.\n",
    "#Defaults to None.\n",
    "\n",
    "fruits = {}.fromkeys(['apple','banana','grapes'],100)\n",
    "print(fruits)"
   ]
  },
  {
   "cell_type": "code",
   "execution_count": 180,
   "metadata": {},
   "outputs": [
    {
     "name": "stdout",
     "output_type": "stream",
     "text": [
      "dict_items([('name', 'AMIT'), ('marks', 85), ('hobby', 'cricket')])\n",
      "<class 'tuple'>\n",
      "<class 'tuple'>\n",
      "<class 'tuple'>\n"
     ]
    }
   ],
   "source": [
    "myDict = {'name':'AMIT', 'marks': 85, 'hobby':'cricket'}\n",
    "print(myDict.items())\n",
    "\n",
    "for item in myDict.items():\n",
    "    print(item)"
   ]
  },
  {
   "cell_type": "code",
   "execution_count": 185,
   "metadata": {},
   "outputs": [
    {
     "name": "stdout",
     "output_type": "stream",
     "text": [
      "dict_keys(['name', 'marks', 'hobby'])\n",
      "name\n",
      "AMIT\n",
      "marks\n",
      "85\n",
      "hobby\n",
      "cricket\n"
     ]
    }
   ],
   "source": [
    "myDict = {'name':'AMIT', 'marks': 85, 'hobby':'cricket'}\n",
    "print(myDict.keys()) # Returns the dictionary Keys/\n",
    "\n",
    "for key in myDict.keys():\n",
    "    print(key)\n",
    "    ##print(myDict[key])\n",
    "    print(myDict.get(key))"
   ]
  },
  {
   "cell_type": "code",
   "execution_count": 186,
   "metadata": {},
   "outputs": [
    {
     "name": "stdout",
     "output_type": "stream",
     "text": [
      "['__class__', '__class_getitem__', '__contains__', '__delattr__', '__delitem__', '__dir__', '__doc__', '__eq__', '__format__', '__ge__', '__getattribute__', '__getitem__', '__gt__', '__hash__', '__init__', '__init_subclass__', '__ior__', '__iter__', '__le__', '__len__', '__lt__', '__ne__', '__new__', '__or__', '__reduce__', '__reduce_ex__', '__repr__', '__reversed__', '__ror__', '__setattr__', '__setitem__', '__sizeof__', '__str__', '__subclasshook__', 'clear', 'copy', 'fromkeys', 'get', 'items', 'keys', 'pop', 'popitem', 'setdefault', 'update', 'values']\n"
     ]
    }
   ],
   "source": [
    "# Get list of all available methods and attributes of dictionary\n",
    "dict={}\n",
    "print(dir(dict))"
   ]
  },
  {
   "cell_type": "code",
   "execution_count": 196,
   "metadata": {},
   "outputs": [
    {
     "name": "stdout",
     "output_type": "stream",
     "text": [
      "('hobby', 'cricket')\n",
      "{'name': 'AMIT', 'marks': 85}\n"
     ]
    }
   ],
   "source": [
    "myDict = {'name':'AMIT', 'marks': 85, 'hobby':'cricket'}\n",
    "#myDict.pop('name')\n",
    "print(myDict.popitem()) ## Removing the last key-value pair that was added to the dictionary\n",
    "print(myDict)"
   ]
  },
  {
   "cell_type": "markdown",
   "metadata": {},
   "source": [
    "### Comprehension in Dictionary"
   ]
  },
  {
   "cell_type": "code",
   "execution_count": 197,
   "metadata": {},
   "outputs": [
    {
     "name": "stdout",
     "output_type": "stream",
     "text": [
      "('apple', 2)\n",
      "('banana', 5)\n",
      "('grapes', 10)\n"
     ]
    }
   ],
   "source": [
    "fruits = {'apple':2,'banana':5,'grapes':10}\n",
    "for fruit in fruits.items():  #Same as list comprehencions but here it is for dictionaries\n",
    "    print(fruit)"
   ]
  },
  {
   "cell_type": "code",
   "execution_count": 214,
   "metadata": {},
   "outputs": [
    {
     "name": "stdout",
     "output_type": "stream",
     "text": [
      "{'apple': 2, 'grapes': 10}\n"
     ]
    }
   ],
   "source": [
    "fruits = {'apple':2,'banana':5,'grapes':10}\n",
    "fruitsDict = {k:v for k,v in fruits.items() if v%2==0  }\n",
    "#Creating a new dictionary with only pairs where the value is even\n",
    "print(fruitsDict)"
   ]
  },
  {
   "cell_type": "code",
   "execution_count": 218,
   "metadata": {},
   "outputs": [
    {
     "name": "stdout",
     "output_type": "stream",
     "text": [
      "{'apple_even': 24, 'grapes_even': 120}\n"
     ]
    }
   ],
   "source": [
    "fruits = {'apple':2,'banana':5,'grapes':10}# Input is in Dozen, I want to get the no of Fruits\n",
    "fruitsDict = {k+'_even':v*12 for k,v in fruits.items() if v%2==0  } \n",
    "print(fruitsDict)\n",
    "# Creating a new dictionary with only pairs where the value is even and adding 'even' to the key\n"
   ]
  },
  {
   "cell_type": "markdown",
   "metadata": {},
   "source": [
    "# 18. Strings\n"
   ]
  },
  {
   "cell_type": "markdown",
   "metadata": {
    "collapsed": true
   },
   "source": [
    "A string is a <b>sequence of characters</b>.\n",
    "\n",
    "Computers do not deal with characters, they deal with numbers (binary). Even though you may see characters on your screen, internally it is stored and manipulated as a combination of 0's and 1's.\n",
    "\n",
    "This conversion of character to a number is called encoding, and the reverse process is decoding. <a href='https://docs.python.org/3.3/howto/unicode.html'>ASCII and Unicode</a> are some of the popular encoding used.\n",
    "\n",
    "In Python, string is a sequence of Unicode character."
   ]
  },
  {
   "cell_type": "markdown",
   "metadata": {},
   "source": [
    "### Create a String"
   ]
  },
  {
   "cell_type": "markdown",
   "metadata": {},
   "source": [
    "- By enclosing characters inside a single quote or double quotes. \n",
    "\n",
    "- triple quotes can be used in Python but generally used to represent multiline strings and docstrings.\n"
   ]
  },
  {
   "cell_type": "code",
   "execution_count": 223,
   "metadata": {},
   "outputs": [
    {
     "name": "stdout",
     "output_type": "stream",
     "text": [
      "2569557489840\n",
      "Single String\n",
      "Double String\n",
      "Triple String\n"
     ]
    }
   ],
   "source": [
    "myString = 'Single String'\n",
    "print(id(myString))\n",
    "print(myString)\n",
    "\n",
    "myString= \"Double String\"\n",
    "print(myString)\n",
    "\n",
    "myString= '''Triple String'''\n",
    "print(myString)\n"
   ]
  },
  {
   "cell_type": "markdown",
   "metadata": {},
   "source": [
    "### Access characters in a String"
   ]
  },
  {
   "cell_type": "markdown",
   "metadata": {
    "collapsed": true
   },
   "source": [
    "- Access individual characters using indexing and a range of characters using slicing.\n",
    "\n",
    "- Index starts from 0. \n",
    "\n",
    "- Trying to access a character out of index range will raise an IndexError. \n",
    "\n",
    "- The index must be an integer. We can't use float or other types, this will result into TypeError.\n",
    "\n",
    "- Python allows negative indexing for its sequences."
   ]
  },
  {
   "cell_type": "code",
   "execution_count": 226,
   "metadata": {},
   "outputs": [
    {
     "name": "stdout",
     "output_type": "stream",
     "text": [
      "o\n",
      "oub\n",
      "l\n"
     ]
    }
   ],
   "source": [
    "myString = \"Double\"\n",
    "print(myString[1]) #Printing the 2nd Character\n",
    "\n",
    "print(myString[1:4]) #Slicing 2nd and 4th Character-> Substring\n",
    "print(myString[-2]) # Print the 2nd Last character using negative indexing"
   ]
  },
  {
   "cell_type": "markdown",
   "metadata": {},
   "source": [
    "If we try to access index out of the range or use decimal number, we will get errors."
   ]
  },
  {
   "cell_type": "code",
   "execution_count": 227,
   "metadata": {},
   "outputs": [
    {
     "ename": "IndexError",
     "evalue": "string index out of range",
     "output_type": "error",
     "traceback": [
      "\u001b[1;31m---------------------------------------------------------------------------\u001b[0m",
      "\u001b[1;31mIndexError\u001b[0m                                Traceback (most recent call last)",
      "Input \u001b[1;32mIn [227]\u001b[0m, in \u001b[0;36m<cell line: 1>\u001b[1;34m()\u001b[0m\n\u001b[1;32m----> 1\u001b[0m \u001b[38;5;28mprint\u001b[39m(\u001b[43mmyString\u001b[49m\u001b[43m[\u001b[49m\u001b[38;5;241;43m15\u001b[39;49m\u001b[43m]\u001b[49m)\n",
      "\u001b[1;31mIndexError\u001b[0m: string index out of range"
     ]
    }
   ],
   "source": [
    "print(myString[15]) # Index should be in available range"
   ]
  },
  {
   "cell_type": "code",
   "execution_count": 228,
   "metadata": {},
   "outputs": [
    {
     "ename": "TypeError",
     "evalue": "string indices must be integers",
     "output_type": "error",
     "traceback": [
      "\u001b[1;31m---------------------------------------------------------------------------\u001b[0m",
      "\u001b[1;31mTypeError\u001b[0m                                 Traceback (most recent call last)",
      "Input \u001b[1;32mIn [228]\u001b[0m, in \u001b[0;36m<cell line: 1>\u001b[1;34m()\u001b[0m\n\u001b[1;32m----> 1\u001b[0m \u001b[38;5;28mprint\u001b[39m(\u001b[43mmyString\u001b[49m\u001b[43m[\u001b[49m\u001b[38;5;241;43m1.5\u001b[39;49m\u001b[43m]\u001b[49m)\n",
      "\u001b[1;31mTypeError\u001b[0m: string indices must be integers"
     ]
    }
   ],
   "source": [
    "print(myString[1.5]) # Index should be integer always"
   ]
  },
  {
   "cell_type": "markdown",
   "metadata": {},
   "source": [
    "### Change or delete a String"
   ]
  },
  {
   "cell_type": "markdown",
   "metadata": {},
   "source": [
    "Strings are immutable. This means that elements of a string cannot be changed once it has been assigned. \n",
    "\n",
    "We can simply reassign different strings to the same name."
   ]
  },
  {
   "cell_type": "code",
   "execution_count": 230,
   "metadata": {},
   "outputs": [
    {
     "ename": "TypeError",
     "evalue": "'str' object does not support item assignment",
     "output_type": "error",
     "traceback": [
      "\u001b[1;31m---------------------------------------------------------------------------\u001b[0m",
      "\u001b[1;31mTypeError\u001b[0m                                 Traceback (most recent call last)",
      "Input \u001b[1;32mIn [230]\u001b[0m, in \u001b[0;36m<cell line: 2>\u001b[1;34m()\u001b[0m\n\u001b[0;32m      1\u001b[0m myString\u001b[38;5;241m=\u001b[39m \u001b[38;5;124m\"\u001b[39m\u001b[38;5;124mDouble\u001b[39m\u001b[38;5;124m\"\u001b[39m\n\u001b[1;32m----> 2\u001b[0m myString[\u001b[38;5;241m0\u001b[39m] \u001b[38;5;241m=\u001b[39m \u001b[38;5;124m'\u001b[39m\u001b[38;5;124mT\u001b[39m\u001b[38;5;124m'\u001b[39m\n\u001b[0;32m      3\u001b[0m \u001b[38;5;28mprint\u001b[39m(myString)\n",
      "\u001b[1;31mTypeError\u001b[0m: 'str' object does not support item assignment"
     ]
    }
   ],
   "source": [
    "myString= \"Double\"\n",
    "myString[0] = 'T' # Strings are immutable\n",
    "print(myString)"
   ]
  },
  {
   "cell_type": "code",
   "execution_count": 231,
   "metadata": {},
   "outputs": [
    {
     "ename": "NameError",
     "evalue": "name 'myString' is not defined",
     "output_type": "error",
     "traceback": [
      "\u001b[1;31m---------------------------------------------------------------------------\u001b[0m",
      "\u001b[1;31mNameError\u001b[0m                                 Traceback (most recent call last)",
      "Input \u001b[1;32mIn [231]\u001b[0m, in \u001b[0;36m<cell line: 2>\u001b[1;34m()\u001b[0m\n\u001b[0;32m      1\u001b[0m \u001b[38;5;28;01mdel\u001b[39;00m myString \u001b[38;5;66;03m# Delete complete string\u001b[39;00m\n\u001b[1;32m----> 2\u001b[0m \u001b[38;5;28mprint\u001b[39m(\u001b[43mmyString\u001b[49m)\n",
      "\u001b[1;31mNameError\u001b[0m: name 'myString' is not defined"
     ]
    }
   ],
   "source": [
    "del myString # Delete complete string\n",
    "print(myString)"
   ]
  },
  {
   "cell_type": "code",
   "execution_count": 233,
   "metadata": {},
   "outputs": [
    {
     "name": "stdout",
     "output_type": "stream",
     "text": [
      "['__add__', '__class__', '__contains__', '__delattr__', '__dir__', '__doc__', '__eq__', '__format__', '__ge__', '__getattribute__', '__getitem__', '__getnewargs__', '__gt__', '__hash__', '__init__', '__init_subclass__', '__iter__', '__le__', '__len__', '__lt__', '__mod__', '__mul__', '__ne__', '__new__', '__reduce__', '__reduce_ex__', '__repr__', '__rmod__', '__rmul__', '__setattr__', '__sizeof__', '__str__', '__subclasshook__', 'capitalize', 'casefold', 'center', 'count', 'encode', 'endswith', 'expandtabs', 'find', 'format', 'format_map', 'index', 'isalnum', 'isalpha', 'isascii', 'isdecimal', 'isdigit', 'isidentifier', 'islower', 'isnumeric', 'isprintable', 'isspace', 'istitle', 'isupper', 'join', 'ljust', 'lower', 'lstrip', 'maketrans', 'partition', 'removeprefix', 'removesuffix', 'replace', 'rfind', 'rindex', 'rjust', 'rpartition', 'rsplit', 'rstrip', 'split', 'splitlines', 'startswith', 'strip', 'swapcase', 'title', 'translate', 'upper', 'zfill']\n"
     ]
    }
   ],
   "source": [
    "myString=''\n",
    "print(dir(myString))"
   ]
  },
  {
   "cell_type": "markdown",
   "metadata": {},
   "source": [
    "## String Operations"
   ]
  },
  {
   "cell_type": "markdown",
   "metadata": {},
   "source": [
    "### Concatenation"
   ]
  },
  {
   "cell_type": "markdown",
   "metadata": {},
   "source": [
    "Joining of two or more strings into a single one is called concatenation.\n",
    "\n",
    "- The <b>+</b> operator does this in Python. Simply writing two string literals together also concatenates them.\n",
    "\n",
    "- The <b>*</b> operator can be used to repeat the string for a given number of times."
   ]
  },
  {
   "cell_type": "code",
   "execution_count": 236,
   "metadata": {},
   "outputs": [
    {
     "name": "stdout",
     "output_type": "stream",
     "text": [
      "Python Programming\n",
      "Python Python \n"
     ]
    }
   ],
   "source": [
    "myString1= \"Python \"\n",
    "myString2 = \"Programming\"\n",
    "\n",
    "print(myString1+ myString2) # Concatenation of 2 strings\n",
    "print(myString1 *2) # Repeats the string n times"
   ]
  },
  {
   "cell_type": "code",
   "execution_count": 238,
   "metadata": {},
   "outputs": [
    {
     "name": "stdout",
     "output_type": "stream",
     "text": [
      "Character count of P is:  2\n"
     ]
    }
   ],
   "source": [
    "myString = \"Python Programming\"\n",
    "charCount=0\n",
    "for char in myString: #Iterating through String\n",
    "    if char== 'P':\n",
    "        charCount+=1\n",
    "print('Character count of P is: ', charCount)\n",
    "        \n",
    "    "
   ]
  },
  {
   "cell_type": "markdown",
   "metadata": {},
   "source": [
    "### String Membership Test"
   ]
  },
  {
   "cell_type": "code",
   "execution_count": 240,
   "metadata": {},
   "outputs": [
    {
     "name": "stdout",
     "output_type": "stream",
     "text": [
      "True\n",
      "True\n"
     ]
    }
   ],
   "source": [
    "# in\n",
    "myString = \"Python Programming\"  #Checking for membership\n",
    "print('m' in  myString)\n",
    "print('n P' in myString)"
   ]
  },
  {
   "cell_type": "code",
   "execution_count": null,
   "metadata": {},
   "outputs": [],
   "source": []
  },
  {
   "cell_type": "markdown",
   "metadata": {},
   "source": [
    "### String Methods"
   ]
  },
  {
   "cell_type": "markdown",
   "metadata": {},
   "source": [
    "Some of the commonly used methods are<br/> \n",
    "<b>lower(), upper(), join(), split(), find(), replace() </b>etc"
   ]
  },
  {
   "cell_type": "code",
   "execution_count": 241,
   "metadata": {},
   "outputs": [
    {
     "data": {
      "text/plain": [
       "'python programming'"
      ]
     },
     "execution_count": 241,
     "metadata": {},
     "output_type": "execute_result"
    }
   ],
   "source": [
    "myString = \"Python Programming\"  #lower\n",
    "myString.lower()"
   ]
  },
  {
   "cell_type": "code",
   "execution_count": 242,
   "metadata": {},
   "outputs": [
    {
     "data": {
      "text/plain": [
       "'PYTHON PROGRAMMING'"
      ]
     },
     "execution_count": 242,
     "metadata": {},
     "output_type": "execute_result"
    }
   ],
   "source": [
    "myString = \"Python Programming\"  #upper\n",
    "myString.upper()"
   ]
  },
  {
   "cell_type": "code",
   "execution_count": 248,
   "metadata": {},
   "outputs": [
    {
     "data": {
      "text/plain": [
       "['This', 'is', 'a', 'lecture', 'on', 'Python', 'Basics']"
      ]
     },
     "execution_count": 248,
     "metadata": {},
     "output_type": "execute_result"
    }
   ],
   "source": [
    "myString = \"This is a lecture on Python Basics\" #split\n",
    "myString.split() # By Default space is the delimiter"
   ]
  },
  {
   "cell_type": "code",
   "execution_count": 254,
   "metadata": {},
   "outputs": [
    {
     "data": {
      "text/plain": [
       "'Split this list into a line'"
      ]
     },
     "execution_count": 254,
     "metadata": {},
     "output_type": "execute_result"
    }
   ],
   "source": [
    "myString = \" \"\n",
    "myString.join(['Split','this','list','into','a','line']) #join"
   ]
  },
  {
   "cell_type": "code",
   "execution_count": 258,
   "metadata": {},
   "outputs": [
    {
     "data": {
      "text/plain": [
       "18"
      ]
     },
     "execution_count": 258,
     "metadata": {},
     "output_type": "execute_result"
    }
   ],
   "source": [
    "#find()\n",
    "myString = \"This is a lecture on Python Basics\" \n",
    "myString.find('o')"
   ]
  },
  {
   "cell_type": "code",
   "execution_count": 263,
   "metadata": {},
   "outputs": [
    {
     "name": "stdout",
     "output_type": "stream",
     "text": [
      "This is a lecture on Python Basics\n",
      "This is a lecture on Python Programming\n"
     ]
    }
   ],
   "source": [
    "#replace\n",
    "myString = \"This is a lecture on Python Basics\"\n",
    "\n",
    "myString2 = myString.replace('Basics','Programming')\n",
    "print(myString)\n",
    "\n",
    "print(myString2)"
   ]
  },
  {
   "cell_type": "markdown",
   "metadata": {},
   "source": [
    "# Python Program to Check where a String is Palindrome or not ?\n"
   ]
  },
  {
   "cell_type": "code",
   "execution_count": null,
   "metadata": {},
   "outputs": [],
   "source": [
    "## Q1>> Reverse a word >>\n",
    "#Hint : Use a For Loop. Initialize a a new charString and iterate the original string in revrerse dir.\n",
    "\n",
    "## Q2>> CHeck if a word is Palindrom ??  \n",
    "\n",
    "##Q3> Sort sentenses in Reverse Alphabatic Order. >> Hint : You can use and method."
   ]
  }
 ],
 "metadata": {
  "kernelspec": {
   "display_name": "Python 3 (ipykernel)",
   "language": "python",
   "name": "python3"
  },
  "language_info": {
   "codemirror_mode": {
    "name": "ipython",
    "version": 3
   },
   "file_extension": ".py",
   "mimetype": "text/x-python",
   "name": "python",
   "nbconvert_exporter": "python",
   "pygments_lexer": "ipython3",
   "version": "3.9.12"
  },
  "vscode": {
   "interpreter": {
    "hash": "0b79ffa2a2d26b40aaea86131b88fa614e7cd2d4710efd09459291523b197237"
   }
  }
 },
 "nbformat": 4,
 "nbformat_minor": 2
}
