{
 "cells": [
  {
   "cell_type": "markdown",
   "metadata": {},
   "source": [
    "# <center>Python Basics<center/> \n",
    "<img height=\"60\" width=\"120\" src=\"https://www.python.org/static/img/python-logo-large.png?1414305901\"></img>"
   ]
  },
  {
   "cell_type": "markdown",
   "metadata": {},
   "source": [
    "# <center>Data types in depth</center>"
   ]
  },
  {
   "cell_type": "markdown",
   "metadata": {},
   "source": [
    "# Table of contents\n",
    "<br/>\n",
    "\n",
    "<a href = \"#14.-Lists\">14. Lists</a><br/>\n",
    "<a href = \"#15.-Tuples\">15. Tuples</a><br/>\n",
    "<a href = \"#16.-Sets\">16. Sets</a><br/>\n",
    "<a href = \"#17.-Dictionary\">17. Dictionary</a><br/>\n",
    "<a href = \"#18.-Strings\">18. Strings</a><br/>"
   ]
  },
  {
   "cell_type": "markdown",
   "metadata": {},
   "source": [
    "The most basic **DATA STRUCTURE** in Python is the **sequence**. Each element of a <u>sequence is assigned a number</u> - its **position or index**. <br/>\n",
    "The first index is <i>zero, the second index is one, and so forth</i>.\n",
    "\n",
    "Popular sequences in python are **Lists, Tuples, Sets, Dictionary and Strings**.\n",
    "\n",
    "The popular operations include **indexing, slicing, adding, multiplying, and checking for membership**. In addition, Python has built-in functions for finding the **length** of a sequence and for finding its **largest and smallest elements**."
   ]
  },
  {
   "cell_type": "markdown",
   "metadata": {},
   "source": [
    "# 14. Lists"
   ]
  },
  {
   "cell_type": "markdown",
   "metadata": {},
   "source": [
    "Points to remeber:\n",
    "\n",
    "<ul>\n",
    "    <li>Lists are collection of items (Strings, integers or even other lists)</li>\n",
    "    <li>Lists are enclosed in [ ]</li>\n",
    "    <li>Every item in a list has an assigned index value.</li>\n",
    "    <li>Each item in a list is separated by a comma</li>\n",
    "    <li>Lists are mutable, which means they can be changed.</li>\n",
    "</ul>"
   ]
  },
  {
   "cell_type": "markdown",
   "metadata": {
    "collapsed": true
   },
   "source": [
    "## 14.1 How to create a List"
   ]
  },
  {
   "cell_type": "code",
   "execution_count": null,
   "metadata": {},
   "outputs": [
    {
     "name": "stdout",
     "output_type": "stream",
     "text": [
      "[[100, 45, 6], ['String1', 'String3'], [12, 4, 6]]\n"
     ]
    }
   ],
   "source": [
    "blankList=[] #Decleare an empty list\n",
    "listOfString = ['String1', 'String2'] #List of Strings\n",
    "listOfNumbers = [1,2,3,4,5,6]  # List of Numbers\n",
    "listOfList = [ [100, 45,6],['String1','String3'],[12,4,6]]#list of List with Mixed Datatype\n",
    "print(listOfList)\n",
    "\n",
    "                            "
   ]
  },
  {
   "cell_type": "markdown",
   "metadata": {},
   "source": [
    "## 14.2 Finding the Length of the List"
   ]
  },
  {
   "cell_type": "code",
   "execution_count": 2,
   "metadata": {},
   "outputs": [
    {
     "name": "stdout",
     "output_type": "stream",
     "text": [
      "3\n"
     ]
    }
   ],
   "source": [
    "print(len(listOfList))"
   ]
  },
  {
   "cell_type": "markdown",
   "metadata": {},
   "source": [
    "## 14.3 Add an element to the end of the List - Append"
   ]
  },
  {
   "cell_type": "code",
   "execution_count": 3,
   "metadata": {},
   "outputs": [
    {
     "name": "stdout",
     "output_type": "stream",
     "text": [
      "[12, 13, 14, 25, 'Appended Emements']\n"
     ]
    }
   ],
   "source": [
    "listOfNumbers= [12,13,14,25]\n",
    "listOfNumbers.append('Appended Emements')#append function will add the item to at the end\n",
    "print(listOfNumbers)"
   ]
  },
  {
   "cell_type": "markdown",
   "metadata": {},
   "source": [
    "## 14.4  Insert an element at a particular position in the List"
   ]
  },
  {
   "cell_type": "code",
   "execution_count": 4,
   "metadata": {},
   "outputs": [
    {
     "name": "stdout",
     "output_type": "stream",
     "text": [
      "[55.5, 'Bill', 'Data Science', 1000, 19.9]\n"
     ]
    }
   ],
   "source": [
    "listOfMixedDataTypes = [55.5, 'Bill', 1000,19.9]\n",
    "listOfMixedDataTypes.insert(2,'Data Science')\n",
    "print(listOfMixedDataTypes)"
   ]
  },
  {
   "cell_type": "markdown",
   "metadata": {},
   "source": [
    "## 14.5 Remove an item from the List"
   ]
  },
  {
   "cell_type": "code",
   "execution_count": 6,
   "metadata": {},
   "outputs": [
    {
     "name": "stdout",
     "output_type": "stream",
     "text": [
      "4\n",
      "['Bill', 1000, 19.9]\n",
      "3\n"
     ]
    }
   ],
   "source": [
    "listOfMixedDataTypes = [55.5, 'Bill', 1000,19.9]\n",
    "print(len(listOfMixedDataTypes))\n",
    "listOfMixedDataTypes.remove(55.5)\n",
    "print(listOfMixedDataTypes)\n",
    "print(len(listOfMixedDataTypes))"
   ]
  },
  {
   "cell_type": "markdown",
   "metadata": {},
   "source": [
    "## 14.6 List in a List - Append vs Extend "
   ]
  },
  {
   "cell_type": "code",
   "execution_count": 8,
   "metadata": {},
   "outputs": [
    {
     "name": "stdout",
     "output_type": "stream",
     "text": [
      "[55.5, 'Bill', 1000, 19.9, [12, 7.8, 30, 64]]\n",
      "5\n"
     ]
    }
   ],
   "source": [
    "listOfMixedDataTypes = [55.5, 'Bill', 1000,19.9]\n",
    "listOfNumbers= [12,7.8,30,64]\n",
    "listOfMixedDataTypes.append(listOfNumbers) # It adds the object as it is. using the append() methos\n",
    "print(listOfMixedDataTypes)\n",
    "print(len(listOfMixedDataTypes))"
   ]
  },
  {
   "cell_type": "code",
   "execution_count": 9,
   "metadata": {},
   "outputs": [
    {
     "name": "stdout",
     "output_type": "stream",
     "text": [
      "[55.5, 'Bill', 1000, 19.9, 12, 7.8, 30, 64]\n",
      "8\n"
     ]
    }
   ],
   "source": [
    "listOfMixedDataTypes = [55.5, 'Bill', 1000,19.9]\n",
    "listOfNumbers= [12,7.8,30,64]\n",
    "listOfMixedDataTypes.extend(listOfNumbers) # using the extend method\n",
    "print(listOfMixedDataTypes)\n",
    "print(len(listOfMixedDataTypes))"
   ]
  },
  {
   "cell_type": "code",
   "execution_count": 10,
   "metadata": {},
   "outputs": [
    {
     "name": "stdout",
     "output_type": "stream",
     "text": [
      "[55.5, 'Bill', 1000, 19.9, 64, 12, 30, 7.8]\n",
      "8\n"
     ]
    }
   ],
   "source": [
    "listOfMixedDataTypes = [55.5, 'Bill', 1000,19.9]\n",
    "setOfNumbers= {12,7.8,30,64}\n",
    "listOfMixedDataTypes.extend(setOfNumbers) # using the extend method\n",
    "print(listOfMixedDataTypes)\n",
    "print(len(listOfMixedDataTypes))"
   ]
  },
  {
   "cell_type": "code",
   "execution_count": 12,
   "metadata": {},
   "outputs": [
    {
     "name": "stdout",
     "output_type": "stream",
     "text": [
      "[55.5, 'Bill', 1000, 19.9, 12, 7.8, 30, 64]\n",
      "8\n"
     ]
    }
   ],
   "source": [
    "listOfMixedDataTypes = [55.5, 'Bill', 1000,19.9]\n",
    "tupleOfNumbers= (12,7.8,30,64)\n",
    "listOfMixedDataTypes.extend(tupleOfNumbers) # using the extend method\n",
    "print(listOfMixedDataTypes)\n",
    "print(len(listOfMixedDataTypes))"
   ]
  },
  {
   "cell_type": "code",
   "execution_count": 13,
   "metadata": {},
   "outputs": [
    {
     "name": "stdout",
     "output_type": "stream",
     "text": [
      "[55.5, 'Bill', 1000, 19.9, (12, 7.8, 30, 64)]\n",
      "5\n"
     ]
    }
   ],
   "source": [
    "listOfMixedDataTypes = [55.5, 'Bill', 1000,19.9]\n",
    "tupleOfNumbers= (12,7.8,30,64)\n",
    "listOfMixedDataTypes.append(tupleOfNumbers) # using the extend method\n",
    "print(listOfMixedDataTypes)\n",
    "print(len(listOfMixedDataTypes))"
   ]
  },
  {
   "cell_type": "markdown",
   "metadata": {},
   "source": [
    "## 14.7 Delete an element in a List - del vs pop vs remove"
   ]
  },
  {
   "cell_type": "code",
   "execution_count": 15,
   "metadata": {},
   "outputs": [
    {
     "name": "stdout",
     "output_type": "stream",
     "text": [
      "[55.5, 19.9]\n"
     ]
    }
   ],
   "source": [
    "listOfMixedDataTypes=[55.5, 'Bill', 1000,19.9]\n",
    "\n",
    "#using del keyword\n",
    "#del listOfMixedDataTypes[2]\n",
    "del listOfMixedDataTypes[1:3]\n",
    "print(listOfMixedDataTypes)\n"
   ]
  },
  {
   "cell_type": "code",
   "execution_count": 17,
   "metadata": {},
   "outputs": [
    {
     "name": "stdout",
     "output_type": "stream",
     "text": [
      "[55.5, 'Bill', 1000, 19.9, [12, 7.8, 30, 64]]\n",
      "[55.5, 'Bill', 1000, 19.9, [7.8, 30, 64]]\n"
     ]
    }
   ],
   "source": [
    "listOfMixedDataTypes = [55.5, 'Bill', 1000,19.9]\n",
    "listOfNumbers= [12,7.8,30,64]\n",
    "listOfMixedDataTypes.append(listOfNumbers)\n",
    "print(listOfMixedDataTypes)\n",
    "del listOfMixedDataTypes[4][0]\n",
    "print(listOfMixedDataTypes)"
   ]
  },
  {
   "cell_type": "code",
   "execution_count": 19,
   "metadata": {},
   "outputs": [
    {
     "name": "stdout",
     "output_type": "stream",
     "text": [
      "[55.5, 'Bill', 1000, 19.9, (12, 7.8, 30, 64)]\n"
     ]
    },
    {
     "ename": "TypeError",
     "evalue": "'tuple' object doesn't support item deletion",
     "output_type": "error",
     "traceback": [
      "\u001b[1;31m---------------------------------------------------------------------------\u001b[0m",
      "\u001b[1;31mTypeError\u001b[0m                                 Traceback (most recent call last)",
      "Input \u001b[1;32mIn [19]\u001b[0m, in \u001b[0;36m<cell line: 5>\u001b[1;34m()\u001b[0m\n\u001b[0;32m      3\u001b[0m listOfMixedDataTypes\u001b[38;5;241m.\u001b[39mappend(tupleOfNumbers)\n\u001b[0;32m      4\u001b[0m \u001b[38;5;28mprint\u001b[39m(listOfMixedDataTypes)\n\u001b[1;32m----> 5\u001b[0m \u001b[38;5;28;01mdel\u001b[39;00m listOfMixedDataTypes[\u001b[38;5;241m4\u001b[39m][\u001b[38;5;241m0\u001b[39m]\n\u001b[0;32m      6\u001b[0m \u001b[38;5;28mprint\u001b[39m(listOfMixedDataTypes)\n",
      "\u001b[1;31mTypeError\u001b[0m: 'tuple' object doesn't support item deletion"
     ]
    }
   ],
   "source": [
    "listOfMixedDataTypes = [55.5, 'Bill', 1000,19.9]\n",
    "tupleOfNumbers= (12,7.8,30,64)\n",
    "listOfMixedDataTypes.append(tupleOfNumbers)\n",
    "print(listOfMixedDataTypes)\n",
    "del listOfMixedDataTypes[4][0]\n",
    "print(listOfMixedDataTypes)"
   ]
  },
  {
   "cell_type": "code",
   "execution_count": 21,
   "metadata": {},
   "outputs": [
    {
     "name": "stdout",
     "output_type": "stream",
     "text": [
      "Popped Items is: Bill\n",
      "[55.5, 1000, 19.9]\n"
     ]
    }
   ],
   "source": [
    "##pop\n",
    "listOfMixedDataTypes=[55.5, 'Bill', 1000,19.9]\n",
    "poppedItem = listOfMixedDataTypes.pop(1) #pop() takes index as the input \n",
    "print('Popped Items is: {}'.format(poppedItem))\n",
    "print(listOfMixedDataTypes)\n"
   ]
  },
  {
   "cell_type": "code",
   "execution_count": 23,
   "metadata": {},
   "outputs": [
    {
     "name": "stdout",
     "output_type": "stream",
     "text": [
      "None\n",
      "[55.5, 'Bill', 19.9]\n"
     ]
    }
   ],
   "source": [
    "listOfMixedDataTypes=[55.5, 'Bill', 1000,19.9]\n",
    "itemDeleted = listOfMixedDataTypes.remove(1000) #using the remove function - takes the value as input\n",
    "#Unlike Pop, it doesnot show the item which it is removing\n",
    "print(itemDeleted)\n",
    "print(listOfMixedDataTypes)"
   ]
  },
  {
   "cell_type": "markdown",
   "metadata": {},
   "source": [
    "## 14.8 Membership of List - in and not in"
   ]
  },
  {
   "cell_type": "code",
   "execution_count": 24,
   "metadata": {},
   "outputs": [
    {
     "name": "stdout",
     "output_type": "stream",
     "text": [
      "Found in list\n",
      "Not Found in List\n"
     ]
    }
   ],
   "source": [
    "listOfMixedDataTypes=[55.5, 'Bill', 1000,19.9]\n",
    "if 'Bill' in listOfMixedDataTypes:\n",
    "    print(\"Found in list\")\n",
    "if 131 not in listOfMixedDataTypes:\n",
    "    print('Not Found in List')"
   ]
  },
  {
   "cell_type": "markdown",
   "metadata": {},
   "source": [
    "## 14.9 Reversing a list - reverse"
   ]
  },
  {
   "cell_type": "code",
   "execution_count": 26,
   "metadata": {},
   "outputs": [
    {
     "name": "stdout",
     "output_type": "stream",
     "text": [
      "[55.5, 'Bill', 1000, 19.9]\n",
      "[19.9, 1000, 'Bill', 55.5]\n"
     ]
    }
   ],
   "source": [
    "listOfMixedDataTypes=[55.5, 'Bill', 1000,19.9]\n",
    "print(listOfMixedDataTypes)\n",
    "listOfMixedDataTypes.reverse() # revrse() function\n",
    "print(listOfMixedDataTypes)"
   ]
  },
  {
   "cell_type": "markdown",
   "metadata": {},
   "source": [
    "## 14.10 Sorting a list"
   ]
  },
  {
   "cell_type": "markdown",
   "metadata": {},
   "source": [
    "Sort a List is using sorted(list) function. \n",
    "\n",
    "The function returns a new list with the elements in ascending order. \n",
    "\n",
    "The original list is not changed. \n",
    "\n",
    "Use the optional argument reverse=True, e.g. sorted(yourList, reverse=True), \n",
    "makes it sort backwards."
   ]
  },
  {
   "cell_type": "code",
   "execution_count": 28,
   "metadata": {},
   "outputs": [
    {
     "name": "stdout",
     "output_type": "stream",
     "text": [
      "[5, 11, 12, 45, 67, 87, 109]\n",
      "[12, 5, 67, 87, 45, 11, 109]\n"
     ]
    }
   ],
   "source": [
    "myListNum = [12,5,67,87,45,11,109]\n",
    "sorted_list = sorted(myListNum)\n",
    "print(sorted_list)\n",
    "print(myListNum) #Original List remains unchanged."
   ]
  },
  {
   "cell_type": "code",
   "execution_count": 29,
   "metadata": {},
   "outputs": [
    {
     "ename": "TypeError",
     "evalue": "'<' not supported between instances of 'str' and 'int'",
     "output_type": "error",
     "traceback": [
      "\u001b[1;31m---------------------------------------------------------------------------\u001b[0m",
      "\u001b[1;31mTypeError\u001b[0m                                 Traceback (most recent call last)",
      "Input \u001b[1;32mIn [29]\u001b[0m, in \u001b[0;36m<cell line: 2>\u001b[1;34m()\u001b[0m\n\u001b[0;32m      1\u001b[0m myListNum \u001b[38;5;241m=\u001b[39m [\u001b[38;5;241m12\u001b[39m,\u001b[38;5;241m5\u001b[39m,\u001b[38;5;241m67\u001b[39m,\u001b[38;5;241m87\u001b[39m,\u001b[38;5;241m45\u001b[39m,\u001b[38;5;241m11\u001b[39m,\u001b[38;5;241m109\u001b[39m,\u001b[38;5;124m'\u001b[39m\u001b[38;5;124mString\u001b[39m\u001b[38;5;124m'\u001b[39m]\n\u001b[1;32m----> 2\u001b[0m sorted_list \u001b[38;5;241m=\u001b[39m \u001b[38;5;28;43msorted\u001b[39;49m\u001b[43m(\u001b[49m\u001b[43mmyListNum\u001b[49m\u001b[43m)\u001b[49m\n\u001b[0;32m      3\u001b[0m \u001b[38;5;28mprint\u001b[39m(sorted_list)\n\u001b[0;32m      4\u001b[0m \u001b[38;5;28mprint\u001b[39m(myListNum)\n",
      "\u001b[1;31mTypeError\u001b[0m: '<' not supported between instances of 'str' and 'int'"
     ]
    }
   ],
   "source": [
    "myListNum = [12,5,67,87,45,11,109,'String'] #Mixed datatype is not alloed in the sorted() function\n",
    "sorted_list = sorted(myListNum)\n",
    "print(sorted_list)\n",
    "print(myListNum) #Original List remains unchanged."
   ]
  },
  {
   "cell_type": "code",
   "execution_count": 30,
   "metadata": {},
   "outputs": [
    {
     "name": "stdout",
     "output_type": "stream",
     "text": [
      "[109, 87, 67, 45, 12, 11, 5]\n"
     ]
    }
   ],
   "source": [
    "myListNum = [12,5,67,87,45,11,109]# Print a Reverse Sorted List\n",
    "reverse_sorted_list = sorted(myListNum, reverse=True)\n",
    "print(reverse_sorted_list)\n"
   ]
  },
  {
   "cell_type": "code",
   "execution_count": 31,
   "metadata": {},
   "outputs": [
    {
     "name": "stdout",
     "output_type": "stream",
     "text": [
      "[5, 11, 12, 45, 67, 87, 109]\n"
     ]
    }
   ],
   "source": [
    "## Sort the Original List\n",
    "myListNum = [12,5,67,87,45,11,109]\n",
    "myListNum.sort()\n",
    "print(myListNum)"
   ]
  },
  {
   "cell_type": "code",
   "execution_count": 50,
   "metadata": {},
   "outputs": [
    {
     "name": "stdout",
     "output_type": "stream",
     "text": [
      "[109, 87, 67, 45, 12, 11, 5]\n"
     ]
    }
   ],
   "source": [
    "## Sort the Reverse Original List\n",
    "myListNum = [12,5,67,87,45,11,109]\n",
    "myListNum.sort(reverse=True)\n",
    "print(myListNum)"
   ]
  },
  {
   "cell_type": "markdown",
   "metadata": {},
   "source": [
    "## 14.11 Multiple References to a List"
   ]
  },
  {
   "cell_type": "code",
   "execution_count": 37,
   "metadata": {},
   "outputs": [
    {
     "name": "stdout",
     "output_type": "stream",
     "text": [
      "Ref List: [1, 2, 3, 4, 5, 6, 10]\n",
      " Original List:  [1, 2, 3, 4, 5, 6, 10]\n"
     ]
    }
   ],
   "source": [
    "myList = [1,2,3,4,5,6]\n",
    "newRef = myList\n",
    "##doing some changes to the newRef list. Lets check the effect on the original list\n",
    "newRef.append(10)\n",
    "print(\"Ref List:\", newRef)\n",
    "print(\" Original List: \",myList)"
   ]
  },
  {
   "cell_type": "markdown",
   "metadata": {},
   "source": [
    "## 14.12 Split a String to create a list"
   ]
  },
  {
   "cell_type": "code",
   "execution_count": 56,
   "metadata": {
    "scrolled": true
   },
   "outputs": [
    {
     "name": "stdout",
     "output_type": "stream",
     "text": [
      "[' apple', 'banana', 'grapes ']\n",
      "['apple', 'banana', 'grapes']\n"
     ]
    }
   ],
   "source": [
    "myString = \" apple, banana, grapes \"\n",
    "newList=[]\n",
    "myList= myString.split(', ')\n",
    "print(myList)\n",
    "for elements in myList:\n",
    "    newList.append(elements.strip())\n",
    "print(newList)\n"
   ]
  },
  {
   "cell_type": "markdown",
   "metadata": {},
   "source": [
    "## 14.13 Indexing in a List"
   ]
  },
  {
   "cell_type": "markdown",
   "metadata": {},
   "source": [
    "Each item in the list has an assigned index value starting from 0.\n",
    "\n",
    "Accessing elements in a list is called indexing."
   ]
  },
  {
   "cell_type": "code",
   "execution_count": 58,
   "metadata": {},
   "outputs": [
    {
     "name": "stdout",
     "output_type": "stream",
     "text": [
      "4\n",
      "[3, 4, 5]\n"
     ]
    }
   ],
   "source": [
    "myList = [1,2,3,4,5,6]\n",
    "print(myList[3])\n",
    "\n"
   ]
  },
  {
   "cell_type": "markdown",
   "metadata": {},
   "source": [
    "## 14.14 List Slicing"
   ]
  },
  {
   "cell_type": "markdown",
   "metadata": {},
   "source": [
    "Accessing parts of segments is called slicing. \n",
    "\n",
    "Slicing is done using colon (**:**) symbol\n",
    "\n",
    "Start index:End Index\n",
    "\n",
    "Value at start index is included but not the value at end index."
   ]
  },
  {
   "cell_type": "code",
   "execution_count": 62,
   "metadata": {},
   "outputs": [
    {
     "name": "stdout",
     "output_type": "stream",
     "text": [
      "[1, 2, 3, 4, 5, 6]\n",
      "[3, 4, 5]\n",
      "[1, 3, 5]\n",
      "[6, 5, 4, 3, 2, 1]\n"
     ]
    }
   ],
   "source": [
    "print(myList)\n",
    "print(myList[2:5])\n",
    "print(myList[0::2])\n",
    "print(myList[::-1])\n"
   ]
  },
  {
   "cell_type": "code",
   "execution_count": null,
   "metadata": {},
   "outputs": [],
   "source": []
  },
  {
   "cell_type": "markdown",
   "metadata": {},
   "source": [
    "## 14.15 Extend a List using \"+\""
   ]
  },
  {
   "cell_type": "code",
   "execution_count": 65,
   "metadata": {},
   "outputs": [
    {
     "name": "stdout",
     "output_type": "stream",
     "text": [
      "[1.3, 'Amit', 'Ten', 'Hundred', 100, 40.5, 3, 'Data Science', 'Twelve', 'One', 2, 0.5]\n"
     ]
    }
   ],
   "source": [
    "list1 = [1.3,'Amit', 'Ten','Hundred',100,40.5]\n",
    "list2 = [3, 'Data Science', 'Twelve','One',2,0.5]\n",
    "joinedList= list1+list2\n",
    "print(joinedList)"
   ]
  },
  {
   "cell_type": "markdown",
   "metadata": {},
   "source": [
    "## 14.16 Count an item in a List"
   ]
  },
  {
   "cell_type": "code",
   "execution_count": 67,
   "metadata": {},
   "outputs": [
    {
     "name": "stdout",
     "output_type": "stream",
     "text": [
      "2\n"
     ]
    }
   ],
   "source": [
    "list2 = [3, 'Data Science', 'Twelve','One',2,0.5,2]\n",
    "print(list2.count(2)) # Count an Item in the list >> Count for which Item"
   ]
  },
  {
   "cell_type": "markdown",
   "metadata": {},
   "source": [
    "## 14.17 Looping in List "
   ]
  },
  {
   "cell_type": "code",
   "execution_count": 69,
   "metadata": {},
   "outputs": [
    {
     "name": "stdout",
     "output_type": "stream",
     "text": [
      "12\n",
      "43\n",
      "2\n",
      "Hundred\n",
      "12\n",
      "13\n",
      "Four\n",
      "100\n"
     ]
    }
   ],
   "source": [
    "listOfItems = [12,43,2,'Hundred',12,13, 'Four', 100]\n",
    "for item in listOfItems:\n",
    "    print(item)"
   ]
  },
  {
   "cell_type": "markdown",
   "metadata": {},
   "source": [
    "## 14.18 List Comprehensions"
   ]
  },
  {
   "cell_type": "markdown",
   "metadata": {},
   "source": [
    "List comprehensions provide a concise way to create lists.<br/>\n",
    "This can be thought of a process that makes it easier to create lists.\n",
    "\n",
    "Common applications are to make new lists where each element is the result of some operations applied to each member of another sequence or iterable, or to create a subsequence of those elements that satisfy a certain condition."
   ]
  },
  {
   "cell_type": "code",
   "execution_count": 71,
   "metadata": {},
   "outputs": [
    {
     "name": "stdout",
     "output_type": "stream",
     "text": [
      "[0, 1, 4, 9, 16, 25, 36, 49, 64, 81]\n"
     ]
    }
   ],
   "source": [
    "##normal way to create an empty list\n",
    "myList=[]\n",
    "for i in range(10):\n",
    "    myList.append(i**2)\n",
    "print(myList)"
   ]
  },
  {
   "cell_type": "code",
   "execution_count": 72,
   "metadata": {},
   "outputs": [
    {
     "name": "stdout",
     "output_type": "stream",
     "text": [
      "[0, 1, 4, 9, 16, 25, 36, 49, 64, 81]\n"
     ]
    }
   ],
   "source": [
    "#List Comprehension: Simplifies the syntax. \n",
    "myList = [i**2 for i in range(10)] ## [Operation_Happens for i in Condition]\n",
    "print(myList)\n",
    "\n"
   ]
  },
  {
   "cell_type": "markdown",
   "metadata": {},
   "source": [
    "## 14.19 Nested List Comprehensions"
   ]
  },
  {
   "cell_type": "code",
   "execution_count": 77,
   "metadata": {},
   "outputs": [
    {
     "name": "stdout",
     "output_type": "stream",
     "text": [
      "1\n"
     ]
    }
   ],
   "source": [
    "matrix = [[0,1,2],\n",
    "          [0,1,2],\n",
    "          [0,1,2],\n",
    "          [0,1,2]] \n",
    "# 4*3 matrix\n",
    "print(matrix[2][1])"
   ]
  },
  {
   "cell_type": "code",
   "execution_count": 76,
   "metadata": {},
   "outputs": [
    {
     "name": "stdout",
     "output_type": "stream",
     "text": [
      "[[0, 1, 2], [0, 1, 2], [0, 1, 2], [0, 1, 2]]\n"
     ]
    }
   ],
   "source": [
    "sameList=[]\n",
    "for rowVal in range(4):\n",
    "    rowList=[]\n",
    "    for columnVal in range(3):\n",
    "        rowList.append(columnVal)\n",
    "    sameList.append(rowList)\n",
    "print(sameList)\n",
    "    \n",
    "        "
   ]
  },
  {
   "cell_type": "code",
   "execution_count": 80,
   "metadata": {},
   "outputs": [
    {
     "name": "stdout",
     "output_type": "stream",
     "text": [
      "[[0, 1, 2], [0, 1, 2], [0, 1, 2], [0, 1, 2]]\n"
     ]
    }
   ],
   "source": [
    "myMatrix=[]\n",
    "#[[],[],[]]\n",
    "[myMatrix.append([colVal for colVal in range(3)]) for rowVal in range(4)]\n",
    "print(myMatrix)"
   ]
  },
  {
   "cell_type": "markdown",
   "metadata": {
    "collapsed": true
   },
   "source": [
    "#### Excercise: Perform the below list operations"
   ]
  },
  {
   "cell_type": "code",
   "execution_count": null,
   "metadata": {},
   "outputs": [],
   "source": [
    "myList= [1,2,3,4,5,6,7,8,9]\n",
    "\n",
    "#  Q1) Square the values of myList and store in a new list using list comprehension\n",
    "\n",
    "\n",
    "#  Q2) Make a combination of x and x values using the above list sing list comprehension e.g.  [(1,1), (2,2).......]\n",
    "\n",
    "\n",
    "#  Q3) Create a new List to store only the even number greater than 2 from the myList sing list comprehension. e.g. newList = [4,6,8]\n",
    "\n",
    "\n",
    "#  Q4) Create a 3*3 matrix that stores half of the number from 1 to 9. Use List Comprehenshion. Hint: Fractional Values are allowed. "
   ]
  },
  {
   "cell_type": "markdown",
   "metadata": {
    "collapsed": true
   },
   "source": [
    "<center> <h1>End of LIST section</h1> </center>"
   ]
  },
  {
   "cell_type": "markdown",
   "metadata": {},
   "source": [
    "# 15. Tuples"
   ]
  },
  {
   "cell_type": "markdown",
   "metadata": {},
   "source": [
    "A tuple is very similar to a list\n",
    "\n",
    "But tuples are immutable i.e. we can't change the elements of tuple once it is assigned <br/>\n",
    "whereas in a list, elements can be changed"
   ]
  },
  {
   "cell_type": "markdown",
   "metadata": {},
   "source": [
    "## 15.1 Creating a Tuple"
   ]
  },
  {
   "cell_type": "code",
   "execution_count": null,
   "metadata": {},
   "outputs": [],
   "source": []
  },
  {
   "cell_type": "code",
   "execution_count": null,
   "metadata": {},
   "outputs": [],
   "source": []
  },
  {
   "cell_type": "code",
   "execution_count": null,
   "metadata": {},
   "outputs": [],
   "source": []
  },
  {
   "cell_type": "code",
   "execution_count": null,
   "metadata": {},
   "outputs": [],
   "source": []
  },
  {
   "cell_type": "markdown",
   "metadata": {},
   "source": [
    "### Accessing Elements in Tuple"
   ]
  },
  {
   "cell_type": "code",
   "execution_count": null,
   "metadata": {},
   "outputs": [],
   "source": []
  },
  {
   "cell_type": "code",
   "execution_count": null,
   "metadata": {},
   "outputs": [],
   "source": []
  },
  {
   "cell_type": "code",
   "execution_count": null,
   "metadata": {},
   "outputs": [],
   "source": []
  },
  {
   "cell_type": "code",
   "execution_count": null,
   "metadata": {},
   "outputs": [],
   "source": []
  },
  {
   "cell_type": "code",
   "execution_count": null,
   "metadata": {},
   "outputs": [],
   "source": []
  },
  {
   "cell_type": "markdown",
   "metadata": {},
   "source": [
    "### Altering the values in a Tuple"
   ]
  },
  {
   "cell_type": "markdown",
   "metadata": {},
   "source": [
    "#### Tuples are immutable i.e. once set their values cannot be changed\n",
    "#### But, if the element is itself a mutable datatype like list, its nested items can be changed."
   ]
  },
  {
   "cell_type": "code",
   "execution_count": null,
   "metadata": {},
   "outputs": [],
   "source": []
  },
  {
   "cell_type": "code",
   "execution_count": null,
   "metadata": {},
   "outputs": [],
   "source": []
  },
  {
   "cell_type": "code",
   "execution_count": null,
   "metadata": {},
   "outputs": [],
   "source": []
  },
  {
   "cell_type": "code",
   "execution_count": null,
   "metadata": {},
   "outputs": [],
   "source": []
  },
  {
   "cell_type": "markdown",
   "metadata": {},
   "source": [
    "### Deleting from a tuple "
   ]
  },
  {
   "cell_type": "code",
   "execution_count": null,
   "metadata": {},
   "outputs": [],
   "source": []
  },
  {
   "cell_type": "markdown",
   "metadata": {},
   "source": [
    "### Count occurance of an item in Tuple"
   ]
  },
  {
   "cell_type": "code",
   "execution_count": null,
   "metadata": {},
   "outputs": [],
   "source": []
  },
  {
   "cell_type": "markdown",
   "metadata": {},
   "source": [
    "### Tuple Index - Get the index position of an item"
   ]
  },
  {
   "cell_type": "code",
   "execution_count": null,
   "metadata": {},
   "outputs": [],
   "source": []
  },
  {
   "cell_type": "markdown",
   "metadata": {},
   "source": [
    "### Memebership in Tuple"
   ]
  },
  {
   "cell_type": "code",
   "execution_count": null,
   "metadata": {},
   "outputs": [],
   "source": []
  },
  {
   "cell_type": "code",
   "execution_count": null,
   "metadata": {},
   "outputs": [],
   "source": []
  },
  {
   "cell_type": "markdown",
   "metadata": {},
   "source": [
    "## Apply common built-in Functions on Tuple"
   ]
  },
  {
   "cell_type": "markdown",
   "metadata": {},
   "source": [
    "#### Lenght of a Tuple"
   ]
  },
  {
   "cell_type": "code",
   "execution_count": null,
   "metadata": {},
   "outputs": [],
   "source": []
  },
  {
   "cell_type": "markdown",
   "metadata": {},
   "source": [
    "#### Sorting in Tuple"
   ]
  },
  {
   "cell_type": "code",
   "execution_count": null,
   "metadata": {},
   "outputs": [],
   "source": []
  },
  {
   "cell_type": "code",
   "execution_count": null,
   "metadata": {},
   "outputs": [],
   "source": []
  },
  {
   "cell_type": "code",
   "execution_count": null,
   "metadata": {},
   "outputs": [],
   "source": []
  },
  {
   "cell_type": "markdown",
   "metadata": {},
   "source": [
    "# 16. Sets"
   ]
  },
  {
   "cell_type": "markdown",
   "metadata": {
    "collapsed": true
   },
   "source": [
    "<ul><li>A set is an <b>unordered</b> collection of items. Every element is <b>unique</b> (no duplicates).</li>\n",
    "<li>Set is <b>mutable</b>. We can add or remove items to a Set.</li>\n",
    "<li>Sets can be used to perform mathematical <b>set operations</b> <i>like union, intersection, symmetric difference etc</i>.</li></ul>"
   ]
  },
  {
   "cell_type": "markdown",
   "metadata": {},
   "source": [
    "### Creating a Set\n"
   ]
  },
  {
   "cell_type": "code",
   "execution_count": null,
   "metadata": {},
   "outputs": [],
   "source": []
  },
  {
   "cell_type": "code",
   "execution_count": null,
   "metadata": {},
   "outputs": [],
   "source": []
  },
  {
   "cell_type": "code",
   "execution_count": null,
   "metadata": {},
   "outputs": [],
   "source": []
  },
  {
   "cell_type": "code",
   "execution_count": null,
   "metadata": {},
   "outputs": [],
   "source": []
  },
  {
   "cell_type": "markdown",
   "metadata": {},
   "source": [
    "### Adding element to Set"
   ]
  },
  {
   "cell_type": "code",
   "execution_count": null,
   "metadata": {},
   "outputs": [],
   "source": []
  },
  {
   "cell_type": "code",
   "execution_count": null,
   "metadata": {},
   "outputs": [],
   "source": []
  },
  {
   "cell_type": "markdown",
   "metadata": {},
   "source": [
    "### Removing elements from a Set\n",
    "\n",
    "Methods\n",
    "\n",
    "- remove()    &nbsp;                     -Raises KeyError if  elem is not contained in the set.\n",
    "- discard()     &nbsp;                     -Doesn't raises KeyError\n",
    "<br/><br/>\n",
    "- pop()        &nbsp;&nbsp;&nbsp;&nbsp;&nbsp;&nbsp;&nbsp;                     -Removes a random item\n",
    "- clear()      &nbsp;&nbsp;&nbsp;&nbsp;&nbsp;                     -Delete the entire Set"
   ]
  },
  {
   "cell_type": "code",
   "execution_count": null,
   "metadata": {},
   "outputs": [],
   "source": []
  },
  {
   "cell_type": "code",
   "execution_count": null,
   "metadata": {},
   "outputs": [],
   "source": []
  },
  {
   "cell_type": "code",
   "execution_count": null,
   "metadata": {},
   "outputs": [],
   "source": []
  },
  {
   "cell_type": "code",
   "execution_count": null,
   "metadata": {},
   "outputs": [],
   "source": []
  },
  {
   "cell_type": "code",
   "execution_count": null,
   "metadata": {},
   "outputs": [],
   "source": []
  },
  {
   "cell_type": "code",
   "execution_count": null,
   "metadata": {},
   "outputs": [],
   "source": []
  },
  {
   "cell_type": "markdown",
   "metadata": {},
   "source": [
    "### Python Set Operations\n",
    "\n",
    "Operations:\n",
    "\n",
    "- union\n",
    "\n",
    "- intersection\n",
    "\n",
    "- symmetric difference\n",
    "\n",
    "- subset\n",
    "\n",
    "\n",
    "<img height=\"240\" width=\"360\" src='https://raw.githubusercontent.com/amity1415/DS/main/EKeeda/Images/EDA/set.png?token=GHSAT0AAAAAABXDSGQKMI65RGHSAHQ3Q57IYXFECHA'></img>"
   ]
  },
  {
   "cell_type": "code",
   "execution_count": null,
   "metadata": {},
   "outputs": [],
   "source": []
  },
  {
   "cell_type": "code",
   "execution_count": null,
   "metadata": {},
   "outputs": [],
   "source": []
  },
  {
   "cell_type": "code",
   "execution_count": null,
   "metadata": {},
   "outputs": [],
   "source": []
  },
  {
   "cell_type": "code",
   "execution_count": null,
   "metadata": {},
   "outputs": [],
   "source": []
  },
  {
   "cell_type": "code",
   "execution_count": null,
   "metadata": {},
   "outputs": [],
   "source": []
  },
  {
   "cell_type": "markdown",
   "metadata": {},
   "source": [
    "### Frozen Sets\n"
   ]
  },
  {
   "cell_type": "markdown",
   "metadata": {},
   "source": [
    "Like tuples are immutable lists, <b>frozen sets</b> are <b>immutable sets</b>"
   ]
  },
  {
   "cell_type": "markdown",
   "metadata": {},
   "source": [
    "Frozensets can be created using - <b>frozenset()</b>"
   ]
  },
  {
   "cell_type": "markdown",
   "metadata": {},
   "source": [
    "Sets being mutable are unhashable, so they can't be used as dictionary keys.<br/> On the other hand, frozensets are hashable and can be used as keys to a dictionary."
   ]
  },
  {
   "cell_type": "markdown",
   "metadata": {},
   "source": [
    "This datatype supports methods like <b>copy(), difference(), intersection(), isdisjoint(), issubset(), issuperset(), symmetric_difference() and union()</b>. \n",
    "\n",
    "Being immutable it does <b>not</b> have method that add or remove elements."
   ]
  },
  {
   "cell_type": "code",
   "execution_count": null,
   "metadata": {},
   "outputs": [],
   "source": []
  },
  {
   "cell_type": "code",
   "execution_count": null,
   "metadata": {},
   "outputs": [],
   "source": []
  },
  {
   "cell_type": "code",
   "execution_count": null,
   "metadata": {},
   "outputs": [],
   "source": []
  },
  {
   "cell_type": "code",
   "execution_count": null,
   "metadata": {},
   "outputs": [],
   "source": []
  },
  {
   "cell_type": "code",
   "execution_count": null,
   "metadata": {},
   "outputs": [],
   "source": []
  },
  {
   "cell_type": "markdown",
   "metadata": {},
   "source": [
    "# 17. Dictionary"
   ]
  },
  {
   "cell_type": "markdown",
   "metadata": {},
   "source": [
    "Python dictionary is an unordered collection of items.<br/>\n",
    "While other compound data types have <b>only value</b> as an element, a <u>dictionary</u> has a <b>key: value</b> pair."
   ]
  },
  {
   "cell_type": "markdown",
   "metadata": {},
   "source": [
    "### Create a Dictionary\n"
   ]
  },
  {
   "cell_type": "code",
   "execution_count": null,
   "metadata": {
    "scrolled": true
   },
   "outputs": [],
   "source": []
  },
  {
   "cell_type": "markdown",
   "metadata": {},
   "source": [
    "### Dict Access"
   ]
  },
  {
   "cell_type": "code",
   "execution_count": null,
   "metadata": {},
   "outputs": [],
   "source": []
  },
  {
   "cell_type": "code",
   "execution_count": null,
   "metadata": {},
   "outputs": [],
   "source": []
  },
  {
   "cell_type": "code",
   "execution_count": null,
   "metadata": {},
   "outputs": [],
   "source": []
  },
  {
   "cell_type": "code",
   "execution_count": null,
   "metadata": {},
   "outputs": [],
   "source": []
  },
  {
   "cell_type": "markdown",
   "metadata": {},
   "source": [
    "### Add or Modify  Elements in a Dictionary\n"
   ]
  },
  {
   "cell_type": "code",
   "execution_count": null,
   "metadata": {},
   "outputs": [],
   "source": []
  },
  {
   "cell_type": "code",
   "execution_count": null,
   "metadata": {},
   "outputs": [],
   "source": []
  },
  {
   "cell_type": "markdown",
   "metadata": {},
   "source": [
    "### Delete or Remove Element in a Dictionary"
   ]
  },
  {
   "cell_type": "code",
   "execution_count": null,
   "metadata": {},
   "outputs": [],
   "source": []
  },
  {
   "cell_type": "code",
   "execution_count": null,
   "metadata": {},
   "outputs": [],
   "source": []
  },
  {
   "cell_type": "code",
   "execution_count": null,
   "metadata": {},
   "outputs": [],
   "source": []
  },
  {
   "cell_type": "code",
   "execution_count": null,
   "metadata": {},
   "outputs": [],
   "source": []
  },
  {
   "cell_type": "markdown",
   "metadata": {},
   "source": [
    "### Dictionary Methods"
   ]
  },
  {
   "cell_type": "code",
   "execution_count": null,
   "metadata": {},
   "outputs": [],
   "source": []
  },
  {
   "cell_type": "code",
   "execution_count": null,
   "metadata": {},
   "outputs": [],
   "source": []
  },
  {
   "cell_type": "code",
   "execution_count": null,
   "metadata": {},
   "outputs": [],
   "source": []
  },
  {
   "cell_type": "code",
   "execution_count": null,
   "metadata": {},
   "outputs": [],
   "source": []
  },
  {
   "cell_type": "code",
   "execution_count": null,
   "metadata": {},
   "outputs": [],
   "source": []
  },
  {
   "cell_type": "markdown",
   "metadata": {},
   "source": [
    "### Comprehension in Dictionary"
   ]
  },
  {
   "cell_type": "code",
   "execution_count": null,
   "metadata": {},
   "outputs": [],
   "source": []
  },
  {
   "cell_type": "code",
   "execution_count": null,
   "metadata": {},
   "outputs": [],
   "source": []
  },
  {
   "cell_type": "code",
   "execution_count": null,
   "metadata": {},
   "outputs": [],
   "source": []
  },
  {
   "cell_type": "markdown",
   "metadata": {},
   "source": [
    "# 18. Strings\n"
   ]
  },
  {
   "cell_type": "markdown",
   "metadata": {
    "collapsed": true
   },
   "source": [
    "A string is a <b>sequence of characters</b>.\n",
    "\n",
    "Computers do not deal with characters, they deal with numbers (binary). Even though you may see characters on your screen, internally it is stored and manipulated as a combination of 0's and 1's.\n",
    "\n",
    "This conversion of character to a number is called encoding, and the reverse process is decoding. <a href='https://docs.python.org/3.3/howto/unicode.html'>ASCII and Unicode</a> are some of the popular encoding used.\n",
    "\n",
    "In Python, string is a sequence of Unicode character."
   ]
  },
  {
   "cell_type": "markdown",
   "metadata": {},
   "source": [
    "### Create a String"
   ]
  },
  {
   "cell_type": "markdown",
   "metadata": {},
   "source": [
    "- By enclosing characters inside a single quote or double quotes. \n",
    "\n",
    "- triple quotes can be used in Python but generally used to represent multiline strings and docstrings.\n"
   ]
  },
  {
   "cell_type": "code",
   "execution_count": null,
   "metadata": {},
   "outputs": [],
   "source": []
  },
  {
   "cell_type": "markdown",
   "metadata": {},
   "source": [
    "### Access characters in a String"
   ]
  },
  {
   "cell_type": "markdown",
   "metadata": {
    "collapsed": true
   },
   "source": [
    "- Access individual characters using indexing and a range of characters using slicing.\n",
    "\n",
    "- Index starts from 0. \n",
    "\n",
    "- Trying to access a character out of index range will raise an IndexError. \n",
    "\n",
    "- The index must be an integer. We can't use float or other types, this will result into TypeError.\n",
    "\n",
    "- Python allows negative indexing for its sequences."
   ]
  },
  {
   "cell_type": "code",
   "execution_count": null,
   "metadata": {},
   "outputs": [],
   "source": []
  },
  {
   "cell_type": "markdown",
   "metadata": {},
   "source": [
    "If we try to access index out of the range or use decimal number, we will get errors."
   ]
  },
  {
   "cell_type": "code",
   "execution_count": null,
   "metadata": {},
   "outputs": [],
   "source": []
  },
  {
   "cell_type": "code",
   "execution_count": null,
   "metadata": {},
   "outputs": [],
   "source": []
  },
  {
   "cell_type": "markdown",
   "metadata": {},
   "source": [
    "### Change or delete a String"
   ]
  },
  {
   "cell_type": "markdown",
   "metadata": {},
   "source": [
    "Strings are immutable. This means that elements of a string cannot be changed once it has been assigned. \n",
    "\n",
    "We can simply reassign different strings to the same name."
   ]
  },
  {
   "cell_type": "code",
   "execution_count": null,
   "metadata": {},
   "outputs": [],
   "source": []
  },
  {
   "cell_type": "code",
   "execution_count": null,
   "metadata": {},
   "outputs": [],
   "source": []
  },
  {
   "cell_type": "code",
   "execution_count": null,
   "metadata": {},
   "outputs": [],
   "source": []
  },
  {
   "cell_type": "markdown",
   "metadata": {},
   "source": [
    "## String Operations"
   ]
  },
  {
   "cell_type": "markdown",
   "metadata": {},
   "source": [
    "### Concatenation"
   ]
  },
  {
   "cell_type": "markdown",
   "metadata": {},
   "source": [
    "Joining of two or more strings into a single one is called concatenation.\n",
    "\n",
    "- The <b>+</b> operator does this in Python. Simply writing two string literals together also concatenates them.\n",
    "\n",
    "- The <b>*</b> operator can be used to repeat the string for a given number of times."
   ]
  },
  {
   "cell_type": "code",
   "execution_count": null,
   "metadata": {},
   "outputs": [],
   "source": []
  },
  {
   "cell_type": "code",
   "execution_count": null,
   "metadata": {},
   "outputs": [],
   "source": []
  },
  {
   "cell_type": "markdown",
   "metadata": {},
   "source": [
    "### String Membership Test"
   ]
  },
  {
   "cell_type": "code",
   "execution_count": null,
   "metadata": {},
   "outputs": [],
   "source": []
  },
  {
   "cell_type": "code",
   "execution_count": null,
   "metadata": {},
   "outputs": [],
   "source": []
  },
  {
   "cell_type": "markdown",
   "metadata": {},
   "source": [
    "### String Methods"
   ]
  },
  {
   "cell_type": "markdown",
   "metadata": {},
   "source": [
    "Some of the commonly used methods are<br/> \n",
    "<b>lower(), upper(), join(), split(), find(), replace() </b>etc"
   ]
  },
  {
   "cell_type": "code",
   "execution_count": null,
   "metadata": {},
   "outputs": [],
   "source": []
  },
  {
   "cell_type": "code",
   "execution_count": null,
   "metadata": {},
   "outputs": [],
   "source": []
  },
  {
   "cell_type": "code",
   "execution_count": null,
   "metadata": {},
   "outputs": [],
   "source": []
  },
  {
   "cell_type": "code",
   "execution_count": null,
   "metadata": {},
   "outputs": [],
   "source": []
  },
  {
   "cell_type": "code",
   "execution_count": null,
   "metadata": {},
   "outputs": [],
   "source": []
  },
  {
   "cell_type": "code",
   "execution_count": null,
   "metadata": {},
   "outputs": [],
   "source": []
  },
  {
   "cell_type": "markdown",
   "metadata": {},
   "source": [
    "# Python Program to Check where a String is Palindrome or not ?\n"
   ]
  },
  {
   "cell_type": "code",
   "execution_count": null,
   "metadata": {},
   "outputs": [],
   "source": []
  }
 ],
 "metadata": {
  "kernelspec": {
   "display_name": "Python 3.9.12 ('base')",
   "language": "python",
   "name": "python3"
  },
  "language_info": {
   "codemirror_mode": {
    "name": "ipython",
    "version": 3
   },
   "file_extension": ".py",
   "mimetype": "text/x-python",
   "name": "python",
   "nbconvert_exporter": "python",
   "pygments_lexer": "ipython3",
   "version": "3.9.12"
  },
  "vscode": {
   "interpreter": {
    "hash": "0b79ffa2a2d26b40aaea86131b88fa614e7cd2d4710efd09459291523b197237"
   }
  }
 },
 "nbformat": 4,
 "nbformat_minor": 2
}
