{
 "cells": [
  {
   "cell_type": "markdown",
   "metadata": {},
   "source": [
    "# <center>Python Basics<center/> \n",
    "<img height=\"60\" width=\"120\" src=\"https://www.python.org/static/img/python-logo-large.png?1414305901\"></img>"
   ]
  },
  {
   "cell_type": "markdown",
   "metadata": {},
   "source": [
    "# Table of contents\n",
    "<br/>\n",
    "<a href = \"#9.-Python-Output\">09. Python Output</a><br/>\n",
    "<a href = \"#10.-Output-Formatting\">10. Output Formatting</a><br/>\n",
    "<a href = \"#11.-Python-Input\">11. Python Input</a>"
   ]
  },
  {
   "cell_type": "markdown",
   "metadata": {},
   "source": [
    "# Python I/O functions"
   ]
  },
  {
   "cell_type": "markdown",
   "metadata": {},
   "source": [
    "# 9. Python Output"
   ]
  },
  {
   "cell_type": "markdown",
   "metadata": {},
   "source": [
    "To see the output on the screen(standard output device), use the <b>print()</b> function "
   ]
  },
  {
   "cell_type": "code",
   "execution_count": 1,
   "metadata": {},
   "outputs": [
    {
     "name": "stdout",
     "output_type": "stream",
     "text": [
      " The output will be displayed on the screen\n"
     ]
    }
   ],
   "source": [
    "print(\" The output will be displayed on the screen\")"
   ]
  },
  {
   "cell_type": "code",
   "execution_count": 3,
   "metadata": {},
   "outputs": [
    {
     "name": "stdout",
     "output_type": "stream",
     "text": [
      "The value of myInt is:  500\n",
      "The value of myInt is:  500\n"
     ]
    }
   ],
   "source": [
    "myInt = 500\n",
    "print(\"The value of myInt is: \",myInt)\n",
    "print(\"The value of myInt is: \",str(myInt))"
   ]
  },
  {
   "cell_type": "markdown",
   "metadata": {},
   "source": [
    "# 10. Output Formatting"
   ]
  },
  {
   "cell_type": "markdown",
   "metadata": {},
   "source": [
    "To make the output look attractive<br/> \n",
    "we use the <b> str.format() </b> method.<br/> \n",
    "This method is visible to any string object."
   ]
  },
  {
   "cell_type": "code",
   "execution_count": 5,
   "metadata": {},
   "outputs": [
    {
     "name": "stdout",
     "output_type": "stream",
     "text": [
      "myInt1 is: 20 value and myInt2 is: 30 value \n"
     ]
    }
   ],
   "source": [
    "myInt1= 20\n",
    "myInt2= 30\n",
    "print(\"myInt1 is: {} value and myInt2 is: {} value \".format(myInt1, myInt2))"
   ]
  },
  {
   "cell_type": "code",
   "execution_count": 6,
   "metadata": {},
   "outputs": [
    {
     "name": "stdout",
     "output_type": "stream",
     "text": [
      "myInt1 is: 40 value and myInt2 is: 80 value \n"
     ]
    }
   ],
   "source": [
    "myInt1= 40\n",
    "myInt2= 80\n",
    "print(\"myInt1 is: {0} value and myInt2 is: {1} value \".format(myInt1, myInt2))"
   ]
  },
  {
   "cell_type": "code",
   "execution_count": 12,
   "metadata": {},
   "outputs": [
    {
     "name": "stdout",
     "output_type": "stream",
     "text": [
      "myInt1 is: 80 value and myInt2 is: 90 value \n"
     ]
    }
   ],
   "source": [
    "myInt1= 40\n",
    "myInt2= 80\n",
    "myInt3= 90\n",
    "print(\"myInt1 is: {1} value and myInt2 is: {2} value \".format(myInt1, myInt2,myInt3))"
   ]
  },
  {
   "cell_type": "code",
   "execution_count": 13,
   "metadata": {},
   "outputs": [
    {
     "name": "stdout",
     "output_type": "stream",
     "text": [
      "myInt1 is: 40 value and myInt2 is: 80 value and we are learning Python \n"
     ]
    }
   ],
   "source": [
    "print(\"myInt1 is: {0} value and myInt2 is: {1} value and we are learning {Subject} \".format(myInt1, myInt2,Subject='Python'))"
   ]
  },
  {
   "cell_type": "code",
   "execution_count": 14,
   "metadata": {},
   "outputs": [
    {
     "ename": "IndexError",
     "evalue": "Replacement index 2 out of range for positional args tuple",
     "output_type": "error",
     "traceback": [
      "\u001b[1;31m---------------------------------------------------------------------------\u001b[0m",
      "\u001b[1;31mIndexError\u001b[0m                                Traceback (most recent call last)",
      "Input \u001b[1;32mIn [14]\u001b[0m, in \u001b[0;36m<cell line: 1>\u001b[1;34m()\u001b[0m\n\u001b[1;32m----> 1\u001b[0m \u001b[38;5;28mprint\u001b[39m(\u001b[38;5;124;43m\"\u001b[39;49m\u001b[38;5;124;43mmyInt1 is: \u001b[39;49m\u001b[38;5;132;43;01m{0}\u001b[39;49;00m\u001b[38;5;124;43m value and myInt2 is: \u001b[39;49m\u001b[38;5;132;43;01m{1}\u001b[39;49;00m\u001b[38;5;124;43m value and we are learning \u001b[39;49m\u001b[38;5;132;43;01m{2}\u001b[39;49;00m\u001b[38;5;124;43m \u001b[39;49m\u001b[38;5;124;43m\"\u001b[39;49m\u001b[38;5;241;43m.\u001b[39;49m\u001b[43mformat\u001b[49m\u001b[43m(\u001b[49m\u001b[43mmyInt1\u001b[49m\u001b[43m,\u001b[49m\u001b[43m \u001b[49m\u001b[43mmyInt2\u001b[49m\u001b[43m,\u001b[49m\u001b[43mSubject\u001b[49m\u001b[38;5;241;43m=\u001b[39;49m\u001b[38;5;124;43m'\u001b[39;49m\u001b[38;5;124;43mPython\u001b[39;49m\u001b[38;5;124;43m'\u001b[39;49m\u001b[43m)\u001b[49m)\n",
      "\u001b[1;31mIndexError\u001b[0m: Replacement index 2 out of range for positional args tuple"
     ]
    }
   ],
   "source": [
    "print(\"myInt1 is: {0} value and myInt2 is: {1} value and we are learning {2} \".format(myInt1, myInt2,Subject='Python'))"
   ]
  },
  {
   "cell_type": "markdown",
   "metadata": {},
   "source": [
    "Refer documentation for more examples: https://docs.python.org/3.4/library/string.html#format-examples"
   ]
  },
  {
   "cell_type": "code",
   "execution_count": 18,
   "metadata": {},
   "outputs": [
    {
     "name": "stdout",
     "output_type": "stream",
     "text": [
      "The 1st value is: 3.14 and the 2nd value is -3.14\n",
      "The 1st value is: +3.140000 and the 2nd value is -3.140000\n"
     ]
    }
   ],
   "source": [
    "print(\"The 1st value is: {} and the 2nd value is {}\".format(3.14, -3.14))\n",
    "print(\"The 1st value is: {:+f} and the 2nd value is {:+f}\".format(3.14, -3.14))"
   ]
  },
  {
   "cell_type": "markdown",
   "metadata": {},
   "source": [
    "# 11. Python Input"
   ]
  },
  {
   "cell_type": "markdown",
   "metadata": {},
   "source": [
    "User inputs can be taken in Python by using the input() function. "
   ]
  },
  {
   "cell_type": "code",
   "execution_count": 23,
   "metadata": {},
   "outputs": [
    {
     "name": "stdout",
     "output_type": "stream",
     "text": [
      "PLease enter some data:!!!This is my 3rd user Input\n",
      "The user input is as follows:  This is my 3rd user Input\n"
     ]
    }
   ],
   "source": [
    "userInput = input(\"PLease enter some data:!!!\")\n",
    "print(\"The user input is as follows: \", userInput)\n"
   ]
  },
  {
   "cell_type": "code",
   "execution_count": 28,
   "metadata": {},
   "outputs": [
    {
     "name": "stdout",
     "output_type": "stream",
     "text": [
      "PLease enter some data:!!!10\n",
      "The user input is as follows:  10\n",
      "The user Input type is:  <class 'str'>\n"
     ]
    }
   ],
   "source": [
    "userInput = input(\"PLease enter some data:!!!\")## By default the input type is string\n",
    "print(\"The user input is as follows: \", userInput)\n",
    "print(\"The user Input type is: \", type(userInput))"
   ]
  },
  {
   "cell_type": "code",
   "execution_count": 29,
   "metadata": {},
   "outputs": [
    {
     "name": "stdout",
     "output_type": "stream",
     "text": [
      "PLease enter some data:!!!10\n",
      "classStringth value is :  10\n",
      "classStringth variable type is :  <class 'int'>\n"
     ]
    }
   ],
   "source": [
    "userInput = input(\"PLease enter some data:!!!\")\n",
    "classStrength = int(userInput)\n",
    "print(\"classStringth value is : \", classStrength)\n",
    "print(\"classStringth variable type is : \", type(classStrength))"
   ]
  },
  {
   "cell_type": "code",
   "execution_count": null,
   "metadata": {},
   "outputs": [],
   "source": []
  }
 ],
 "metadata": {
  "kernelspec": {
   "display_name": "Python 3 (ipykernel)",
   "language": "python",
   "name": "python3"
  },
  "language_info": {
   "codemirror_mode": {
    "name": "ipython",
    "version": 3
   },
   "file_extension": ".py",
   "mimetype": "text/x-python",
   "name": "python",
   "nbconvert_exporter": "python",
   "pygments_lexer": "ipython3",
   "version": "3.9.12"
  }
 },
 "nbformat": 4,
 "nbformat_minor": 2
}
