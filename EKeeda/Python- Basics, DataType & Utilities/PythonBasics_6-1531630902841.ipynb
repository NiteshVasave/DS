{
 "cells": [
  {
   "cell_type": "markdown",
   "metadata": {},
   "source": [
    "# <center>Python Basics<center/> \n",
    "<img height=\"60\" width=\"120\" src=\"https://www.python.org/static/img/python-logo-large.png?1414305901\"></img>"
   ]
  },
  {
   "cell_type": "markdown",
   "metadata": {},
   "source": [
    "# Table of contents\n",
    "<br/>\n",
    "<a href = \"#19.-Functions-&-its-types\">19. What are Functions</a><br/>\n",
    "<a href = \"#20.-What-are-the-types-of-Functions\">20. What are the types of Functions</a><br/>\n",
    "<a href = \"#21.-Arguments-in-a-function\">21. Arguments in a function</a><br/>\n",
    "<a href = \"#22.-Recursive-functions\">22. Recursive functions</a><br/>\n",
    "<a href = \"#23.-Lambda-or-Anonymous-Functions\">23. Lambda or Anonymous Functions</a>"
   ]
  },
  {
   "cell_type": "markdown",
   "metadata": {},
   "source": [
    "# 19. What are Functions"
   ]
  },
  {
   "cell_type": "markdown",
   "metadata": {},
   "source": [
    "A group of related statements that perform a specific task is called as a <b>Function</b>."
   ]
  },
  {
   "cell_type": "markdown",
   "metadata": {},
   "source": [
    "Functions help,\n",
    "\n",
    "1> Modularize the code<br/>\n",
    "2> Organized and easy to maintain<br/>\n",
    "3> Repetitive code can be avoided by putting up in a function<br/>"
   ]
  },
  {
   "cell_type": "markdown",
   "metadata": {},
   "source": [
    "# Syntax:"
   ]
  },
  {
   "cell_type": "markdown",
   "metadata": {},
   "source": [
    "    def function_name(arguments):\n",
    "    \n",
    "        \"\"\"\n",
    "        Doc String\n",
    "        \"\"\"\n",
    "    \n",
    "        Statement(s)"
   ]
  },
  {
   "cell_type": "markdown",
   "metadata": {},
   "source": [
    "#def func(argument):\n",
    "    ##Implementing the code1 \\n\n",
    "    ##Implementing the code2 \\n\n",
    "   value=argument\n",
    "    return value\n",
    "\n",
    "\n",
    "args=\"THis is Python class\"\n",
    "#print(func(args))\n",
    "value1 =func(args)\n",
    "print(value1) # value returned from func function is printed"
   ]
  },
  {
   "cell_type": "markdown",
   "metadata": {},
   "source": [
    "1. \"def\" keyword notifies the start of function header\n",
    "\n",
    "2. Arguments (parameters) through which we pass values to a function. These are optional\n",
    "\n",
    "3. A colon(:) to mark the end of funciton header\n",
    "\n",
    "4. Doc string describe what the function does. This is optional\n",
    "\n",
    "5. \"return\" statement to return a value from the function. This is optional"
   ]
  },
  {
   "cell_type": "markdown",
   "metadata": {},
   "source": [
    "# Example:"
   ]
  },
  {
   "cell_type": "code",
   "execution_count": 4,
   "metadata": {},
   "outputs": [
    {
     "name": "stdout",
     "output_type": "stream",
     "text": [
      "Hello  world\n"
     ]
    }
   ],
   "source": [
    "def hello_world(value):\n",
    "    \"\"\"\n",
    "    This Function prints Hello World\n",
    "    \"\"\"\n",
    "    print(\"Hello \",str(value))\n",
    "    \n",
    "hello_world(\"world\")"
   ]
  },
  {
   "cell_type": "code",
   "execution_count": 7,
   "metadata": {},
   "outputs": [],
   "source": [
    "def hello_world(value):\n",
    "    \"\"\"\n",
    "    This Function prints Hello World\n",
    "    \"\"\"\n",
    "    return 'Hello '+ str(value)\n",
    "    \n"
   ]
  },
  {
   "cell_type": "markdown",
   "metadata": {},
   "source": [
    "# Function Call"
   ]
  },
  {
   "cell_type": "markdown",
   "metadata": {},
   "source": [
    "Once we have defined a function, we can call it from anywhere"
   ]
  },
  {
   "cell_type": "code",
   "execution_count": 8,
   "metadata": {},
   "outputs": [
    {
     "name": "stdout",
     "output_type": "stream",
     "text": [
      "Hello world\n"
     ]
    }
   ],
   "source": [
    "retVal = hello_world(\"world\")\n",
    "print(retVal)"
   ]
  },
  {
   "cell_type": "markdown",
   "metadata": {
    "collapsed": true
   },
   "source": [
    "# Doc String"
   ]
  },
  {
   "cell_type": "markdown",
   "metadata": {},
   "source": [
    "Docstring or short for documentation string is the first string after the function header that speaks about the function.<br/>\n",
    "Documentation(though optional) is a good programming practice and it is advisable that one always documents code<br/>\n",
    "It is surrounded by triple quotes so that it can extend up to multiple lines<br/>"
   ]
  },
  {
   "cell_type": "code",
   "execution_count": 10,
   "metadata": {},
   "outputs": [
    {
     "name": "stdout",
     "output_type": "stream",
     "text": [
      "\n",
      "    This Function prints Hello World\n",
      "    \n"
     ]
    }
   ],
   "source": [
    "print(hello_world.__doc__)"
   ]
  },
  {
   "cell_type": "markdown",
   "metadata": {},
   "source": [
    "# return Statement"
   ]
  },
  {
   "cell_type": "markdown",
   "metadata": {},
   "source": [
    "The return statement is used to exit a function and go back to the place from where it was called."
   ]
  },
  {
   "cell_type": "markdown",
   "metadata": {},
   "source": [
    "Syntax:\n",
    "    \n",
    "    return [expression]"
   ]
  },
  {
   "cell_type": "markdown",
   "metadata": {},
   "source": [
    "- The return statement can contain an expression which gets evaluated and the value is returned.\n",
    "\n",
    "- For no expression in the statement or the return statement itself is not present inside a function, then the function returns <b>None</b> Object"
   ]
  },
  {
   "cell_type": "code",
   "execution_count": null,
   "metadata": {},
   "outputs": [],
   "source": [
    "def sum(numbers):\n",
    "    \"\"\"\n",
    "    This function returns the sum of all the numbers in a list\n",
    "    \"\"\"\n",
    "    sun = 0\n",
    "    for num in numbers:\n",
    "        sum+=number\n",
    "        return sum"
   ]
  },
  {
   "cell_type": "code",
   "execution_count": 12,
   "metadata": {},
   "outputs": [
    {
     "name": "stdout",
     "output_type": "stream",
     "text": [
      "12\n"
     ]
    }
   ],
   "source": [
    "sumOfNumber = sum([2,4,6])\n",
    "print(sumOfNumber)\n"
   ]
  },
  {
   "cell_type": "code",
   "execution_count": null,
   "metadata": {},
   "outputs": [],
   "source": []
  },
  {
   "cell_type": "markdown",
   "metadata": {},
   "source": [
    "# How Function works in Python?"
   ]
  },
  {
   "cell_type": "markdown",
   "metadata": {},
   "source": [
    "<img height=\"200\" width=\"240\" src=\"https://raw.githubusercontent.com/amity1415/DS/main/EKeeda/Images/EDA/how-function-works..png?token=GHSAT0AAAAAABXHPOZ54P5E6VJZURZXV63EYXONNRA\"></img>"
   ]
  },
  {
   "cell_type": "markdown",
   "metadata": {},
   "source": [
    "# Scope and Lifetime of Variables"
   ]
  },
  {
   "cell_type": "markdown",
   "metadata": {},
   "source": [
    "- <b>Scope</b> of a variable is the part of a program where the variable is recognized\n",
    "\n",
    "- Variables defined inside a function have a local scope and are not visible outside the function\n",
    "\n",
    "- <b>Lifetime</b> of a variable is the period throughout which the variable exits in the memory. \n",
    "\n",
    "- The lifetime of variables inside a function is as long as the function executes.\n",
    "\n",
    "- Variables are destroyed once we return from the function. "
   ]
  },
  {
   "cell_type": "markdown",
   "metadata": {},
   "source": [
    "# Example:"
   ]
  },
  {
   "cell_type": "code",
   "execution_count": 15,
   "metadata": {},
   "outputs": [
    {
     "name": "stdout",
     "output_type": "stream",
     "text": [
      "Inside the function block:   This is a local variable\n",
      "Inside the function block:  I am a global Variable\n",
      "Outside:  I am a global Variable\n"
     ]
    },
    {
     "ename": "NameError",
     "evalue": "name 'localVariable' is not defined",
     "output_type": "error",
     "traceback": [
      "\u001b[1;31m---------------------------------------------------------------------------\u001b[0m",
      "\u001b[1;31mNameError\u001b[0m                                 Traceback (most recent call last)",
      "Input \u001b[1;32mIn [15]\u001b[0m, in \u001b[0;36m<cell line: 15>\u001b[1;34m()\u001b[0m\n\u001b[0;32m     12\u001b[0m checkLifeTime()\n\u001b[0;32m     14\u001b[0m \u001b[38;5;28mprint\u001b[39m( \u001b[38;5;124m\"\u001b[39m\u001b[38;5;124mOutside: \u001b[39m\u001b[38;5;124m\"\u001b[39m, globalVariable)\n\u001b[1;32m---> 15\u001b[0m \u001b[38;5;28mprint\u001b[39m( \u001b[38;5;124m\"\u001b[39m\u001b[38;5;124mOutside: \u001b[39m\u001b[38;5;124m\"\u001b[39m, \u001b[43mlocalVariable\u001b[49m)\n",
      "\u001b[1;31mNameError\u001b[0m: name 'localVariable' is not defined"
     ]
    }
   ],
   "source": [
    "globalVariable = \"I am a global Variable\"\n",
    "\n",
    "def checkLifeTime():\n",
    "    \"\"\"\n",
    "    This is a function to check lifetime of a variable\n",
    "    \"\"\"\n",
    "    localVariable = \" This is a local variable\"\n",
    "    \n",
    "    print(\"Inside the function block: \",localVariable) # Prints Local Variable\n",
    "    print(\"Inside the function block: \",globalVariable)#Prints Global Variable\n",
    "\n",
    "checkLifeTime()\n",
    "\n",
    "print( \"Outside: \", globalVariable)\n",
    "print( \"Outside: \", localVariable)\n",
    "\n",
    "    "
   ]
  },
  {
   "cell_type": "markdown",
   "metadata": {},
   "source": [
    "# Python program to print Factorial of a number"
   ]
  },
  {
   "cell_type": "code",
   "execution_count": null,
   "metadata": {},
   "outputs": [],
   "source": [
    "##Assignment :: Implement the programe to find factorial of a Number using Function.\n",
    "    "
   ]
  },
  {
   "cell_type": "markdown",
   "metadata": {},
   "source": [
    "# 20. What are the types of Functions"
   ]
  },
  {
   "cell_type": "markdown",
   "metadata": {},
   "source": [
    "1. Built-in Functions\n",
    "\n",
    "2. User-defined Functions"
   ]
  },
  {
   "cell_type": "markdown",
   "metadata": {},
   "source": [
    "# Built-in Functions"
   ]
  },
  {
   "cell_type": "markdown",
   "metadata": {},
   "source": [
    "# 1. abs()"
   ]
  },
  {
   "cell_type": "code",
   "execution_count": 16,
   "metadata": {},
   "outputs": [
    {
     "name": "stdout",
     "output_type": "stream",
     "text": [
      "100\n"
     ]
    }
   ],
   "source": [
    "number = -100\n",
    "print(abs(number))"
   ]
  },
  {
   "cell_type": "markdown",
   "metadata": {},
   "source": [
    "# 2. all()"
   ]
  },
  {
   "cell_type": "markdown",
   "metadata": {},
   "source": [
    "The function all() retruns,\n",
    "\n",
    "True: If all elements in an iterable data collection are true\n",
    "\n",
    "False: If any element in an iterable data collection is false (Remember 0 & None are considered False)"
   ]
  },
  {
   "cell_type": "code",
   "execution_count": 19,
   "metadata": {},
   "outputs": [
    {
     "name": "stdout",
     "output_type": "stream",
     "text": [
      "True\n"
     ]
    }
   ],
   "source": [
    "mySet = {10,20,30,50,} # 0 and None are considered false.\n",
    "print(all(mySet))\n",
    "\n"
   ]
  },
  {
   "cell_type": "code",
   "execution_count": 20,
   "metadata": {},
   "outputs": [
    {
     "name": "stdout",
     "output_type": "stream",
     "text": [
      "False\n"
     ]
    }
   ],
   "source": [
    "myTuple = (0,10,20,30) # 0 is the part of the tuple and hence false\n",
    "print(all(myTuple))"
   ]
  },
  {
   "cell_type": "code",
   "execution_count": 21,
   "metadata": {},
   "outputs": [
    {
     "name": "stdout",
     "output_type": "stream",
     "text": [
      "True\n"
     ]
    }
   ],
   "source": [
    "emptyList =[] #An empty list returns true for 'all' function\n",
    "print(all(emptyList))"
   ]
  },
  {
   "cell_type": "code",
   "execution_count": 22,
   "metadata": {},
   "outputs": [
    {
     "name": "stdout",
     "output_type": "stream",
     "text": [
      "False\n"
     ]
    }
   ],
   "source": [
    "myList = [False, 1,2]\n",
    "print(all(myList))"
   ]
  },
  {
   "cell_type": "markdown",
   "metadata": {},
   "source": [
    "# dir()"
   ]
  },
  {
   "cell_type": "markdown",
   "metadata": {},
   "source": [
    "The dir() tries to return a <b>list of valid attributes</b> of the object.\n",
    "\n",
    "If the object has __dir__() <u>method</u>, the method will be called and must return the list of attributes.\n",
    "\n",
    "If the object doesn't have __dir()__ method, this method tries to find information from the __dict__ <u>attribute</u> (if defined), and from type object. In this case, the list returned from dir() may not be complete.\n"
   ]
  },
  {
   "cell_type": "code",
   "execution_count": 23,
   "metadata": {},
   "outputs": [
    {
     "name": "stdout",
     "output_type": "stream",
     "text": [
      "['__add__', '__class__', '__class_getitem__', '__contains__', '__delattr__', '__delitem__', '__dir__', '__doc__', '__eq__', '__format__', '__ge__', '__getattribute__', '__getitem__', '__gt__', '__hash__', '__iadd__', '__imul__', '__init__', '__init_subclass__', '__iter__', '__le__', '__len__', '__lt__', '__mul__', '__ne__', '__new__', '__reduce__', '__reduce_ex__', '__repr__', '__reversed__', '__rmul__', '__setattr__', '__setitem__', '__sizeof__', '__str__', '__subclasshook__', 'append', 'clear', 'copy', 'count', 'extend', 'index', 'insert', 'pop', 'remove', 'reverse', 'sort']\n"
     ]
    }
   ],
   "source": [
    "numbers = [1,2,3]\n",
    "print(dir(numbers))"
   ]
  },
  {
   "cell_type": "markdown",
   "metadata": {},
   "source": [
    "# divmod()"
   ]
  },
  {
   "cell_type": "markdown",
   "metadata": {},
   "source": [
    "The divmod() method takes two numbers and returns a pair of numbers (a tuple) consisting of their quotient and remainder."
   ]
  },
  {
   "cell_type": "code",
   "execution_count": 25,
   "metadata": {},
   "outputs": [
    {
     "name": "stdout",
     "output_type": "stream",
     "text": [
      "(4, 1)\n",
      "<class 'tuple'>\n"
     ]
    }
   ],
   "source": [
    "print(divmod(9,2))  # quotient and remainder > (4 ,1) , // floor division is Quotient, % modulo > remainder\n",
    "print(type(divmod(9,2)))"
   ]
  },
  {
   "cell_type": "markdown",
   "metadata": {},
   "source": [
    "# enumerate()"
   ]
  },
  {
   "cell_type": "markdown",
   "metadata": {},
   "source": [
    "enumerate() method adds counter to an iterable data collection & returns it \n",
    "\n",
    "<b>Syntax</b>: enumerate(iterable, start=0)\n",
    "\n",
    "The enumerate() method takes two parameters:\n",
    "\n",
    "- iterable - a sequence, an iterator, or objects that supports iteration\n",
    "- start (optional) - enumerate() starts counting from this number. If start is omitted, 0 is taken as start."
   ]
  },
  {
   "cell_type": "code",
   "execution_count": 27,
   "metadata": {},
   "outputs": [
    {
     "name": "stdout",
     "output_type": "stream",
     "text": [
      "index 0 has value 1\n",
      "index 1 has value 2\n",
      "index 2 has value 3\n",
      "index 3 has value 4\n"
     ]
    }
   ],
   "source": [
    "numbers=[1,2,3,4]\n",
    "for  index, num in enumerate(numbers, 0 ):\n",
    "    print(\"index {0} has value {1}\".format(index,num))"
   ]
  },
  {
   "cell_type": "markdown",
   "metadata": {},
   "source": [
    "# filter()"
   ]
  },
  {
   "cell_type": "markdown",
   "metadata": {},
   "source": [
    "The filter() method constructs an iterator from elements of an iterable for which a function returns true."
   ]
  },
  {
   "cell_type": "markdown",
   "metadata": {},
   "source": [
    "<b>Syntax</b>: filter(function, iterable)\n",
    "\n",
    "The filter() method takes two parameters:\n",
    "\n",
    "- function - function that tests if elements of an iterable returns true or false\n",
    "If <b>None</b>, the function defaults to <b>Identity function</b> - which returns false if any elements are false\n",
    "- iterable - iterable which is to be filtered, could be sets, lists, tuples, or containers of any iterators"
   ]
  },
  {
   "cell_type": "code",
   "execution_count": 34,
   "metadata": {},
   "outputs": [],
   "source": [
    "## Define our function\n",
    "\n",
    "def even_number(number):\n",
    "    \"\"\"\n",
    "    This function returns true if a number is an even number greater than 10\n",
    "    \"\"\"\n",
    "    if number%2==0 and number>10:\n",
    "        return number"
   ]
  },
  {
   "cell_type": "code",
   "execution_count": 35,
   "metadata": {},
   "outputs": [
    {
     "name": "stdout",
     "output_type": "stream",
     "text": [
      "Original list of Numbers:  [0, 1, 2, 3, 4, 5, 6, 7, 8, 9, 10, 11, 12, 13, 14, 15, 16, 17, 18, 19, 20, 21, 22, 23, 24, 25, 26, 27, 28, 29, 30, 31, 32, 33, 34, 35, 36, 37, 38, 39, 40, 41, 42, 43, 44, 45, 46, 47, 48, 49]\n",
      "\n",
      "Even Numbers are: [12, 14, 16, 18, 20, 22, 24, 26, 28, 30, 32, 34, 36, 38, 40, 42, 44, 46, 48]\n"
     ]
    }
   ],
   "source": [
    "numbers = range(50) # A list with numbers from 0 to 49\n",
    "print('Original list of Numbers: ', list(numbers))\n",
    "\n",
    "evenNumbers = list(filter(even_number, numbers))\n",
    "print('\\nEven Numbers are:', evenNumbers)"
   ]
  },
  {
   "cell_type": "markdown",
   "metadata": {},
   "source": [
    "# isinstance()"
   ]
  },
  {
   "cell_type": "markdown",
   "metadata": {},
   "source": [
    "The isinstance() function checks if the object (first argument) is an instance or subclass of classinfo class (second argument)."
   ]
  },
  {
   "cell_type": "markdown",
   "metadata": {},
   "source": [
    "<b>Syntax</b>: isinstance(object, classinfo)"
   ]
  },
  {
   "cell_type": "code",
   "execution_count": 38,
   "metadata": {},
   "outputs": [
    {
     "name": "stdout",
     "output_type": "stream",
     "text": [
      "True\n",
      "True\n"
     ]
    }
   ],
   "source": [
    "mySet = {'Name','Class','Subject','Marks'}\n",
    "print(isinstance(mySet, set))  #Checking for set instance\n",
    "\n",
    "myDict = {1:1,2:2,3:3,4:4}\n",
    "print(isinstance(myDict, dict))"
   ]
  },
  {
   "cell_type": "markdown",
   "metadata": {},
   "source": [
    "# map()"
   ]
  },
  {
   "cell_type": "markdown",
   "metadata": {},
   "source": [
    "Map applies a function to all the items in an input_list.<br/>\n",
    "<b>Syntax</b>: map(function_to_apply, list_of_inputs)"
   ]
  },
  {
   "cell_type": "code",
   "execution_count": 39,
   "metadata": {},
   "outputs": [
    {
     "name": "stdout",
     "output_type": "stream",
     "text": [
      "[5.0, 5.5, 6.0, 6.5, 7.0, 7.5]\n"
     ]
    }
   ],
   "source": [
    "numbers = [10,11,12,13,14,15]\n",
    "half=[]\n",
    "for num in numbers:\n",
    "    half.append(num/2)  # Calculating half of ecah element in the list. Without MAP\n",
    "print(half)"
   ]
  },
  {
   "cell_type": "code",
   "execution_count": 50,
   "metadata": {},
   "outputs": [
    {
     "name": "stdout",
     "output_type": "stream",
     "text": [
      "[5.0, 5.5, 6.0, 6.5, 7.0, 7.5]\n"
     ]
    }
   ],
   "source": [
    "numbers = [10,11,12,13,14,15]\n",
    "\n",
    "def halfOfNumbers(num):\n",
    "    return num/2\n",
    "\n",
    "halves= list(map(halfOfNumbers,numbers)) # Passing the calculation method to the map() function\n",
    "print(halves)\n",
    "\n"
   ]
  },
  {
   "cell_type": "markdown",
   "metadata": {},
   "source": [
    "# reduce()"
   ]
  },
  {
   "cell_type": "markdown",
   "metadata": {},
   "source": [
    "reduce() function is for performing some computation on a list and returning the result. \n",
    "\n",
    "It applies a rolling computation to sequential pairs of values in a list. \n",
    "\n",
    "\n",
    "<b>Working</b> : \n",
    "\n",
    "- At first step, first two elements of sequence are picked and the result is obtained.\n",
    "- Next step is to apply the same function to the previously attained result and the number just succeeding the second element and the result is again stored.\n",
    "- This process continues till no more elements are left in the container.\n",
    "- The final returned result is returned and printed on console."
   ]
  },
  {
   "cell_type": "code",
   "execution_count": 51,
   "metadata": {},
   "outputs": [
    {
     "name": "stdout",
     "output_type": "stream",
     "text": [
      "21\n"
     ]
    }
   ],
   "source": [
    "sumOfArray = 0   #Sum the numbers in a list\n",
    "numbers = [1,2,3,4,5,6]\n",
    "\n",
    "for num in numbers: #Regular way of programming\n",
    "    sumOfArray+=num\n",
    "print(sumOfArray)"
   ]
  },
  {
   "cell_type": "code",
   "execution_count": 52,
   "metadata": {},
   "outputs": [
    {
     "name": "stdout",
     "output_type": "stream",
     "text": [
      "21\n"
     ]
    }
   ],
   "source": [
    "from functools import reduce  # in Python 3\n",
    "numbers = [1,2,3,4,5,6]\n",
    "def additionOfNumebrs(x,y):\n",
    "    return x+y\n",
    "\n",
    "sumOfArray = reduce(additionOfNumebrs, numbers)\n",
    "print(sumOfArray)\n",
    "\n",
    "#1st Iteration : 1,2 >> 1+2 = 3\n",
    "#2nd Iteration : 3, 3 >> 3+3=6\n",
    "#3rd Iteration : 6,4>>10\n",
    "#4th It        :10,5 >> 15 \n",
    "#...............15,6 >>21"
   ]
  },
  {
   "cell_type": "code",
   "execution_count": 58,
   "metadata": {},
   "outputs": [
    {
     "name": "stdout",
     "output_type": "stream",
     "text": [
      "120\n"
     ]
    }
   ],
   "source": [
    "from functools import reduce\n",
    "import operator # in Python 3\n",
    "\n",
    "\n",
    "fact = reduce(operator.mul, range(1,6))\n",
    "print(fact)\n",
    "\n",
    "#1st Iteration : 1,2 >> 1+2 = 3\n",
    "#2nd Iteration : 3, 3 >> 3+3=6\n",
    "#3rd Iteration : 6,4>>10\n",
    "#4th It        :10,5 >> 15 \n",
    "#...............15,6 >>21"
   ]
  },
  {
   "cell_type": "markdown",
   "metadata": {},
   "source": [
    "\n",
    "# 2. User-defined Functions"
   ]
  },
  {
   "cell_type": "markdown",
   "metadata": {},
   "source": [
    "Functions that programmers define to do certain tasks are known as user-defined functions<br/>\n",
    "If we use functions written by others in the form of library, it can be termed as library functions."
   ]
  },
  {
   "cell_type": "markdown",
   "metadata": {},
   "source": [
    "### Advantages"
   ]
  },
  {
   "cell_type": "markdown",
   "metadata": {},
   "source": [
    "1. <b>Understandability: </b>User-defined functions help to decompose a large program into small segments which makes program easy to understand, maintain and debug.\n",
    "\n",
    "2. <b>Removing redundancy: </b>If repeated code occurs in a program. Function can be used to include those codes and execute when needed by calling that function.\n",
    "\n",
    "3. <b>Task seggregation: </b>Programmars working on large project can divide the workload by making different functions."
   ]
  },
  {
   "cell_type": "markdown",
   "metadata": {},
   "source": [
    "# Example:"
   ]
  },
  {
   "cell_type": "code",
   "execution_count": 61,
   "metadata": {},
   "outputs": [
    {
     "name": "stdout",
     "output_type": "stream",
     "text": [
      "Sum of 10 and 20 is 30\n"
     ]
    }
   ],
   "source": [
    "def sumOfNumbers(num1, num2):\n",
    "    \"\"\"\n",
    "    this function returns the sumation od two numbers\n",
    "    \"\"\"\n",
    "    sumVal = num1+num2\n",
    "    return sumVal\n",
    "val1=10\n",
    "val2=20\n",
    "print('Sum of {0} and {1} is {2}'.format(val1,val2, sumOfNumbers(val1,val2)))"
   ]
  },
  {
   "cell_type": "markdown",
   "metadata": {},
   "source": [
    "#### Python program to make a simple calculator that can add, subtract, multiply and division"
   ]
  },
  {
   "cell_type": "code",
   "execution_count": null,
   "metadata": {},
   "outputs": [],
   "source": [
    "def add(a,b):\n",
    "        ## Code Implementation here\n",
    "        return 0\n",
    "def subst(a,b):\n",
    "        ## Code Implementation here\n",
    "        return 0\n",
    "def mult(a,b):\n",
    "        ## Code Implementation here\n",
    "        return 0        \n",
    "def div(a,b):\n",
    "        ## Code Implementation here\n",
    "        return 0            \n",
    "\n",
    "##Take the input from the user by giving him options to select :\n",
    "\n",
    "## Select Option\n",
    "#1. Addition\n",
    "#2. Substraction.\n",
    "#3. Mult\n",
    "#4. Division\n",
    "\n",
    "\n",
    "#Depending upon the choice of the user (1,2,3,4), you will have to call the function accordingly, \n",
    "#perform that operation and print the value\n",
    "# If user is giving invalid Input, then print \"Invalid Input.\""
   ]
  },
  {
   "cell_type": "markdown",
   "metadata": {
    "collapsed": true
   },
   "source": [
    "<center>End of section</center>\n",
    "\n",
    "--- "
   ]
  },
  {
   "cell_type": "markdown",
   "metadata": {},
   "source": [
    "# 21. Arguments in a function\n"
   ]
  },
  {
   "cell_type": "code",
   "execution_count": 66,
   "metadata": {},
   "outputs": [
    {
     "name": "stdout",
     "output_type": "stream",
     "text": [
      "Hello DS22 July , Welcome to Data Science Session \n"
     ]
    }
   ],
   "source": [
    "def hello( name, msg):\n",
    "    print(\"Hello {0} , {1} \".format(name,msg))\n",
    "\n",
    "hello(\"DS22 July\", \"Welcome to Data Science Session\")"
   ]
  },
  {
   "cell_type": "code",
   "execution_count": 67,
   "metadata": {},
   "outputs": [
    {
     "ename": "TypeError",
     "evalue": "hello() missing 1 required positional argument: 'msg'",
     "output_type": "error",
     "traceback": [
      "\u001b[1;31m---------------------------------------------------------------------------\u001b[0m",
      "\u001b[1;31mTypeError\u001b[0m                                 Traceback (most recent call last)",
      "Input \u001b[1;32mIn [67]\u001b[0m, in \u001b[0;36m<cell line: 1>\u001b[1;34m()\u001b[0m\n\u001b[1;32m----> 1\u001b[0m \u001b[43mhello\u001b[49m\u001b[43m(\u001b[49m\u001b[38;5;124;43m\"\u001b[39;49m\u001b[38;5;124;43mAmit\u001b[39;49m\u001b[38;5;124;43m\"\u001b[39;49m\u001b[43m)\u001b[49m\n",
      "\u001b[1;31mTypeError\u001b[0m: hello() missing 1 required positional argument: 'msg'"
     ]
    }
   ],
   "source": [
    "hello(\"Amit\")"
   ]
  },
  {
   "cell_type": "markdown",
   "metadata": {},
   "source": [
    "## Different Forms of Arguments"
   ]
  },
  {
   "cell_type": "markdown",
   "metadata": {},
   "source": [
    "### 1. Default Arguments"
   ]
  },
  {
   "cell_type": "markdown",
   "metadata": {},
   "source": [
    "Provision to pass default value to an argument by using the assignment operator (=). "
   ]
  },
  {
   "cell_type": "code",
   "execution_count": 68,
   "metadata": {},
   "outputs": [],
   "source": [
    "def hello( name, msg=\"Welcome to the world of Python\"):\n",
    "    print(\"Hello {0} , {1} \".format(name,msg))"
   ]
  },
  {
   "cell_type": "code",
   "execution_count": 70,
   "metadata": {},
   "outputs": [
    {
     "name": "stdout",
     "output_type": "stream",
     "text": [
      "Hello Amit , Welcome to the World of Data Science \n"
     ]
    }
   ],
   "source": [
    "hello(\"Amit\",\"Welcome to the World of Data Science\") # Without Default Argument"
   ]
  },
  {
   "cell_type": "markdown",
   "metadata": {},
   "source": [
    "Once we have a default argument, all the arguments to its right must also have default values."
   ]
  },
  {
   "cell_type": "code",
   "execution_count": 71,
   "metadata": {},
   "outputs": [
    {
     "name": "stdout",
     "output_type": "stream",
     "text": [
      "Hello Amit , Welcome to the world of Python \n"
     ]
    }
   ],
   "source": [
    "hello(\"Amit\") # With Default Argument"
   ]
  },
  {
   "cell_type": "code",
   "execution_count": 74,
   "metadata": {},
   "outputs": [
    {
     "ename": "SyntaxError",
     "evalue": "non-default argument follows default argument (1511734461.py, line 1)",
     "output_type": "error",
     "traceback": [
      "\u001b[1;36m  Input \u001b[1;32mIn [74]\u001b[1;36m\u001b[0m\n\u001b[1;33m    def hello(msg=\"Welcome to the world of Python\", name):\u001b[0m\n\u001b[1;37m                                                        ^\u001b[0m\n\u001b[1;31mSyntaxError\u001b[0m\u001b[1;31m:\u001b[0m non-default argument follows default argument\n"
     ]
    }
   ],
   "source": [
    "def hello(msg=\"Welcome to the world of Python\", name): #Suntax Error: Non Default argument follows default argument\n",
    "    print()"
   ]
  },
  {
   "cell_type": "markdown",
   "metadata": {},
   "source": [
    "# 2. Keyword Arguments"
   ]
  },
  {
   "cell_type": "markdown",
   "metadata": {},
   "source": [
    "kwargs allows you to pass key identified variables in number of arguments to a function. \n",
    "<br/>You should use **kwargs if you want to handle named arguments in a function"
   ]
  },
  {
   "cell_type": "markdown",
   "metadata": {},
   "source": [
    "# Example:"
   ]
  },
  {
   "cell_type": "code",
   "execution_count": 108,
   "metadata": {},
   "outputs": [
    {
     "name": "stdout",
     "output_type": "stream",
     "text": [
      " Hello Amit,  Welcome to the world of data science \n",
      "<class 'str'>\n"
     ]
    }
   ],
   "source": [
    "subject = ''\n",
    "def hello(**kwargs): # It will internally identify the key passed through the function#\n",
    "\n",
    "    \"\"\"\n",
    "    This function greets to person with the provided message\n",
    "    \"\"\"\n",
    "    if kwargs:\n",
    "        print(\" Hello {0}, {1} \".format(kwargs['name'],kwargs['msg']))\n",
    "        print(type(kwargs['name']))\n",
    "\n",
    "hello(name=\"Amit\", msg=\" Welcome to the world of data science\")\n",
    "\n",
    "\n",
    "\n"
   ]
  },
  {
   "cell_type": "code",
   "execution_count": 109,
   "metadata": {},
   "outputs": [
    {
     "name": "stdout",
     "output_type": "stream",
     "text": [
      " Hello ['Amit', 'Ajit'],  Welcome to the world of data science \n",
      "<class 'list'>\n"
     ]
    }
   ],
   "source": [
    "subject = ''\n",
    "def hello(**kwargs): # It will internally identify the key passed through the function#\n",
    "\n",
    "    \"\"\"\n",
    "    This function greets to person with the provided message\n",
    "    \"\"\"\n",
    "    if kwargs:\n",
    "        print(\" Hello {0}, {1} \".format(kwargs['name'],kwargs['msg']))\n",
    "        print(type(kwargs['name']))\n",
    "\n",
    "hello(name=[\"Amit\",\"Ajit\"], msg=\" Welcome to the world of data science\")\n",
    "\n",
    "\n",
    "\n"
   ]
  },
  {
   "cell_type": "markdown",
   "metadata": {},
   "source": [
    "# 3. Arbitary Arguments"
   ]
  },
  {
   "cell_type": "markdown",
   "metadata": {},
   "source": [
    "Sometimes, we do not know in advance the number of arguments that will be passed into a function.<br/> Python allows us to handle this kind of situation through function calls with arbitrary number of arguments.<br/>\n",
    "These can be accessed by iterating over the argument collection"
   ]
  },
  {
   "cell_type": "markdown",
   "metadata": {},
   "source": [
    "# Example:"
   ]
  },
  {
   "cell_type": "code",
   "execution_count": 112,
   "metadata": {},
   "outputs": [
    {
     "name": "stdout",
     "output_type": "stream",
     "text": [
      "('Sumit', 'Amit', 'Sanjay', 'Ranu')\n",
      "<class 'tuple'>\n",
      "Hello Sumit\n",
      "Hello Amit\n",
      "Hello Sanjay\n",
      "Hello Ranu\n"
     ]
    }
   ],
   "source": [
    "def hello(*names): # It allows iterating over the input iterable data structure.\n",
    "    \"\"\"\n",
    "    This function greets all the persons in the names tuple\n",
    "    \"\"\"\n",
    "    print(names)\n",
    "    print(type(names))\n",
    "    for name in names:\n",
    "        print(\"Hello {0}\".format(name))\n",
    "hello(\"Sumit\",\"Amit\",\"Sanjay\",\"Ranu\")"
   ]
  },
  {
   "cell_type": "code",
   "execution_count": null,
   "metadata": {},
   "outputs": [],
   "source": []
  },
  {
   "cell_type": "markdown",
   "metadata": {},
   "source": [
    "# 22. Recursive functions"
   ]
  },
  {
   "cell_type": "markdown",
   "metadata": {},
   "source": [
    "We know that in Python, a function can call other functions. <br/>The function can call itself too. These type of construct are termed as <b>recursive functions</b>."
   ]
  },
  {
   "cell_type": "markdown",
   "metadata": {},
   "source": [
    "# Example:"
   ]
  },
  {
   "cell_type": "code",
   "execution_count": 93,
   "metadata": {},
   "outputs": [
    {
     "name": "stdout",
     "output_type": "stream",
     "text": [
      "Factorial of 5 is 120\n"
     ]
    }
   ],
   "source": [
    "# Recursive Function : Function which calls itself\n",
    "\n",
    "def factorial(num):\n",
    "    \"\"\"\n",
    "    This is a recursive function to find the factorial of a given number\n",
    "    \"\"\"\n",
    "    return 1 if num==1 else (num * factorial(num-1)) ## (5 * (4* (3 * (2* (1)))))\n",
    "    \n",
    "number = 5\n",
    "print(\"Factorial of {0} is {1}\".format(number, factorial(number)))"
   ]
  },
  {
   "cell_type": "markdown",
   "metadata": {},
   "source": [
    "# Advantages"
   ]
  },
  {
   "cell_type": "markdown",
   "metadata": {},
   "source": [
    "- Recursive functions make the code look clean and elegant.\n",
    "\n",
    "- A complex task can be broken down into simpler sub-problems using recursion.\n",
    "\n",
    "- Sequence generation is easier with recursion than using some nested iteration.\n"
   ]
  },
  {
   "cell_type": "markdown",
   "metadata": {},
   "source": [
    "# Disadvantages"
   ]
  },
  {
   "cell_type": "markdown",
   "metadata": {},
   "source": [
    "- Sometimes the logic behind recursion is hard to follow through.\n",
    "\n",
    "- Recursive calls are expensive (inefficient) as they take up a lot of memory and time.\n",
    "\n",
    "- Recursive functions are hard to debug.\n"
   ]
  },
  {
   "cell_type": "markdown",
   "metadata": {},
   "source": [
    "<b>Excercise</b>: Fibonacci series"
   ]
  },
  {
   "cell_type": "code",
   "execution_count": null,
   "metadata": {},
   "outputs": [],
   "source": [
    "##Assignment\n",
    "def febonacii(num):\n",
    "    return num if num<=1 else fibonacii(num-1) + fibonacii(num-2)\n",
    "\n",
    "nterms =6\n",
    "\n",
    "print(\"The Fibonaci series is as below:\")\n",
    "##Write Code here to call the fibonacii function  :: You can use a loop.\n",
    "\n",
    "#5\n",
    "#0\n",
    "#1\n",
    "#1\n",
    "#2\n",
    "#3\n"
   ]
  },
  {
   "cell_type": "code",
   "execution_count": null,
   "metadata": {},
   "outputs": [],
   "source": []
  },
  {
   "cell_type": "markdown",
   "metadata": {},
   "source": [
    "# 23. Lambda or Anonymous Functions"
   ]
  },
  {
   "cell_type": "markdown",
   "metadata": {},
   "source": [
    "In Python, <b>anonymous function</b> is a function that is defined without a name.\n",
    "\n",
    "While <b>normal functions</b> are defined using <b>def keyword</b>, <br/>in Python <b>anonymous functions</b> are defined using the <b>lambda keyword</b>.\n",
    "\n",
    "Lambda functions are used extensively along with built-in functions like filter(), map()"
   ]
  },
  {
   "cell_type": "markdown",
   "metadata": {},
   "source": [
    "<b>Syntax</b>:\n",
    "    \n",
    "    lambda arguments: expression"
   ]
  },
  {
   "cell_type": "markdown",
   "metadata": {},
   "source": [
    "# Example:"
   ]
  },
  {
   "cell_type": "code",
   "execution_count": 94,
   "metadata": {},
   "outputs": [
    {
     "name": "stdout",
     "output_type": "stream",
     "text": [
      "16\n"
     ]
    }
   ],
   "source": [
    "def square(x):\n",
    "    return x**2\n",
    "print(square(4))"
   ]
  },
  {
   "cell_type": "code",
   "execution_count": 95,
   "metadata": {},
   "outputs": [
    {
     "name": "stdout",
     "output_type": "stream",
     "text": [
      "100\n"
     ]
    }
   ],
   "source": [
    "## No use of Def key, No use of Function name, No use of return keyword\n",
    "square =lambda x: x**2\n",
    "print(square(10))"
   ]
  },
  {
   "cell_type": "markdown",
   "metadata": {},
   "source": [
    "<b>Use lambda with filter()</b>"
   ]
  },
  {
   "cell_type": "code",
   "execution_count": 99,
   "metadata": {},
   "outputs": [
    {
     "name": "stdout",
     "output_type": "stream",
     "text": [
      "[1, 3, 5, 7, 9]\n"
     ]
    }
   ],
   "source": [
    "#if number%2==0 and number>10:\n",
    "myList= [1,2,3,4,5,6,7,8,9] # filter out the Odd List\n",
    "\n",
    "\n",
    "oddList = list(filter( lambda x: (x%2!=0) , myList))\n",
    "print(oddList)\n",
    "    "
   ]
  },
  {
   "cell_type": "code",
   "execution_count": 103,
   "metadata": {},
   "outputs": [
    {
     "name": "stdout",
     "output_type": "stream",
     "text": [
      "[1, 4, 9, 16, 25, 36, 49, 64, 81]\n"
     ]
    }
   ],
   "source": []
  },
  {
   "cell_type": "markdown",
   "metadata": {},
   "source": [
    "<b>Use lambda with map()</b>"
   ]
  },
  {
   "cell_type": "code",
   "execution_count": 104,
   "metadata": {},
   "outputs": [
    {
     "name": "stdout",
     "output_type": "stream",
     "text": [
      "[1, 4, 9, 16, 25, 36, 49, 64, 81]\n"
     ]
    }
   ],
   "source": [
    "myList= [1,2,3,4,5,6,7,8,9]\n",
    "sqList= list(map(lambda x:x**2  , myList))\n",
    "print(sqList)"
   ]
  },
  {
   "cell_type": "markdown",
   "metadata": {},
   "source": [
    "<b>Use lambda with reduce()</b>"
   ]
  },
  {
   "cell_type": "code",
   "execution_count": 105,
   "metadata": {},
   "outputs": [
    {
     "name": "stdout",
     "output_type": "stream",
     "text": [
      "15\n"
     ]
    }
   ],
   "source": [
    "from functools import reduce\n",
    "myList = [1,2,3,4,5]\n",
    "sumList = reduce(lambda x,y: x+y , myList)\n",
    "print(sumList)"
   ]
  },
  {
   "cell_type": "code",
   "execution_count": 107,
   "metadata": {},
   "outputs": [
    {
     "name": "stdout",
     "output_type": "stream",
     "text": [
      "15\n"
     ]
    }
   ],
   "source": [
    "from functools import reduce  # in Python 3\n",
    "numbers = [1,2,3,4,5]\n",
    "def additionOfNumebrs(x,y):\n",
    "    return x+y\n",
    "\n",
    "sumOfArray = reduce(additionOfNumebrs, numbers)\n",
    "print(sumOfArray)\n",
    "\n",
    "#1st Iteration : 1,2 >> 1+2 = 3\n",
    "#2nd Iteration : 3, 3 >> 3+3=6\n",
    "#3rd Iteration : 6,4>>10\n",
    "#4th It        :10,5 >> 15 \n",
    "#...............15,6 >>21"
   ]
  },
  {
   "cell_type": "markdown",
   "metadata": {},
   "source": [
    "# Decorators:"
   ]
  },
  {
   "cell_type": "markdown",
   "metadata": {},
   "source": [
    "Decorators are a very powerful and useful tool in Python since it allows programmers to modify the behaviour of a function or class. \n",
    "\n",
    "Decorators allow us to wrap another function in order to extend the behaviour of the wrapped function, without permanently modifying it. \n",
    "\n",
    "But before diving deep into decorators let us understand some concepts that will come in handy in learning the decorators.\n"
   ]
  },
  {
   "cell_type": "markdown",
   "metadata": {},
   "source": [
    "## First Class Objects "
   ]
  },
  {
   "cell_type": "markdown",
   "metadata": {},
   "source": [
    "In Python, functions are first class objects which means that functions in Python can be used or passed as arguments.\n",
    "\n",
    "Properties of first class functions:\n",
    "\n",
    "A function is an instance of the Object type.\n",
    "* You can store the function in a variable.\n",
    "* You can pass the function as a parameter to another function.\n",
    "* You can return the function from a function.\n",
    "* You can store them in data structures such as hash tables, lists, …"
   ]
  },
  {
   "cell_type": "markdown",
   "metadata": {},
   "source": [
    "##### Treating the functions as objects. "
   ]
  },
  {
   "cell_type": "code",
   "execution_count": 3,
   "metadata": {},
   "outputs": [
    {
     "name": "stdout",
     "output_type": "stream",
     "text": [
      "HELLO\n",
      "2234882484976\n",
      "2234882484976\n",
      "HELLO\n"
     ]
    }
   ],
   "source": [
    "## Write a program to illustrate functions\n",
    "### Functions can be assigned to variables. Functions can be used as referenced objects.\n",
    "def shout(text):\n",
    "    return text.upper()  ## amit >> AMIT\n",
    "\n",
    "print(shout(\"Hello\"))\n",
    "\n",
    "yell = shout  ## Just Pointing the function shout to yell. \n",
    "# Yell is a function now. it means that Vartiables can  be used as function\n",
    "print(id(yell))\n",
    "print(id(shout))\n",
    "\n",
    "print(yell(\"Hello\"))\n",
    "\n",
    "\n",
    "\n"
   ]
  },
  {
   "cell_type": "markdown",
   "metadata": {},
   "source": [
    "In the above example, we have assigned the function shout to a variable. \n",
    "This will not call the function instead it takes the function object referenced by a shout and creates a second name pointing to it, yell."
   ]
  },
  {
   "cell_type": "markdown",
   "metadata": {},
   "source": [
    "##### Passing the function as an argument "
   ]
  },
  {
   "cell_type": "code",
   "execution_count": 8,
   "metadata": {},
   "outputs": [
    {
     "name": "stdout",
     "output_type": "stream",
     "text": [
      " HI, I AM CREATED BY SHOUT AND PASSED AS AN ARGUMENT.\n",
      " hi, i am created by whisper and passed as an argument.\n"
     ]
    }
   ],
   "source": [
    "## Passing a function as argument to another function\n",
    "\n",
    "def shout(text): # text = \" Hi, I am created by a function passed as an argument.\"\n",
    "    return text.upper()    # return >> HI, I AM CREATED BY A FUNCTION PASSED AS AN ARGUMENT.\n",
    "\n",
    "def whisper(text):   #text = \" Hi, I am created by a function passed as an argument.\"\"\n",
    "    return text.lower()  #return = hi, i am created by a function passed as an argument.\n",
    "\n",
    "def greet(msg):  ## msg = shout  // msg = whisper\n",
    "    if msg == shout:\n",
    "        greeting = msg(\" Hi, I am created by Shout and passed as an argument.\")\n",
    "        print(greeting)\n",
    "    else:\n",
    "        greeting = msg(\" Hi, I am created by Whisper and passed as an argument.\")\n",
    "        print(greeting)\n",
    "        \n",
    "    \n",
    "greet(shout)  ## Shout Function is passed as argument to Greet Function\n",
    "greet(whisper)  ## Whisper Function is passed as argument  to Greet Function    \n",
    "    \n"
   ]
  },
  {
   "cell_type": "markdown",
   "metadata": {},
   "source": [
    "In the above example, the greet function takes another function as a parameter\n",
    "(shout and whisper in this case). \n",
    "\n",
    "The function passed as an argument is then called inside the function greet."
   ]
  },
  {
   "cell_type": "markdown",
   "metadata": {},
   "source": [
    "#####  Returning functions from another function."
   ]
  },
  {
   "cell_type": "code",
   "execution_count": 10,
   "metadata": {},
   "outputs": [
    {
     "name": "stdout",
     "output_type": "stream",
     "text": [
      "25\n"
     ]
    }
   ],
   "source": [
    "## Functions can return another funtion\n",
    "\n",
    "def create_adder(x):  #1  # x=15\n",
    "    def adder(y):     #2  # y=10 id =12345\n",
    "        return x+y    #3\n",
    "    return adder      #4   # Returning the function as an object\n",
    "    \n",
    "add = create_adder(15) #5  # add_15 = adder ka address\n",
    "print(add(10))     #6  # (print(25))>> 25\n",
    "\n",
    "#512346 >>Dhananjay\n",
    "#5,1,4,6,2,3 >> Adhiban\n",
    "#5,1,2,3,6,4,>> Rohit\n",
    "#51456236"
   ]
  },
  {
   "cell_type": "markdown",
   "metadata": {},
   "source": [
    "In the above example, we have created a function inside of another function and then have returned the function created inside.\n",
    "The above three examples depict the important concepts that are needed to understand decorators.\n",
    "After going through them let us now dive deep into decorators."
   ]
  },
  {
   "cell_type": "markdown",
   "metadata": {},
   "source": [
    "As stated above the decorators are used to modify the behaviour of function or class. In Decorators, functions are taken as the argument into another function and then called inside the wrapper function."
   ]
  },
  {
   "cell_type": "markdown",
   "metadata": {},
   "source": [
    "###### Syntax for Decorator: "
   ]
  },
  {
   "cell_type": "markdown",
   "metadata": {},
   "source": [
    "@gfg_decorator\n",
    "def hello_decorator():\n",
    "    print(\"Gfg\")\n",
    "\n",
    "'''Above code is equivalent to -\n",
    "\n",
    "def hello_decorator():\n",
    "    print(\"Gfg\")\n",
    "    \n",
    "hello_decorator = gfg_decorator(hello_decorator)'''"
   ]
  },
  {
   "cell_type": "markdown",
   "metadata": {},
   "source": [
    "In the above code, gfg_decorator is a callable function, \n",
    "that will add some code on the top of some another callable function,\n",
    "hello_decorator function and return the wrapper function."
   ]
  },
  {
   "cell_type": "markdown",
   "metadata": {},
   "source": [
    "###### Decorator can modify the behaviour:  "
   ]
  },
  {
   "cell_type": "code",
   "execution_count": 11,
   "metadata": {},
   "outputs": [
    {
     "name": "stdout",
     "output_type": "stream",
     "text": [
      "Hello, this is before function execution\n",
      "This is inside the function\n",
      "This is after function execution\n"
     ]
    }
   ],
   "source": [
    "# define a decorator ::\n",
    "def hello_decorator(func): #1 #func = function_to_be_used\n",
    "    def inner1():  #2  \n",
    "        print(\"Hello, this is before function execution\") #3\n",
    "        func()  #4\n",
    "        print(\"This is after function execution\") #5\n",
    "    return inner1 #6\n",
    "\n",
    "#defining a function, to be called inside the wrapper\n",
    "def function_to_be_used():  #7  #Driving\n",
    "    print(\"This is inside the function\") #8\n",
    "    \n",
    "function_to_be_used_1 = hello_decorator(function_to_be_used) #9 function_to_be_used_1 = inner1()\n",
    "\n",
    "#calling the function\n",
    "function_to_be_used_1() #10\n",
    "\n",
    "#916 10  2 3 4 7 8 5 >>  Adhiban\n"
   ]
  },
  {
   "cell_type": "code",
   "execution_count": 16,
   "metadata": {},
   "outputs": [
    {
     "name": "stdout",
     "output_type": "stream",
     "text": [
      "Hello this is before function execution\n",
      "This is inside the function\n",
      "15\n",
      "This is after function execution\n"
     ]
    }
   ],
   "source": [
    "#defining a decorator\n",
    "def hello_decorator(orig):\n",
    "    def inner1(modification):\n",
    "        print(\"Hello this is before function execution\")\n",
    "        \n",
    "        print(orig()+modification)\n",
    "        \n",
    "        print(\"This is after function execution\")\n",
    "    return inner1  # returing to the outer function\n",
    "\n",
    "#defining a function, to be called inside the wrapper\n",
    "def function_to_be_used():\n",
    "    print(\"This is inside the function\")\n",
    "    return 10\n",
    "\n",
    "#passing 'function_to_be_used' as a argument to hello_decorator\n",
    "#passing 'function_to_be_used' as a referenced object to another function hello_decorator\n",
    "function_to_be_used=  hello_decorator(function_to_be_used)\n",
    "\n",
    "function_to_be_used(5)\n"
   ]
  },
  {
   "cell_type": "markdown",
   "metadata": {},
   "source": [
    "### Chaining Decorators\n"
   ]
  },
  {
   "cell_type": "markdown",
   "metadata": {},
   "source": [
    "In simpler terms chaining decorators means decorating a function with multiple decorators."
   ]
  },
  {
   "cell_type": "code",
   "execution_count": 23,
   "metadata": {},
   "outputs": [
    {
     "name": "stdout",
     "output_type": "stream",
     "text": [
      "200\n"
     ]
    }
   ],
   "source": [
    "# Decorator Chaining.\n",
    "\n",
    "#func1>>func2>>fun3\n",
    "def decor1(func):\n",
    "    def inner():\n",
    "        x= func()\n",
    "        return x*x\n",
    "    return inner\n",
    "\n",
    "def decor2(func):\n",
    "    def inner():\n",
    "        x= func()\n",
    "        return 2*x\n",
    "    return inner\n",
    "\n",
    "\n",
    "def num():\n",
    "    return 10\n",
    "num = decor2(decor1(num))\n",
    "\n",
    "\n",
    "print(num())\n"
   ]
  },
  {
   "cell_type": "code",
   "execution_count": 30,
   "metadata": {},
   "outputs": [
    {
     "name": "stdout",
     "output_type": "stream",
     "text": [
      "200\n"
     ]
    }
   ],
   "source": [
    "# Decorator Chaining.Example 1\n",
    "\n",
    "#func1>>func2>>fun3\n",
    "def decor1(func):\n",
    "    def inner():\n",
    "        x= func()\n",
    "        return x*x\n",
    "    return inner\n",
    "\n",
    "def decor2(func):\n",
    "    def inner():\n",
    "        x= func()\n",
    "        return 2*x\n",
    "    return inner\n",
    "\n",
    "\n",
    "\n",
    "@decor2\n",
    "@decor1\n",
    "def num():\n",
    "    return 10\n",
    "#num = decor2(decor1(num))\n",
    "\n",
    "\n",
    "print(num())\n"
   ]
  },
  {
   "cell_type": "markdown",
   "metadata": {},
   "source": [
    "The above example is similar to calling the function as –\n",
    "\n",
    "decor2(decor1(num))"
   ]
  },
  {
   "cell_type": "code",
   "execution_count": 32,
   "metadata": {},
   "outputs": [
    {
     "name": "stdout",
     "output_type": "stream",
     "text": [
      "400\n"
     ]
    }
   ],
   "source": [
    "# Decorator Chaining.\n",
    "\n",
    "#func1>>func2>>fun3\n",
    "def decor1(func):\n",
    "    def inner():\n",
    "        x= func()\n",
    "        return x*x\n",
    "    return inner\n",
    "\n",
    "def decor2(func):\n",
    "    def inner():\n",
    "        x= func()\n",
    "        return 2*x\n",
    "    return inner\n",
    "\n",
    "\n",
    "\n",
    "\n",
    "@decor1\n",
    "@decor2\n",
    "def num():\n",
    "    return 10\n",
    "#num = decor1(decor2(num))\n",
    "\n",
    "\n",
    "print(num())\n"
   ]
  },
  {
   "cell_type": "markdown",
   "metadata": {},
   "source": [
    "The above example is similar to calling the function as –\n",
    "\n",
    "decor2(decor1(num))"
   ]
  },
  {
   "cell_type": "code",
   "execution_count": null,
   "metadata": {},
   "outputs": [],
   "source": []
  }
 ],
 "metadata": {
  "kernelspec": {
   "display_name": "Python 3 (ipykernel)",
   "language": "python",
   "name": "python3"
  },
  "language_info": {
   "codemirror_mode": {
    "name": "ipython",
    "version": 3
   },
   "file_extension": ".py",
   "mimetype": "text/x-python",
   "name": "python",
   "nbconvert_exporter": "python",
   "pygments_lexer": "ipython3",
   "version": "3.9.12"
  }
 },
 "nbformat": 4,
 "nbformat_minor": 2
}
