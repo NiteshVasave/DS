{
 "cells": [
  {
   "cell_type": "markdown",
   "metadata": {
    "id": "ZYkCu-rcS5rD"
   },
   "source": [
    "# <center>Python Basics<center/> \n",
    "<img height=\"60\" width=\"120\" src=\"https://www.python.org/static/img/python-logo-large.png?1414305901\"></img>"
   ]
  },
  {
   "cell_type": "markdown",
   "metadata": {
    "id": "5iRAzZYeS5rG"
   },
   "source": [
    "# Table of contents\n",
    "<br/>\n",
    "<a href = \"#12.-Operators\">12. Operators</a><br/>\n",
    "    1. Arithmetic operators\n",
    "    2. Comparison (Relational) operators\n",
    "    3. Logical (Boolean) operators\n",
    "    4. Bitwise operators\n",
    "    5. Assignment operators\n",
    "    6. Special operators\n",
    "    \n",
    "    \n",
    "<a href = \"#13.-Control-Flow\">13. Control Flow</a><br/>\n",
    "    1. if..else\n",
    "    2. while\n",
    "    3. for\n",
    "    4. break & continue"
   ]
  },
  {
   "cell_type": "markdown",
   "metadata": {
    "id": "-PM-0PquS5rH"
   },
   "source": [
    "# 12. Operators"
   ]
  },
  {
   "cell_type": "markdown",
   "metadata": {
    "id": "e9uI_EjrS5rI"
   },
   "source": [
    "Operators are the constructs which can help manipulate the value of operands.<br/>\n",
    "Consider the expression 4 + 5 = 9. Here, <i><b>4 and 5</b></i> are called <i><b>operands</b></i> and <i><b>+</b></i> is called <i><b>operator</b></i>."
   ]
  },
  {
   "cell_type": "markdown",
   "metadata": {
    "id": "7knYXSlNS5rI"
   },
   "source": [
    "## Operator Types"
   ]
  },
  {
   "cell_type": "markdown",
   "metadata": {
    "id": "WC-RgEfWS5rJ"
   },
   "source": [
    "The different operators in Python are as below\n",
    "\n",
    "1. Arithmetic operators\n",
    "    \n",
    "2. Comparison (Relational) operators\n",
    "\n",
    "3. Logical (Boolean) operators\n",
    "\n",
    "4. Bitwise operators\n",
    "\n",
    "5. Assignment operators\n",
    "\n",
    "6. Special operators\n",
    "\n",
    "Let us discuss them one by one"
   ]
  },
  {
   "cell_type": "markdown",
   "metadata": {
    "id": "CZJZ0pswS5rJ"
   },
   "source": [
    "## 12.1 Arithmetic Operators"
   ]
  },
  {
   "cell_type": "markdown",
   "metadata": {
    "id": "-L9Sc4bTS5rK"
   },
   "source": [
    "Arithmetic operators are used to perform mathematical operations like addition, subtraction, multiplication etc."
   ]
  },
  {
   "cell_type": "markdown",
   "metadata": {
    "id": "6H6VTrguS5rK"
   },
   "source": [
    "    + , -, *, /, %, //, **  are arithmetic operators"
   ]
  },
  {
   "cell_type": "markdown",
   "metadata": {
    "id": "rmL_Qa32S5rL"
   },
   "source": [
    "Example:"
   ]
  },
  {
   "cell_type": "code",
   "execution_count": 1,
   "metadata": {
    "colab": {
     "base_uri": "https://localhost:8080/"
    },
    "id": "45o0eC5kS5rM",
    "outputId": "d6053041-2d3d-43cb-b77b-0081d0fe9d5e"
   },
   "outputs": [
    {
     "name": "stdout",
     "output_type": "stream",
     "text": [
      "7\n",
      "3\n",
      "10\n",
      "2.5\n",
      "1\n",
      "2\n",
      "25\n"
     ]
    }
   ],
   "source": [
    "variable1, variable2 = 5,2\n",
    "print(variable1 + variable2) #Addition(+)\n",
    "print(variable1 - variable2) #Subtraction(-)\n",
    "print(variable1 * variable2) #Multiplication(*)\n",
    "print(variable1 / variable2) #Division(/)\n",
    "print(variable1 % variable2) #Modulo Division(%)//Remainder\n",
    "print(variable1 // variable2) #Floor Division(//)Quotient  5/2 = 2+1\n",
    "print(variable1 ** variable2) #Exponent(**) 5**2 =25\n",
    "\n"
   ]
  },
  {
   "cell_type": "markdown",
   "metadata": {
    "id": "6057JBrbS5rM"
   },
   "source": [
    "## 12.2 Comparision Operators"
   ]
  },
  {
   "cell_type": "markdown",
   "metadata": {
    "id": "bu0F7l47S5rN"
   },
   "source": [
    "Comparison operators are used to compare values. It either returns True or False according to the condition."
   ]
  },
  {
   "cell_type": "markdown",
   "metadata": {
    "id": "VCPBlmoRS5rN"
   },
   "source": [
    "    >, <, ==, !=, >=, <= are comparision operators"
   ]
  },
  {
   "cell_type": "code",
   "execution_count": 2,
   "metadata": {
    "colab": {
     "base_uri": "https://localhost:8080/"
    },
    "id": "IaHrbXeGS5rN",
    "outputId": "300d3a03-8723-445c-c0f9-8ac995ad8482"
   },
   "outputs": [
    {
     "name": "stdout",
     "output_type": "stream",
     "text": [
      "True\n",
      "False\n",
      "False\n",
      "True\n",
      "True\n",
      "False\n"
     ]
    }
   ],
   "source": [
    "variable1, variable2 = 5,2 #The Output of comparison operators is boolean\n",
    "print(variable1 > variable2) #Check is the variable1 is greater than variable2\n",
    "print(variable1 < variable2) #Check is the variable1 is less than variable2\n",
    "print(variable1 == variable2) #Check is the variable1 is equal to variable2  (5==5) true\n",
    "print(variable1 != variable2) #Check is the variable1 is not equal to variable2 false, ( 5!=2) true\n",
    "print(variable1 >= variable2) #Check is the variable1 is greater than equal to variable2 ( greater than OR equal to) \n",
    "print(variable1 <= variable2) #Check is the variable1 is less than equal to variable2  ( less than OR equal to) \n",
    "\n"
   ]
  },
  {
   "cell_type": "markdown",
   "metadata": {
    "id": "5mpE4h_mS5rN"
   },
   "source": [
    "## 12.3 Logical Operators"
   ]
  },
  {
   "cell_type": "markdown",
   "metadata": {
    "id": "mI-JPHdxS5rN"
   },
   "source": [
    "Logical operators are  **and, or, not** operators."
   ]
  },
  {
   "cell_type": "code",
   "execution_count": 3,
   "metadata": {
    "colab": {
     "base_uri": "https://localhost:8080/"
    },
    "id": "16eegZ9TS5rO",
    "outputId": "375d21e3-b043-492e-8448-dc3aa44ae1f7"
   },
   "outputs": [
    {
     "name": "stdout",
     "output_type": "stream",
     "text": [
      "False\n",
      "True\n",
      "False\n",
      "False\n",
      "True\n",
      "True\n",
      "False\n",
      "True\n",
      "False\n",
      "2\n"
     ]
    }
   ],
   "source": [
    "variable1 = True\n",
    "variable2= False\n",
    "\n",
    "print(variable1 and variable2)  ## True and False = False \n",
    "print(True and True)\n",
    "print(False and False)\n",
    "print(False and True)\n",
    "\n",
    "#############################\n",
    "print(variable1 or variable2)# If alteast 1 is true, it will return true \n",
    "print(True or True)\n",
    "print(False or False)\n",
    "print(False or True)\n",
    "\n",
    "###########################3\n",
    "\n",
    "print (not variable1)\n",
    "\n",
    "print( 1 and 2)##Assignment. Find out what is the logic behind this.\n",
    "\n",
    "\n"
   ]
  },
  {
   "cell_type": "markdown",
   "metadata": {
    "id": "ylFi7I3RS5rO"
   },
   "source": [
    "## 12.4 Bitwise operators"
   ]
  },
  {
   "cell_type": "markdown",
   "metadata": {
    "id": "KLf2ygkkS5rO"
   },
   "source": [
    "Bitwise operators act on operands as if they were string of binary digits. It operates bit by bit"
   ]
  },
  {
   "cell_type": "markdown",
   "metadata": {
    "id": "q3CxamJyS5rO"
   },
   "source": [
    "    &,  |,  ~,  ^,  >>,  << are Bitwise operators"
   ]
  },
  {
   "cell_type": "code",
   "execution_count": 4,
   "metadata": {
    "colab": {
     "base_uri": "https://localhost:8080/"
    },
    "id": "TRJD2EA_S5rO",
    "outputId": "864c5788-f382-49c4-a71f-e047810cdb87"
   },
   "outputs": [
    {
     "ename": "SyntaxError",
     "evalue": "leading zeros in decimal integer literals are not permitted; use an 0o prefix for octal integers (2502990443.py, line 11)",
     "output_type": "error",
     "traceback": [
      "\u001b[1;36m  Input \u001b[1;32mIn [4]\u001b[1;36m\u001b[0m\n\u001b[1;33m    0000 0001\u001b[0m\n\u001b[1;37m            ^\u001b[0m\n\u001b[1;31mSyntaxError\u001b[0m\u001b[1;31m:\u001b[0m leading zeros in decimal integer literals are not permitted; use an 0o prefix for octal integers\n"
     ]
    }
   ],
   "source": [
    "variable1, variable2 = 3,7 # Decimal to Bitwise(Binary) values -> 3 - 0000 0011 , 7 -  0000 0111\n",
    "print(variable1 & variable2) ## Bitwise And -> 0011 & 0111 -> 0011 ->3\n",
    "print(variable1 | variable2)## Bitwise OR -> 0011 & 0111 -> 0111 ->7\n",
    "print(~ variable2)## Bitwise NOT -> ~ 0000 0111 -> 1111 1000\n",
    "print(variable1 ^ variable2)## Bitwise XOR -> 0011 & 0111 -> 0100 ->4\n",
    "print(variable1 >> 2)## Bitwise Shift Right -> 0011 -> Input stream of 0's > 0011 >> 00  ready to be pushed from left to right on the 0011 >> 0000 - 0\n",
    "print(variable1 << 2)## Bitwise Shift Left -> 0011 -> Input Stream o )'s >> 0011 >> 00 ready to be pushed from right to left on the 0011 >> 1100 -12\n",
    "\n",
    "##XOR  \n",
    "# 0011 ^ 0111  = 0111\n",
    "0000 0001\n",
    "\n",
    "\n",
    "\n"
   ]
  },
  {
   "cell_type": "markdown",
   "metadata": {
    "id": "nEOaeG_YS5rP"
   },
   "source": [
    "## 12.5 Assignment operators"
   ]
  },
  {
   "cell_type": "markdown",
   "metadata": {
    "id": "jzEYSmanS5rP"
   },
   "source": [
    "<u>Assignment operators</u> are used in Python to <i><b>assign values to variables</b></i>.\n",
    "\n",
    "age = 50 is a simple assignment operator that assigns the value 50 on the right to the variable (age) a on the left."
   ]
  },
  {
   "cell_type": "markdown",
   "metadata": {
    "id": "SGV4VjJ_S5rP"
   },
   "source": [
    "    =,  +=,  -=,  *=,  /=,  %=,  //=,  **=, &=,  |=,  ^=,  >>=,  <<= are Assignment operators"
   ]
  },
  {
   "cell_type": "code",
   "execution_count": null,
   "metadata": {
    "colab": {
     "base_uri": "https://localhost:8080/"
    },
    "id": "79uBh70lS5rP",
    "outputId": "093537d8-25bd-4d67-bb97-8d564af34fa5"
   },
   "outputs": [],
   "source": [
    "age = 50\n",
    "#age = age+4\n",
    "age += 4 # age = age+4\n",
    "print(age)\n",
    "age-=7 # age = age-7\n",
    "print(age)\n",
    "age *= 4 #age= age*4\n",
    "print(age) #age = age%20 // remainder\n",
    "age %= 20\n",
    "print(age)\n",
    "age //=4 #age = age//4 ->Quotient\n",
    "print(age)\n",
    "age **= 4 # Exponent -> age = age**4\n",
    "print(age)\n",
    "\n"
   ]
  },
  {
   "cell_type": "markdown",
   "metadata": {
    "id": "sHTBcG6wS5rP"
   },
   "source": [
    "## 12.6 Special Operators"
   ]
  },
  {
   "cell_type": "markdown",
   "metadata": {
    "id": "jWiSP_IvS5rQ"
   },
   "source": [
    "### 12.6.1 Identity Operators"
   ]
  },
  {
   "cell_type": "markdown",
   "metadata": {
    "id": "IoIBjUuKS5rQ"
   },
   "source": [
    "**is and is not** are the <u>identity operators</u> in Python. \n",
    "\n",
    "They are used to verify if two values (or variables) are located in the same part of the memory."
   ]
  },
  {
   "cell_type": "code",
   "execution_count": null,
   "metadata": {
    "colab": {
     "base_uri": "https://localhost:8080/"
    },
    "id": "kd_Ofp-JS5rQ",
    "outputId": "df2fd24c-93f9-4a26-a4c6-8f8b8aa9b499"
   },
   "outputs": [],
   "source": [
    "variable1 = 20\n",
    "variable2=20\n",
    "variable3 = 30\n",
    "print(id(variable1))\n",
    "\n",
    "print(id(variable2))\n",
    "print(variable1 is variable2) # 20 is created once & both variable1 and variable2 points to the same memory location\n",
    "print(variable1 is not variable2)\n",
    "print(variable1 is not variable3)"
   ]
  },
  {
   "cell_type": "code",
   "execution_count": null,
   "metadata": {
    "colab": {
     "base_uri": "https://localhost:8080/"
    },
    "id": "WkicYdxJS5rQ",
    "outputId": "f3f4b493-8a75-4426-c819-ee4aac1793d2"
   },
   "outputs": [],
   "source": [
    "myString1 = \"DataScience\"\n",
    "myString3= \"DataScience\"\n",
    "myString2 = \"MachineLearning\"\n",
    "print(myString1 is myString2)\n",
    "print(myString1 is not myString2)\n",
    "print(myString1 is myString3)"
   ]
  },
  {
   "cell_type": "code",
   "execution_count": null,
   "metadata": {
    "colab": {
     "base_uri": "https://localhost:8080/"
    },
    "id": "Jj9DWNJqS5rQ",
    "outputId": "f3849e44-472e-4988-dca1-19a66e1db782"
   },
   "outputs": [],
   "source": [
    "myList = [1,2,3] #python consider list as an object and even if same list is assigned again, it allocates a diffrent memory location\n",
    "myList2= [1,2,3]\n",
    "print(id(myList))\n",
    "print(id(myList2))\n",
    "myList3 = myList #Referencing\n",
    "print(id(myList3))\n",
    "print(myList is myList2)\n",
    "print(myList is myList3)"
   ]
  },
  {
   "cell_type": "markdown",
   "metadata": {
    "id": "S9gpVAQsS5rQ"
   },
   "source": [
    "### 12.6.2 MemberShip Operators"
   ]
  },
  {
   "cell_type": "markdown",
   "metadata": {
    "id": "GZgyJlZkS5rR"
   },
   "source": [
    "**in and not in** are the membership operators in Python. \n",
    "    \n",
    "They are used to test whether a value or variable is found in a sequence (string, list, tuple, set and   dictionary)."
   ]
  },
  {
   "cell_type": "code",
   "execution_count": null,
   "metadata": {
    "colab": {
     "base_uri": "https://localhost:8080/"
    },
    "id": "VOJ924YQS5rR",
    "outputId": "b3018223-2368-4f74-b843-53c023b2f57c"
   },
   "outputs": [],
   "source": [
    "myList = [ 'a','b', 22, 100, 'c']\n",
    "print(22 in myList) # check for membership\n",
    "print('e'in myList)"
   ]
  },
  {
   "cell_type": "code",
   "execution_count": null,
   "metadata": {
    "colab": {
     "base_uri": "https://localhost:8080/"
    },
    "id": "uDRWevpDS5rR",
    "outputId": "f0b70094-2a76-40e7-cd84-5785b3b95aee"
   },
   "outputs": [],
   "source": [
    "myDict = {100:'Apple', 101: 'Banana'}\n",
    "print(100 in myDict)\n",
    "print('Apple' in myDict)#Only search for key membership and not value membership.\n"
   ]
  },
  {
   "cell_type": "markdown",
   "metadata": {
    "id": "Ali0P53eS5rR"
   },
   "source": [
    "# 13. Control Flow"
   ]
  },
  {
   "cell_type": "markdown",
   "metadata": {
    "id": "DaF4woXGS5rR"
   },
   "source": [
    "## 13.1 Python if - else Statement\n",
    "\n",
    "If - else statements are used for **decision making**, let us see a simple examle,\n",
    "\n",
    "if 'It rains':<br/>\n",
    "&nbsp;&nbsp;&nbsp;&nbsp;'Dont play golf'<br/>\n",
    "else: <br/>\n",
    "&nbsp;&nbsp;&nbsp;&nbsp;if 'It is too hot':<br/>\n",
    "&nbsp;&nbsp;&nbsp;&nbsp;&nbsp;&nbsp;&nbsp;&nbsp;'Dont play golf'<br/>\n",
    "&nbsp;&nbsp;&nbsp;&nbsp;else:<br/>\n",
    "&nbsp;&nbsp;&nbsp;&nbsp;&nbsp;&nbsp;&nbsp;&nbsp;'Play golf'<br/>\n",
    "\n",
    "---\n",
    "**else if** can be combined to form **elif**\n",
    "\n",
    "if 'It rains':<br/>\n",
    "&nbsp;&nbsp;&nbsp;&nbsp;'Dont play golf'<br/>\n",
    "elif 'It is too hot':<br/>\n",
    "&nbsp;&nbsp;&nbsp;&nbsp;'Dont play golf'<br/>\n",
    "else:<br/>\n",
    "&nbsp;&nbsp;&nbsp;&nbsp;'Play golf'<br/>\n",
    "\n",
    "---"
   ]
  },
  {
   "cell_type": "markdown",
   "metadata": {
    "id": "VKLCg8PsS5rS"
   },
   "source": [
    "### 13.1.1 Let us see the Python Syntax for if statement<br/><br/>\n",
    "\n",
    "    if test expression:\n",
    "        statement(s)\n",
    "---    \n",
    "<br/><br/>\n",
    "The program evaluates the test expression and will execute statement(s) only if the text expression is True.\n",
    "\n",
    "If the text expression is False, the statement(s) is not executed.\n",
    "\n",
    "Python interprets non-zero values as True. None and 0 are interpreted as False.\n",
    "\n",
    "---"
   ]
  },
  {
   "cell_type": "markdown",
   "metadata": {
    "id": "cvaLy-68S5rS"
   },
   "source": [
    "#### Flow Chart on how if-statement helps in Decision Making\n",
    "\n",
    "<img height=\"200\" width=\"400\" src=\"https://github.com/suchitmajumdar/LearnPython/blob/master/images/Python_if_statement.jpg?raw=true\"></img>\n"
   ]
  },
  {
   "cell_type": "markdown",
   "metadata": {
    "id": "4HqnouAOS5rS"
   },
   "source": [
    "#### Examples of if-statement"
   ]
  },
  {
   "cell_type": "code",
   "execution_count": null,
   "metadata": {
    "colab": {
     "base_uri": "https://localhost:8080/"
    },
    "id": "W1r2IzpvS5rS",
    "outputId": "9c38385c-e71f-4bf2-8aaf-690988efb8b0"
   },
   "outputs": [],
   "source": [
    "number = 20\n",
    "if number <15:\n",
    "  print('Number is less than 15')\n",
    "print('Outside If Block')"
   ]
  },
  {
   "cell_type": "code",
   "execution_count": null,
   "metadata": {
    "colab": {
     "base_uri": "https://localhost:8080/"
    },
    "id": "_-J_H8AkS5rS",
    "outputId": "a283ca14-3aea-4aca-ff1b-d4aaef2c45d9"
   },
   "outputs": [],
   "source": [
    "#  #try 1,-1 #It considers -inf to +inf is consideed as true when converted to bool, expert for 0 which is considered as false.\n",
    "if -100000:\n",
    "   print(\"Inside If\")\n",
    "print('Outside If')\n",
    "\n",
    "\n",
    "\n",
    "\n",
    "##if a condition is true then :\n",
    " ##   execute this lise;\n",
    " ##Go with the normal FLow\n",
    "\n"
   ]
  },
  {
   "cell_type": "markdown",
   "metadata": {
    "id": "rOVexMUQS5rS"
   },
   "source": [
    "---\n",
    "\n",
    "### 13.1.2 Python if...else - Statement\n",
    "\n",
    "Syntax of if ... else statement is as follows\n",
    "\n",
    "    if test expression:\n",
    "    \n",
    "        Body of if\n",
    "\n",
    "    else: \n",
    "    \n",
    "        Body of else"
   ]
  },
  {
   "cell_type": "markdown",
   "metadata": {
    "id": "oHw9IKWSS5rS"
   },
   "source": [
    "### Flow Chart on how if...else-statement helps in Decision Making\n",
    "\n",
    "<img height=\"200\" width=\"400\" src=\"https://github.com/suchitmajumdar/LearnPython/blob/master/images/flowchart-if-else-programming.jpg?raw=true\"></img>\n"
   ]
  },
  {
   "cell_type": "markdown",
   "metadata": {
    "id": "isb1JU80S5rT"
   },
   "source": [
    "#### Examples of if...else-statement"
   ]
  },
  {
   "cell_type": "code",
   "execution_count": null,
   "metadata": {
    "colab": {
     "base_uri": "https://localhost:8080/"
    },
    "id": "sJ-7-wlfS5rT",
    "outputId": "f78eb0d9-7ae5-4f0b-f34f-7e1f388234f5",
    "scrolled": true
   },
   "outputs": [],
   "source": [
    "age =21\n",
    "if(age>18):\n",
    "  print('Adult')\n",
    "else:\n",
    "  print('Child')\n",
    "print('Normal Flow continued')\n",
    "\n"
   ]
  },
  {
   "cell_type": "markdown",
   "metadata": {
    "id": "rsv1VaYsS5rT"
   },
   "source": [
    "---\n",
    "\n",
    "### 13.1.3 if..elif..else Statement"
   ]
  },
  {
   "cell_type": "markdown",
   "metadata": {
    "id": "zbWSml4qS5rT"
   },
   "source": [
    "The syntax for **if..elif..else** Statement is as follows\n",
    "\n",
    "\n",
    "    if test expression:\n",
    "\n",
    "        Body of if\n",
    "    elif test expression:\n",
    "    \n",
    "        Body of elif\n",
    "    else: \n",
    "    \n",
    "        Body of else"
   ]
  },
  {
   "cell_type": "markdown",
   "metadata": {
    "id": "qfJUkjKJS5rT"
   },
   "source": [
    "#### Flow Chart on how if..elif..else-statement helps in Decision Making\n",
    "\n",
    "<img height=\"200\" width=\"500\" src=\"https://github.com/suchitmajumdar/LearnPython/blob/master/images/python_ifelseif.jpg?raw=true\"></img>\n"
   ]
  },
  {
   "cell_type": "code",
   "execution_count": null,
   "metadata": {
    "colab": {
     "base_uri": "https://localhost:8080/"
    },
    "id": "ixTc7t8lS5rT",
    "outputId": "b256605d-ff20-4f25-e9f2-8681dc5befc8"
   },
   "outputs": [],
   "source": [
    "age =18\n",
    "if age>19:\n",
    "  print('Adult')\n",
    "elif age > 12:\n",
    "    print('Teen')\n",
    "\n",
    "else:\n",
    "    print('Child')\n",
    "\n",
    "print('Normal Flow Continued')\n"
   ]
  },
  {
   "cell_type": "markdown",
   "metadata": {
    "id": "fz2U-gSqS5rT"
   },
   "source": [
    "---\n",
    "\n",
    "### 13.1.4 Nested if Statements"
   ]
  },
  {
   "cell_type": "markdown",
   "metadata": {
    "id": "WNDohwczS5rT"
   },
   "source": [
    "We can have a if...elif...else statement inside another if...elif...else statement. This is called nesting in computer programming.\n",
    "\n",
    "Any number of these statements can be nested inside one another. Indentation is the only way to figure out the level of nesting. This can get confusing, so must be avoided if we can."
   ]
  },
  {
   "cell_type": "markdown",
   "metadata": {
    "id": "TSMzXKNtS5rT"
   },
   "source": [
    "#### Example of <b>Nested if</b> statements"
   ]
  },
  {
   "cell_type": "code",
   "execution_count": null,
   "metadata": {
    "colab": {
     "base_uri": "https://localhost:8080/"
    },
    "id": "e84wpIViS5rT",
    "outputId": "c90b2909-bcac-4084-a5b1-4234f2106ea3"
   },
   "outputs": [],
   "source": [
    "age = 14\n",
    "\n",
    "if age>= 13:\n",
    "  if age <=19:\n",
    "    print('Teen')\n",
    "  else:\n",
    "    print('Adult')\n",
    "else:\n",
    "  print('Child')\n",
    "print('Normal Flow continued')"
   ]
  },
  {
   "cell_type": "markdown",
   "metadata": {
    "id": "SPv4DpvRS5rU"
   },
   "source": [
    "Combining **Operators** in if-statements"
   ]
  },
  {
   "cell_type": "code",
   "execution_count": null,
   "metadata": {
    "colab": {
     "base_uri": "https://localhost:8080/"
    },
    "id": "32p5xR3OS5rU",
    "outputId": "4a77a04a-18b9-4c87-82cb-605018973ebc"
   },
   "outputs": [],
   "source": [
    "age =1\n",
    "person_type= 'not_sure'\n",
    "\n",
    "if(age>=13 ) and (age<=19):\n",
    "  person_type='Teen'\n",
    "\n",
    "elif (age >= 0) and (age<= 12):\n",
    "  person_type='Child'\n",
    "else:\n",
    "  person_type= 'Adult'\n",
    "print(\"The Person is in category: {}\".format(person_type))"
   ]
  },
  {
   "cell_type": "markdown",
   "metadata": {
    "id": "YkqVrDsuS5rU"
   },
   "source": [
    "---\n",
    "\n",
    "# 13.2 <u>while</u> loop in Python"
   ]
  },
  {
   "cell_type": "markdown",
   "metadata": {
    "id": "SZ6vCvPYS5rU"
   },
   "source": [
    "## 13.2.1 while loop\n",
    "\n",
    "Use while loop to iterate over a block of code as long as the test expression (also called test condition) is true.\n",
    "\n",
    "#### Syntax\n",
    "\n",
    "    while test_expression:\n",
    "        \n",
    "        Body of while\n",
    "\n",
    "\n",
    "The body of the loop is entered only if the test_expression evaluates to True. \n",
    "\n",
    "After one iteration, the test expression is checked again. \n",
    "\n",
    "This process continues until the test_expression evaluates to False.\n"
   ]
  },
  {
   "cell_type": "markdown",
   "metadata": {
    "id": "NamLpgbhS5rU"
   },
   "source": [
    "#### Flowchart of <u>while</u> loop\n",
    "\n",
    "<img height=\"200\" width=\"400\" src=\"https://github.com/suchitmajumdar/LearnPython/blob/master/images/while_0.png?raw=true\"></img>\n"
   ]
  },
  {
   "cell_type": "markdown",
   "metadata": {
    "id": "JwihzWqsS5rU"
   },
   "source": [
    "#### Examples of while loop"
   ]
  },
  {
   "cell_type": "code",
   "execution_count": null,
   "metadata": {
    "colab": {
     "base_uri": "https://localhost:8080/"
    },
    "id": "5OULHq5HS5rU",
    "outputId": "441b6aa9-3494-4a07-844f-63f249dfeb98"
   },
   "outputs": [],
   "source": [
    "myList = [1,2,3,4,5]\n",
    "sum=0\n",
    "index=0\n",
    "\n",
    "\n",
    "while index < len(myList):\n",
    "  sum+= myList[index] #sum = sum+myList[index]  --myList[1] =5  //   sum = 10+5 =15\n",
    "  index+=1# index = index+1  -- 4+1 = 5\n",
    "\n",
    "print('sum of the array is: {}'.format(sum))\n",
    "\n",
    "#while statementIsTrue :\n",
    " # Execute the Block of Code\n",
    "#Normal Flow Continues"
   ]
  },
  {
   "cell_type": "markdown",
   "metadata": {
    "id": "oCZo4dhIS5rU"
   },
   "source": [
    "#### Examples of while Loop with else statement\n",
    "\n",
    "While loop has an optional <b>else</b> block which one may use if one wishes to use it.<br/>\n",
    "The else block gets executed when the condition in while statement is <b>False</b>.<br/>\n",
    "\n",
    "The <b>else</b> can be skipped if we use a <b>break</b> command in the while block"
   ]
  },
  {
   "cell_type": "code",
   "execution_count": null,
   "metadata": {
    "colab": {
     "base_uri": "https://localhost:8080/"
    },
    "id": "eHlIoPEuS5rU",
    "outputId": "639536b6-a7f9-4cac-cd11-4d30e1154cb0"
   },
   "outputs": [],
   "source": [
    "# Break is used to break the loop, make it come out of the loop\n",
    "myList = [1,2,3,4,5]\n",
    "index=0\n",
    "\n",
    "while index < len(myList):\n",
    "  print(myList[index])\n",
    "  index+=1\n",
    "else:\n",
    "  print('Completed Iterating the List')\n",
    "\n",
    "print('Normal Flow Continues')"
   ]
  },
  {
   "cell_type": "code",
   "execution_count": null,
   "metadata": {
    "colab": {
     "base_uri": "https://localhost:8080/"
    },
    "id": "rqH01cqt5Ear",
    "outputId": "5c1f6daa-1d2e-4774-a9f7-48fab3ff4fe5"
   },
   "outputs": [],
   "source": [
    "# Break is used to break the loop, make it come out of the loop\n",
    "myList = [1,2,3,4,5]\n",
    "index=0\n",
    "\n",
    "while index < len(myList):\n",
    "  print(myList[index])\n",
    "  if(index==4):\n",
    "    break\n",
    "  index+=1\n",
    "else:\n",
    "  print('Completed Iterating the List')\n",
    "\n",
    "print('Normal Flow Continues')"
   ]
  },
  {
   "cell_type": "markdown",
   "metadata": {
    "id": "IvIyaBL6S5rU"
   },
   "source": [
    "#### Example: Calculate the factorial of a positive non zero number"
   ]
  },
  {
   "cell_type": "code",
   "execution_count": null,
   "metadata": {
    "colab": {
     "base_uri": "https://localhost:8080/"
    },
    "id": "T96bCnSgS5rU",
    "outputId": "51a60921-bd74-4c69-e673-b27eff3d4ed5"
   },
   "outputs": [],
   "source": [
    "#factorial = 5! = 5*4*3*2*1, 0! = 1\n",
    "\n",
    "userInput = input('Enter a positive non-zero number: ')\n",
    "number = int(userInput)\n",
    "\n",
    "if number <0:\n",
    "  print('Invalid Number, Please reenter')\n",
    " \n",
    "elif number==0:\n",
    "  print('Factorial of 0 is 1')\n",
    "  \n",
    "##print('THank you!! let me share the result with you!!')\n",
    "fact=1\n",
    "if number>0:\n",
    "  while number>0:\n",
    "    fact*=number # fact = fact* number  1-> 5, 2->20, 3->60, 4->120, \n",
    "    number -=1\n",
    "  print('The factorial of the Number is:', fact)\n",
    "  \n",
    "\n",
    "\n",
    "\n"
   ]
  },
  {
   "cell_type": "markdown",
   "metadata": {
    "id": "LSiJai9MS5rU"
   },
   "source": [
    "---\n",
    "\n",
    "# 13.3 <u>for</u> Loop Python  "
   ]
  },
  {
   "cell_type": "markdown",
   "metadata": {
    "id": "kUebJ6GUS5rU"
   },
   "source": [
    "<b>for</b> loop in one of the most often used Python looping technque to iterate over a sequence (list, tuple, string) or other iterable objects. \n",
    "    \n",
    "Iterating over a sequence is called traversal.\n",
    "\n",
    "#### Syntax:\n",
    "\n",
    "    for element in sequence :\n",
    "\n",
    "        'for' code block  \n",
    "        \n",
    "\n",
    "Here, element is the variable that takes the value of the item inside the sequence on each iteration.\n",
    "\n",
    "Loop continues until we reach the last item in the sequence. "
   ]
  },
  {
   "cell_type": "markdown",
   "metadata": {
    "id": "zAlzL5XeS5rV"
   },
   "source": [
    "#### Flowchart of <u>for</u> loop\n",
    "\n",
    "<img height=\"200\" width=\"400\" src=\"https://github.com/suchitmajumdar/LearnPython/blob/master/images/for_0.png?raw=true\"></img>\n"
   ]
  },
  {
   "cell_type": "code",
   "execution_count": 9,
   "metadata": {
    "id": "hymrUBuAS5rV"
   },
   "outputs": [
    {
     "name": "stdout",
     "output_type": "stream",
     "text": [
      "{1, 2, 3, 4, 5}\n",
      "Sum of the set is : 15\n"
     ]
    }
   ],
   "source": [
    "myList=[1,2,3,4,5] ##find sum of all the elements in the list using for loop.\n",
    "mySet= {1,2,3,4,5,5}\n",
    "print(mySet)\n",
    "##myList[0], myList[len(myList)-1]\n",
    "sum=0\n",
    "#Algorithm\n",
    "#Step1 >> Initilize sum = 0\n",
    "#Step 2>> Start from the fisrt and traverse till the end of the list.\n",
    "# Sum=1, Sum= 1+2 =3, Sum = 3+3 = 6, Sum = 6+4 = 10, Sum = 10+5 = 15\n",
    "#Iterate through the Loop.\n",
    "for element in mySet:\n",
    "    sum= sum+element\n",
    "print(\"Sum of the set is : {}\".format(sum))\n",
    "\n"
   ]
  },
  {
   "cell_type": "markdown",
   "metadata": {
    "id": "D6suaYQHS5rV"
   },
   "source": [
    "\n",
    "#### range() function\n",
    "\n",
    "Often we need to run a for loop on a range of values that could be based on a starting point to an ending point with pre-specified step size.\n",
    "\n",
    "##### range(start,stop,step size)\n",
    "\n",
    "The numbers in range are not stored but calculated dynamically on the fly using the 3 parameters start,stop, step size"
   ]
  },
  {
   "cell_type": "code",
   "execution_count": 12,
   "metadata": {
    "id": "nz1vEsXPS5rV"
   },
   "outputs": [
    {
     "name": "stdout",
     "output_type": "stream",
     "text": [
      "0\n",
      "1\n",
      "2\n",
      "3\n",
      "4\n",
      "5\n",
      "6\n",
      "7\n",
      "8\n",
      "9\n"
     ]
    }
   ],
   "source": [
    "#print range of 10 using for loop\n",
    "#for element in  range(startingPoint, EndingPoint, StepSize)\n",
    "for element in  range(10): ## start from 0 and print 10 elements with a step size of 1.\n",
    "    print(element)\n"
   ]
  },
  {
   "cell_type": "code",
   "execution_count": 14,
   "metadata": {},
   "outputs": [
    {
     "name": "stdout",
     "output_type": "stream",
     "text": [
      "0\n",
      "1\n",
      "2\n",
      "3\n",
      "4\n",
      "5\n",
      "6\n",
      "7\n",
      "8\n",
      "9\n"
     ]
    }
   ],
   "source": [
    "for element in range(0,10,1):\n",
    "    print(element)"
   ]
  },
  {
   "cell_type": "code",
   "execution_count": 16,
   "metadata": {
    "id": "RejefTONS5rV"
   },
   "outputs": [
    {
     "name": "stdout",
     "output_type": "stream",
     "text": [
      "0\n",
      "5\n",
      "10\n",
      "15\n",
      "20\n",
      "25\n",
      "30\n",
      "35\n",
      "40\n"
     ]
    }
   ],
   "source": [
    "# Print all the number from 0 to 40 with a step size of 5\n",
    "for element in range(0, 41, 5):\n",
    "    print(element)"
   ]
  },
  {
   "cell_type": "code",
   "execution_count": 21,
   "metadata": {
    "id": "JC7rAwj-S5rV"
   },
   "outputs": [
    {
     "name": "stdout",
     "output_type": "stream",
     "text": [
      "The sum of the given range is: 99700\n"
     ]
    }
   ],
   "source": [
    "#Perform a summation of numbers from 1 1000 with a step size of 5\n",
    "sum=0\n",
    "for element in range(1,1001,5):  # 1,6,11,16,21...\n",
    "    sum+=element # sum=sum+element\n",
    "print(\"The sum of the given range is: {}\".format(sum)) \n",
    "\n"
   ]
  },
  {
   "cell_type": "markdown",
   "metadata": {
    "id": "17r1Ut5xS5rV"
   },
   "source": [
    "#### for loop with else\n",
    "\n",
    "Similar to while loop, a for loop can have an optional else block. <br/>\n",
    "The else part is executed if the items in the sequence used in for loop exhausts.\n",
    "\n",
    "for loop's else part runs if no break occurs."
   ]
  },
  {
   "cell_type": "code",
   "execution_count": 22,
   "metadata": {
    "id": "CMOgRhdSS5rV"
   },
   "outputs": [
    {
     "name": "stdout",
     "output_type": "stream",
     "text": [
      "Nihal\n",
      "Pavan\n",
      "Saqib\n",
      "Completed the names list\n"
     ]
    }
   ],
   "source": [
    "names= ['Nihal', 'Pavan','Saqib']## && in java and in python\n",
    "#Iterate over the list\n",
    "for name in names:\n",
    "    print(name)\n",
    "else:     #Optional\n",
    "    print(\"Completed the names list\")"
   ]
  },
  {
   "cell_type": "code",
   "execution_count": 30,
   "metadata": {
    "id": "VN4llsWDS5rV"
   },
   "outputs": [
    {
     "name": "stdout",
     "output_type": "stream",
     "text": [
      "Nihal\n",
      "Pavan\n",
      "Exiting for Loop as break statement executred. Else statement will not get executed\n"
     ]
    }
   ],
   "source": [
    "#Use of break to exit out of the loop. Else block being the part of loop will not get executed \n",
    "#as the loop was exited.\n",
    "names= ['Nihal', 'Pavan','Saqib']## && in java and in python\n",
    "#Iterate over the list\n",
    "for name in names:\n",
    "    print(name)\n",
    "    if(name=='Pavan'):\n",
    "        print('Exiting for Loop as break statement executred. Else statement will not get executed')\n",
    "        break\n",
    "else:     #Optional\n",
    "    print(\"Completed the names list\")"
   ]
  },
  {
   "cell_type": "code",
   "execution_count": 31,
   "metadata": {},
   "outputs": [
    {
     "name": "stdout",
     "output_type": "stream",
     "text": [
      "Nihal\n",
      "Pavan\n",
      "Saqib\n",
      "Exiting the for loop by use of break statement. But the below last line (print statement) will get executed \n",
      "Totally outside the for else block\n"
     ]
    }
   ],
   "source": [
    "names= ['Nihal', 'Pavan','Saqib']## && in java and in python\n",
    "#Iterate over the list\n",
    "for name in names:\n",
    "    print(name)\n",
    "    if(name=='Saqib'):\n",
    "        print('Exiting the for loop by use of break statement. But the below last line (print statement) will get executed ')\n",
    "\n",
    "        break\n",
    "print(\"Totally outside the for else block\")"
   ]
  },
  {
   "cell_type": "code",
   "execution_count": 34,
   "metadata": {},
   "outputs": [
    {
     "name": "stdout",
     "output_type": "stream",
     "text": [
      "5.0\n"
     ]
    }
   ],
   "source": [
    "print(10/2) ## '/' it returns a flot output"
   ]
  },
  {
   "cell_type": "markdown",
   "metadata": {
    "id": "shjh8uJqS5rV"
   },
   "source": [
    "#### Example: Program to calculate the divisors of number"
   ]
  },
  {
   "cell_type": "code",
   "execution_count": 42,
   "metadata": {
    "id": "iaJU4eSMS5rV"
   },
   "outputs": [
    {
     "name": "stdout",
     "output_type": "stream",
     "text": [
      "Please enter a positive Number: 14\n",
      "[1, 2, 7]\n"
     ]
    }
   ],
   "source": [
    "## 100 >> 2,4,5,10,20,25,50,100\n",
    "## 24 >> 2,3,4,6,12,24 ## 2,3,4,5,6,7,8,9,10,11,12\n",
    "inputNumber = input(\"Please enter a positive Number: \")\n",
    "number = int(inputNumber)\n",
    "listOfDivisors = [1]\n",
    "\n",
    "for divisor in range(2, int(number/2)+1 ): #10  >> 2,3,4,5\n",
    "    if(number%divisor ==0):\n",
    "        listOfDivisors.append(divisor)\n",
    "\n",
    "print(listOfDivisors)\n",
    "    \n",
    "        \n",
    "        \n",
    "    \n",
    "\n"
   ]
  },
  {
   "cell_type": "markdown",
   "metadata": {
    "id": "xEkZax3US5rV"
   },
   "source": [
    "---\n",
    "\n",
    "# 13.4 <u>break & continue</u> in Python  "
   ]
  },
  {
   "cell_type": "markdown",
   "metadata": {
    "id": "9QQux3GwS5rV"
   },
   "source": [
    "The break and continue statements can alter the flow of a normal loop.\n",
    "\n",
    "Loops iterate over a block of code until test expression is false, but sometimes we may need to terminate the current iteration or even the whole loop without cheking test expression.\n",
    "\n",
    "The break and continue statements are used in these cases.\n",
    "\n",
    "#### Python break Statement\n",
    "\n",
    "Syntax:\n",
    "    \n",
    "    break\n",
    "    \n",
    "#### Python continue Statement\n",
    "    \n",
    "syntax:\n",
    "    \n",
    "    continue\n",
    "    \n"
   ]
  },
  {
   "cell_type": "markdown",
   "metadata": {
    "id": "H05bny-US5rW"
   },
   "source": [
    "#### Flowchart of <u>break and continue</u> loop\n",
    "\n",
    "\n",
    "<table width=100%>\n",
    "    <tr><th align=\"center\"><h2>break</h2></th><th align=\"center\"><h2>continue</h2></th></tr>\n",
    "    <tr><td><img height=\"260\" width=\"300\" src=\"https://github.com/suchitmajumdar/LearnPython/blob/master/images/break.jpg?raw=true\"></img></td><td><img height=\"260\" width=\"380\" src=\"https://github.com/suchitmajumdar/LearnPython/blob/master/images/continue.jpg?raw=true\"></img></td>\n",
    "    </tr>\n",
    "</table>\n",
    "\n",
    "\n"
   ]
  },
  {
   "cell_type": "markdown",
   "metadata": {
    "id": "R8AiBHCcS5rW"
   },
   "source": [
    "#### Examples of break and continue"
   ]
  },
  {
   "cell_type": "code",
   "execution_count": 46,
   "metadata": {
    "id": "fJUpMhETS5rW"
   },
   "outputs": [
    {
     "name": "stdout",
     "output_type": "stream",
     "text": [
      "Nihal\n",
      "Pavan\n",
      "Totally outside the for and the else block\n"
     ]
    }
   ],
   "source": [
    "#Use of Break\n",
    "names= ['Nihal', 'Pavan','Saqib']\n",
    "for name in names:\n",
    "    if name =='Saqib':\n",
    "        break\n",
    "    print(name)\n",
    "else:\n",
    "    print('For is completed and we are in the else part')\n",
    "print('Totally outside the for and the else block')"
   ]
  },
  {
   "cell_type": "code",
   "execution_count": 45,
   "metadata": {
    "id": "gjN4h6u7S5rW"
   },
   "outputs": [
    {
     "name": "stdout",
     "output_type": "stream",
     "text": [
      "Nihal\n",
      "Saqib\n",
      "For is completed and we are in the else part\n",
      "Totally outside the for and the else block\n"
     ]
    }
   ],
   "source": [
    "## Use of Continue\n",
    "names= ['Nihal', 'Pavan','Saqib']\n",
    "for name in names:\n",
    "    if name == 'Pavan':\n",
    "        continue\n",
    "    print(name)\n",
    "else:\n",
    "    print('For is completed and we are in the else part')\n",
    "print('Totally outside the for and the else block')"
   ]
  },
  {
   "cell_type": "markdown",
   "metadata": {
    "id": "iKJ50UOgS5rW"
   },
   "source": [
    "#### Example: First 3 divisors of a number except 2 & 3"
   ]
  },
  {
   "cell_type": "code",
   "execution_count": 48,
   "metadata": {
    "id": "2r2daIwyS5rW"
   },
   "outputs": [
    {
     "name": "stdout",
     "output_type": "stream",
     "text": [
      "Please enter a positive Number: 30\n",
      "[1, 5, 6]\n"
     ]
    }
   ],
   "source": [
    "inputNumber = input(\"Please enter a positive Number: \")\n",
    "number = int(inputNumber)\n",
    "listOfDivisors=[1]\n",
    "\n",
    "for divisor in range (2, int(number/2)+1):\n",
    "    if number%divisor ==0:\n",
    "        if divisor in [2,3]:#it checks membership\n",
    "            continue\n",
    "        elif len(listOfDivisors)==3:\n",
    "            break\n",
    "        listOfDivisors.append(divisor)\n",
    "print(listOfDivisors)"
   ]
  },
  {
   "cell_type": "code",
   "execution_count": null,
   "metadata": {
    "id": "3cPzb42hS5rW"
   },
   "outputs": [],
   "source": []
  }
 ],
 "metadata": {
  "colab": {
   "name": "PythonBasics_4-1531630157879.ipynb",
   "provenance": []
  },
  "kernelspec": {
   "display_name": "Python 3 (ipykernel)",
   "language": "python",
   "name": "python3"
  },
  "language_info": {
   "codemirror_mode": {
    "name": "ipython",
    "version": 3
   },
   "file_extension": ".py",
   "mimetype": "text/x-python",
   "name": "python",
   "nbconvert_exporter": "python",
   "pygments_lexer": "ipython3",
   "version": "3.9.12"
  }
 },
 "nbformat": 4,
 "nbformat_minor": 1
}
