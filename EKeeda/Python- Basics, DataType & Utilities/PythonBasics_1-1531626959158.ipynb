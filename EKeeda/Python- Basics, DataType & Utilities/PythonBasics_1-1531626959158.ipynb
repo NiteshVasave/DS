{
 "cells": [
  {
   "cell_type": "markdown",
   "metadata": {},
   "source": [
    "# <center>Python Basics<center/> \n",
    "<img height=\"60\" width=\"120\" src=\"https://www.python.org/static/img/python-logo-large.png?1414305901\"></img>"
   ]
  },
  {
   "cell_type": "markdown",
   "metadata": {},
   "source": [
    "<b>Welcome</b> to Python tutorial. For your benefit we have broken down the entire tutorial into multiple parts so that you can take it step by step. Please learn Python in the sequence of the notebooks and topic wise as per the Table Of Contents.\n",
    "\n",
    "Wish you a Happy Learning!\n",
    "<br/>\n",
    "<br/>\n",
    "<br/>\n",
    "<br/>"
   ]
  },
  {
   "cell_type": "markdown",
   "metadata": {},
   "source": [
    "# Table of contents\n",
    "<br/>\n",
    "<a href = \"#1.-Python-Keywords\">1. Python Keywords</a>\n",
    "\n",
    "<a href = \"#2.-Identifiers\">2. Identifiers</a>\n",
    "\n",
    "<a href = \"#3.-Comments-in-Python\">3. Comments in Python</a>\n",
    "\n",
    "<a href = \"#4.-Python-Indentation\">4. Python Indentation</a>\n",
    "\n",
    "<a href = \"#5.-Python-Statement\">5. Python Statement</a>"
   ]
  },
  {
   "cell_type": "markdown",
   "metadata": {},
   "source": [
    "# 1. Python Keywords"
   ]
  },
  {
   "cell_type": "markdown",
   "metadata": {},
   "source": [
    "Keywords in Python are reservered words that cannot be used as ordinary\n",
    "identifiers.<p/>\n",
    "They must be spelled exacty as they are written. <p/>\n",
    "The 33 keywords in Python 3.6 are:<p/>"
   ]
  },
  {
   "cell_type": "markdown",
   "metadata": {},
   "source": [
    "<table width='100%'>\n",
    "<tr><th>and</tc><th>del</tc><th>from</tc><th>not</tc><th>while</tc></tr>\n",
    "<tr><th>as</tc><th> elif</tc><th>global</tc><th>or</tc><th> with</tc></tr>\n",
    "<tr><th>assert</tc><th>else</tc><th>if</tc><th> pass</tc><th>yield</tc></tr>\n",
    "<tr><th>break</tc><th> except</tc><th>import</tc><th>print</tc></tr>\n",
    "<tr><th>class</tc><th> exec</tc><th>in</tc><th> raise</tc></tr>\n",
    "<tr><th>continue</tc><th>finally</tc><th> is</tc><th> return </tc></tr>\n",
    "<tr><th>def</tc><th>for</tc><th>lambda</tc><th>try</tc></tr>\n",
    "</table>"
   ]
  },
  {
   "cell_type": "code",
   "execution_count": 107,
   "metadata": {},
   "outputs": [
    {
     "name": "stdout",
     "output_type": "stream",
     "text": [
      "['False', 'None', 'True', '__peg_parser__', 'and', 'as', 'assert', 'async', 'await', 'break', 'class', 'continue', 'def', 'del', 'elif', 'else', 'except', 'finally', 'for', 'from', 'global', 'if', 'import', 'in', 'is', 'lambda', 'nonlocal', 'not', 'or', 'pass', 'raise', 'return', 'try', 'while', 'with', 'yield']\n"
     ]
    }
   ],
   "source": [
    "#To extract all keywords in python 3.6 use the below code\n",
    "\n",
    "import keyword\n",
    "\n",
    "print(keyword.kwlist)"
   ]
  },
  {
   "cell_type": "code",
   "execution_count": 109,
   "metadata": {},
   "outputs": [
    {
     "name": "stdout",
     "output_type": "stream",
     "text": [
      "keywords in python 3.6 are: 36\n",
      "data type: <class 'list'>\n"
     ]
    }
   ],
   "source": [
    "# Number of keywords are \n",
    "print(\"keywords in python 3.6 are:\", len(keyword.kwlist)) # To find the length of a list we use len function.\n",
    "print(\"data type:\", type(keyword.kwlist))"
   ]
  },
  {
   "cell_type": "code",
   "execution_count": 6,
   "metadata": {},
   "outputs": [
    {
     "ename": "SyntaxError",
     "evalue": "invalid syntax (1040029320.py, line 2)",
     "output_type": "error",
     "traceback": [
      "\u001b[1;36m  Input \u001b[1;32mIn [6]\u001b[1;36m\u001b[0m\n\u001b[1;33m    from = \"Amit\" #Name is called an identifier or a variable name\u001b[0m\n\u001b[1;37m         ^\u001b[0m\n\u001b[1;31mSyntaxError\u001b[0m\u001b[1;31m:\u001b[0m invalid syntax\n"
     ]
    }
   ],
   "source": [
    "##Hit Shft+ Enter or Ctrl+Enter to run a particular cell\n",
    "from = \"Amit\" #Name is called an identifier or a variable name \n",
    "\n",
    "#I had Rice and Dal in Lunch\n",
    "## and >>> true and true >> true\n",
    "##true and false >> false\n",
    "#A = true\n",
    "#B=false\n",
    "## or>> A or B >> ture >> Or >>Atleast any one among the 2 variables needs\n",
    "#to be true for the condition to be true\n",
    "#else the condition is false\n",
    "\n",
    "\n",
    "#A         B           OR           AND\n",
    "#true     true        true          true\n",
    "#true     false       true          false\n",
    "#false    true        true          false\n",
    "#false    false       false         false"
   ]
  },
  {
   "cell_type": "markdown",
   "metadata": {},
   "source": [
    "Memory in Computer Systems >> RAM and ROM( HDD, SSD)\n",
    "Our work is stored in the memory.\n",
    "name = \"This is a string\" #variable means >> Whose value varies \n",
    "name variable will be stored in the Memory "
   ]
  },
  {
   "cell_type": "code",
   "execution_count": 16,
   "metadata": {},
   "outputs": [
    {
     "name": "stdout",
     "output_type": "stream",
     "text": [
      "2373801867184\n",
      "2373801867184\n"
     ]
    }
   ],
   "source": [
    "name = \"Test\" #Assignment Operator \n",
    "name\n",
    "print(id(name))\n",
    "name1 =name\n",
    "print(id(name1))\n"
   ]
  },
  {
   "cell_type": "markdown",
   "metadata": {
    "collapsed": true
   },
   "source": [
    "# 2. Identifiers"
   ]
  },
  {
   "cell_type": "markdown",
   "metadata": {},
   "source": [
    "Identifiers (also referred to as names) is given to entities like class, functions, variables etc. in Python. It helps differentiating one entity from another."
   ]
  },
  {
   "cell_type": "markdown",
   "metadata": {},
   "source": [
    "Rules for Writing Identifiers:\n",
    "\n",
    "1. Identifiers can be a combination of letters in lowercase (a to z) or uppercase (A to Z) or digits (0 to 9) or an underscore (_).\n",
    "\n",
    "2. An identifier cannot start with a digit. <i>'99somename'</i> is invalid, but <i>'somename99'</i> is perfectly fine.\n",
    "\n",
    "3. Keywords cannot be used as identifiers."
   ]
  },
  {
   "cell_type": "code",
   "execution_count": 13,
   "metadata": {},
   "outputs": [
    {
     "data": {
      "text/plain": [
       "'Variable name is Camel Case'"
      ]
     },
     "execution_count": 13,
     "metadata": {},
     "output_type": "execute_result"
    }
   ],
   "source": [
    "#99name=  \"Amit\"## Cannot start with numeric value\n",
    "name99= \"Data Science 1st coding class\"\n",
    "name99\n",
    "Name99 =\"Starting with Capital Letter\"\n",
    "Name99\n",
    "name_99=\"Introducing Underscore to the naming\"\n",
    "name_99\n",
    "\n",
    "#IndustryStandared to be followed:\n",
    "    #For ideitifiers which include name spacing , we should be using camelCase:\n",
    "\n",
    "variableName= \"Variable name is Camel Case\"\n",
    "variableName\n",
    "#variableName1\n",
    "#variableName_2"
   ]
  },
  {
   "cell_type": "code",
   "execution_count": null,
   "metadata": {},
   "outputs": [],
   "source": [
    "##Identifier  includes variables, functions and classes"
   ]
  },
  {
   "cell_type": "code",
   "execution_count": null,
   "metadata": {},
   "outputs": [],
   "source": []
  },
  {
   "cell_type": "markdown",
   "metadata": {},
   "source": [
    " We cannot use special symbols like !, @, #, $, % etc. in our identifier."
   ]
  },
  {
   "cell_type": "code",
   "execution_count": 21,
   "metadata": {},
   "outputs": [
    {
     "ename": "SyntaxError",
     "evalue": "invalid syntax (4264992483.py, line 3)",
     "output_type": "error",
     "traceback": [
      "\u001b[1;36m  Input \u001b[1;32mIn [21]\u001b[1;36m\u001b[0m\n\u001b[1;33m    variableName@ =\"Trying to use special characters in the identifier\"\u001b[0m\n\u001b[1;37m                  ^\u001b[0m\n\u001b[1;31mSyntaxError\u001b[0m\u001b[1;31m:\u001b[0m invalid syntax\n"
     ]
    }
   ],
   "source": [
    "variableName =\"Trying to use special characters in the identifier\"\n",
    "variableName\n",
    "variableName@ =\"Trying to use special characters in the identifier\"\n",
    "variableName@"
   ]
  },
  {
   "cell_type": "markdown",
   "metadata": {},
   "source": [
    "### Few more correct identifiers"
   ]
  },
  {
   "cell_type": "code",
   "execution_count": 24,
   "metadata": {},
   "outputs": [
    {
     "ename": "SyntaxError",
     "evalue": "invalid syntax (69770414.py, line 6)",
     "output_type": "error",
     "traceback": [
      "\u001b[1;36m  Input \u001b[1;32mIn [24]\u001b[1;36m\u001b[0m\n\u001b[1;33m    .ablcd= \"StringValue\"\u001b[0m\n\u001b[1;37m    ^\u001b[0m\n\u001b[1;31mSyntaxError\u001b[0m\u001b[1;31m:\u001b[0m invalid syntax\n"
     ]
    }
   ],
   "source": [
    "#Identifiers can be a combination of letters in lowercase (a to z) or \n",
    "#uppercase (A to Z) or digits (0 to 9) or an underscore (_).\n",
    "userName\n",
    "variable_99\n",
    "a1a2a3\n",
    ".ablcd= \"StringValue\"\n",
    ".ablcd\n"
   ]
  },
  {
   "cell_type": "code",
   "execution_count": 35,
   "metadata": {},
   "outputs": [
    {
     "name": "stdout",
     "output_type": "stream",
     "text": [
      "2373801867184\n",
      "Assigning value\n"
     ]
    },
    {
     "data": {
      "text/plain": [
       "'GenericName'"
      ]
     },
     "execution_count": 35,
     "metadata": {},
     "output_type": "execute_result"
    }
   ],
   "source": [
    "#_name=\"UnderscoreName\"\n",
    "#_name\n",
    "#_0\n",
    "#_0_name\n",
    "#name(name) = \"Name\" ##This is not treated as a variable because it is similar to a function call\n",
    "#name(name)\n",
    "name1 # initialize with null in the memory\n",
    "print(id(name1))\n",
    "name2 = \"GenericName\"\n",
    "name1 = \"Assigning value\"\n",
    "print(name1)\n",
    "name2\n",
    "\n"
   ]
  },
  {
   "cell_type": "code",
   "execution_count": 37,
   "metadata": {},
   "outputs": [
    {
     "data": {
      "text/plain": [
       "'UnderscoreNumericalValue'"
      ]
     },
     "execution_count": 37,
     "metadata": {},
     "output_type": "execute_result"
    }
   ],
   "source": [
    "_0  = \"UnderscoreNumericalValue\"\n",
    "_0"
   ]
  },
  {
   "cell_type": "markdown",
   "metadata": {},
   "source": [
    "# 3. Comments in Python"
   ]
  },
  {
   "cell_type": "markdown",
   "metadata": {},
   "source": [
    "A comment may appear at the start of a line or following whitespace or code, but not within a string literal.<br/>\n",
    "A hash character within a string literal is just a hash character.<br/>\n",
    "Comments are lines that are ignored by compilers and interpreters. <br/>\n",
    "### This is one of the best way to convey the idea behind the code and people reusing your code can easily make sense of your code"
   ]
  },
  {
   "cell_type": "markdown",
   "metadata": {},
   "source": [
    "### Single line comment"
   ]
  },
  {
   "cell_type": "code",
   "execution_count": null,
   "metadata": {},
   "outputs": [],
   "source": [
    "#This is a single Line Comment"
   ]
  },
  {
   "cell_type": "markdown",
   "metadata": {},
   "source": [
    "### Multi line comment"
   ]
  },
  {
   "cell_type": "code",
   "execution_count": null,
   "metadata": {},
   "outputs": [],
   "source": [
    "#This is Multi Line Comment 1\n",
    "#This is Multi line Comment 2\n",
    "#This is Multi Line Comment 3\n"
   ]
  },
  {
   "cell_type": "code",
   "execution_count": 40,
   "metadata": {},
   "outputs": [
    {
     "data": {
      "text/plain": [
       "13"
      ]
     },
     "execution_count": 40,
     "metadata": {},
     "output_type": "execute_result"
    }
   ],
   "source": [
    "'''\n",
    "intVar1 =2\n",
    "intVar2= 3\n",
    "intSum = intVar1+intVar2\n",
    "intSum\n",
    "'''\n",
    "\n",
    "intVar1 =5\n",
    "intVar2= 8\n",
    "intSum = intVar1+intVar2\n",
    "intSum\n",
    "\n"
   ]
  },
  {
   "cell_type": "code",
   "execution_count": 39,
   "metadata": {},
   "outputs": [
    {
     "data": {
      "text/plain": [
       "13"
      ]
     },
     "execution_count": 39,
     "metadata": {},
     "output_type": "execute_result"
    }
   ],
   "source": [
    "\"\"\"\n",
    "intVar1 =2\n",
    "intVar2= 3\n",
    "intSum = intVar1+intVar2\n",
    "intSum\n",
    "\"\"\"\n",
    "\n",
    "intVar1 =5\n",
    "intVar2= 8\n",
    "intSum = intVar1+intVar2\n",
    "intSum\n"
   ]
  },
  {
   "cell_type": "markdown",
   "metadata": {},
   "source": [
    "### Docstring"
   ]
  },
  {
   "cell_type": "markdown",
   "metadata": {},
   "source": [
    "Docstring is short for documentation string.<p/>\n",
    "\n",
    "String that occurs as the first statement in a module, function, class, <br/>\n",
    "or method definition. Used to define what a function/class does."
   ]
  },
  {
   "cell_type": "code",
   "execution_count": 56,
   "metadata": {},
   "outputs": [
    {
     "name": "stdout",
     "output_type": "stream",
     "text": [
      "12Amit\n"
     ]
    },
    {
     "data": {
      "text/plain": [
       "'AmitYadav'"
      ]
     },
     "execution_count": 56,
     "metadata": {},
     "output_type": "execute_result"
    }
   ],
   "source": [
    "\n",
    "def my_abc():  ##naming a function = naming a variable+(): , write a return statement\n",
    "    \"\"\"\n",
    "    Non Parameterized :This function is convering a integer value to \n",
    "    string and then concatening it with another string\n",
    "    \"\"\"\n",
    "    variableName = \"amit\"\n",
    "    variable1 = 5\n",
    "    variable2= 7 \n",
    "    variable3 = variable1+variable2\n",
    "    return str(variable3)+\"Amit\"\n",
    "\n",
    "print(my_function())\n",
    "\n",
    "name = \"Amit\"+\"Yadav\"\n",
    "name\n",
    "\n",
    "\n",
    "\n",
    "\n",
    "    \n",
    "    \n",
    "    \n",
    "    "
   ]
  },
  {
   "cell_type": "code",
   "execution_count": 54,
   "metadata": {},
   "outputs": [
    {
     "data": {
      "text/plain": [
       "'\\n    This function is convering a integer value to \\n    string and then concatening it with another string\\n    '"
      ]
     },
     "execution_count": 54,
     "metadata": {},
     "output_type": "execute_result"
    }
   ],
   "source": [
    "my_function.__doc__"
   ]
  },
  {
   "cell_type": "code",
   "execution_count": 55,
   "metadata": {},
   "outputs": [
    {
     "name": "stdout",
     "output_type": "stream",
     "text": [
      "\n",
      "    This function is convering a integer value to \n",
      "    string and then concatening it with another string\n",
      "    \n"
     ]
    }
   ],
   "source": [
    "print(my_function.__doc__)"
   ]
  },
  {
   "cell_type": "code",
   "execution_count": 105,
   "metadata": {},
   "outputs": [
    {
     "data": {
      "text/plain": [
       "9"
      ]
     },
     "execution_count": 105,
     "metadata": {},
     "output_type": "execute_result"
    }
   ],
   "source": [
    "def add_two_no_Function(var2, var1):\n",
    "                \"\"\"\n",
    "               Parameterized function : It takes two integers as \\\n",
    "                input and adds it internally and returns the output\n",
    "                \"\"\"\n",
    "                intSum = var1+var2\n",
    "                return intSum\n",
    "\n",
    "add_two_no_Function(4,5)\n",
    "\n",
    "\n"
   ]
  },
  {
   "cell_type": "code",
   "execution_count": 106,
   "metadata": {},
   "outputs": [
    {
     "name": "stdout",
     "output_type": "stream",
     "text": [
      "\n",
      "               Parameterized function : It takes two integers as                 input and adds it internally and returns the output\n",
      "                \n"
     ]
    }
   ],
   "source": [
    "print(add_two_no_Function.__doc__)"
   ]
  },
  {
   "cell_type": "markdown",
   "metadata": {},
   "source": [
    "# 4. Python Indentation"
   ]
  },
  {
   "cell_type": "markdown",
   "metadata": {},
   "source": [
    "Unlike C, C++, Java where we use braces { } to define a block of code, in Python we use indentation.\n",
    "\n",
    "A code block (body of a function, loop etc.) starts with indentation and ends with the first unindented line. The amount of indentation is up to you, but it must be consistent throughout that block.\n",
    "\n",
    "Generally four whitespaces are used for indentation and is preferred over tabs.\n",
    "\n",
    "Leading whitespace (spaces and tabs) at the beginning of a logical line is used to compute the indentation level of the line, <b>which in turn is used to determine the grouping of statements</b>."
   ]
  },
  {
   "cell_type": "code",
   "execution_count": 66,
   "metadata": {},
   "outputs": [
    {
     "name": "stdout",
     "output_type": "stream",
     "text": [
      "Input 1 is less than Input 2\n"
     ]
    },
    {
     "data": {
      "text/plain": [
       "'Output Printed'"
      ]
     },
     "execution_count": 66,
     "metadata": {},
     "output_type": "execute_result"
    }
   ],
   "source": [
    "def my_fun(input1, input2):\n",
    "    if(input1<input2):   ##  1<2  == Boolean >> True and False // if(true):\n",
    "        \n",
    "        print(\"Input 1 is less than Input 2\") # Logical continuation maintained\n",
    "        \n",
    "    else:\n",
    "       print(\"Input 1 is equal to or Input 2\") # Logical continuation maintained\n",
    "        \n",
    "    \n",
    "    \n",
    "    return \"Output Printed\" # Logical continuation maintained\n",
    "\n",
    "my_fun(8,10)# This finction will return an output here, \"Outpur Printed\"\n",
    "    "
   ]
  },
  {
   "cell_type": "code",
   "execution_count": null,
   "metadata": {},
   "outputs": [],
   "source": [
    "variable1 = 10\n",
    "  variable2 = 20          # Logical continuation disrupted"
   ]
  },
  {
   "cell_type": "code",
   "execution_count": 71,
   "metadata": {},
   "outputs": [
    {
     "name": "stdout",
     "output_type": "stream",
     "text": [
      "This is a test in the funciton\n"
     ]
    }
   ],
   "source": [
    "def my_fun():\n",
    "    \n",
    "    print(\"This is a test in the funciton\") # Logical continuation maintained\n",
    "    \n",
    "    \n",
    "    \n",
    "my_fun()    "
   ]
  },
  {
   "cell_type": "code",
   "execution_count": null,
   "metadata": {},
   "outputs": [],
   "source": []
  },
  {
   "cell_type": "code",
   "execution_count": null,
   "metadata": {},
   "outputs": [],
   "source": []
  },
  {
   "cell_type": "markdown",
   "metadata": {},
   "source": [
    "### Indentation is a good way to keep the code readable"
   ]
  },
  {
   "cell_type": "code",
   "execution_count": null,
   "metadata": {},
   "outputs": [],
   "source": []
  },
  {
   "cell_type": "markdown",
   "metadata": {},
   "source": [
    "# 5. Python Statement"
   ]
  },
  {
   "cell_type": "markdown",
   "metadata": {},
   "source": [
    "Instructions that a Python interpreter can execute are called statements. For example, a = 1 is an assignment statement. if statement, for statement, while statement etc. are other kinds of statements which will be discussed later."
   ]
  },
  {
   "cell_type": "markdown",
   "metadata": {},
   "source": [
    "### Single-line statement"
   ]
  },
  {
   "cell_type": "code",
   "execution_count": 72,
   "metadata": {},
   "outputs": [
    {
     "name": "stdout",
     "output_type": "stream",
     "text": [
      "String inputVaiable\n",
      "2\n",
      "5.6\n"
     ]
    }
   ],
   "source": [
    "strVariable, intVariable, doubleVariable = \"String inputVaiable\", 2,5.6\n",
    "\n",
    "\n",
    "print(strVariable)\n",
    "print(intVariable)\n",
    "print(doubleVariable)\n",
    "\n",
    "\n"
   ]
  },
  {
   "cell_type": "code",
   "execution_count": 76,
   "metadata": {},
   "outputs": [
    {
     "name": "stdout",
     "output_type": "stream",
     "text": [
      "2.0\n"
     ]
    }
   ],
   "source": [
    "#floating point numerical value\n",
    "intValue= 2\n",
    "print(float(intValue))"
   ]
  },
  {
   "cell_type": "markdown",
   "metadata": {},
   "source": [
    "### Multi-line statement \n",
    "(Use a continuation character '\\')"
   ]
  },
  {
   "cell_type": "code",
   "execution_count": 101,
   "metadata": {},
   "outputs": [
    {
     "data": {
      "text/plain": [
       "'My Name is Amit Yadav'"
      ]
     },
     "execution_count": 101,
     "metadata": {},
     "output_type": "execute_result"
    }
   ],
   "source": [
    "varName = \"My \\\n",
    "Name \\\n",
    "is \\\n",
    "Amit \\\n",
    "Yadav\" #It understands to be a continuation of the statement\n",
    "#We use continuation operator to break string to a multi line statement.\n",
    "\n",
    "varName"
   ]
  },
  {
   "cell_type": "markdown",
   "metadata": {},
   "source": [
    "##"
   ]
  },
  {
   "cell_type": "code",
   "execution_count": 104,
   "metadata": {},
   "outputs": [
    {
     "name": "stdout",
     "output_type": "stream",
     "text": [
      "Data Science Class\n"
     ]
    }
   ],
   "source": [
    "a = '''Data \\\n",
    "Science \\\n",
    "Class'''\n",
    "print(a)"
   ]
  },
  {
   "cell_type": "code",
   "execution_count": 102,
   "metadata": {},
   "outputs": [
    {
     "ename": "SyntaxError",
     "evalue": "invalid syntax (1320412268.py, line 1)",
     "output_type": "error",
     "traceback": [
      "\u001b[1;36m  Input \u001b[1;32mIn [102]\u001b[1;36m\u001b[0m\n\u001b[1;33m    a =\u001b[0m\n\u001b[1;37m        ^\u001b[0m\n\u001b[1;31mSyntaxError\u001b[0m\u001b[1;31m:\u001b[0m invalid syntax\n"
     ]
    }
   ],
   "source": [
    "a = \"\"\"Data\n",
    "Science\n",
    "Class\"\"\"\n",
    "print(type(a))"
   ]
  },
  {
   "cell_type": "code",
   "execution_count": 99,
   "metadata": {},
   "outputs": [
    {
     "name": "stdout",
     "output_type": "stream",
     "text": [
      "\n",
      "    Data\n",
      "Science\n",
      "Class\n",
      "    \n",
      "Hello Documentation\n"
     ]
    }
   ],
   "source": [
    "def fn():\n",
    "    '''Hello Documentation'''    \n",
    "    a = '''\n",
    "    Data\n",
    "Science\n",
    "Class\n",
    "    '''\n",
    "    print(a)\n",
    "fn()\n",
    "print(fn.__doc__)"
   ]
  },
  {
   "cell_type": "code",
   "execution_count": null,
   "metadata": {},
   "outputs": [],
   "source": [
    "number = 10 + 20 + \\\n",
    "         30 + 40 + \\\n",
    "         50\n",
    "    \n",
    "print(number)"
   ]
  },
  {
   "cell_type": "markdown",
   "metadata": {},
   "source": [
    "(Alternately use brackets)"
   ]
  },
  {
   "cell_type": "code",
   "execution_count": null,
   "metadata": {},
   "outputs": [],
   "source": [
    "number = (10 + 20 + \n",
    "         30 + 40 + \n",
    "         50)\n",
    "    \n",
    "print(number)"
   ]
  }
 ],
 "metadata": {
  "kernelspec": {
   "display_name": "Python 3 (ipykernel)",
   "language": "python",
   "name": "python3"
  },
  "language_info": {
   "codemirror_mode": {
    "name": "ipython",
    "version": 3
   },
   "file_extension": ".py",
   "mimetype": "text/x-python",
   "name": "python",
   "nbconvert_exporter": "python",
   "pygments_lexer": "ipython3",
   "version": "3.9.12"
  }
 },
 "nbformat": 4,
 "nbformat_minor": 2
}
