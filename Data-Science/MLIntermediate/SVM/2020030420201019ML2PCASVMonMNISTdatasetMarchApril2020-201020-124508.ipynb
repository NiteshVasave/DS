{
 "cells": [
  {
   "cell_type": "code",
   "execution_count": null,
   "metadata": {},
   "outputs": [],
   "source": []
  },
  {
   "cell_type": "code",
   "execution_count": 1,
   "metadata": {},
   "outputs": [],
   "source": [
    "import sklearn\n",
    "import numpy as np\n",
    "import pandas as pd\n",
    "import matplotlib.pyplot as plt\n",
    "%matplotlib inline"
   ]
  },
  {
   "cell_type": "code",
   "execution_count": 2,
   "metadata": {},
   "outputs": [],
   "source": [
    "from mlxtend.data import loadlocal_mnist\n",
    "\n",
    "X, y = loadlocal_mnist(\n",
    "        images_path='C:/Users/deepe/OneDrive/Desktop/INSAID/datasets/mnist_dataset/train-images.idx3-ubyte', \n",
    "        labels_path='C:/Users/deepe/OneDrive/Desktop/INSAID/datasets/mnist_dataset/train-labels.idx1-ubyte')\n",
    "\n",
    "\n",
    "np.savetxt(fname='C:/Users/deepe/OneDrive/Desktop/INSAID/datasets/mnist_dataset/images.csv', \n",
    "           X=X, delimiter=',', fmt='%d')\n",
    "np.savetxt(fname='C:/Users/deepe/OneDrive/Desktop/INSAID/datasets/mnist_dataset/labels.csv', \n",
    "           X=y, delimiter=',', fmt='%d')"
   ]
  },
  {
   "cell_type": "code",
   "execution_count": 3,
   "metadata": {},
   "outputs": [],
   "source": [
    "#create the read_data file just by entering column names as X1 to X784 in excel and save it as image_data.csv\n",
    "# also upload the file in the jupyter notebook."
   ]
  },
  {
   "cell_type": "code",
   "execution_count": 4,
   "metadata": {},
   "outputs": [
    {
     "data": {
      "text/html": [
       "<div>\n",
       "<style scoped>\n",
       "    .dataframe tbody tr th:only-of-type {\n",
       "        vertical-align: middle;\n",
       "    }\n",
       "\n",
       "    .dataframe tbody tr th {\n",
       "        vertical-align: top;\n",
       "    }\n",
       "\n",
       "    .dataframe thead th {\n",
       "        text-align: right;\n",
       "    }\n",
       "</style>\n",
       "<table border=\"1\" class=\"dataframe\">\n",
       "  <thead>\n",
       "    <tr style=\"text-align: right;\">\n",
       "      <th></th>\n",
       "      <th>X1</th>\n",
       "      <th>X2</th>\n",
       "      <th>X3</th>\n",
       "      <th>X4</th>\n",
       "      <th>X5</th>\n",
       "      <th>X6</th>\n",
       "      <th>X7</th>\n",
       "      <th>X8</th>\n",
       "      <th>X9</th>\n",
       "      <th>X10</th>\n",
       "      <th>...</th>\n",
       "      <th>X775</th>\n",
       "      <th>X776</th>\n",
       "      <th>X777</th>\n",
       "      <th>X778</th>\n",
       "      <th>X779</th>\n",
       "      <th>X780</th>\n",
       "      <th>X781</th>\n",
       "      <th>X782</th>\n",
       "      <th>X783</th>\n",
       "      <th>X784</th>\n",
       "    </tr>\n",
       "  </thead>\n",
       "  <tbody>\n",
       "    <tr>\n",
       "      <th>0</th>\n",
       "      <td>0</td>\n",
       "      <td>0</td>\n",
       "      <td>0</td>\n",
       "      <td>0</td>\n",
       "      <td>0</td>\n",
       "      <td>0</td>\n",
       "      <td>0</td>\n",
       "      <td>0</td>\n",
       "      <td>0</td>\n",
       "      <td>0</td>\n",
       "      <td>...</td>\n",
       "      <td>0</td>\n",
       "      <td>0</td>\n",
       "      <td>0</td>\n",
       "      <td>0</td>\n",
       "      <td>0</td>\n",
       "      <td>0</td>\n",
       "      <td>0</td>\n",
       "      <td>0</td>\n",
       "      <td>0</td>\n",
       "      <td>0</td>\n",
       "    </tr>\n",
       "    <tr>\n",
       "      <th>1</th>\n",
       "      <td>0</td>\n",
       "      <td>0</td>\n",
       "      <td>0</td>\n",
       "      <td>0</td>\n",
       "      <td>0</td>\n",
       "      <td>0</td>\n",
       "      <td>0</td>\n",
       "      <td>0</td>\n",
       "      <td>0</td>\n",
       "      <td>0</td>\n",
       "      <td>...</td>\n",
       "      <td>0</td>\n",
       "      <td>0</td>\n",
       "      <td>0</td>\n",
       "      <td>0</td>\n",
       "      <td>0</td>\n",
       "      <td>0</td>\n",
       "      <td>0</td>\n",
       "      <td>0</td>\n",
       "      <td>0</td>\n",
       "      <td>0</td>\n",
       "    </tr>\n",
       "    <tr>\n",
       "      <th>2</th>\n",
       "      <td>0</td>\n",
       "      <td>0</td>\n",
       "      <td>0</td>\n",
       "      <td>0</td>\n",
       "      <td>0</td>\n",
       "      <td>0</td>\n",
       "      <td>0</td>\n",
       "      <td>0</td>\n",
       "      <td>0</td>\n",
       "      <td>0</td>\n",
       "      <td>...</td>\n",
       "      <td>0</td>\n",
       "      <td>0</td>\n",
       "      <td>0</td>\n",
       "      <td>0</td>\n",
       "      <td>0</td>\n",
       "      <td>0</td>\n",
       "      <td>0</td>\n",
       "      <td>0</td>\n",
       "      <td>0</td>\n",
       "      <td>0</td>\n",
       "    </tr>\n",
       "    <tr>\n",
       "      <th>3</th>\n",
       "      <td>0</td>\n",
       "      <td>0</td>\n",
       "      <td>0</td>\n",
       "      <td>0</td>\n",
       "      <td>0</td>\n",
       "      <td>0</td>\n",
       "      <td>0</td>\n",
       "      <td>0</td>\n",
       "      <td>0</td>\n",
       "      <td>0</td>\n",
       "      <td>...</td>\n",
       "      <td>0</td>\n",
       "      <td>0</td>\n",
       "      <td>0</td>\n",
       "      <td>0</td>\n",
       "      <td>0</td>\n",
       "      <td>0</td>\n",
       "      <td>0</td>\n",
       "      <td>0</td>\n",
       "      <td>0</td>\n",
       "      <td>0</td>\n",
       "    </tr>\n",
       "    <tr>\n",
       "      <th>4</th>\n",
       "      <td>0</td>\n",
       "      <td>0</td>\n",
       "      <td>0</td>\n",
       "      <td>0</td>\n",
       "      <td>0</td>\n",
       "      <td>0</td>\n",
       "      <td>0</td>\n",
       "      <td>0</td>\n",
       "      <td>0</td>\n",
       "      <td>0</td>\n",
       "      <td>...</td>\n",
       "      <td>0</td>\n",
       "      <td>0</td>\n",
       "      <td>0</td>\n",
       "      <td>0</td>\n",
       "      <td>0</td>\n",
       "      <td>0</td>\n",
       "      <td>0</td>\n",
       "      <td>0</td>\n",
       "      <td>0</td>\n",
       "      <td>0</td>\n",
       "    </tr>\n",
       "  </tbody>\n",
       "</table>\n",
       "<p>5 rows × 784 columns</p>\n",
       "</div>"
      ],
      "text/plain": [
       "   X1  X2  X3  X4  X5  X6  X7  X8  X9  X10  ...  X775  X776  X777  X778  X779  \\\n",
       "0   0   0   0   0   0   0   0   0   0    0  ...     0     0     0     0     0   \n",
       "1   0   0   0   0   0   0   0   0   0    0  ...     0     0     0     0     0   \n",
       "2   0   0   0   0   0   0   0   0   0    0  ...     0     0     0     0     0   \n",
       "3   0   0   0   0   0   0   0   0   0    0  ...     0     0     0     0     0   \n",
       "4   0   0   0   0   0   0   0   0   0    0  ...     0     0     0     0     0   \n",
       "\n",
       "   X780  X781  X782  X783  X784  \n",
       "0     0     0     0     0     0  \n",
       "1     0     0     0     0     0  \n",
       "2     0     0     0     0     0  \n",
       "3     0     0     0     0     0  \n",
       "4     0     0     0     0     0  \n",
       "\n",
       "[5 rows x 784 columns]"
      ]
     },
     "execution_count": 4,
     "metadata": {},
     "output_type": "execute_result"
    }
   ],
   "source": [
    "data = pd.read_csv(\"image_data.csv\")\n",
    "data.head()"
   ]
  },
  {
   "cell_type": "code",
   "execution_count": 5,
   "metadata": {},
   "outputs": [
    {
     "name": "stdout",
     "output_type": "stream",
     "text": [
      "<class 'pandas.core.frame.DataFrame'>\n",
      "RangeIndex: 60000 entries, 0 to 59999\n",
      "Columns: 784 entries, X1 to X784\n",
      "dtypes: int64(784)\n",
      "memory usage: 358.9 MB\n"
     ]
    }
   ],
   "source": [
    "data.info()"
   ]
  },
  {
   "cell_type": "code",
   "execution_count": 6,
   "metadata": {
    "scrolled": true
   },
   "outputs": [
    {
     "data": {
      "text/html": [
       "<div>\n",
       "<style scoped>\n",
       "    .dataframe tbody tr th:only-of-type {\n",
       "        vertical-align: middle;\n",
       "    }\n",
       "\n",
       "    .dataframe tbody tr th {\n",
       "        vertical-align: top;\n",
       "    }\n",
       "\n",
       "    .dataframe thead th {\n",
       "        text-align: right;\n",
       "    }\n",
       "</style>\n",
       "<table border=\"1\" class=\"dataframe\">\n",
       "  <thead>\n",
       "    <tr style=\"text-align: right;\">\n",
       "      <th></th>\n",
       "      <th>0</th>\n",
       "    </tr>\n",
       "  </thead>\n",
       "  <tbody>\n",
       "    <tr>\n",
       "      <th>0</th>\n",
       "      <td>5</td>\n",
       "    </tr>\n",
       "    <tr>\n",
       "      <th>1</th>\n",
       "      <td>0</td>\n",
       "    </tr>\n",
       "    <tr>\n",
       "      <th>2</th>\n",
       "      <td>4</td>\n",
       "    </tr>\n",
       "    <tr>\n",
       "      <th>3</th>\n",
       "      <td>1</td>\n",
       "    </tr>\n",
       "    <tr>\n",
       "      <th>4</th>\n",
       "      <td>9</td>\n",
       "    </tr>\n",
       "  </tbody>\n",
       "</table>\n",
       "</div>"
      ],
      "text/plain": [
       "   0\n",
       "0  5\n",
       "1  0\n",
       "2  4\n",
       "3  1\n",
       "4  9"
      ]
     },
     "execution_count": 6,
     "metadata": {},
     "output_type": "execute_result"
    }
   ],
   "source": [
    "labels = pd.read_csv(\"labels.csv\", header = None)\n",
    "labels.head()"
   ]
  },
  {
   "cell_type": "code",
   "execution_count": 7,
   "metadata": {},
   "outputs": [
    {
     "data": {
      "text/plain": [
       "<matplotlib.image.AxesImage at 0x11e5c128148>"
      ]
     },
     "execution_count": 7,
     "metadata": {},
     "output_type": "execute_result"
    },
    {
     "data": {
      "image/png": "[encoded data removed]",
      "text/plain": [
       "<Figure size 432x288 with 1 Axes>"
      ]
     },
     "metadata": {
      "needs_background": "light"
     },
     "output_type": "display_data"
    }
   ],
   "source": [
    "im = data.iloc[[2]].values.reshape(28,28)\n",
    "plt.imshow(im, cmap = 'gray')"
   ]
  },
  {
   "cell_type": "code",
   "execution_count": 8,
   "metadata": {},
   "outputs": [],
   "source": [
    "#60K data points\n",
    "#logR 60K data points - 10 mins\n",
    "\n",
    "#PCA + Log R 60K data points:\n",
    "# PCA subset points - 4 mins\n",
    "# LogR - 5 mins\n",
    "#-----\n",
    "#total = 9 mins"
   ]
  },
  {
   "cell_type": "code",
   "execution_count": 9,
   "metadata": {},
   "outputs": [],
   "source": [
    "data = data/255 #0-255 original range. simply divide by 255 to get between 0 and 1"
   ]
  },
  {
   "cell_type": "code",
   "execution_count": 10,
   "metadata": {},
   "outputs": [
    {
     "data": {
      "text/plain": [
       "<matplotlib.image.AxesImage at 0x11e5c0fd9c8>"
      ]
     },
     "execution_count": 10,
     "metadata": {},
     "output_type": "execute_result"
    },
    {
     "data": {
      "image/png": "[encoded data removed]",
      "text/plain": [
       "<Figure size 432x288 with 1 Axes>"
      ]
     },
     "metadata": {
      "needs_background": "light"
     },
     "output_type": "display_data"
    }
   ],
   "source": [
    "im = data.iloc[[2]].values.reshape(28,28)\n",
    "plt.imshow(1-im, cmap = 'gray')"
   ]
  },
  {
   "cell_type": "code",
   "execution_count": 11,
   "metadata": {},
   "outputs": [],
   "source": [
    "from sklearn.model_selection import train_test_split\n",
    "X_remaining, X_pca, y_remaining, y_pca = train_test_split(data, labels, test_size=0.20, random_state=1)"
   ]
  },
  {
   "cell_type": "code",
   "execution_count": 12,
   "metadata": {},
   "outputs": [],
   "source": [
    "from sklearn.decomposition import PCA\n",
    "pca = PCA(.95).fit(X_pca)"
   ]
  },
  {
   "cell_type": "code",
   "execution_count": 13,
   "metadata": {},
   "outputs": [
    {
     "data": {
      "text/plain": [
       "[<matplotlib.lines.Line2D at 0x11e5c552d88>]"
      ]
     },
     "execution_count": 13,
     "metadata": {},
     "output_type": "execute_result"
    },
    {
     "data": {
      "image/png": "[encoded data removed]",
      "text/plain": [
       "<Figure size 432x288 with 1 Axes>"
      ]
     },
     "metadata": {
      "needs_background": "light"
     },
     "output_type": "display_data"
    }
   ],
   "source": [
    "var=np.cumsum(np.round(pca.explained_variance_ratio_, decimals=4)*100)\n",
    "plt.ylabel('% Variance Explained')\n",
    "plt.xlabel('Number of Features')\n",
    "plt.title('PCA Analysis')\n",
    "plt.ylim(30,100.5)\n",
    "plt.style.context('seaborn-whitegrid')\n",
    "plt.plot(var)"
   ]
  },
  {
   "cell_type": "code",
   "execution_count": 14,
   "metadata": {},
   "outputs": [
    {
     "name": "stdout",
     "output_type": "stream",
     "text": [
      "152 components explain 95% of the variation in data\n"
     ]
    }
   ],
   "source": [
    "print('%d components explain 95%% of the variation in data' % pca.n_components_)"
   ]
  },
  {
   "cell_type": "code",
   "execution_count": 15,
   "metadata": {},
   "outputs": [
    {
     "name": "stdout",
     "output_type": "stream",
     "text": [
      "(48000, 152)\n"
     ]
    }
   ],
   "source": [
    "X_remaining_t = pca.transform(X_remaining)\n",
    "print(X_remaining_t.shape)"
   ]
  },
  {
   "cell_type": "code",
   "execution_count": 16,
   "metadata": {},
   "outputs": [
    {
     "name": "stdout",
     "output_type": "stream",
     "text": [
      "(12000, 152)\n"
     ]
    }
   ],
   "source": [
    "X_pca_t = pca.transform(X_pca)\n",
    "print(X_pca_t.shape)"
   ]
  },
  {
   "cell_type": "code",
   "execution_count": 17,
   "metadata": {},
   "outputs": [
    {
     "data": {
      "text/html": [
       "<div>\n",
       "<style scoped>\n",
       "    .dataframe tbody tr th:only-of-type {\n",
       "        vertical-align: middle;\n",
       "    }\n",
       "\n",
       "    .dataframe tbody tr th {\n",
       "        vertical-align: top;\n",
       "    }\n",
       "\n",
       "    .dataframe thead th {\n",
       "        text-align: right;\n",
       "    }\n",
       "</style>\n",
       "<table border=\"1\" class=\"dataframe\">\n",
       "  <thead>\n",
       "    <tr style=\"text-align: right;\">\n",
       "      <th></th>\n",
       "      <th>0</th>\n",
       "      <th>1</th>\n",
       "      <th>2</th>\n",
       "      <th>3</th>\n",
       "      <th>4</th>\n",
       "      <th>5</th>\n",
       "      <th>6</th>\n",
       "      <th>7</th>\n",
       "      <th>8</th>\n",
       "      <th>9</th>\n",
       "      <th>...</th>\n",
       "      <th>142</th>\n",
       "      <th>143</th>\n",
       "      <th>144</th>\n",
       "      <th>145</th>\n",
       "      <th>146</th>\n",
       "      <th>147</th>\n",
       "      <th>148</th>\n",
       "      <th>149</th>\n",
       "      <th>150</th>\n",
       "      <th>151</th>\n",
       "    </tr>\n",
       "  </thead>\n",
       "  <tbody>\n",
       "    <tr>\n",
       "      <th>0</th>\n",
       "      <td>-3.712372</td>\n",
       "      <td>1.945538</td>\n",
       "      <td>0.450082</td>\n",
       "      <td>0.794512</td>\n",
       "      <td>-1.950731</td>\n",
       "      <td>-0.345740</td>\n",
       "      <td>0.874696</td>\n",
       "      <td>-0.854089</td>\n",
       "      <td>0.464508</td>\n",
       "      <td>0.644386</td>\n",
       "      <td>...</td>\n",
       "      <td>-0.019180</td>\n",
       "      <td>-0.025598</td>\n",
       "      <td>-0.026735</td>\n",
       "      <td>-0.109080</td>\n",
       "      <td>0.053386</td>\n",
       "      <td>-0.072074</td>\n",
       "      <td>0.039530</td>\n",
       "      <td>-0.103535</td>\n",
       "      <td>-0.120215</td>\n",
       "      <td>-0.014980</td>\n",
       "    </tr>\n",
       "    <tr>\n",
       "      <th>1</th>\n",
       "      <td>-0.414760</td>\n",
       "      <td>2.511296</td>\n",
       "      <td>0.186549</td>\n",
       "      <td>0.007441</td>\n",
       "      <td>-1.396713</td>\n",
       "      <td>-1.670959</td>\n",
       "      <td>0.363096</td>\n",
       "      <td>3.367955</td>\n",
       "      <td>-0.822066</td>\n",
       "      <td>0.405522</td>\n",
       "      <td>...</td>\n",
       "      <td>0.081877</td>\n",
       "      <td>0.091143</td>\n",
       "      <td>0.008880</td>\n",
       "      <td>-0.210080</td>\n",
       "      <td>-0.016372</td>\n",
       "      <td>0.083268</td>\n",
       "      <td>0.027945</td>\n",
       "      <td>0.075623</td>\n",
       "      <td>-0.252100</td>\n",
       "      <td>0.140186</td>\n",
       "    </tr>\n",
       "    <tr>\n",
       "      <th>2</th>\n",
       "      <td>0.784654</td>\n",
       "      <td>-3.178400</td>\n",
       "      <td>-2.034143</td>\n",
       "      <td>0.468934</td>\n",
       "      <td>2.971191</td>\n",
       "      <td>-0.045844</td>\n",
       "      <td>-2.567247</td>\n",
       "      <td>1.125410</td>\n",
       "      <td>1.260016</td>\n",
       "      <td>-0.828274</td>\n",
       "      <td>...</td>\n",
       "      <td>0.165566</td>\n",
       "      <td>-0.276178</td>\n",
       "      <td>-0.049925</td>\n",
       "      <td>0.050088</td>\n",
       "      <td>0.081196</td>\n",
       "      <td>-0.226976</td>\n",
       "      <td>-0.124900</td>\n",
       "      <td>0.258319</td>\n",
       "      <td>-0.144206</td>\n",
       "      <td>-0.118334</td>\n",
       "    </tr>\n",
       "    <tr>\n",
       "      <th>3</th>\n",
       "      <td>3.827622</td>\n",
       "      <td>1.902929</td>\n",
       "      <td>-1.973395</td>\n",
       "      <td>2.334144</td>\n",
       "      <td>-2.981059</td>\n",
       "      <td>2.925701</td>\n",
       "      <td>1.481672</td>\n",
       "      <td>-0.787084</td>\n",
       "      <td>-0.280305</td>\n",
       "      <td>-0.641176</td>\n",
       "      <td>...</td>\n",
       "      <td>-0.057671</td>\n",
       "      <td>-0.306564</td>\n",
       "      <td>0.026720</td>\n",
       "      <td>0.069404</td>\n",
       "      <td>0.226614</td>\n",
       "      <td>0.218539</td>\n",
       "      <td>-0.162855</td>\n",
       "      <td>0.135332</td>\n",
       "      <td>-0.156669</td>\n",
       "      <td>0.202891</td>\n",
       "    </tr>\n",
       "    <tr>\n",
       "      <th>4</th>\n",
       "      <td>-0.564723</td>\n",
       "      <td>2.322513</td>\n",
       "      <td>-3.387883</td>\n",
       "      <td>0.501219</td>\n",
       "      <td>-0.051344</td>\n",
       "      <td>0.138719</td>\n",
       "      <td>-0.539204</td>\n",
       "      <td>1.071504</td>\n",
       "      <td>0.939488</td>\n",
       "      <td>1.979388</td>\n",
       "      <td>...</td>\n",
       "      <td>0.035030</td>\n",
       "      <td>-0.264958</td>\n",
       "      <td>0.010292</td>\n",
       "      <td>-0.109745</td>\n",
       "      <td>-0.040442</td>\n",
       "      <td>0.128520</td>\n",
       "      <td>-0.031348</td>\n",
       "      <td>0.087149</td>\n",
       "      <td>-0.235833</td>\n",
       "      <td>0.150625</td>\n",
       "    </tr>\n",
       "    <tr>\n",
       "      <th>...</th>\n",
       "      <td>...</td>\n",
       "      <td>...</td>\n",
       "      <td>...</td>\n",
       "      <td>...</td>\n",
       "      <td>...</td>\n",
       "      <td>...</td>\n",
       "      <td>...</td>\n",
       "      <td>...</td>\n",
       "      <td>...</td>\n",
       "      <td>...</td>\n",
       "      <td>...</td>\n",
       "      <td>...</td>\n",
       "      <td>...</td>\n",
       "      <td>...</td>\n",
       "      <td>...</td>\n",
       "      <td>...</td>\n",
       "      <td>...</td>\n",
       "      <td>...</td>\n",
       "      <td>...</td>\n",
       "      <td>...</td>\n",
       "      <td>...</td>\n",
       "    </tr>\n",
       "    <tr>\n",
       "      <th>47995</th>\n",
       "      <td>3.717659</td>\n",
       "      <td>1.213195</td>\n",
       "      <td>-1.905806</td>\n",
       "      <td>1.011942</td>\n",
       "      <td>-1.290403</td>\n",
       "      <td>1.233094</td>\n",
       "      <td>0.612679</td>\n",
       "      <td>-0.613249</td>\n",
       "      <td>-0.507480</td>\n",
       "      <td>1.246243</td>\n",
       "      <td>...</td>\n",
       "      <td>-0.054122</td>\n",
       "      <td>-0.042153</td>\n",
       "      <td>-0.028733</td>\n",
       "      <td>-0.118308</td>\n",
       "      <td>-0.171437</td>\n",
       "      <td>0.001221</td>\n",
       "      <td>-0.004366</td>\n",
       "      <td>-0.053061</td>\n",
       "      <td>0.099731</td>\n",
       "      <td>0.232037</td>\n",
       "    </tr>\n",
       "    <tr>\n",
       "      <th>47996</th>\n",
       "      <td>-2.190107</td>\n",
       "      <td>1.759481</td>\n",
       "      <td>1.229115</td>\n",
       "      <td>0.006218</td>\n",
       "      <td>-1.150191</td>\n",
       "      <td>0.769205</td>\n",
       "      <td>-1.689851</td>\n",
       "      <td>0.952036</td>\n",
       "      <td>1.068688</td>\n",
       "      <td>1.207000</td>\n",
       "      <td>...</td>\n",
       "      <td>-0.270083</td>\n",
       "      <td>-0.024136</td>\n",
       "      <td>-0.115213</td>\n",
       "      <td>0.078473</td>\n",
       "      <td>0.083537</td>\n",
       "      <td>0.009609</td>\n",
       "      <td>-0.022400</td>\n",
       "      <td>0.038341</td>\n",
       "      <td>-0.167761</td>\n",
       "      <td>0.006794</td>\n",
       "    </tr>\n",
       "    <tr>\n",
       "      <th>47997</th>\n",
       "      <td>2.532720</td>\n",
       "      <td>1.515028</td>\n",
       "      <td>-1.448272</td>\n",
       "      <td>0.415453</td>\n",
       "      <td>1.129857</td>\n",
       "      <td>1.311633</td>\n",
       "      <td>-0.693281</td>\n",
       "      <td>-2.186286</td>\n",
       "      <td>2.251010</td>\n",
       "      <td>-0.008008</td>\n",
       "      <td>...</td>\n",
       "      <td>-0.214531</td>\n",
       "      <td>-0.184075</td>\n",
       "      <td>-0.143491</td>\n",
       "      <td>-0.108771</td>\n",
       "      <td>-0.172442</td>\n",
       "      <td>0.181558</td>\n",
       "      <td>0.044043</td>\n",
       "      <td>0.030003</td>\n",
       "      <td>-0.047040</td>\n",
       "      <td>-0.150601</td>\n",
       "    </tr>\n",
       "    <tr>\n",
       "      <th>47998</th>\n",
       "      <td>-1.201466</td>\n",
       "      <td>-2.443136</td>\n",
       "      <td>-1.581340</td>\n",
       "      <td>-0.604023</td>\n",
       "      <td>1.129608</td>\n",
       "      <td>-0.982210</td>\n",
       "      <td>-1.311065</td>\n",
       "      <td>-0.583510</td>\n",
       "      <td>-0.205210</td>\n",
       "      <td>-1.634047</td>\n",
       "      <td>...</td>\n",
       "      <td>0.106962</td>\n",
       "      <td>0.040560</td>\n",
       "      <td>0.080211</td>\n",
       "      <td>0.043495</td>\n",
       "      <td>0.029215</td>\n",
       "      <td>0.032695</td>\n",
       "      <td>0.118213</td>\n",
       "      <td>0.013172</td>\n",
       "      <td>-0.115678</td>\n",
       "      <td>-0.095888</td>\n",
       "    </tr>\n",
       "    <tr>\n",
       "      <th>47999</th>\n",
       "      <td>6.338363</td>\n",
       "      <td>0.571237</td>\n",
       "      <td>2.255514</td>\n",
       "      <td>-2.283839</td>\n",
       "      <td>0.098614</td>\n",
       "      <td>-1.032589</td>\n",
       "      <td>-0.378191</td>\n",
       "      <td>0.533046</td>\n",
       "      <td>-0.706437</td>\n",
       "      <td>0.091902</td>\n",
       "      <td>...</td>\n",
       "      <td>0.028092</td>\n",
       "      <td>-0.393514</td>\n",
       "      <td>0.183542</td>\n",
       "      <td>0.022166</td>\n",
       "      <td>-0.016678</td>\n",
       "      <td>0.095914</td>\n",
       "      <td>-0.121907</td>\n",
       "      <td>-0.098885</td>\n",
       "      <td>-0.088555</td>\n",
       "      <td>-0.229662</td>\n",
       "    </tr>\n",
       "  </tbody>\n",
       "</table>\n",
       "<p>48000 rows × 152 columns</p>\n",
       "</div>"
      ],
      "text/plain": [
       "            0         1         2         3         4         5         6    \\\n",
       "0     -3.712372  1.945538  0.450082  0.794512 -1.950731 -0.345740  0.874696   \n",
       "1     -0.414760  2.511296  0.186549  0.007441 -1.396713 -1.670959  0.363096   \n",
       "2      0.784654 -3.178400 -2.034143  0.468934  2.971191 -0.045844 -2.567247   \n",
       "3      3.827622  1.902929 -1.973395  2.334144 -2.981059  2.925701  1.481672   \n",
       "4     -0.564723  2.322513 -3.387883  0.501219 -0.051344  0.138719 -0.539204   \n",
       "...         ...       ...       ...       ...       ...       ...       ...   \n",
       "47995  3.717659  1.213195 -1.905806  1.011942 -1.290403  1.233094  0.612679   \n",
       "47996 -2.190107  1.759481  1.229115  0.006218 -1.150191  0.769205 -1.689851   \n",
       "47997  2.532720  1.515028 -1.448272  0.415453  1.129857  1.311633 -0.693281   \n",
       "47998 -1.201466 -2.443136 -1.581340 -0.604023  1.129608 -0.982210 -1.311065   \n",
       "47999  6.338363  0.571237  2.255514 -2.283839  0.098614 -1.032589 -0.378191   \n",
       "\n",
       "            7         8         9    ...       142       143       144  \\\n",
       "0     -0.854089  0.464508  0.644386  ... -0.019180 -0.025598 -0.026735   \n",
       "1      3.367955 -0.822066  0.405522  ...  0.081877  0.091143  0.008880   \n",
       "2      1.125410  1.260016 -0.828274  ...  0.165566 -0.276178 -0.049925   \n",
       "3     -0.787084 -0.280305 -0.641176  ... -0.057671 -0.306564  0.026720   \n",
       "4      1.071504  0.939488  1.979388  ...  0.035030 -0.264958  0.010292   \n",
       "...         ...       ...       ...  ...       ...       ...       ...   \n",
       "47995 -0.613249 -0.507480  1.246243  ... -0.054122 -0.042153 -0.028733   \n",
       "47996  0.952036  1.068688  1.207000  ... -0.270083 -0.024136 -0.115213   \n",
       "47997 -2.186286  2.251010 -0.008008  ... -0.214531 -0.184075 -0.143491   \n",
       "47998 -0.583510 -0.205210 -1.634047  ...  0.106962  0.040560  0.080211   \n",
       "47999  0.533046 -0.706437  0.091902  ...  0.028092 -0.393514  0.183542   \n",
       "\n",
       "            145       146       147       148       149       150       151  \n",
       "0     -0.109080  0.053386 -0.072074  0.039530 -0.103535 -0.120215 -0.014980  \n",
       "1     -0.210080 -0.016372  0.083268  0.027945  0.075623 -0.252100  0.140186  \n",
       "2      0.050088  0.081196 -0.226976 -0.124900  0.258319 -0.144206 -0.118334  \n",
       "3      0.069404  0.226614  0.218539 -0.162855  0.135332 -0.156669  0.202891  \n",
       "4     -0.109745 -0.040442  0.128520 -0.031348  0.087149 -0.235833  0.150625  \n",
       "...         ...       ...       ...       ...       ...       ...       ...  \n",
       "47995 -0.118308 -0.171437  0.001221 -0.004366 -0.053061  0.099731  0.232037  \n",
       "47996  0.078473  0.083537  0.009609 -0.022400  0.038341 -0.167761  0.006794  \n",
       "47997 -0.108771 -0.172442  0.181558  0.044043  0.030003 -0.047040 -0.150601  \n",
       "47998  0.043495  0.029215  0.032695  0.118213  0.013172 -0.115678 -0.095888  \n",
       "47999  0.022166 -0.016678  0.095914 -0.121907 -0.098885 -0.088555 -0.229662  \n",
       "\n",
       "[48000 rows x 152 columns]"
      ]
     },
     "execution_count": 17,
     "metadata": {},
     "output_type": "execute_result"
    }
   ],
   "source": [
    "X_remaining_t = pd.DataFrame(data = X_remaining_t)\n",
    "X_remaining_t"
   ]
  },
  {
   "cell_type": "code",
   "execution_count": 18,
   "metadata": {},
   "outputs": [
    {
     "name": "stdout",
     "output_type": "stream",
     "text": [
      "(12000, 784)\n"
     ]
    }
   ],
   "source": [
    "X_pca_invt=pca.inverse_transform(X_pca_t)\n",
    "print(X_pca_invt.shape)"
   ]
  },
  {
   "cell_type": "code",
   "execution_count": 19,
   "metadata": {},
   "outputs": [
    {
     "data": {
      "text/plain": [
       "<matplotlib.image.AxesImage at 0x11e5c5e7348>"
      ]
     },
     "execution_count": 19,
     "metadata": {},
     "output_type": "execute_result"
    },
    {
     "data": {
      "image/png": "[encoded data removed]",
      "text/plain": [
       "<Figure size 432x288 with 1 Axes>"
      ]
     },
     "metadata": {
      "needs_background": "light"
     },
     "output_type": "display_data"
    }
   ],
   "source": [
    "X_pca_invt = pd.DataFrame(data = X_pca_invt)\n",
    "im = X_pca_invt.iloc[[2]].values.reshape(28,28)\n",
    "plt.imshow(1-im, cmap = 'gray')"
   ]
  },
  {
   "cell_type": "code",
   "execution_count": 20,
   "metadata": {},
   "outputs": [
    {
     "data": {
      "text/plain": [
       "<matplotlib.image.AxesImage at 0x11e5cc3b588>"
      ]
     },
     "execution_count": 20,
     "metadata": {},
     "output_type": "execute_result"
    },
    {
     "data": {
      "image/png": "[encoded data removed]",
      "text/plain": [
       "<Figure size 432x288 with 1 Axes>"
      ]
     },
     "metadata": {
      "needs_background": "light"
     },
     "output_type": "display_data"
    }
   ],
   "source": [
    "im = X_pca.iloc[[2]].values.reshape(28,28)\n",
    "plt.imshow(1-im, cmap = 'gray')"
   ]
  },
  {
   "cell_type": "code",
   "execution_count": 21,
   "metadata": {},
   "outputs": [],
   "source": [
    "#train\n",
    "#X_remaining_t, y_remaining\n",
    "\n",
    "#test\n",
    "# X_pca_t, y_pca "
   ]
  },
  {
   "cell_type": "code",
   "execution_count": 22,
   "metadata": {},
   "outputs": [
    {
     "name": "stderr",
     "output_type": "stream",
     "text": [
      "C:\\ProgramData\\Anaconda3\\lib\\site-packages\\sklearn\\utils\\validation.py:73: DataConversionWarning: A column-vector y was passed when a 1d array was expected. Please change the shape of y to (n_samples, ), for example using ravel().\n",
      "  return f(**kwargs)\n"
     ]
    }
   ],
   "source": [
    "from sklearn.svm import SVC\n",
    "cl = SVC()\n",
    "cl.fit(X_remaining_t, y_remaining)\n",
    "Ypredict_pca = cl.predict(X_pca_t)"
   ]
  },
  {
   "cell_type": "code",
   "execution_count": 23,
   "metadata": {},
   "outputs": [
    {
     "name": "stdout",
     "output_type": "stream",
     "text": [
      "Accuracy score for test data is: 0.9841666666666666\n"
     ]
    }
   ],
   "source": [
    "from sklearn.metrics import accuracy_score\n",
    "print('Accuracy score for test data is:', accuracy_score(Ypredict_pca,y_pca))"
   ]
  },
  {
   "cell_type": "code",
   "execution_count": 24,
   "metadata": {},
   "outputs": [
    {
     "data": {
      "text/plain": [
       "array([3, 2, 7, ..., 0, 0, 0], dtype=int64)"
      ]
     },
     "execution_count": 24,
     "metadata": {},
     "output_type": "execute_result"
    }
   ],
   "source": [
    "Ypredict_pca"
   ]
  },
  {
   "cell_type": "code",
   "execution_count": 26,
   "metadata": {},
   "outputs": [
    {
     "data": {
      "text/plain": [
       "array([4], dtype=int64)"
      ]
     },
     "execution_count": 26,
     "metadata": {},
     "output_type": "execute_result"
    }
   ],
   "source": [
    "cl.predict(pca.transform(data.iloc[[2]]))"
   ]
  },
  {
   "cell_type": "code",
   "execution_count": null,
   "metadata": {},
   "outputs": [],
   "source": []
  }
 ],
 "metadata": {
  "kernelspec": {
   "display_name": "Python 3",
   "language": "python",
   "name": "python3"
  },
  "language_info": {
   "codemirror_mode": {
    "name": "ipython",
    "version": 3
   },
   "file_extension": ".py",
   "mimetype": "text/x-python",
   "name": "python",
   "nbconvert_exporter": "python",
   "pygments_lexer": "ipython3",
   "version": "3.7.4"
  }
 },
 "nbformat": 4,
 "nbformat_minor": 2
}
