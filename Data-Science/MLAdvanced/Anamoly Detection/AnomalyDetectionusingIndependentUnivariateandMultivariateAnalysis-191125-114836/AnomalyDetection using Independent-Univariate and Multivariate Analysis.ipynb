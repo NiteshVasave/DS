{
 "cells": [
  {
   "cell_type": "markdown",
   "metadata": {},
   "source": [
    "# AnomalyDetection using Independent-Univariate and Multivariate Analysis# "
   ]
  },
  {
   "cell_type": "markdown",
   "metadata": {},
   "source": [
    "##### Importing Libraries"
   ]
  },
  {
   "cell_type": "code",
   "execution_count": 1,
   "metadata": {},
   "outputs": [],
   "source": [
    "import numpy as np\n",
    "import matplotlib.pyplot as plt\n",
    "import scipy.io as sio\n",
    "import math"
   ]
  },
  {
   "cell_type": "code",
   "execution_count": 2,
   "metadata": {},
   "outputs": [],
   "source": [
    "# Special Thanks to https://github.com/abhishek-Kumar009/Machine-Learning/tree/master/AnomalyDetectionScratch\n",
    "# for the dataset and parent code.\n",
    "\n",
    "# Please note: This code is an edited version by Deepesh Wadhwani. He corrected some errors in evaluation the \n",
    "# multivariate gaussian probability distribution. Also Arranged the code to facilitate explanationation of the algorithm."
   ]
  },
  {
   "cell_type": "code",
   "execution_count": 3,
   "metadata": {},
   "outputs": [],
   "source": [
    "# import dataset as:\n",
    "# 60% TRAIN SET = X\n",
    "# 20% VAL Set inclusing half of positive examples = Xval, y_val\n",
    "# 20% as TEST SET including othr half of positive examples = Xtest, ytest\n",
    "\n",
    "\n",
    "dataset = sio.loadmat('anomalyData.mat')\n",
    "X = dataset['X']\n",
    "\n",
    "Xval = dataset['Xval']\n",
    "y_val = dataset['yval']"
   ]
  },
  {
   "cell_type": "code",
   "execution_count": 4,
   "metadata": {},
   "outputs": [
    {
     "name": "stdout",
     "output_type": "stream",
     "text": [
      "(307, 2)\n"
     ]
    }
   ],
   "source": [
    "print(X.shape)"
   ]
  },
  {
   "cell_type": "code",
   "execution_count": 5,
   "metadata": {
    "scrolled": true
   },
   "outputs": [
    {
     "data": {
      "text/plain": [
       "Text(0, 0.5, 'X2')"
      ]
     },
     "execution_count": 5,
     "metadata": {},
     "output_type": "execute_result"
    },
    {
     "data": {
      "image/png": "[encoded data removed]",
      "text/plain": [
       "<Figure size 432x288 with 1 Axes>"
      ]
     },
     "metadata": {
      "needs_background": "light"
     },
     "output_type": "display_data"
    }
   ],
   "source": [
    "plt.scatter(X[:, 0], X[:, 1], marker = \".\")\n",
    "plt.xlabel('X1')\n",
    "plt.ylabel('X2')"
   ]
  },
  {
   "cell_type": "code",
   "execution_count": 6,
   "metadata": {},
   "outputs": [],
   "source": [
    "def estimate_Gaussian(X):\n",
    "    n = np.size(X, 1)\n",
    "    m = np.size(X, 0)\n",
    "    mu = np.zeros((n, 1))\n",
    "    sigma2 = np.zeros((n, 1))\n",
    "    \n",
    "    mu = np.reshape((1/m)*np.sum(X, 0), (1, n))\n",
    "    sigma2 = np.reshape((1/m)*np.sum(np.power((X - mu),2), 0),(1, n))\n",
    "    \n",
    "    return mu, sigma2\n",
    "\n"
   ]
  },
  {
   "cell_type": "code",
   "execution_count": 7,
   "metadata": {},
   "outputs": [],
   "source": [
    "\n",
    "def estimate_I_univariate_Probability(X, mu, sigma2):\n",
    "    \n",
    "    n = np.size(X, 1)\n",
    "    m = np.size(X, 0)\n",
    "      \n",
    "\n",
    "    sigma2 = np.diag(sigma2[0, :])\n",
    "    \n",
    "    X = X - mu\n",
    "    pi = math.pi\n",
    "    \n",
    "    det = np.linalg.det(sigma2)\n",
    "    inv = np.linalg.inv(sigma2)\n",
    "    val = np.reshape((-0.5)*np.sum(np.multiply((X@inv),X), 1),(np.size(X, 0), 1))\n",
    "    \n",
    "    p = np.power(2*pi, -n/2)*np.power(det, -0.5)*np.exp(val)\n",
    "    \n",
    "    return p"
   ]
  },
  {
   "cell_type": "code",
   "execution_count": 8,
   "metadata": {
    "scrolled": true
   },
   "outputs": [
    {
     "name": "stdout",
     "output_type": "stream",
     "text": [
      "mean:  [[14.11222578 14.99771051]]  variance:  [[1.83263141 1.70974533]]\n"
     ]
    }
   ],
   "source": [
    "mu, sigma2 = estimate_Gaussian(X)\n",
    "print('mean: ',mu,' variance: ',sigma2)"
   ]
  },
  {
   "cell_type": "code",
   "execution_count": 9,
   "metadata": {},
   "outputs": [
    {
     "name": "stdout",
     "output_type": "stream",
     "text": [
      "(307, 1)\n"
     ]
    }
   ],
   "source": [
    "p_uni = estimate_I_univariate_Probability(X, mu, sigma2)\n",
    "print(p_uni.shape)"
   ]
  },
  {
   "cell_type": "code",
   "execution_count": 10,
   "metadata": {},
   "outputs": [],
   "source": [
    "\n",
    "def estimate_multivariate_Gaussian(X):\n",
    "    \n",
    "    n = np.size(X, 1)\n",
    "    m = np.size(X, 0) \n",
    "     \n",
    "     \n",
    "    mu = np.reshape((1/m)*np.sum(X, 0), (1, n))\n",
    "    sigma2 = np.cov(X, rowvar=False)\n",
    "      \n",
    "    return mu, sigma2"
   ]
  },
  {
   "cell_type": "code",
   "execution_count": 11,
   "metadata": {},
   "outputs": [
    {
     "name": "stdout",
     "output_type": "stream",
     "text": [
      "mean:  [[14.11222578 14.99771051]]  variance:  [[ 1.83862041 -0.22786456]\n",
      " [-0.22786456  1.71533273]]\n"
     ]
    }
   ],
   "source": [
    "mu_m, sigma2_m = estimate_multivariate_Gaussian(X)\n",
    "print('mean: ',mu_m,' variance: ',sigma2_m)"
   ]
  },
  {
   "cell_type": "code",
   "execution_count": 12,
   "metadata": {},
   "outputs": [],
   "source": [
    "\n",
    "def estimate_multivariate_Probability(X, mu, sigma2):\n",
    "    \n",
    "    n = np.size(X, 1)\n",
    "    m = np.size(X, 0)\n",
    "     \n",
    "    X = X - mu\n",
    "    pi = math.pi\n",
    "    det = np.linalg.det(sigma2)\n",
    "    inv = np.linalg.inv(sigma2)\n",
    "    val = np.reshape((-0.5)*np.sum(np.multiply((X@inv),X), 1),(np.size(X, 0), 1))\n",
    "     \n",
    "    p = np.power(2*pi, -n/2)*np.power(det, -0.5)*np.exp(val)\n",
    "     \n",
    "    return p"
   ]
  },
  {
   "cell_type": "code",
   "execution_count": 13,
   "metadata": {},
   "outputs": [
    {
     "name": "stdout",
     "output_type": "stream",
     "text": [
      "307\n"
     ]
    }
   ],
   "source": [
    "p_multi = estimate_multivariate_Probability(X, mu_m, sigma2_m)\n",
    "print(p_multi.size)"
   ]
  },
  {
   "cell_type": "code",
   "execution_count": 14,
   "metadata": {},
   "outputs": [],
   "source": [
    "pval_univariate = estimate_I_univariate_Probability(Xval, *estimate_Gaussian(X))"
   ]
  },
  {
   "cell_type": "code",
   "execution_count": 15,
   "metadata": {},
   "outputs": [],
   "source": [
    "pval_multivariate = estimate_multivariate_Probability(Xval, *estimate_multivariate_Gaussian(X))"
   ]
  },
  {
   "cell_type": "code",
   "execution_count": 16,
   "metadata": {},
   "outputs": [
    {
     "name": "stdout",
     "output_type": "stream",
     "text": [
      "307 307\n"
     ]
    }
   ],
   "source": [
    "print(pval_multivariate.size , pval_univariate.size)"
   ]
  },
  {
   "cell_type": "code",
   "execution_count": 17,
   "metadata": {},
   "outputs": [
    {
     "data": {
      "text/plain": [
       "array([[ 1.73222897e-04],\n",
       "       [ 1.26454241e-03],\n",
       "       [-3.40470858e-03],\n",
       "       [-2.37084471e-03],\n",
       "       [ 2.33409334e-03],\n",
       "       [ 4.11613383e-03],\n",
       "       [-9.52075294e-04],\n",
       "       [ 9.26145841e-04],\n",
       "       [-2.49314578e-03],\n",
       "       [ 6.40333905e-04],\n",
       "       [-9.38785522e-04],\n",
       "       [-9.02921008e-04],\n",
       "       [ 3.51141806e-03],\n",
       "       [-3.23234581e-03],\n",
       "       [ 3.12464497e-03],\n",
       "       [-4.01567900e-03],\n",
       "       [ 3.61310398e-03],\n",
       "       [-1.18299154e-03],\n",
       "       [-9.29561329e-04],\n",
       "       [-3.85782719e-03],\n",
       "       [ 4.05676919e-04],\n",
       "       [-4.27304219e-03],\n",
       "       [ 3.61001654e-04],\n",
       "       [-6.68075478e-04],\n",
       "       [ 2.12665185e-03],\n",
       "       [ 1.20284132e-03],\n",
       "       [-4.02319646e-03],\n",
       "       [ 2.01897977e-03],\n",
       "       [-3.40893020e-03],\n",
       "       [ 5.52742590e-04],\n",
       "       [ 7.79651059e-04],\n",
       "       [ 9.51589940e-04],\n",
       "       [ 1.97583070e-03],\n",
       "       [ 4.14075009e-04],\n",
       "       [ 1.94502731e-04],\n",
       "       [ 2.61826846e-04],\n",
       "       [-1.70535649e-03],\n",
       "       [-4.04778472e-03],\n",
       "       [ 3.31367828e-04],\n",
       "       [ 5.10455475e-04],\n",
       "       [-2.78101079e-03],\n",
       "       [-2.34821088e-03],\n",
       "       [ 2.67473349e-03],\n",
       "       [ 7.18478126e-04],\n",
       "       [ 4.96330017e-04],\n",
       "       [ 2.04618848e-03],\n",
       "       [-2.92048481e-04],\n",
       "       [-1.29808961e-04],\n",
       "       [ 4.04550171e-04],\n",
       "       [-2.45652414e-03],\n",
       "       [-3.86234411e-03],\n",
       "       [ 4.44809865e-04],\n",
       "       [ 4.07399878e-04],\n",
       "       [-7.87688319e-04],\n",
       "       [-1.24240207e-03],\n",
       "       [ 2.18859604e-03],\n",
       "       [ 4.02854192e-04],\n",
       "       [ 2.42862755e-03],\n",
       "       [-8.14820858e-04],\n",
       "       [-2.39381874e-04],\n",
       "       [ 4.01208148e-04],\n",
       "       [ 6.09391102e-05],\n",
       "       [-5.12273056e-04],\n",
       "       [ 3.95749059e-03],\n",
       "       [-2.41946788e-03],\n",
       "       [ 4.08391111e-03],\n",
       "       [-1.96160686e-03],\n",
       "       [ 4.65801864e-04],\n",
       "       [-4.12367464e-03],\n",
       "       [-8.83784765e-04],\n",
       "       [-4.94691982e-04],\n",
       "       [-1.28202052e-04],\n",
       "       [-2.23049779e-03],\n",
       "       [ 1.23132038e-04],\n",
       "       [ 1.44042791e-03],\n",
       "       [ 5.19932888e-04],\n",
       "       [ 1.29746576e-03],\n",
       "       [-3.33687425e-03],\n",
       "       [-3.39215725e-03],\n",
       "       [-2.12312309e-03],\n",
       "       [ 3.78140695e-03],\n",
       "       [-3.17393706e-04],\n",
       "       [ 1.52898536e-03],\n",
       "       [ 2.79476903e-04],\n",
       "       [-5.99060059e-04],\n",
       "       [ 2.15561302e-03],\n",
       "       [-3.96764402e-03],\n",
       "       [-1.41306861e-03],\n",
       "       [ 2.18861065e-03],\n",
       "       [ 4.41610997e-04],\n",
       "       [ 1.68913885e-03],\n",
       "       [-1.75255245e-03],\n",
       "       [-8.83491565e-04],\n",
       "       [ 2.19202030e-03],\n",
       "       [-2.59815826e-03],\n",
       "       [-4.00081962e-03],\n",
       "       [-8.72259077e-04],\n",
       "       [-9.03767467e-04],\n",
       "       [-2.28235155e-04],\n",
       "       [ 1.18740406e-03],\n",
       "       [-1.55385710e-03],\n",
       "       [-6.67846152e-04],\n",
       "       [ 1.56983161e-03],\n",
       "       [ 1.58284005e-03],\n",
       "       [ 2.38744874e-03],\n",
       "       [-3.24741507e-03],\n",
       "       [-2.97168446e-03],\n",
       "       [ 4.52452131e-04],\n",
       "       [-4.26051881e-03],\n",
       "       [-2.59857769e-04],\n",
       "       [ 6.65653597e-04],\n",
       "       [-1.25184700e-03],\n",
       "       [-2.21680108e-03],\n",
       "       [-1.26027449e-03],\n",
       "       [-2.32049369e-03],\n",
       "       [ 1.36140462e-04],\n",
       "       [-1.33787129e-03],\n",
       "       [-1.16928181e-03],\n",
       "       [ 3.40528482e-04],\n",
       "       [-5.90246256e-05],\n",
       "       [-2.37230296e-04],\n",
       "       [ 3.95136788e-03],\n",
       "       [ 4.23588968e-04],\n",
       "       [-1.28596540e-03],\n",
       "       [-8.57558377e-04],\n",
       "       [ 2.52895315e-03],\n",
       "       [-3.21149724e-03],\n",
       "       [-2.32100432e-03],\n",
       "       [ 1.20647209e-03],\n",
       "       [-6.98095734e-04],\n",
       "       [ 2.27456132e-04],\n",
       "       [-2.36412625e-03],\n",
       "       [-2.72067482e-03],\n",
       "       [ 2.01525737e-03],\n",
       "       [ 4.90445138e-04],\n",
       "       [ 2.73424775e-03],\n",
       "       [-2.30315837e-03],\n",
       "       [-2.20704035e-03],\n",
       "       [-2.84440160e-03],\n",
       "       [ 1.92094838e-03],\n",
       "       [-3.12812485e-03],\n",
       "       [-1.61996388e-03],\n",
       "       [ 1.84567297e-03],\n",
       "       [-9.34794012e-04],\n",
       "       [ 1.67457120e-03],\n",
       "       [ 1.07180343e-03],\n",
       "       [ 1.85091743e-03],\n",
       "       [-1.91320134e-03],\n",
       "       [-3.46713846e-03],\n",
       "       [ 1.22413151e-03],\n",
       "       [ 8.28378348e-04],\n",
       "       [ 1.01099928e-04],\n",
       "       [-1.97091266e-03],\n",
       "       [ 3.71320585e-03],\n",
       "       [ 1.87967628e-04],\n",
       "       [ 1.81099224e-03],\n",
       "       [ 4.91710560e-04],\n",
       "       [ 6.60717215e-04],\n",
       "       [-1.35093027e-03],\n",
       "       [ 8.02729045e-04],\n",
       "       [-8.85059417e-04],\n",
       "       [-1.24146975e-03],\n",
       "       [-4.14874794e-03],\n",
       "       [-2.31567838e-03],\n",
       "       [-1.37595400e-03],\n",
       "       [-1.97596453e-03],\n",
       "       [ 1.33094461e-03],\n",
       "       [ 8.32966805e-04],\n",
       "       [-1.93512898e-03],\n",
       "       [ 3.44220081e-03],\n",
       "       [-2.78663301e-03],\n",
       "       [-3.74306674e-03],\n",
       "       [-3.66633200e-03],\n",
       "       [-3.17254973e-03],\n",
       "       [-3.12519272e-03],\n",
       "       [ 1.54360150e-03],\n",
       "       [-3.37464058e-03],\n",
       "       [-2.48802106e-03],\n",
       "       [-6.90915912e-04],\n",
       "       [-1.02539382e-03],\n",
       "       [ 4.53878969e-04],\n",
       "       [-5.92200365e-04],\n",
       "       [-3.47524762e-03],\n",
       "       [ 8.78307029e-04],\n",
       "       [ 6.50557436e-04],\n",
       "       [ 1.12247580e-04],\n",
       "       [-1.68809498e-03],\n",
       "       [ 1.28920439e-03],\n",
       "       [-3.88061779e-03],\n",
       "       [ 6.59671644e-04],\n",
       "       [-3.41506907e-03],\n",
       "       [ 5.43546365e-05],\n",
       "       [-9.29391730e-04],\n",
       "       [ 1.81928103e-04],\n",
       "       [-2.25189952e-03],\n",
       "       [ 1.23233494e-03],\n",
       "       [-4.65783310e-04],\n",
       "       [ 1.02253321e-03],\n",
       "       [ 2.89863730e-03],\n",
       "       [-4.02470670e-03],\n",
       "       [-2.52139049e-03],\n",
       "       [ 3.98874311e-03],\n",
       "       [ 1.46389515e-03],\n",
       "       [-4.17966794e-03],\n",
       "       [ 8.77383909e-04],\n",
       "       [-3.98128281e-03],\n",
       "       [-4.07297145e-03],\n",
       "       [-1.13788983e-04],\n",
       "       [ 8.71500750e-04],\n",
       "       [-3.31256837e-04],\n",
       "       [ 8.12960029e-04],\n",
       "       [-3.71464570e-03],\n",
       "       [ 2.30731392e-03],\n",
       "       [-3.28612559e-03],\n",
       "       [ 1.36495150e-03],\n",
       "       [ 4.04995462e-03],\n",
       "       [-3.73112881e-03],\n",
       "       [ 1.20594045e-03],\n",
       "       [-3.57796860e-03],\n",
       "       [ 3.62787963e-03],\n",
       "       [-4.47286800e-04],\n",
       "       [ 4.87058587e-04],\n",
       "       [ 3.41814721e-03],\n",
       "       [ 5.98238463e-04],\n",
       "       [-4.06641006e-03],\n",
       "       [-1.39967923e-03],\n",
       "       [ 1.97392306e-04],\n",
       "       [ 1.15444731e-03],\n",
       "       [ 3.80598006e-03],\n",
       "       [ 6.26268992e-04],\n",
       "       [-1.08765109e-03],\n",
       "       [-1.40208967e-03],\n",
       "       [ 1.97067886e-03],\n",
       "       [ 2.15794506e-05],\n",
       "       [-3.43275904e-03],\n",
       "       [ 5.77046710e-04],\n",
       "       [-3.87015869e-03],\n",
       "       [ 2.46380613e-04],\n",
       "       [ 7.43861880e-04],\n",
       "       [-2.78422210e-03],\n",
       "       [ 2.92405961e-05],\n",
       "       [-2.83756560e-03],\n",
       "       [-2.73516349e-03],\n",
       "       [ 4.03565812e-04],\n",
       "       [ 4.33308318e-04],\n",
       "       [-3.16703859e-03],\n",
       "       [-1.95985611e-04],\n",
       "       [ 3.69585610e-03],\n",
       "       [-3.55580996e-03],\n",
       "       [ 1.43691024e-03],\n",
       "       [ 2.89250245e-03],\n",
       "       [ 1.90128842e-03],\n",
       "       [-4.02528352e-03],\n",
       "       [-4.17772706e-04],\n",
       "       [-3.44406740e-03],\n",
       "       [ 1.28166864e-03],\n",
       "       [-1.17809483e-03],\n",
       "       [-4.02172617e-03],\n",
       "       [ 4.83025116e-05],\n",
       "       [-3.55632406e-03],\n",
       "       [ 5.67175266e-04],\n",
       "       [-3.04079457e-03],\n",
       "       [-1.27266231e-03],\n",
       "       [ 2.03313214e-03],\n",
       "       [ 8.27653665e-04],\n",
       "       [ 1.88250860e-03],\n",
       "       [ 2.32798153e-03],\n",
       "       [-2.09891853e-03],\n",
       "       [-4.07160970e-04],\n",
       "       [ 1.13395907e-03],\n",
       "       [ 2.02750703e-03],\n",
       "       [-2.65783590e-03],\n",
       "       [-3.08842329e-04],\n",
       "       [-2.45411252e-04],\n",
       "       [-3.77067784e-03],\n",
       "       [-3.18587814e-03],\n",
       "       [-3.16720256e-03],\n",
       "       [-2.41901088e-03],\n",
       "       [-1.55548144e-03],\n",
       "       [-7.66592128e-04],\n",
       "       [-1.81814511e-03],\n",
       "       [-4.05617399e-03],\n",
       "       [-2.86011720e-03],\n",
       "       [ 2.66691218e-03],\n",
       "       [ 1.83537703e-03],\n",
       "       [-1.82474068e-03],\n",
       "       [-1.82720287e-03],\n",
       "       [-3.59851499e-03],\n",
       "       [-4.62127004e-05],\n",
       "       [ 8.44336964e-04],\n",
       "       [ 6.40965480e-04],\n",
       "       [-3.35748554e-04],\n",
       "       [-2.52394060e-03],\n",
       "       [-1.85301712e-03],\n",
       "       [-2.04419573e-04],\n",
       "       [-2.89787686e-03],\n",
       "       [-6.67489424e-04],\n",
       "       [-8.08252219e-04],\n",
       "       [ 2.69023856e-03],\n",
       "       [-2.38208019e-03],\n",
       "       [ 8.59784744e-07],\n",
       "       [ 1.07915445e-05],\n",
       "       [-4.51315855e-36],\n",
       "       [-5.58355711e-32],\n",
       "       [ 1.46873566e-05],\n",
       "       [-4.14409450e-11],\n",
       "       [ 1.22094627e-05]])"
      ]
     },
     "execution_count": 17,
     "metadata": {},
     "output_type": "execute_result"
    }
   ],
   "source": [
    "pval_multivariate - pval_univariate"
   ]
  },
  {
   "cell_type": "code",
   "execution_count": 19,
   "metadata": {},
   "outputs": [
    {
     "name": "stdout",
     "output_type": "stream",
     "text": [
      "9   298\n"
     ]
    }
   ],
   "source": [
    "print((y_val==1).sum(), \" \", (y_val==0).sum())"
   ]
  },
  {
   "cell_type": "code",
   "execution_count": 20,
   "metadata": {},
   "outputs": [],
   "source": [
    "def selectThreshHold(yval, pval):\n",
    "    \n",
    "    F1 = 0\n",
    "    bestF1 = 0\n",
    "    bestEpsilon = 0\n",
    "    \n",
    "    stepsize = (np.max(pval) - np.min(pval))/1000\n",
    "        \n",
    "    epsVec = np.arange(np.min(pval), np.max(pval), stepsize)\n",
    "    noe = len(epsVec)\n",
    "    \n",
    "    for eps in range(noe):\n",
    "        epsilon = epsVec[eps]\n",
    "        pred = (pval < epsilon)\n",
    "        prec, rec = 0,0\n",
    "        tp,fp,fn = 0,0,0\n",
    "        \n",
    "        try:\n",
    "            for i in range(np.size(pval,0)):\n",
    "                if pred[i] == 1 and yval[i] == 1:\n",
    "                    tp+=1\n",
    "                elif pred[i] == 1 and yval[i] == 0:\n",
    "                    fp+=1\n",
    "                elif pred[i] == 0 and yval[i] == 1:\n",
    "                    fn+=1\n",
    "            prec = tp/(tp + fp)\n",
    "            rec = tp/(tp + fn)\n",
    "            F1 = 2*prec*rec/(prec + rec)\n",
    "            if F1 > bestF1:\n",
    "                bestF1 = F1\n",
    "                bestEpsilon = epsilon\n",
    "        except ZeroDivisionError:\n",
    "            print('Warning dividing by zero!!')          \n",
    "       \n",
    "    return bestF1, bestEpsilon"
   ]
  },
  {
   "cell_type": "code",
   "execution_count": 21,
   "metadata": {},
   "outputs": [
    {
     "name": "stdout",
     "output_type": "stream",
     "text": [
      "Warning dividing by zero!!\n",
      "For Univariate Epsilon and F1 are: 8.990852779269493e-05 0.8750000000000001\n"
     ]
    }
   ],
   "source": [
    "F1_uni, epsilon_uni = selectThreshHold(y_val, pval_univariate)\n",
    "print('For Univariate Epsilon and F1 are:',epsilon_uni, F1_uni)"
   ]
  },
  {
   "cell_type": "code",
   "execution_count": 22,
   "metadata": {},
   "outputs": [
    {
     "name": "stdout",
     "output_type": "stream",
     "text": [
      "Warning dividing by zero!!\n",
      "For Multivariate Epsilon and F1 are: 9.036240676156382e-05 0.8750000000000001\n"
     ]
    }
   ],
   "source": [
    "F1_multi, epsilon_multi = selectThreshHold(y_val, pval_multivariate)\n",
    "print('For Multivariate Epsilon and F1 are:',epsilon_multi, F1_multi)"
   ]
  },
  {
   "cell_type": "code",
   "execution_count": 23,
   "metadata": {},
   "outputs": [],
   "source": [
    "def findIndices(binVec):\n",
    "    l = []\n",
    "    for i in range(len(binVec)):\n",
    "        if binVec[i] == 1:\n",
    "            l.append(i)\n",
    "    return l"
   ]
  },
  {
   "cell_type": "code",
   "execution_count": 24,
   "metadata": {},
   "outputs": [],
   "source": [
    "outl_uni = (pval_univariate < epsilon_uni)\n",
    "def findIndices(binVec):\n",
    "    l = []\n",
    "    for i in range(len(binVec)):\n",
    "        if binVec[i] == 1:\n",
    "            l.append(i)\n",
    "    return l\n",
    "listOfOutliers_uni = findIndices(outl_uni)    \n"
   ]
  },
  {
   "cell_type": "code",
   "execution_count": 25,
   "metadata": {},
   "outputs": [],
   "source": [
    "outl_multi = (pval_multivariate < epsilon_multi)\n",
    "def findIndices(binVec):\n",
    "    l = []\n",
    "    for i in range(len(binVec)):\n",
    "        if binVec[i] == 1:\n",
    "            l.append(i)\n",
    "    return l\n",
    "listOfOutliers_multi = findIndices(outl_multi)  "
   ]
  },
  {
   "cell_type": "code",
   "execution_count": 26,
   "metadata": {},
   "outputs": [
    {
     "name": "stdout",
     "output_type": "stream",
     "text": [
      "7   300\n"
     ]
    }
   ],
   "source": [
    "print((outl_uni==True).sum(), \" \", (outl_uni==False).sum())"
   ]
  },
  {
   "cell_type": "code",
   "execution_count": 27,
   "metadata": {},
   "outputs": [
    {
     "name": "stdout",
     "output_type": "stream",
     "text": [
      "7   300\n"
     ]
    }
   ],
   "source": [
    "print((outl_multi==True).sum(), \" \", (outl_multi==False).sum())"
   ]
  },
  {
   "cell_type": "code",
   "execution_count": 28,
   "metadata": {},
   "outputs": [
    {
     "name": "stdout",
     "output_type": "stream",
     "text": [
      "\n",
      "\n",
      "For Univariate Number of outliers: 7\n",
      "\n",
      " [300, 301, 302, 303, 304, 305, 306]\n"
     ]
    }
   ],
   "source": [
    "count_outliers = len(listOfOutliers_uni)\n",
    "print('\\n\\nFor Univariate Number of outliers:', count_outliers)\n",
    "print('\\n',listOfOutliers_uni)"
   ]
  },
  {
   "cell_type": "code",
   "execution_count": 29,
   "metadata": {
    "scrolled": true
   },
   "outputs": [
    {
     "name": "stdout",
     "output_type": "stream",
     "text": [
      "\n",
      "\n",
      "For Multivariate Number of outliers: 7\n",
      "\n",
      " [300, 301, 302, 303, 304, 305, 306]\n"
     ]
    }
   ],
   "source": [
    "count_outliers = len(listOfOutliers_multi)\n",
    "print('\\n\\nFor Multivariate Number of outliers:', count_outliers)\n",
    "print('\\n',listOfOutliers_multi)"
   ]
  },
  {
   "cell_type": "code",
   "execution_count": 30,
   "metadata": {},
   "outputs": [
    {
     "data": {
      "text/plain": [
       "[9, 49, 300, 301, 302, 303, 304, 305, 306]"
      ]
     },
     "execution_count": 30,
     "metadata": {},
     "output_type": "execute_result"
    }
   ],
   "source": [
    "actualoutl = (y_val == 1)\n",
    "findIndices(actualoutl)"
   ]
  },
  {
   "cell_type": "code",
   "execution_count": 31,
   "metadata": {},
   "outputs": [
    {
     "data": {
      "image/png": "[encoded data removed]",
      "text/plain": [
       "<Figure size 432x288 with 1 Axes>"
      ]
     },
     "metadata": {
      "needs_background": "light"
     },
     "output_type": "display_data"
    }
   ],
   "source": [
    "\n",
    "#if both work in same manner, we can use any to predict for test set\n",
    "\n",
    "plt.scatter(X[:, 0], X[:, 1], marker = \"x\")\n",
    "plt.xlabel('X1')\n",
    "plt.ylabel('X2')\n",
    "plt.scatter(X[listOfOutliers_uni,0], X[listOfOutliers_uni, 1], facecolors = 'none', edgecolors = 'r')\n",
    "plt.show()"
   ]
  },
  {
   "cell_type": "markdown",
   "metadata": {},
   "source": [
    "Finally for the Test Set Prediction:"
   ]
  },
  {
   "cell_type": "code",
   "execution_count": 32,
   "metadata": {},
   "outputs": [],
   "source": [
    "newDataset = sio.loadmat('anomalyDataTest.mat')\n",
    "\n",
    "Xtest = newDataset['Xval']\n",
    "ytest = newDataset['yval']"
   ]
  },
  {
   "cell_type": "code",
   "execution_count": 35,
   "metadata": {},
   "outputs": [
    {
     "name": "stdout",
     "output_type": "stream",
     "text": [
      "Warning dividing by zero!!\n",
      "\n",
      "Best epsilon and F1 are\n",
      " 1.6620587111948498e-18 0.6153846153846154\n"
     ]
    }
   ],
   "source": [
    "mutest, sigma2test = estimate_Gaussian(Xtest)\n",
    "ptest = estimate_I_univariate_Probability(Xtest, mutest, sigma2test)\n",
    "\n",
    "F1test, epsilontest = selectThreshHold(ytest, ptest)\n",
    "print('\\nBest epsilon and F1 are\\n',epsilontest, F1test)"
   ]
  },
  {
   "cell_type": "code",
   "execution_count": 36,
   "metadata": {},
   "outputs": [
    {
     "name": "stdout",
     "output_type": "stream",
     "text": [
      "\n",
      "\n",
      "Expected Outliers are:\n",
      " [0, 3, 6, 11, 19, 27, 34, 43, 50, 59, 60, 69, 71, 86, 88, 92]\n",
      "\n",
      "\n",
      "Number of outliers are:  16\n"
     ]
    }
   ],
   "source": [
    "outliersTest = ptest < epsilontest\n",
    "listOfOl = findIndices(outliersTest)\n",
    "\n",
    "print('\\n\\nExpected Outliers are:\\n',listOfOl)\n",
    "print('\\n\\nNumber of outliers are: ',len(listOfOl))"
   ]
  },
  {
   "cell_type": "code",
   "execution_count": 37,
   "metadata": {},
   "outputs": [
    {
     "name": "stdout",
     "output_type": "stream",
     "text": [
      "\n",
      "\n",
      "Actual Outliers are:\n",
      " [0, 3, 19, 27, 38, 59, 71, 88, 91, 92]\n",
      "\n",
      "\n",
      "Number of outliers are:  10\n"
     ]
    }
   ],
   "source": [
    "actualoutl = (ytest == 1)\n",
    "list_Of_Ol = findIndices(actualoutl)\n",
    "\n",
    "print('\\n\\nActual Outliers are:\\n',list_Of_Ol)\n",
    "print('\\n\\nNumber of outliers are: ',len(list_Of_Ol))"
   ]
  },
  {
   "cell_type": "code",
   "execution_count": null,
   "metadata": {},
   "outputs": [],
   "source": []
  },
  {
   "cell_type": "code",
   "execution_count": null,
   "metadata": {},
   "outputs": [],
   "source": []
  },
  {
   "cell_type": "code",
   "execution_count": null,
   "metadata": {},
   "outputs": [],
   "source": []
  }
 ],
 "metadata": {
  "kernelspec": {
   "display_name": "Python 3",
   "language": "python",
   "name": "python3"
  },
  "language_info": {
   "codemirror_mode": {
    "name": "ipython",
    "version": 3
   },
   "file_extension": ".py",
   "mimetype": "text/x-python",
   "name": "python",
   "nbconvert_exporter": "python",
   "pygments_lexer": "ipython3",
   "version": "3.7.4"
  }
 },
 "nbformat": 4,
 "nbformat_minor": 2
}
