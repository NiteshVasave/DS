{
 "cells": [
  {
   "cell_type": "markdown",
   "metadata": {
    "colab_type": "text",
    "id": "imWqSI8-Kew7"
   },
   "source": [
    "<img src=\"https://github.com/insaid2018/Term-1/blob/master/Images/INSAID_Full%20Logo.png?raw=true\" width=\"240\" height=\"360\" />\n",
    "\n",
    "# Anomaly Detection"
   ]
  },
  {
   "cell_type": "markdown",
   "metadata": {
    "colab_type": "text",
    "id": "g0-QFd-7Kew9"
   },
   "source": [
    "## Table of Content\n",
    "\n",
    "1. [Introduction to Anomaly Detection](#section1)<br>\n",
    "    - 1.1 [What are anomalies?](#section101)<br>\n",
    "    - 1.2 [Anomaly Detection Technique](#section102)<br>\n",
    "        - 1.2.1 [Simple Statistical Methods](#section103)<br>\n",
    "        - 1.2.2 [Machine Learning Based Approach](#section104)<br>\n",
    "2. [Use Case : Expedia](#section2)<br>\n",
    "3. [Data Preprocessing](#section3)<br>\n",
    "4. [Exploratory Data Analysis](#section4)<br>\n",
    "5. [Model Prediction](#section5)<br>\n",
    "    - 5.1 [Clustering Based](#section501)<br>\n",
    "    - 5.2 [Isolation Forest](#section502)<br>\n",
    "    - 5.3 [One Class SVM](#section503)<br>\n",
    "6. [Conclusion](#section6)<br>"
   ]
  },
  {
   "cell_type": "markdown",
   "metadata": {
    "colab_type": "text",
    "id": "QXcvLebsKew-"
   },
   "source": [
    "<a id=section101></a>\n",
    "## Introduction"
   ]
  },
  {
   "cell_type": "markdown",
   "metadata": {
    "colab_type": "text",
    "id": "yxMSWz71Kew_"
   },
   "source": [
    "Anomaly detection is a technique used to __identify unusual patterns__ that do not conform to expected behavior, called __outliers__. \n",
    "- It has many applications in business, from \n",
    "    - __Intrusion detection__ (identifying strange patterns in network traffic that could signal a hack).\n",
    "    - System __health monitoring__ (spotting a malignant tumor in an MRI scan).\n",
    "    - __Fraud detection__ in credit card transactions.\n",
    "    - __Fault detection__ in operating environments.\n",
    "    <img src = 'https://raw.githubusercontent.com/insaid2018/Term-4/master/images/anamoli_images/ana1.png'>"
   ]
  },
  {
   "cell_type": "markdown",
   "metadata": {
    "colab_type": "text",
    "id": "kOyaNXeWKexA"
   },
   "source": [
    "<a id=section101></a>\n",
    "### What are anomalies?"
   ]
  },
  {
   "cell_type": "markdown",
   "metadata": {
    "colab_type": "text",
    "id": "I_RO6czZKexB"
   },
   "source": [
    "Anomalies can be broadly categorized as:<br>\n",
    "1. Point anomalies\n",
    "2. Contextual anmoalies\n",
    "3. Collective anomalies"
   ]
  },
  {
   "cell_type": "markdown",
   "metadata": {
    "colab_type": "text",
    "id": "F2oDnaOWKexB"
   },
   "source": [
    "#### 1. Point Anamoly  \n",
    "A single instance of data is anomalous if it's too far off from the rest. <br><br>__Business use case__: Detecting credit card fraud based on \"amount spent.\"<br>\n",
    "<img src = 'https://raw.githubusercontent.com/insaid2018/Term-4/master/images/anamoli_images/ana2.png'>"
   ]
  },
  {
   "cell_type": "markdown",
   "metadata": {
    "colab_type": "text",
    "id": "aQ2fvWeaKexC"
   },
   "source": [
    "2. The abnormality is context specific. This type of anomaly is common in time-series data.<br> \n",
    "Business use case: Spending $100 on food every day during the holiday season is normal, but may be odd otherwise.<br>\n",
    "<img src = 'https://raw.githubusercontent.com/insaid2018/Term-4/master/images/anamoli_images/ana3.png'>"
   ]
  },
  {
   "cell_type": "markdown",
   "metadata": {
    "colab_type": "text",
    "id": "-qs2JhMPKexD"
   },
   "source": [
    "3. A set of data instances collectively helps in detecting anomalies.<br> \n",
    "Business use case: Someone is trying to copy data from a remote machine to a local host unexpectedly, an anomaly that would be flagged as a potential cyber attack. <br>\n",
    "<img src = 'https://raw.githubusercontent.com/insaid2018/Term-4/master/images/anamoli_images/ana4.png'>"
   ]
  },
  {
   "cell_type": "markdown",
   "metadata": {
    "colab_type": "text",
    "id": "4-fvfe_zKexD"
   },
   "source": [
    "Anomaly detection is similar to — but not entirely the same as — __noise removal__ and __novelty detection__. <br><br>\n",
    "`Novelty detection is concerned with identifying an unobserved pattern in new observations not included in training data — like a sudden interest in a new channel on YouTube during Christmas, for instance.`<br><br> \n",
    "`Noise removal (NR) is the process of immunizing analysis from the occurrence of unwanted observations; in other words, removing noise from an otherwise meaningful signal.`"
   ]
  },
  {
   "cell_type": "markdown",
   "metadata": {
    "colab_type": "text",
    "id": "MRgZEizJKexE"
   },
   "source": [
    "<a id=section102></a>\n",
    "## Anomaly Detection Techniques"
   ]
  },
  {
   "cell_type": "markdown",
   "metadata": {
    "colab_type": "text",
    "id": "fg5O4SxQKexE"
   },
   "source": [
    "### Simple statistical methods\n",
    "\n",
    "The simplest approach to identifying irregularities in data is to flag the data points that deviate from common statistical properties of a distribution, including mean, median, mode, and quantiles.<br>\n",
    "- Let's say the definition of an anomalous data point is one that deviates by a certain standard deviation from the mean.\n",
    "- Traversing mean over time-series data isn't exactly trivial, as it's not static. \n",
    "- You would need a rolling window to compute the average across the data points. \n",
    "- Technically, this is called a rolling average or a moving average, and it's intended to smooth short-term fluctuations and highlight long-term ones. \n",
    "- Mathematically, an n-period simple moving average can also be defined as a \"low pass filter.\""
   ]
  },
  {
   "cell_type": "markdown",
   "metadata": {
    "colab_type": "text",
    "id": "SZpCdHczKexF"
   },
   "source": [
    "<img src = 'https://raw.githubusercontent.com/insaid2018/Term-4/master/images/anamoli_images/ana5.png'>"
   ]
  },
  {
   "cell_type": "markdown",
   "metadata": {
    "colab_type": "text",
    "id": "j99uMefaKexG"
   },
   "source": [
    "### Machine Learning Based Approach"
   ]
  },
  {
   "cell_type": "markdown",
   "metadata": {
    "colab_type": "text",
    "id": "lO3Z2fBtKexG"
   },
   "source": [
    "#### Density based Anomaly Detection\n",
    "\n",
    "Density-based anomaly detection is based on the __k-nearest neighbors__ algorithm.\n",
    "\n",
    "__Assumption__: Normal data points occur around a __dense neighborhood and abnormalities are far away__. \n",
    "\n",
    "The nearest set of data points are evaluated using a score, which could be Eucledian distance or a similar measure dependent on the type of the data (categorical or numerical). They could be broadly classified into two algorithms:<br>\n",
    "\n",
    "1. __K-nearest neighbor__: k-NN is a simple, non-parametric lazy learning technique used to classify data based on similarities in distance metrics such as Eucledian, Manhattan, Minkowski, or Hamming distance.\n",
    "2. __Relative density of data__: This is better known as __local outlier factor (LOF)__. This concept is based on a distance metric called reachability distance.<br>\n",
    "<img src = 'https://raw.githubusercontent.com/insaid2018/Term-4/master/images/anamoli_images/ana6.png'>"
   ]
  },
  {
   "cell_type": "markdown",
   "metadata": {
    "colab_type": "text",
    "id": "Bopd8jmqKexH"
   },
   "source": [
    "#### Clustering Based Anomaly Detection\n",
    "__Clustering__ is one of the most popular concepts in the domain of __unsupervised learning__.\n",
    "\n",
    "__Assumption__: Data points that are similar tend to belong to similar groups or clusters, as determined by their distance from local centroids.\n",
    "\n",
    "__K-means__ is a widely used clustering algorithm. It creates 'k' similar clusters of data points. Data instances that __fall outside__ of these groups could potentially be marked as anomalies.<br>\n",
    "<img src = 'https://raw.githubusercontent.com/insaid2018/Term-4/master/images/anamoli_images/ana.png'>"
   ]
  },
  {
   "cell_type": "markdown",
   "metadata": {
    "colab_type": "text",
    "id": "-MWConY4KexI"
   },
   "source": [
    "#### Support Vector Machine Based Anomaly Detection\n",
    "A support vector machine is another effective technique for detecting anomalies. \n",
    "- A SVM is typically associated with __supervised learning__, but there are _extensions (OneClassCVM, for instance) that can be used to identify anomalies as an unsupervised problems (in which training data are not labeled)_. \n",
    "- The algorithm learns a soft boundary in order to cluster the normal data instances using the training set, and then, using the testing instance, it tunes itself to identify the abnormalities that fall outside the learned region.<br>\n",
    "\n",
    "Depending on the use case, the output of an anomaly detector could be __numeric scalar values for filtering on domain-specific thresholds or textual labels (such as binary/multi labels)__.<br>\n",
    "<img src = 'https://raw.githubusercontent.com/insaid2018/Term-4/master/images/anamoli_images/ana7.png'>"
   ]
  },
  {
   "cell_type": "markdown",
   "metadata": {
    "colab_type": "text",
    "id": "W_dT8C3GKexI"
   },
   "source": [
    "### Use Case: Expedia\n",
    "\n",
    "- One of the largest online travel agency and powers search results fo millions of travel shoppers every day.\n",
    "- \"Hotel\" refers to hotels, apartments, B&Bs, hostels and other properties.\n",
    "- Room types are not distinguished and the data can be assumed to apply to the least expensive room type.\n",
    "- Most of the data are for searches that resulted in a purchase, but a small proportion are for searches not leading to purchase.\n",
    "\n",
    "| Column Name | Data Type | Description |\n",
    "| ------------ | --------- | ----------- |\n",
    "| date_time | Data/time | Date and time of the search |\n",
    "| price_usd | Float | Displayed price of the hotel for the given search |\n",
    "| srch_booking_window | Integer | Number of days on the future the hotel stay started fromt he search done|\n",
    "| srch_staurday_night_bool | Boolean | +1 if the stay includes a Saturday night |"
   ]
  },
  {
   "cell_type": "markdown",
   "metadata": {
    "colab_type": "text",
    "id": "4eyyZbABKexJ"
   },
   "source": [
    "### Importing required libraries"
   ]
  },
  {
   "cell_type": "code",
   "execution_count": 1,
   "metadata": {
    "ExecuteTime": {
     "end_time": "2019-10-22T12:07:25.967357Z",
     "start_time": "2019-10-22T12:07:23.487981Z"
    },
    "colab": {},
    "colab_type": "code",
    "id": "FHN73icFKexJ"
   },
   "outputs": [],
   "source": [
    "import pandas as pd\n",
    "import numpy as np\n",
    "import matplotlib.pyplot as plt\n",
    "%matplotlib inline\n",
    "import seaborn as sns\n",
    "from sklearn import svm\n",
    "from sklearn.ensemble import IsolationForest\n",
    "import warnings\n",
    "warnings.filterwarnings('ignore')"
   ]
  },
  {
   "cell_type": "markdown",
   "metadata": {
    "colab_type": "text",
    "id": "Xw2FwM6YKexM"
   },
   "source": [
    "### Reading the data from github source"
   ]
  },
  {
   "cell_type": "code",
   "execution_count": 2,
   "metadata": {
    "ExecuteTime": {
     "end_time": "2019-10-22T12:07:27.053606Z",
     "start_time": "2019-10-22T12:07:25.976300Z"
    },
    "colab": {
     "base_uri": "https://localhost:8080/",
     "height": 195
    },
    "colab_type": "code",
    "id": "2G7ANnwNKexM",
    "outputId": "b86ee5ee-7c32-461d-eaa3-b712333cf527"
   },
   "outputs": [
    {
     "data": {
      "text/html": [
       "<div>\n",
       "<style scoped>\n",
       "    .dataframe tbody tr th:only-of-type {\n",
       "        vertical-align: middle;\n",
       "    }\n",
       "\n",
       "    .dataframe tbody tr th {\n",
       "        vertical-align: top;\n",
       "    }\n",
       "\n",
       "    .dataframe thead th {\n",
       "        text-align: right;\n",
       "    }\n",
       "</style>\n",
       "<table border=\"1\" class=\"dataframe\">\n",
       "  <thead>\n",
       "    <tr style=\"text-align: right;\">\n",
       "      <th></th>\n",
       "      <th>date_time</th>\n",
       "      <th>price_usd</th>\n",
       "      <th>srch_booking_window</th>\n",
       "      <th>srch_saturday_night_bool</th>\n",
       "    </tr>\n",
       "  </thead>\n",
       "  <tbody>\n",
       "    <tr>\n",
       "      <td>0</td>\n",
       "      <td>2013-03-14 11:27:28</td>\n",
       "      <td>206.0</td>\n",
       "      <td>99</td>\n",
       "      <td>1</td>\n",
       "    </tr>\n",
       "    <tr>\n",
       "      <td>1</td>\n",
       "      <td>2013-01-03 20:48:24</td>\n",
       "      <td>186.0</td>\n",
       "      <td>6</td>\n",
       "      <td>0</td>\n",
       "    </tr>\n",
       "    <tr>\n",
       "      <td>2</td>\n",
       "      <td>2013-01-19 16:51:27</td>\n",
       "      <td>61.0</td>\n",
       "      <td>1</td>\n",
       "      <td>0</td>\n",
       "    </tr>\n",
       "    <tr>\n",
       "      <td>3</td>\n",
       "      <td>2013-01-26 11:34:23</td>\n",
       "      <td>72.0</td>\n",
       "      <td>116</td>\n",
       "      <td>0</td>\n",
       "    </tr>\n",
       "    <tr>\n",
       "      <td>4</td>\n",
       "      <td>2013-04-29 09:39:50</td>\n",
       "      <td>246.0</td>\n",
       "      <td>245</td>\n",
       "      <td>0</td>\n",
       "    </tr>\n",
       "  </tbody>\n",
       "</table>\n",
       "</div>"
      ],
      "text/plain": [
       "             date_time  price_usd  srch_booking_window  \\\n",
       "0  2013-03-14 11:27:28      206.0                   99   \n",
       "1  2013-01-03 20:48:24      186.0                    6   \n",
       "2  2013-01-19 16:51:27       61.0                    1   \n",
       "3  2013-01-26 11:34:23       72.0                  116   \n",
       "4  2013-04-29 09:39:50      246.0                  245   \n",
       "\n",
       "   srch_saturday_night_bool  \n",
       "0                         1  \n",
       "1                         0  \n",
       "2                         0  \n",
       "3                         0  \n",
       "4                         0  "
      ]
     },
     "execution_count": 2,
     "metadata": {},
     "output_type": "execute_result"
    }
   ],
   "source": [
    "df = pd.read_csv('https://raw.githubusercontent.com/insaid2018/Term-4/master/CaseStudy/train.csv')\n",
    "df.head()"
   ]
  },
  {
   "cell_type": "markdown",
   "metadata": {
    "colab_type": "text",
    "id": "KbG2gHcmKexP"
   },
   "source": [
    "### Data Exploration"
   ]
  },
  {
   "cell_type": "code",
   "execution_count": 3,
   "metadata": {
    "ExecuteTime": {
     "end_time": "2019-10-22T12:07:27.066591Z",
     "start_time": "2019-10-22T12:07:27.055600Z"
    },
    "colab": {
     "base_uri": "https://localhost:8080/",
     "height": 168
    },
    "colab_type": "code",
    "id": "vndTfv8HKexQ",
    "outputId": "49a002ae-cd35-479e-c4b9-e40888e05498"
   },
   "outputs": [
    {
     "name": "stdout",
     "output_type": "stream",
     "text": [
      "<class 'pandas.core.frame.DataFrame'>\n",
      "RangeIndex: 3049 entries, 0 to 3048\n",
      "Data columns (total 4 columns):\n",
      "date_time                   3049 non-null object\n",
      "price_usd                   3049 non-null float64\n",
      "srch_booking_window         3049 non-null int64\n",
      "srch_saturday_night_bool    3049 non-null int64\n",
      "dtypes: float64(1), int64(2), object(1)\n",
      "memory usage: 95.4+ KB\n"
     ]
    }
   ],
   "source": [
    "df.info()"
   ]
  },
  {
   "cell_type": "code",
   "execution_count": 4,
   "metadata": {
    "ExecuteTime": {
     "end_time": "2019-10-22T12:07:27.094496Z",
     "start_time": "2019-10-22T12:07:27.068529Z"
    },
    "colab": {
     "base_uri": "https://localhost:8080/",
     "height": 168
    },
    "colab_type": "code",
    "id": "HWVzvrnOKexS",
    "outputId": "af8ec000-6487-4882-b6f5-a8909a7e6ba2"
   },
   "outputs": [
    {
     "data": {
      "text/plain": [
       "count    3049.000000\n",
       "mean      112.939023\n",
       "std       113.374049\n",
       "min         0.120000\n",
       "25%        67.000000\n",
       "50%       100.000000\n",
       "75%       141.000000\n",
       "max      5584.000000\n",
       "Name: price_usd, dtype: float64"
      ]
     },
     "execution_count": 4,
     "metadata": {},
     "output_type": "execute_result"
    }
   ],
   "source": [
    "df['price_usd'].describe()"
   ]
  },
  {
   "cell_type": "markdown",
   "metadata": {
    "colab_type": "text",
    "id": "cEIBj9lMKexU"
   },
   "source": [
    "#### Observation\n",
    "- Here, we have detected one extreme anomaly which was the **Max price_usd at 5584**.\n",
    "\n",
    "- If an individual data instance can be considered as anomalous w.r.t the rest of the data, we call it **Point Anomalies**. \n",
    "- We could go back to check the log to see what was it about.\n",
    "- It was either a mistake or user searched a presidential suite by accident and had no intention to book or view. "
   ]
  },
  {
   "cell_type": "code",
   "execution_count": 6,
   "metadata": {
    "ExecuteTime": {
     "end_time": "2019-10-22T12:07:27.175918Z",
     "start_time": "2019-10-22T12:07:27.096455Z"
    },
    "colab": {
     "base_uri": "https://localhost:8080/",
     "height": 47
    },
    "colab_type": "code",
    "id": "7NaKkHsBKexV",
    "outputId": "474593b0-823b-44ce-bef8-6660605ba954"
   },
   "outputs": [
    {
     "data": {
      "text/html": [
       "<div>\n",
       "<style scoped>\n",
       "    .dataframe tbody tr th:only-of-type {\n",
       "        vertical-align: middle;\n",
       "    }\n",
       "\n",
       "    .dataframe tbody tr th {\n",
       "        vertical-align: top;\n",
       "    }\n",
       "\n",
       "    .dataframe thead th {\n",
       "        text-align: right;\n",
       "    }\n",
       "</style>\n",
       "<table border=\"1\" class=\"dataframe\">\n",
       "  <thead>\n",
       "    <tr style=\"text-align: right;\">\n",
       "      <th></th>\n",
       "      <th>date_time</th>\n",
       "      <th>price_usd</th>\n",
       "      <th>srch_booking_window</th>\n",
       "      <th>srch_saturday_night_bool</th>\n",
       "    </tr>\n",
       "  </thead>\n",
       "  <tbody>\n",
       "    <tr>\n",
       "      <td>84</td>\n",
       "      <td>2013-06-08 16:57:50</td>\n",
       "      <td>366.0</td>\n",
       "      <td>14</td>\n",
       "      <td>1</td>\n",
       "    </tr>\n",
       "    <tr>\n",
       "      <td>151</td>\n",
       "      <td>2013-06-16 07:25:27</td>\n",
       "      <td>434.0</td>\n",
       "      <td>6</td>\n",
       "      <td>1</td>\n",
       "    </tr>\n",
       "    <tr>\n",
       "      <td>339</td>\n",
       "      <td>2013-03-17 07:38:48</td>\n",
       "      <td>370.0</td>\n",
       "      <td>5</td>\n",
       "      <td>1</td>\n",
       "    </tr>\n",
       "    <tr>\n",
       "      <td>437</td>\n",
       "      <td>2013-05-14 19:56:30</td>\n",
       "      <td>536.0</td>\n",
       "      <td>0</td>\n",
       "      <td>0</td>\n",
       "    </tr>\n",
       "    <tr>\n",
       "      <td>495</td>\n",
       "      <td>2012-12-31 08:25:26</td>\n",
       "      <td>425.0</td>\n",
       "      <td>0</td>\n",
       "      <td>0</td>\n",
       "    </tr>\n",
       "    <tr>\n",
       "      <td>917</td>\n",
       "      <td>2013-04-02 16:31:03</td>\n",
       "      <td>404.0</td>\n",
       "      <td>18</td>\n",
       "      <td>1</td>\n",
       "    </tr>\n",
       "    <tr>\n",
       "      <td>932</td>\n",
       "      <td>2013-04-07 20:59:07</td>\n",
       "      <td>5584.0</td>\n",
       "      <td>13</td>\n",
       "      <td>0</td>\n",
       "    </tr>\n",
       "    <tr>\n",
       "      <td>1495</td>\n",
       "      <td>2013-02-12 10:04:51</td>\n",
       "      <td>349.0</td>\n",
       "      <td>38</td>\n",
       "      <td>1</td>\n",
       "    </tr>\n",
       "    <tr>\n",
       "      <td>1915</td>\n",
       "      <td>2012-12-19 07:19:10</td>\n",
       "      <td>393.0</td>\n",
       "      <td>20</td>\n",
       "      <td>0</td>\n",
       "    </tr>\n",
       "    <tr>\n",
       "      <td>2323</td>\n",
       "      <td>2013-01-02 08:33:04</td>\n",
       "      <td>400.0</td>\n",
       "      <td>6</td>\n",
       "      <td>0</td>\n",
       "    </tr>\n",
       "    <tr>\n",
       "      <td>2761</td>\n",
       "      <td>2012-12-11 19:48:11</td>\n",
       "      <td>388.0</td>\n",
       "      <td>28</td>\n",
       "      <td>0</td>\n",
       "    </tr>\n",
       "    <tr>\n",
       "      <td>2938</td>\n",
       "      <td>2012-11-21 20:01:56</td>\n",
       "      <td>341.0</td>\n",
       "      <td>48</td>\n",
       "      <td>0</td>\n",
       "    </tr>\n",
       "  </tbody>\n",
       "</table>\n",
       "</div>"
      ],
      "text/plain": [
       "                date_time  price_usd  srch_booking_window  \\\n",
       "84    2013-06-08 16:57:50      366.0                   14   \n",
       "151   2013-06-16 07:25:27      434.0                    6   \n",
       "339   2013-03-17 07:38:48      370.0                    5   \n",
       "437   2013-05-14 19:56:30      536.0                    0   \n",
       "495   2012-12-31 08:25:26      425.0                    0   \n",
       "917   2013-04-02 16:31:03      404.0                   18   \n",
       "932   2013-04-07 20:59:07     5584.0                   13   \n",
       "1495  2013-02-12 10:04:51      349.0                   38   \n",
       "1915  2012-12-19 07:19:10      393.0                   20   \n",
       "2323  2013-01-02 08:33:04      400.0                    6   \n",
       "2761  2012-12-11 19:48:11      388.0                   28   \n",
       "2938  2012-11-21 20:01:56      341.0                   48   \n",
       "\n",
       "      srch_saturday_night_bool  \n",
       "84                           1  \n",
       "151                          1  \n",
       "339                          1  \n",
       "437                          0  \n",
       "495                          0  \n",
       "917                          1  \n",
       "932                          0  \n",
       "1495                         1  \n",
       "1915                         0  \n",
       "2323                         0  \n",
       "2761                         0  \n",
       "2938                         0  "
      ]
     },
     "execution_count": 6,
     "metadata": {},
     "output_type": "execute_result"
    }
   ],
   "source": [
    "#df.loc[(df['price_usd'] == 5584) & (df['srch_booking_window'] == 292)]\n",
    "df.loc[(df['price_usd'] > 337)]\n",
    "\n",
    "#mean = 112 SD = 113\n",
    "# mean + 3*SD = 451\n",
    "\n",
    "# how many should i consider outliers? - as min as possible\n",
    "# business history - judgement from expert"
   ]
  },
  {
   "cell_type": "code",
   "execution_count": 7,
   "metadata": {
    "ExecuteTime": {
     "end_time": "2019-10-22T12:07:27.203844Z",
     "start_time": "2019-10-22T12:07:27.177911Z"
    },
    "colab": {},
    "colab_type": "code",
    "id": "CtB1WX2XKexX"
   },
   "outputs": [],
   "source": [
    "#df = df.loc[df['price_usd'] < 5584]"
   ]
  },
  {
   "cell_type": "markdown",
   "metadata": {
    "colab_type": "text",
    "id": "lnlgGYR1KexZ"
   },
   "source": [
    "#### Observation:\n",
    "- We need to understand what room type a user searched for.\n",
    "- The price for a standard room could be very different with the price for a King bed room with Ocean View."
   ]
  },
  {
   "cell_type": "markdown",
   "metadata": {
    "colab_type": "text",
    "id": "Yjwc_hV8KexZ"
   },
   "source": [
    "## Time series visualization"
   ]
  },
  {
   "cell_type": "code",
   "execution_count": 8,
   "metadata": {
    "ExecuteTime": {
     "end_time": "2019-10-22T12:07:27.442264Z",
     "start_time": "2019-10-22T12:07:27.206835Z"
    },
    "colab": {
     "base_uri": "https://localhost:8080/",
     "height": 404
    },
    "colab_type": "code",
    "id": "VW6J8K_NKexa",
    "outputId": "0347fe12-d3e5-487b-af79-44e91b07ed36"
   },
   "outputs": [
    {
     "data": {
      "image/png": "[encoded data removed]",
      "text/plain": [
       "<Figure size 864x432 with 1 Axes>"
      ]
     },
     "metadata": {
      "needs_background": "light"
     },
     "output_type": "display_data"
    }
   ],
   "source": [
    "import matplotlib.pyplot as plt\n",
    "df.plot(x='date_time', y='price_usd', figsize=(12,6))\n",
    "plt.xlabel('Date time')\n",
    "plt.ylabel('Price in USD')\n",
    "plt.title('Time Series of room price by date time of search');"
   ]
  },
  {
   "cell_type": "code",
   "execution_count": 9,
   "metadata": {
    "ExecuteTime": {
     "end_time": "2019-10-22T12:07:27.718224Z",
     "start_time": "2019-10-22T12:07:27.445198Z"
    },
    "colab": {
     "base_uri": "https://localhost:8080/",
     "height": 392
    },
    "colab_type": "code",
    "id": "4zC0VLvCKexc",
    "outputId": "946383e6-e60d-4ede-a0a9-4d65afb2fde4"
   },
   "outputs": [
    {
     "data": {
      "image/png": "[encoded data removed]",
      "text/plain": [
       "<Figure size 720x432 with 1 Axes>"
      ]
     },
     "metadata": {
      "needs_background": "light"
     },
     "output_type": "display_data"
    }
   ],
   "source": [
    "a = df.loc[df['srch_saturday_night_bool'] == 0, 'price_usd']\n",
    "b = df.loc[df['srch_saturday_night_bool'] == 1, 'price_usd']\n",
    "plt.figure(figsize=(10, 6))\n",
    "plt.hist(a, bins = 50, alpha=0.5, label='Search Non-Sat Night')\n",
    "plt.hist(b, bins = 50, alpha=0.5, label='Search Sat Night')\n",
    "plt.legend(loc='upper right')\n",
    "plt.xlabel('Price')\n",
    "plt.ylabel('Count')\n",
    "plt.show();"
   ]
  },
  {
   "cell_type": "markdown",
   "metadata": {
    "colab_type": "text",
    "id": "9SM5hR-cKexe"
   },
   "source": [
    "#### Observation:\n",
    "- The price is more stable and lower when searching Non-Saturday night. \n",
    "- The price goes up when searching Saturday night. Seems this property gets popular during the weekend."
   ]
  },
  {
   "cell_type": "markdown",
   "metadata": {
    "colab_type": "text",
    "id": "mIdcJYspKexe"
   },
   "source": [
    "### Model Prediction"
   ]
  },
  {
   "cell_type": "markdown",
   "metadata": {
    "colab_type": "text",
    "id": "ynsIzs2HKexf"
   },
   "source": [
    "<a id=section501></a>\n",
    "### Clustering based Anomaly Detection\n",
    "#### k-means algorithm"
   ]
  },
  {
   "cell_type": "code",
   "execution_count": 10,
   "metadata": {
    "ExecuteTime": {
     "end_time": "2019-10-22T12:07:30.763695Z",
     "start_time": "2019-10-22T12:07:27.720220Z"
    },
    "colab": {},
    "colab_type": "code",
    "id": "KxuZvjUZKexg"
   },
   "outputs": [],
   "source": [
    "from sklearn.cluster import KMeans\n",
    "dat = df[['price_usd', 'srch_booking_window', 'srch_saturday_night_bool']]\n",
    "n_cluster = range(1, 20)\n",
    "kmeans = [KMeans(n_clusters=i).fit(dat) for i in n_cluster]\n",
    "scores = [-1*kmeans[i].score(dat) for i in range(len(kmeans))]"
   ]
  },
  {
   "cell_type": "markdown",
   "metadata": {
    "colab_type": "text",
    "id": "ECkmrbRAR6_M"
   },
   "source": [
    "### Visualization"
   ]
  },
  {
   "cell_type": "code",
   "execution_count": 11,
   "metadata": {
    "ExecuteTime": {
     "end_time": "2019-10-22T12:07:30.896343Z",
     "start_time": "2019-10-22T12:07:30.765689Z"
    },
    "colab": {},
    "colab_type": "code",
    "id": "wZzdppZcRyyv",
    "outputId": "0b1f9975-9665-4781-a11f-13326c935cd0"
   },
   "outputs": [
    {
     "data": {
      "image/png": "[encoded data removed]",
      "text/plain": [
       "<Figure size 1080x432 with 1 Axes>"
      ]
     },
     "metadata": {
      "needs_background": "light"
     },
     "output_type": "display_data"
    }
   ],
   "source": [
    "fig, ax = plt.subplots(figsize=(15,6))\n",
    "ax.plot(n_cluster, scores)\n",
    "plt.xlabel('Number of Clusters')\n",
    "plt.ylabel('Score')\n",
    "ax.xaxis.set_ticks(np.arange(0, 20, 1))\n",
    "plt.title('Elbow Curve')\n",
    "plt.show();"
   ]
  },
  {
   "cell_type": "markdown",
   "metadata": {
    "colab_type": "text",
    "id": "lkxFVVrnKexi"
   },
   "source": [
    "#### Observation:\n",
    "- We see the graph levels off after 10 clusters.\n",
    "- This means that addition of more clusters do not explain much more of the variance in our relevant variable; in this case price_usd.\n",
    "\n",
    "\n",
    "Setting n_clusters=10, and upon generating the k-means output use the data to plot the 3D clusters."
   ]
  },
  {
   "cell_type": "code",
   "execution_count": 12,
   "metadata": {
    "ExecuteTime": {
     "end_time": "2019-10-22T12:07:31.732823Z",
     "start_time": "2019-10-22T12:07:30.899333Z"
    },
    "colab": {},
    "colab_type": "code",
    "id": "k-PbmcnGKexi"
   },
   "outputs": [],
   "source": [
    "import numpy as np\n",
    "from mpl_toolkits.mplot3d import Axes3D\n",
    "X = df[['price_usd', 'srch_booking_window', 'srch_saturday_night_bool']]\n",
    "X = X.reset_index(drop=True)\n",
    "km = KMeans(n_clusters=4)\n",
    "km.fit(X)\n",
    "km.predict(X)\n",
    "labels = km.labels_"
   ]
  },
  {
   "cell_type": "markdown",
   "metadata": {
    "colab_type": "text",
    "id": "_MKmug0TSGxP"
   },
   "source": [
    "### Plotting"
   ]
  },
  {
   "cell_type": "code",
   "execution_count": 13,
   "metadata": {
    "ExecuteTime": {
     "end_time": "2019-10-22T12:07:32.482781Z",
     "start_time": "2019-10-22T12:07:31.734781Z"
    },
    "colab": {},
    "colab_type": "code",
    "id": "HkunLuCWSHE1",
    "outputId": "862f50f9-7767-4d4c-c55c-1227fcdd0c63"
   },
   "outputs": [
    {
     "data": {
      "image/png": "[encoded data removed]",
      "text/plain": [
       "<Figure size 504x504 with 1 Axes>"
      ]
     },
     "metadata": {
      "needs_background": "light"
     },
     "output_type": "display_data"
    }
   ],
   "source": [
    "fig = plt.figure(1, figsize=(7,7))\n",
    "ax = Axes3D(fig, rect=[0, 0, 0.95, 1], elev=48, azim=134)\n",
    "ax.scatter(X.iloc[:,0], X.iloc[:,1], X.iloc[:,2],\n",
    "          c=labels.astype(np.float), edgecolor=\"k\")\n",
    "ax.set_xlabel(\"price_usd\")\n",
    "ax.set_ylabel(\"srch_booking_window\")\n",
    "ax.set_zlabel(\"srch_saturday_night_bool\")\n",
    "plt.title(\"K Means\", fontsize=14);"
   ]
  },
  {
   "cell_type": "markdown",
   "metadata": {
    "colab_type": "text",
    "id": "hS-p7SKySf13"
   },
   "source": [
    "#### Standardization"
   ]
  },
  {
   "cell_type": "code",
   "execution_count": 14,
   "metadata": {
    "ExecuteTime": {
     "end_time": "2019-10-22T12:07:32.491756Z",
     "start_time": "2019-10-22T12:07:32.484776Z"
    },
    "colab": {},
    "colab_type": "code",
    "id": "fRPJ_3BZKexk"
   },
   "outputs": [],
   "source": [
    "from sklearn.preprocessing import StandardScaler\n",
    "dt = df[['price_usd', 'srch_booking_window', 'srch_saturday_night_bool']]\n",
    "X = dt.values"
   ]
  },
  {
   "cell_type": "code",
   "execution_count": 15,
   "metadata": {
    "ExecuteTime": {
     "end_time": "2019-10-22T12:07:33.157029Z",
     "start_time": "2019-10-22T12:07:32.494749Z"
    },
    "colab": {},
    "colab_type": "code",
    "id": "_4UVOBWsSVgA"
   },
   "outputs": [],
   "source": [
    "#PCA - if we need it\n",
    "\n",
    "X_std = StandardScaler().fit_transform(X)\n",
    "mean_vec = np.mean(X_std, axis=0)\n",
    "cov_mat = np.cov(X_std.T)\n",
    "eig_vals, eig_vecs = np.linalg.eig(cov_mat)"
   ]
  },
  {
   "cell_type": "code",
   "execution_count": 16,
   "metadata": {
    "ExecuteTime": {
     "end_time": "2019-10-22T12:07:33.297598Z",
     "start_time": "2019-10-22T12:07:33.158969Z"
    },
    "colab": {},
    "colab_type": "code",
    "id": "hsupNNNuSVsX"
   },
   "outputs": [],
   "source": [
    "eig_pairs = [ (np.abs(eig_vals[i]),eig_vecs[:,i]) for i in range(len(eig_vals))]\n",
    "eig_pairs.sort(key = lambda x: x[0], reverse= True)\n",
    "tot = sum(eig_vals)\n",
    "var_exp = [(i/tot)*100 for i in sorted(eig_vals, reverse=True)] # Individual explained variance\n",
    "cum_var_exp = np.cumsum(var_exp) # Cumulative explained variance"
   ]
  },
  {
   "cell_type": "markdown",
   "metadata": {
    "colab_type": "text",
    "id": "LxHsFBLCSMXq"
   },
   "source": [
    "### Plotting"
   ]
  },
  {
   "cell_type": "code",
   "execution_count": 17,
   "metadata": {
    "ExecuteTime": {
     "end_time": "2019-10-22T12:07:33.438222Z",
     "start_time": "2019-10-22T12:07:33.299593Z"
    },
    "colab": {},
    "colab_type": "code",
    "id": "NAYUKSy8SMob",
    "outputId": "8e039250-6a84-4263-be23-17469a7851a4"
   },
   "outputs": [
    {
     "data": {
      "image/png": "[encoded data removed]",
      "text/plain": [
       "<Figure size 720x360 with 1 Axes>"
      ]
     },
     "metadata": {
      "needs_background": "light"
     },
     "output_type": "display_data"
    }
   ],
   "source": [
    "plt.figure(figsize=(10, 5))\n",
    "plt.bar(range(len(var_exp)), var_exp, alpha=0.3, align='center', label='individual explained variance', color = 'g')\n",
    "plt.step(range(len(cum_var_exp)), cum_var_exp, where='mid',label='cumulative explained variance')\n",
    "plt.ylabel('Explained variance ratio')\n",
    "plt.xlabel('Principal components')\n",
    "plt.legend(loc='best')\n",
    "plt.show();"
   ]
  },
  {
   "cell_type": "markdown",
   "metadata": {
    "colab_type": "text",
    "id": "26wGc25xKexn"
   },
   "source": [
    "#### Observation\n",
    "- First component explains almost 50% of the variance. \n",
    "- Second component explains over 30%.\n",
    "- Notice that almost none of the components are really negligible. \n",
    "- The first 2 components contain over 80% of the information. So, we will set n_components=2."
   ]
  },
  {
   "cell_type": "markdown",
   "metadata": {
    "colab_type": "text",
    "id": "Wcerp6E3Kexo"
   },
   "source": [
    "#### Assumptions\n",
    "- If we cluster the data, normal data will belong to clusters while anomalies will not belong to any clusters or belong to small clusters. \n",
    "- We use the following steps to find and visualize anomalies."
   ]
  },
  {
   "cell_type": "markdown",
   "metadata": {
    "colab_type": "text",
    "id": "rzHx3QrxKexp"
   },
   "source": [
    "#### Steps\n",
    "- Calculate the distance between each point and its nearest centroid. The biggest distances are considered as anomaly.\n",
    "- We use outliers_fraction to provide information to the algorithm about the proportion of the outliers present in our data set.\n",
    "- Calculate number_of_outliers using outliers_fraction.\n",
    "- Set threshold as the minimum distance of these outliers.\n",
    "- The anomaly result of anomaly1 contains the above method Cluster (0:normal, 1:anomaly).\n",
    "- Visualize anomalies with Time Series view."
   ]
  },
  {
   "cell_type": "code",
   "execution_count": 18,
   "metadata": {
    "ExecuteTime": {
     "end_time": "2019-10-22T12:07:33.444244Z",
     "start_time": "2019-10-22T12:07:33.440218Z"
    },
    "colab": {},
    "colab_type": "code",
    "id": "dpCtFQRYKexq"
   },
   "outputs": [],
   "source": [
    "dat.reset_index(drop = True,inplace = True)"
   ]
  },
  {
   "cell_type": "markdown",
   "metadata": {
    "colab_type": "text",
    "id": "U9EmhtJmKext"
   },
   "source": [
    "#### Creating user-defined function to find the distance"
   ]
  },
  {
   "cell_type": "code",
   "execution_count": 19,
   "metadata": {
    "ExecuteTime": {
     "end_time": "2019-10-22T12:07:33.473139Z",
     "start_time": "2019-10-22T12:07:33.446202Z"
    },
    "colab": {},
    "colab_type": "code",
    "id": "KS1W91DoKexu"
   },
   "outputs": [],
   "source": [
    "def getDistanceByPoint(dt, model):\n",
    "    distance = pd.Series()\n",
    "    for i in range(0,len(dt)):\n",
    "        Xa = np.array(dt.loc[i])\n",
    "        Xb = model.cluster_centers_[model.labels_[i]-1]\n",
    "        distance = distance.append(pd.Series(np.linalg.norm(Xa-Xb)),ignore_index = True)\n",
    "    return distance"
   ]
  },
  {
   "cell_type": "markdown",
   "metadata": {
    "colab_type": "text",
    "id": "YqF8ZI4bKexx"
   },
   "source": [
    "#### Defining outlier fraction and calculating distance"
   ]
  },
  {
   "cell_type": "code",
   "execution_count": 20,
   "metadata": {
    "ExecuteTime": {
     "end_time": "2019-10-22T12:07:34.601379Z",
     "start_time": "2019-10-22T12:07:33.475124Z"
    },
    "colab": {},
    "colab_type": "code",
    "id": "WK6MsVGrKexy",
    "scrolled": false
   },
   "outputs": [],
   "source": [
    "outliers_fraction = 0.01\n",
    "# get the distance between each point and its nearest centroid. The biggest distances are considered as anomaly\n",
    "distance = getDistanceByPoint(dat, kmeans[7])"
   ]
  },
  {
   "cell_type": "markdown",
   "metadata": {
    "colab_type": "text",
    "id": "y0_txk7MKexz"
   },
   "source": [
    "#### Calculating the no. of outliers and threshold"
   ]
  },
  {
   "cell_type": "code",
   "execution_count": 21,
   "metadata": {
    "ExecuteTime": {
     "end_time": "2019-10-22T12:07:34.611087Z",
     "start_time": "2019-10-22T12:07:34.603109Z"
    },
    "colab": {},
    "colab_type": "code",
    "id": "NQsmlRm2Kex0"
   },
   "outputs": [],
   "source": [
    "number_of_outliers = int(outliers_fraction*len(distance))\n",
    "threshold = distance.nlargest(number_of_outliers).min()\n",
    "# anomaly1 contain the anomaly result of the above method Cluster (0:normal, 1:anomaly) \n",
    "df['anomaly1'] = (distance >= threshold).astype(int)"
   ]
  },
  {
   "cell_type": "code",
   "execution_count": 22,
   "metadata": {
    "ExecuteTime": {
     "end_time": "2019-10-22T12:07:34.998152Z",
     "start_time": "2019-10-22T12:07:34.613082Z"
    },
    "colab": {
     "base_uri": "https://localhost:8080/"
    },
    "colab_type": "code",
    "id": "QkDlQBapKex3",
    "outputId": "98521ca3-2eaa-4549-e123-84666ee9d92e"
   },
   "outputs": [
    {
     "data": {
      "text/plain": [
       "30"
      ]
     },
     "execution_count": 22,
     "metadata": {},
     "output_type": "execute_result"
    }
   ],
   "source": [
    "len(df.loc[(df['anomaly1'] == 1)])"
   ]
  },
  {
   "cell_type": "code",
   "execution_count": 23,
   "metadata": {
    "ExecuteTime": {
     "end_time": "2019-10-22T12:07:35.033251Z",
     "start_time": "2019-10-22T12:07:35.000110Z"
    },
    "colab": {},
    "colab_type": "code",
    "id": "wcEvPw8EKex4"
   },
   "outputs": [],
   "source": [
    "df = df.sort_values('date_time')\n",
    "df.date_time = pd.to_datetime(df.date_time)\n",
    "a = df.loc[df['anomaly1'] == 1, ['date_time', 'price_usd']] #anomaly"
   ]
  },
  {
   "cell_type": "markdown",
   "metadata": {
    "colab_type": "text",
    "id": "BTfvOxxfKex6"
   },
   "source": [
    "#### Visualization"
   ]
  },
  {
   "cell_type": "code",
   "execution_count": 24,
   "metadata": {
    "ExecuteTime": {
     "end_time": "2019-10-22T12:07:35.215534Z",
     "start_time": "2019-10-22T12:07:35.038011Z"
    },
    "colab": {
     "base_uri": "https://localhost:8080/"
    },
    "colab_type": "code",
    "id": "Tf6J5UBEKex8",
    "outputId": "9549a83e-4674-4e3a-e983-d8c5a687b441"
   },
   "outputs": [
    {
     "data": {
      "image/png": "[encoded data removed]",
      "text/plain": [
       "<Figure size 720x432 with 1 Axes>"
      ]
     },
     "metadata": {
      "needs_background": "light"
     },
     "output_type": "display_data"
    }
   ],
   "source": [
    "fig, ax = plt.subplots(figsize=(10,6))\n",
    "ax.plot(df['date_time'], df['price_usd'], color='blue', label='Normal')\n",
    "ax.scatter(a['date_time'],a['price_usd'], color='red', label='Anomaly')\n",
    "plt.xlabel('Date Time Integer')\n",
    "plt.ylabel('price in USD')\n",
    "plt.legend()\n",
    "plt.show();"
   ]
  },
  {
   "cell_type": "markdown",
   "metadata": {
    "colab_type": "text",
    "id": "q_Kr3jjxKex-"
   },
   "source": [
    "<a id=section502></a>\n",
    "### Isolation Forest for Anomaly Detection  [Documentation](https://scikit-learn.org/stable/modules/generated/sklearn.ensemble.IsolationForest.html)                                                                     "
   ]
  },
  {
   "cell_type": "markdown",
   "metadata": {
    "colab_type": "text",
    "id": "2HNFDuFRKex_"
   },
   "source": [
    "- They detects anomalies purely based on the fact that anomalies are data points that are different and few.\n",
    "- It has been implemented without employing any distance or density measure."
   ]
  },
  {
   "cell_type": "code",
   "execution_count": 25,
   "metadata": {
    "ExecuteTime": {
     "end_time": "2019-10-22T12:07:35.226505Z",
     "start_time": "2019-10-22T12:07:35.218526Z"
    },
    "colab": {},
    "colab_type": "code",
    "id": "3y5ok9hJKex_"
   },
   "outputs": [],
   "source": [
    "data = df[['price_usd', 'srch_booking_window', 'srch_saturday_night_bool']]\n",
    "scaler = StandardScaler()\n",
    "np_scaled = scaler.fit_transform(data)\n",
    "data = pd.DataFrame(np_scaled)"
   ]
  },
  {
   "cell_type": "markdown",
   "metadata": {
    "colab_type": "text",
    "id": "qLd_1rqiKeyC"
   },
   "source": [
    "#### Training Isolation model"
   ]
  },
  {
   "cell_type": "code",
   "execution_count": 26,
   "metadata": {
    "ExecuteTime": {
     "end_time": "2019-10-22T12:07:35.537709Z",
     "start_time": "2019-10-22T12:07:35.228500Z"
    },
    "colab": {},
    "colab_type": "code",
    "id": "Ucn77tDgKeyD"
   },
   "outputs": [],
   "source": [
    "model =  IsolationForest(contamination=outliers_fraction)\n",
    "model.fit(data) \n",
    "df['anomaly2'] = pd.Series(model.predict(data))"
   ]
  },
  {
   "cell_type": "markdown",
   "metadata": {
    "colab_type": "text",
    "id": "jPZ4lA_LKeyG"
   },
   "source": [
    "#### Visualization"
   ]
  },
  {
   "cell_type": "code",
   "execution_count": 27,
   "metadata": {
    "ExecuteTime": {
     "end_time": "2019-10-22T12:07:35.704228Z",
     "start_time": "2019-10-22T12:07:35.539667Z"
    },
    "colab": {
     "base_uri": "https://localhost:8080/"
    },
    "colab_type": "code",
    "id": "Qd_SifW8KeyH",
    "outputId": "44c84f3c-fe4b-43bd-cbc2-dcb602b9d9cd",
    "scrolled": true
   },
   "outputs": [
    {
     "data": {
      "image/png": "[encoded data removed]",
      "text/plain": [
       "<Figure size 720x432 with 1 Axes>"
      ]
     },
     "metadata": {
      "needs_background": "light"
     },
     "output_type": "display_data"
    }
   ],
   "source": [
    "fig, ax = plt.subplots(figsize=(10,6))\n",
    "\n",
    "a = df.loc[df['anomaly2'] == -1, ['date_time', 'price_usd']] #anomaly\n",
    "\n",
    "ax.plot(df['date_time'], df['price_usd'], color='blue', label = 'Normal')\n",
    "ax.scatter(a['date_time'],a['price_usd'], color='red', label = 'Anomaly')\n",
    "plt.legend()\n",
    "plt.show();"
   ]
  },
  {
   "cell_type": "code",
   "execution_count": 39,
   "metadata": {},
   "outputs": [
    {
     "data": {
      "text/plain": [
       "31"
      ]
     },
     "execution_count": 39,
     "metadata": {},
     "output_type": "execute_result"
    }
   ],
   "source": [
    "len(df.loc[(df['anomaly2'] == -1)])"
   ]
  },
  {
   "cell_type": "markdown",
   "metadata": {
    "colab_type": "text",
    "id": "MVOc2xmtKeyJ"
   },
   "source": [
    "<a id=section503></a>\n",
    "### Support Vector Machines-Based Anomaly Detection: [Documentation](https://scikit-learn.org/stable/modules/generated/sklearn.svm.OneClassSVM.html)"
   ]
  },
  {
   "cell_type": "code",
   "execution_count": 30,
   "metadata": {
    "ExecuteTime": {
     "end_time": "2019-10-22T12:07:35.716196Z",
     "start_time": "2019-10-22T12:07:35.706222Z"
    },
    "colab": {},
    "colab_type": "code",
    "id": "ARfuV6ZBKeyJ"
   },
   "outputs": [],
   "source": [
    "data1 = df[['price_usd', 'srch_booking_window', 'srch_saturday_night_bool']]\n",
    "scaler = StandardScaler()\n",
    "np_scaled = scaler.fit_transform(data1)\n",
    "data = pd.DataFrame(np_scaled)"
   ]
  },
  {
   "cell_type": "markdown",
   "metadata": {
    "colab_type": "text",
    "id": "9iHxF3XsKeyM"
   },
   "source": [
    "#### Training oneclassSVM"
   ]
  },
  {
   "cell_type": "code",
   "execution_count": 31,
   "metadata": {
    "ExecuteTime": {
     "end_time": "2019-10-22T12:07:35.880982Z",
     "start_time": "2019-10-22T12:07:35.718191Z"
    },
    "colab": {},
    "colab_type": "code",
    "id": "cGW2iu6ZKeyN"
   },
   "outputs": [],
   "source": [
    "model = svm.OneClassSVM(nu=outliers_fraction, kernel=\"rbf\", gamma=0.01)\n",
    "model.fit(data1)\n",
    "df['anomaly3'] = pd.Series(model.predict(data1))"
   ]
  },
  {
   "cell_type": "markdown",
   "metadata": {
    "colab_type": "text",
    "id": "xUX2KVAaKeyO"
   },
   "source": [
    "#### Visualization"
   ]
  },
  {
   "cell_type": "code",
   "execution_count": 34,
   "metadata": {
    "ExecuteTime": {
     "end_time": "2019-10-22T12:07:36.044726Z",
     "start_time": "2019-10-22T12:07:35.883747Z"
    },
    "colab": {
     "base_uri": "https://localhost:8080/",
     "height": 378
    },
    "colab_type": "code",
    "id": "DU8HnBSlKeyP",
    "outputId": "746e0dab-dc7a-4868-ec81-8faf8f4c5032",
    "scrolled": true
   },
   "outputs": [
    {
     "data": {
      "image/png": "[encoded data removed]",
      "text/plain": [
       "<Figure size 1080x432 with 1 Axes>"
      ]
     },
     "metadata": {
      "needs_background": "light"
     },
     "output_type": "display_data"
    }
   ],
   "source": [
    "fig, ax = plt.subplots(figsize=(15,6))\n",
    "a = df.loc[df['anomaly3'] == -1, ['date_time', 'price_usd']] #anomaly\n",
    "\n",
    "ax.plot(df['date_time'], df['price_usd'], color='blue')\n",
    "ax.scatter(a['date_time'],a['price_usd'], color='red')\n",
    "plt.show();"
   ]
  },
  {
   "cell_type": "code",
   "execution_count": 40,
   "metadata": {},
   "outputs": [
    {
     "data": {
      "text/plain": [
       "724"
      ]
     },
     "execution_count": 40,
     "metadata": {},
     "output_type": "execute_result"
    }
   ],
   "source": [
    "len(df.loc[(df['anomaly3'] == -1)])"
   ]
  },
  {
   "cell_type": "markdown",
   "metadata": {
    "colab_type": "text",
    "id": "6yt7jp6WKeyS"
   },
   "source": [
    "<a id=section6></a>\n",
    "### Conclusion"
   ]
  },
  {
   "cell_type": "markdown",
   "metadata": {
    "colab_type": "text",
    "id": "3a3v52UzKeyT"
   },
   "source": [
    "- We applied 3 different methods.\n",
    "- Since anomaly is unsupervised, the results of these methods needs to be tested in the industry to place them in critical path."
   ]
  }
 ],
 "metadata": {
  "colab": {
   "name": "Anomaly_Final (1).ipynb",
   "provenance": []
  },
  "hide_input": false,
  "kernelspec": {
   "display_name": "Python 3",
   "language": "python",
   "name": "python3"
  },
  "language_info": {
   "codemirror_mode": {
    "name": "ipython",
    "version": 3
   },
   "file_extension": ".py",
   "mimetype": "text/x-python",
   "name": "python",
   "nbconvert_exporter": "python",
   "pygments_lexer": "ipython3",
   "version": "3.7.4"
  },
  "toc": {
   "base_numbering": 1,
   "nav_menu": {},
   "number_sections": false,
   "sideBar": true,
   "skip_h1_title": false,
   "title_cell": "Table of Contents",
   "title_sidebar": "Contents",
   "toc_cell": false,
   "toc_position": {},
   "toc_section_display": true,
   "toc_window_display": false
  },
  "varInspector": {
   "cols": {
    "lenName": 16,
    "lenType": 16,
    "lenVar": 40
   },
   "kernels_config": {
    "python": {
     "delete_cmd_postfix": "",
     "delete_cmd_prefix": "del ",
     "library": "var_list.py",
     "varRefreshCmd": "print(var_dic_list())"
    },
    "r": {
     "delete_cmd_postfix": ") ",
     "delete_cmd_prefix": "rm(",
     "library": "var_list.r",
     "varRefreshCmd": "cat(var_dic_list()) "
    }
   },
   "types_to_exclude": [
    "module",
    "function",
    "builtin_function_or_method",
    "instance",
    "_Feature"
   ],
   "window_display": false
  }
 },
 "nbformat": 4,
 "nbformat_minor": 1
}
