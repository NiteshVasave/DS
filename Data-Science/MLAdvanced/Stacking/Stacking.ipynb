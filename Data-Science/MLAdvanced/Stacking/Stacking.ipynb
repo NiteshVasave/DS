{
  "cells": [
    {
      "metadata": {},
      "cell_type": "markdown",
      "source": "<img src=\"https://github.com/insaid2018/Term-1/blob/master/Images/INSAID_Full%20Logo.png?raw=true\" width=\"240\" height=\"360\" />"
    },
    {
      "metadata": {
        "ExecuteTime": {
          "end_time": "2019-11-01T08:14:02.631328Z",
          "start_time": "2019-11-01T08:14:02.626343Z"
        }
      },
      "cell_type": "markdown",
      "source": "# STACKING\n<img src = 'https://raw.githubusercontent.com/insaid2018/Term-4/master/images/anomaly/stacking.png'>"
    },
    {
      "metadata": {},
      "cell_type": "markdown",
      "source": "## Table of Content\n\n1. [Introduction to Stacking](#section1)<br>\n    - 1.1 [Method](#section101)<br>\n    - 1.2 [How Stacking works?](#section102)<br>\n2. [Use Case : Wine Data](#section2)<br>\n3. [Data loading and description](#section3)<br>\n4. [Feature Engineering](#section4)<br>\n5. [Training and Prediction](#section5)<br>\n6. [Conclusion](#section6)"
    },
    {
      "metadata": {},
      "cell_type": "markdown",
      "source": "<a id=section1></a>\n### Introduction\n<img src = 'https://raw.githubusercontent.com/insaid2018/Term-4/master/images/anomaly/stacking1.png'>"
    },
    {
      "metadata": {},
      "cell_type": "markdown",
      "source": "Ensemble methods are an excellent way to __improve predictive performance__ on the machine learning problems.<br><br>\n__Stacked Generalization or stacking__ is an ensemble technique that uses a __new model__ to learn how to __best combine the predictions__ from two or more models trained on the dataset.\n\n"
    },
    {
      "metadata": {
        "ExecuteTime": {
          "end_time": "2019-11-01T08:09:22.823044Z",
          "start_time": "2019-11-01T08:09:22.815074Z"
        }
      },
      "cell_type": "markdown",
      "source": "Stacking is a __model ensembling technique__ used to __combine__ information from __multiple__ predictive models to generate a __new model__. Often times the stacked model ( also called __2nd level model__) will outperform each of the individual models due to its something __nature and ability__ to __highlight__ each base model where it performs best and discredit each base model where it performs poorly.<br><br> For this reason, stacking is __most effective__ when the __base models are significantly different__.\n<img src = 'https://raw.githubusercontent.com/insaid2018/Term-4/master/images/anomaly/stacking2.png'>"
    },
    {
      "metadata": {},
      "cell_type": "markdown",
      "source": "### Method\n\nIt is a different way of combining multiple models, that introduces the __concept of meta learner__.<br> Although an attractive idea, it is __less widely used than bagging and boosting__.<br> Unlike bagging and boosting, stacking may be used to __combine models of different types__.\nThe procedure is as follows:\n1. Split the training set into **two disjoint sets**.\n2. **Train** several **base learners** on the first part.\n3. **Test** the base learners on the **second part**.\n4. Using the **prediction from (3) as the inputs**, and the correct responses as the outputs, train a higher level learner."
    },
    {
      "metadata": {},
      "cell_type": "markdown",
      "source": "### How Stacking works?"
    },
    {
      "metadata": {},
      "cell_type": "markdown",
      "source": "An ensemble technique that uses **predictions from multiple models** to build a model. This model is used for making predictions on the test set.<br>Below is the step-wise explanation for a simple stacked ensemble:"
    },
    {
      "metadata": {
        "ExecuteTime": {
          "end_time": "2019-11-01T08:10:32.177853Z",
          "start_time": "2019-11-01T08:10:32.172895Z"
        }
      },
      "cell_type": "markdown",
      "source": "**1. The train set split into 10 parts**.<br>\n\n<img src = 'https://raw.githubusercontent.com/insaid2018/Term-4/master/images/anomaly/stacking3.png'>"
    },
    {
      "metadata": {},
      "cell_type": "markdown",
      "source": "**2. A base model is fitted on 9 parts and predictions are made for the 10th part. This is done for each part of this train set**.\n\n<img src = 'https://raw.githubusercontent.com/insaid2018/Term-4/master/images/anomaly/stacking4.png'>"
    },
    {
      "metadata": {
        "ExecuteTime": {
          "end_time": "2019-11-01T08:12:46.786602Z",
          "start_time": "2019-11-01T08:12:46.779659Z"
        }
      },
      "cell_type": "markdown",
      "source": "**3. The base model is then fitted on the whole train dataset.**<br>\n**4. Using this model, predictions are made on the test set.**\n\n<img src = 'https://raw.githubusercontent.com/insaid2018/Term-4/master/images/anomaly/stacking5.png'>"
    },
    {
      "metadata": {},
      "cell_type": "markdown",
      "source": "**5. Step 2 to 4 are repeated for another base model resulting in another set of predictions for the train set and test set.**\n\n<img src = 'https://raw.githubusercontent.com/insaid2018/Term-4/master/images/anomaly/stacking6.png'>"
    },
    {
      "metadata": {},
      "cell_type": "markdown",
      "source": "**6. The predictions from the trains et are used as features to build a new model.**\n\n<img src = 'https://raw.githubusercontent.com/insaid2018/Term-4/master/images/anomaly/stacking7.png'>"
    },
    {
      "metadata": {},
      "cell_type": "markdown",
      "source": "**7. This model is used to make final predictions on the test prediction set.**"
    },
    {
      "metadata": {},
      "cell_type": "markdown",
      "source": "### Use case: Wine Data\n\n<img src = 'https://raw.githubusercontent.com/insaid2018/Term-4/master/images/wine.jpg'>\n- These data are the **results of a chemical analysis** of wines grown in the same region in Italy but derived from **three different cultivars.**\n- The analysis determined the quantities of **13 constituents** found in each of the three types of wines.\n- There are **13 variables** included in the dataset.\n\n\n1. Alcohol\n2. Malic acid\n3. Ash\n4. Alkalinity of ash\n5. Magnesium\n6. Total phenols\n7. Flavanoids\n8. Nonflavanoid phenols\n9. Proanthocyanins\n10. Color intensity\n11. Hue\n12. OD280/OD315 of diluted wines\n13. Proline"
    },
    {
      "metadata": {
        "_cell_guid": "735c5797-4457-4e16-b21f-7f0982f2f016",
        "_execution_state": "idle",
        "_uuid": "35143ae31bde76e140a55855b89e0d42b56160a3"
      },
      "cell_type": "markdown",
      "source": "<a id=section3></a>\n### Importing the Packages"
    },
    {
      "metadata": {
        "trusted": true
      },
      "cell_type": "code",
      "source": "# !pip install xgboost\n# !pip install vecstack",
      "execution_count": null,
      "outputs": []
    },
    {
      "metadata": {
        "ExecuteTime": {
          "end_time": "2019-10-29T07:05:20.091908Z",
          "start_time": "2019-10-29T07:05:18.950281Z"
        },
        "trusted": true
      },
      "cell_type": "code",
      "source": "import pandas as pd\nimport numpy as np\nfrom sklearn.model_selection import train_test_split\nfrom sklearn.metrics import accuracy_score\nfrom sklearn.neighbors import KNeighborsClassifier\nfrom sklearn.ensemble import RandomForestClassifier\nfrom xgboost import XGBClassifier\nfrom vecstack import stacking",
      "execution_count": 5,
      "outputs": []
    },
    {
      "metadata": {},
      "cell_type": "markdown",
      "source": "### Importing data"
    },
    {
      "metadata": {
        "ExecuteTime": {
          "end_time": "2019-10-29T07:05:57.0364Z",
          "start_time": "2019-10-29T07:05:57.031416Z"
        },
        "trusted": true
      },
      "cell_type": "code",
      "source": "link = 'https://archive.ics.uci.edu/ml/machine-learning-databases/wine/wine.data'\nnames = ['Class', 'Alcohol', 'Malic acid', 'Ash',\n         'Alcalinity of ash' ,'Magnesium', 'Total phenols',\n         'Flavanoids', 'Nonflavanoid phenols', 'Proanthocyanins', 'Color intensity', 'Hue', 'OD280/OD315 of diluted wines',\n         'Proline']",
      "execution_count": 7,
      "outputs": []
    },
    {
      "metadata": {},
      "cell_type": "markdown",
      "source": "### Reading the data into Python environment"
    },
    {
      "metadata": {
        "ExecuteTime": {
          "end_time": "2019-10-29T07:06:29.313784Z",
          "start_time": "2019-10-29T07:06:26.637499Z"
        },
        "trusted": true
      },
      "cell_type": "code",
      "source": "df = pd.read_csv(link, header=None, names=names)\ndf.sample(5)",
      "execution_count": 8,
      "outputs": [
        {
          "output_type": "execute_result",
          "execution_count": 8,
          "data": {
            "text/html": "<div>\n<style scoped>\n    .dataframe tbody tr th:only-of-type {\n        vertical-align: middle;\n    }\n\n    .dataframe tbody tr th {\n        vertical-align: top;\n    }\n\n    .dataframe thead th {\n        text-align: right;\n    }\n</style>\n<table border=\"1\" class=\"dataframe\">\n  <thead>\n    <tr style=\"text-align: right;\">\n      <th></th>\n      <th>Class</th>\n      <th>Alcohol</th>\n      <th>Malic acid</th>\n      <th>Ash</th>\n      <th>Alcalinity of ash</th>\n      <th>Magnesium</th>\n      <th>Total phenols</th>\n      <th>Flavanoids</th>\n      <th>Nonflavanoid phenols</th>\n      <th>Proanthocyanins</th>\n      <th>Color intensity</th>\n      <th>Hue</th>\n      <th>OD280/OD315 of diluted wines</th>\n      <th>Proline</th>\n    </tr>\n  </thead>\n  <tbody>\n    <tr>\n      <th>142</th>\n      <td>3</td>\n      <td>13.52</td>\n      <td>3.17</td>\n      <td>2.72</td>\n      <td>23.5</td>\n      <td>97</td>\n      <td>1.55</td>\n      <td>0.52</td>\n      <td>0.50</td>\n      <td>0.55</td>\n      <td>4.35</td>\n      <td>0.89</td>\n      <td>2.06</td>\n      <td>520</td>\n    </tr>\n    <tr>\n      <th>21</th>\n      <td>1</td>\n      <td>12.93</td>\n      <td>3.80</td>\n      <td>2.65</td>\n      <td>18.6</td>\n      <td>102</td>\n      <td>2.41</td>\n      <td>2.41</td>\n      <td>0.25</td>\n      <td>1.98</td>\n      <td>4.50</td>\n      <td>1.03</td>\n      <td>3.52</td>\n      <td>770</td>\n    </tr>\n    <tr>\n      <th>131</th>\n      <td>3</td>\n      <td>12.88</td>\n      <td>2.99</td>\n      <td>2.40</td>\n      <td>20.0</td>\n      <td>104</td>\n      <td>1.30</td>\n      <td>1.22</td>\n      <td>0.24</td>\n      <td>0.83</td>\n      <td>5.40</td>\n      <td>0.74</td>\n      <td>1.42</td>\n      <td>530</td>\n    </tr>\n    <tr>\n      <th>111</th>\n      <td>2</td>\n      <td>12.52</td>\n      <td>2.43</td>\n      <td>2.17</td>\n      <td>21.0</td>\n      <td>88</td>\n      <td>2.55</td>\n      <td>2.27</td>\n      <td>0.26</td>\n      <td>1.22</td>\n      <td>2.00</td>\n      <td>0.90</td>\n      <td>2.78</td>\n      <td>325</td>\n    </tr>\n    <tr>\n      <th>19</th>\n      <td>1</td>\n      <td>13.64</td>\n      <td>3.10</td>\n      <td>2.56</td>\n      <td>15.2</td>\n      <td>116</td>\n      <td>2.70</td>\n      <td>3.03</td>\n      <td>0.17</td>\n      <td>1.66</td>\n      <td>5.10</td>\n      <td>0.96</td>\n      <td>3.36</td>\n      <td>845</td>\n    </tr>\n  </tbody>\n</table>\n</div>",
            "text/plain": "     Class  Alcohol  Malic acid   Ash  Alcalinity of ash  Magnesium  \\\n142      3    13.52        3.17  2.72               23.5         97   \n21       1    12.93        3.80  2.65               18.6        102   \n131      3    12.88        2.99  2.40               20.0        104   \n111      2    12.52        2.43  2.17               21.0         88   \n19       1    13.64        3.10  2.56               15.2        116   \n\n     Total phenols  Flavanoids  Nonflavanoid phenols  Proanthocyanins  \\\n142           1.55        0.52                  0.50             0.55   \n21            2.41        2.41                  0.25             1.98   \n131           1.30        1.22                  0.24             0.83   \n111           2.55        2.27                  0.26             1.22   \n19            2.70        3.03                  0.17             1.66   \n\n     Color intensity   Hue  OD280/OD315 of diluted wines  Proline  \n142             4.35  0.89                          2.06      520  \n21              4.50  1.03                          3.52      770  \n131             5.40  0.74                          1.42      530  \n111             2.00  0.90                          2.78      325  \n19              5.10  0.96                          3.36      845  "
          },
          "metadata": {}
        }
      ]
    },
    {
      "metadata": {},
      "cell_type": "markdown",
      "source": "### Train Test Split"
    },
    {
      "metadata": {
        "ExecuteTime": {
          "end_time": "2019-10-29T07:08:11.059777Z",
          "start_time": "2019-10-29T07:08:11.042769Z"
        },
        "trusted": true
      },
      "cell_type": "code",
      "source": "y = df[['Class']]\nX = df.iloc[:,1:]\n\nX_train, X_test, y_train, y_test = train_test_split(X, y, test_size=0.2, random_state=0)",
      "execution_count": 9,
      "outputs": []
    },
    {
      "metadata": {},
      "cell_type": "markdown",
      "source": "### Instantiate different models"
    },
    {
      "metadata": {
        "ExecuteTime": {
          "end_time": "2019-10-29T07:10:23.161536Z",
          "start_time": "2019-10-29T07:10:23.154554Z"
        },
        "trusted": true
      },
      "cell_type": "code",
      "source": "models = [KNeighborsClassifier(n_neighbors=5, n_jobs=-1),\n         RandomForestClassifier(random_state=0, n_jobs=-1, n_estimators=100, max_depth=3),\n         XGBClassifier(random_state=0, n_jobs=-1, laerning_rate=0.1, n_estimators=100, max_depth=3)\n         ]",
      "execution_count": 10,
      "outputs": []
    },
    {
      "metadata": {},
      "cell_type": "markdown",
      "source": "### Making first level predictions"
    },
    {
      "metadata": {
        "ExecuteTime": {
          "end_time": "2019-10-29T07:11:14.847505Z",
          "start_time": "2019-10-29T07:11:10.640072Z"
        },
        "trusted": true
      },
      "cell_type": "code",
      "source": "S_train, S_test = stacking(models,\n                           X_train,\n                           y_train,\n                           X_test,\n                           regression=False,\n                           mode='oof_pred_bag',\n                           needs_proba=False,\n                           save_dir=None,\n                           metric=accuracy_score,\n                           n_folds=4,\n                           stratified=True,\n                           shuffle=True,\n                           random_state=0,\n                           verbose=2)",
      "execution_count": 11,
      "outputs": [
        {
          "output_type": "stream",
          "text": "/home/nbuser/anaconda3_501/lib/python3.6/site-packages/sklearn/utils/validation.py:761: DataConversionWarning: A column-vector y was passed when a 1d array was expected. Please change the shape of y to (n_samples, ), for example using ravel().\n  y = column_or_1d(y, warn=True)\n",
          "name": "stderr"
        },
        {
          "output_type": "stream",
          "text": "task:         [classification]\nn_classes:    [3]\nmetric:       [accuracy_score]\nmode:         [oof_pred_bag]\nn_models:     [3]\n\nmodel  0:     [KNeighborsClassifier]\n    fold  0:  [0.72972973]\n    fold  1:  [0.61111111]\n    fold  2:  [0.62857143]\n    fold  3:  [0.76470588]\n    ----\n    MEAN:     [0.68352954] + [0.06517070]\n    FULL:     [0.68309859]\n\nmodel  1:     [RandomForestClassifier]\n    fold  0:  [1.00000000]\n    fold  1:  [1.00000000]\n    fold  2:  [0.94285714]\n    fold  3:  [1.00000000]\n    ----\n    MEAN:     [0.98571429] + [0.02474358]\n    FULL:     [0.98591549]\n\nmodel  2:     [XGBClassifier]\n    fold  0:  [1.00000000]\n    fold  1:  [0.97222222]\n    fold  2:  [0.91428571]\n    fold  3:  [0.97058824]\n    ----\n    MEAN:     [0.96427404] + [0.03113768]\n    FULL:     [0.96478873]\n\n",
          "name": "stdout"
        }
      ]
    },
    {
      "metadata": {
        "ExecuteTime": {
          "end_time": "2019-10-29T07:12:31.098395Z",
          "start_time": "2019-10-29T07:12:31.094372Z"
        },
        "trusted": true
      },
      "cell_type": "code",
      "source": "model = XGBClassifier(random_state=0, n_jobs=-1, learning_rate=0.1,\n                     n_estimators=100, max_depth=3)",
      "execution_count": 12,
      "outputs": []
    },
    {
      "metadata": {},
      "cell_type": "markdown",
      "source": "### Fit the model"
    },
    {
      "metadata": {
        "ExecuteTime": {
          "end_time": "2019-10-29T07:12:34.545853Z",
          "start_time": "2019-10-29T07:12:34.173908Z"
        },
        "trusted": true
      },
      "cell_type": "code",
      "source": "model = model.fit(S_train, y_train)",
      "execution_count": 13,
      "outputs": [
        {
          "output_type": "stream",
          "text": "/home/nbuser/anaconda3_501/lib/python3.6/site-packages/sklearn/preprocessing/label.py:219: DataConversionWarning: A column-vector y was passed when a 1d array was expected. Please change the shape of y to (n_samples, ), for example using ravel().\n  y = column_or_1d(y, warn=True)\n/home/nbuser/anaconda3_501/lib/python3.6/site-packages/sklearn/preprocessing/label.py:252: DataConversionWarning: A column-vector y was passed when a 1d array was expected. Please change the shape of y to (n_samples, ), for example using ravel().\n  y = column_or_1d(y, warn=True)\n",
          "name": "stderr"
        }
      ]
    },
    {
      "metadata": {
        "ExecuteTime": {
          "end_time": "2019-10-29T07:13:41.346639Z",
          "start_time": "2019-10-29T07:13:41.309738Z"
        },
        "trusted": true
      },
      "cell_type": "code",
      "source": "y_pred = model.predict(S_test)\ny_pred",
      "execution_count": 15,
      "outputs": [
        {
          "output_type": "execute_result",
          "execution_count": 15,
          "data": {
            "text/plain": "array([1, 3, 2, 1, 2, 2, 1, 3, 2, 2, 3, 3, 1, 2, 3, 2, 1, 1, 3, 1, 1, 1,\n       1, 2, 2, 2, 2, 2, 2, 3, 1, 1, 2, 1, 1, 1])"
          },
          "metadata": {}
        }
      ]
    },
    {
      "metadata": {},
      "cell_type": "markdown",
      "source": "### Accuracy"
    },
    {
      "metadata": {
        "trusted": true
      },
      "cell_type": "code",
      "source": "print('Final prediction score: [%.8f]' % accuracy_score(y_test, y_pred))",
      "execution_count": 16,
      "outputs": [
        {
          "output_type": "stream",
          "text": "Final prediction score: [0.94444444]\n",
          "name": "stdout"
        }
      ]
    }
  ],
  "metadata": {
    "hide_input": false,
    "kernelspec": {
      "name": "python36",
      "display_name": "Python 3.6",
      "language": "python"
    },
    "language_info": {
      "mimetype": "text/x-python",
      "nbconvert_exporter": "python",
      "name": "python",
      "pygments_lexer": "ipython3",
      "version": "3.6.6",
      "file_extension": ".py",
      "codemirror_mode": {
        "version": 3,
        "name": "ipython"
      }
    },
    "toc": {
      "base_numbering": 1,
      "nav_menu": {},
      "number_sections": false,
      "sideBar": true,
      "skip_h1_title": false,
      "title_cell": "Table of Contents",
      "title_sidebar": "Contents",
      "toc_cell": false,
      "toc_position": {},
      "toc_section_display": true,
      "toc_window_display": false
    },
    "varInspector": {
      "cols": {
        "lenName": 16,
        "lenType": 16,
        "lenVar": 40
      },
      "kernels_config": {
        "python": {
          "delete_cmd_postfix": "",
          "delete_cmd_prefix": "del ",
          "library": "var_list.py",
          "varRefreshCmd": "print(var_dic_list())"
        },
        "r": {
          "delete_cmd_postfix": ") ",
          "delete_cmd_prefix": "rm(",
          "library": "var_list.r",
          "varRefreshCmd": "cat(var_dic_list()) "
        }
      },
      "types_to_exclude": [
        "module",
        "function",
        "builtin_function_or_method",
        "instance",
        "_Feature"
      ],
      "window_display": false
    }
  },
  "nbformat": 4,
  "nbformat_minor": 2
}