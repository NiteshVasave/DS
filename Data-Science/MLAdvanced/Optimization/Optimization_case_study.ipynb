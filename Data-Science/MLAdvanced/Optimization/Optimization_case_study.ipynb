{
 "cells": [
  {
   "cell_type": "markdown",
   "metadata": {},
   "source": [
    "<center><img src=\"https://github.com/insaid2018/Term-1/blob/master/Images/INSAID_Full%20Logo.png?raw=true\" width=\"240\" height=\"360\" /></center>\n",
    "\n",
    "<h1><center>OPTIMIZATION</center></h1>"
   ]
  },
  {
   "cell_type": "markdown",
   "metadata": {},
   "source": [
    "## Table of Contents\n",
    "\n",
    "1. [Introduction](#section1)<br>\n",
    "2. [Batch Gradient Descent (BGD/GD)](#section2)<br>\n",
    "    - 2.1 [Disadvantages of Batch Gradient Descent](#section201)<br>\n",
    "3. [Stochastic Gradient Descent (SGD)](#section3)<br>\n",
    "    - 3.1 [Advantages of Stochastic Gradient Descent](#section301)<br>\n",
    "    - 3.2 [Disadvantages of Stochastic Gradient Descent](#section302)<br>\n",
    "4. [Learning Rate](#section4)<br>\n",
    "5. [Task at Hand](#section5)<br>\n",
    "6. [Dataset Description](#section6)<br>\n",
    "7. [Logistic Regression](#section7)<br>\n",
    "    - 7.1 [LogisticRegression Model Evaluation](#section701)<br>\n",
    "8. [SGD Classifier](#section8)<br>\n",
    "    - 8.1 [SGD Classifier Model Evaluation](#section801)<br>\n",
    "    - 8.2 [Evaluating performance of SGD Classifier for no.of epochs ranging from 1 to 20](#section802)<br>\n",
    "    - 8.3 [Evaluating performance of SGD Classifier for different learning_rates](#section803)<br>\n",
    "    - 8.4 [GridSearchCV on for SGD Classifier](#section804)<br>\n",
    "9. [Conclusion](#section9)<br>"
   ]
  },
  {
   "cell_type": "markdown",
   "metadata": {},
   "source": [
    "<a id=\"section1\"></a>\n",
    "## 1. Introduction\n",
    "__Optimization__ is the most __essential ingredient__ in the recipe of machine learning algorithms. It starts with defining some kind of loss __function/cost__ function and ends with minimizing the it using one or the other optimization routine. "
   ]
  },
  {
   "cell_type": "markdown",
   "metadata": {},
   "source": [
    "<a id=\"section2\"></a>\n",
    "## 2. Batch Gradient Descent (BGD/GD)"
   ]
  },
  {
   "cell_type": "markdown",
   "metadata": {},
   "source": [
    " - In **Batch Gradient Descent optimazation**, **parameters** are **updated** after **calculating the cost function** on the **entire dataset**. That means, to take **one step** in the gradient descent optimization **towards minimum**, the **entire dataset** is taken into account to **calculate the cost function**.\n",
    "<br>\n",
    "<br>\n",
    " - To take **another step towards the minimum, gradient descent optimization algorithm** should go through the **entire dataset again** to calculate the cost function.\n",
    "<br>\n",
    "<br>\n",
    " - This approach works **fine** for **small datasets.**\n",
    "<br>\n",
    "<br>\n",
    " - But, what **if** our **dataset** is **very large?**"
   ]
  },
  {
   "cell_type": "markdown",
   "metadata": {},
   "source": [
    "<a id=section101></a>"
   ]
  },
  {
   "cell_type": "markdown",
   "metadata": {},
   "source": [
    "<a id=\"section201\"></a>\n",
    "### 2.1 Disadvantages of Batch Gradient Descent\n",
    "\n",
    " - Say you want to build a **ML model on India Census data**. This dataset will have **133 92 00 000 records**. Thats 133.92 crores records.\n",
    "<br>\n",
    "<br>\n",
    " - To move one step closer to the minimum of cost function, Batch Gradient Descent optimization algorithm calculates cost function on the entire dataset.\n",
    "<br>\n",
    "<br>\n",
    " - This characteristic of Batch Gradient Descent makes it **computationaly very expensive** which leads to consuption of **more time to converge to minimum.**\n",
    "<br>\n",
    "<br>\n",
    " - What if the optimization algorithm doesn't have to go through all data to take a step towards minimum of cost function."
   ]
  },
  {
   "cell_type": "markdown",
   "metadata": {},
   "source": [
    "<a id=section2></a>"
   ]
  },
  {
   "cell_type": "markdown",
   "metadata": {},
   "source": [
    "<a id=\"section3\"></a>\n",
    "## 3. Stochastic Gradient Descent (SGD)"
   ]
  },
  {
   "cell_type": "markdown",
   "metadata": {},
   "source": [
    " - In this variant of Gradient Descent, The optimization algorithm looks at **one record(random) at a time** to take **a step** in the gradinet descent.\n",
    "<br>\n",
    "<br>\n",
    " - So the algorithm has **already(right from the first instance itself) started** it's journey towards minimum of cost function **unlike Batch Gradient Descent** where it has to go through **entire dataset** to take **one single step.**\n",
    "<br>\n",
    "<br>"
   ]
  },
  {
   "cell_type": "markdown",
   "metadata": {},
   "source": [
    "<a id=\"section301\"></a>\n",
    "### 3.1 Advantages of Stochastic Gradient Descent\n",
    " - Takes __less time__ to converge to the __minimum__ of COST FUNCITON\n",
    " \n",
    "<h4><center>Batch Gradient Descent</center></h4>\n",
    "<img src=\"https://raw.githubusercontent.com/insaid2018/optimization-files/master/15.gif\"/>\n",
    "<h4><center>Stochastic Gradient Descent</center></h4>\n",
    "<img src=\"https://raw.githubusercontent.com/insaid2018/optimization-files/master/14.gif\"/>"
   ]
  },
  {
   "cell_type": "markdown",
   "metadata": {},
   "source": [
    " - **Stochastic Gradient Descent doesn't** suffer from the problem of **getting trapped in local minima.**\n",
    " <br>\n",
    " <br>\n",
    "<h4><center>Our cost function curve can be a simple convex curve.</center></h4>"
   ]
  },
  {
   "cell_type": "markdown",
   "metadata": {},
   "source": [
    "<img src=\"https://raw.githubusercontent.com/insaid2018/optimization-files/master/1.png\" width=\"500\" height=\"400\" />"
   ]
  },
  {
   "cell_type": "markdown",
   "metadata": {},
   "source": [
    "<h4><center>Or a complex curve which has local minims and a global minimum</center></h4>"
   ]
  },
  {
   "cell_type": "markdown",
   "metadata": {},
   "source": [
    "<img src=\"https://raw.githubusercontent.com/insaid2018/optimization-files/master/2.png\" width=\"500\" height=\"400\" />"
   ]
  },
  {
   "cell_type": "markdown",
   "metadata": {},
   "source": [
    " - When **cost function** has **multiple local minima and a global minimum**, then **Batch Gradient Descent** has a chance to get **trapped in the local minima**."
   ]
  },
  {
   "cell_type": "markdown",
   "metadata": {},
   "source": [
    "<img src=\"https://raw.githubusercontent.com/insaid2018/optimization-files/master/3.gif\" width=\"500\" height=\"400\" />\n",
    " - Stochastic Gradient Descent eliminates this problem."
   ]
  },
  {
   "cell_type": "markdown",
   "metadata": {},
   "source": [
    " - One another reason you might want to use Stochastic Gradient Descent, **Batch Gradient Descent, won’t work** if you can’t hold the **entire dataset** in **RAM** but **SGD will still work (Mini Batch Gradient Descent)**. We will look at this in the end of this case study."
   ]
  },
  {
   "cell_type": "markdown",
   "metadata": {},
   "source": [
    "<a id=section201></a>"
   ]
  },
  {
   "cell_type": "markdown",
   "metadata": {},
   "source": [
    "<a id=\"section302\"></a>\n",
    "### 3.2 Disadvantages of Stochastic Gradient Descent\n",
    " - **SGD** often **converges much faster** compared to **GD** **but** the **error function** is **not** as **well minimized** **as in the case of GD**. Often **in most cases**, **the close approximation** that **you get in SGD** for the **parameter** values **are enough** because **they reach the optimal values and keep oscillating there.**"
   ]
  },
  {
   "cell_type": "markdown",
   "metadata": {},
   "source": [
    "### The Process:\n",
    "- The training data is divided into batches\n",
    "<img src=\"https://raw.githubusercontent.com/insaid2018/optimization-files/master/7.png\" width=\"500\" height=\"400\" />\n",
    "   - First batch is taken.\n",
    "   - Weights are initialized with random values.\n",
    "   - Cost Function is calculated considering 1st batch of the data.\n",
    "   - Weights are updated.\n",
    "   - Then second batch of data is taken.\n",
    "   - Cost Function is calculated considering 2nd batch of data with updated weights.\n",
    "   - Weights are updated again.\n",
    "   - Then third batch of data is taken.\n",
    "   - The process continous for specified no.of epochs(no.of times the model sees the entire dataset).\n",
    "    \n",
    "**Batch size can affect the time taken to converge or even final accuracy(or Cost Function).\n",
    "Right Batch size can be arrived using GridSearchCV.**"
   ]
  },
  {
   "cell_type": "markdown",
   "metadata": {},
   "source": [
    "<h4><center>Batch Gradient Descent vs Mini Batch Gradient Descent</center></h4>"
   ]
  },
  {
   "cell_type": "markdown",
   "metadata": {},
   "source": [
    "<img src=\"https://raw.githubusercontent.com/insaid2018/optimization-files/master/17.gif\" width=\"500\" height=\"400\" />"
   ]
  },
  {
   "cell_type": "markdown",
   "metadata": {},
   "source": [
    "<a id=section301></a>"
   ]
  },
  {
   "cell_type": "markdown",
   "metadata": {},
   "source": [
    "<a id=\"section4\"></a>\n",
    "## 4. Learning Rate"
   ]
  },
  {
   "cell_type": "markdown",
   "metadata": {},
   "source": [
    " - It is used to **control step size** while **gradient descent**."
   ]
  },
  {
   "cell_type": "markdown",
   "metadata": {},
   "source": [
    "Visualization of gradient descent for different learning rates on a toy example.\n",
    "<br>\n",
    "<br>\n",
    "The below learnin_rates are used for animation purpose only. The optimum learning_rate will vary from dataset to dataset."
   ]
  },
  {
   "cell_type": "markdown",
   "metadata": {},
   "source": [
    " - learning_rate = **0.05**"
   ]
  },
  {
   "cell_type": "markdown",
   "metadata": {},
   "source": [
    "<img src=\"https://raw.githubusercontent.com/insaid2018/optimization-files/master/6.gif\" width=\"500\" height=\"400\" />"
   ]
  },
  {
   "cell_type": "markdown",
   "metadata": {},
   "source": [
    " - learning_rate = **0.2**"
   ]
  },
  {
   "cell_type": "markdown",
   "metadata": {},
   "source": [
    "If learning_rate is **too big**, you’ll move more **quickly**, but you have a **high risk** that the algorithm **will never converge**."
   ]
  },
  {
   "cell_type": "markdown",
   "metadata": {},
   "source": [
    "<img src=\"https://raw.githubusercontent.com/insaid2018/optimization-files/master/4.gif\" width=\"500\" height=\"400\" />"
   ]
  },
  {
   "cell_type": "markdown",
   "metadata": {},
   "source": [
    "The algorithm has **become unstable** and move so fast that it always goes so far.\n",
    "Eventually… it’ll **never get to the minimum.**"
   ]
  },
  {
   "cell_type": "markdown",
   "metadata": {},
   "source": [
    " - If learning_rate is **too small**, you’ll move slowly.. so slowly you might just lose patience and **never reach the minimum**."
   ]
  },
  {
   "cell_type": "markdown",
   "metadata": {},
   "source": [
    "learning_rate = 0.001"
   ]
  },
  {
   "cell_type": "markdown",
   "metadata": {},
   "source": [
    "<img src=\"https://raw.githubusercontent.com/insaid2018/optimization-files/master/5.gif\" width=\"500\" height=\"400\"  />"
   ]
  },
  {
   "cell_type": "markdown",
   "metadata": {},
   "source": [
    "Ugh..\n",
    "\n",
    "I had to speed up the animation, otherwise you’d be bored to death.\n",
    "\n",
    "Instead of getting to the **minimum in 15 iterations(as in first case)**, you get there in **75 iterations! That’s 5 times longer!**\n",
    "\n",
    "In **deep learning**, that makes a **huge difference**."
   ]
  },
  {
   "cell_type": "markdown",
   "metadata": {},
   "source": [
    "We will also see the affect of different learnin_rates on performance of SGDClassifier in the end of this case study."
   ]
  },
  {
   "cell_type": "markdown",
   "metadata": {},
   "source": [
    "<a id=section6></a>"
   ]
  },
  {
   "cell_type": "markdown",
   "metadata": {},
   "source": [
    "<a id=\"section5\"></a>\n",
    "## 5. Task at Hand\n",
    " - First we will build a **LogisticRegression model** and check the **time taken to train the model**. We will then build a **SGDClassifier model** and **compare time taken to train this model with LogisticRegression model**. We will also compare different accuracy metrics of both models."
   ]
  },
  {
   "cell_type": "markdown",
   "metadata": {},
   "source": [
    "<a id=section7></a>"
   ]
  },
  {
   "cell_type": "markdown",
   "metadata": {},
   "source": [
    "<a id=\"section6\"></a>\n",
    "## 6. Dataset Description\n",
    " - The dataset is related to a __bank__.\n",
    " - The dataset is about whether a customer has __cleared loan__ or __not__.\n",
    " - Target variable is __Loan Status__ which is a categorical variable.\n",
    " - The target variable has two levels\n",
    "   - __Fully Paid__ means the customer has cleared the loan\n",
    "   - __Charged Off__ means the customer has not cleared the loan\n",
    " - Our objective is to predicted if a customer will clear the loan or not based on the inputs like \n",
    " \n",
    "     - __Current Loan Amount__ :  The listed amount of the loan applied for by the borrower.\n",
    "     - __Term__ :  Time period for which loan is applied.\n",
    "     - __Credit Score__ : Credit score of teh borrower.\n",
    "     - __Annual Income__ : Annual Income of the applicant.\n",
    "     - __Years in current job__\n",
    "     - __Home Ownership__ : The home ownership status provided by the borrower during registration. \n",
    "     - __Purpose__ : Purpose of the Loan\n",
    "     - __Monthly Debt__: Monthly dept of the borrower\n",
    "     - __Maximum Open Credit__ : Maximum number of open credit does the borrower have.\n",
    "     - __Tax Lines__ : Number of Tax lines borrower have.\n",
    "     \n",
    "     etc"
   ]
  },
  {
   "cell_type": "markdown",
   "metadata": {},
   "source": [
    "Importing pandas package"
   ]
  },
  {
   "cell_type": "code",
   "execution_count": 66,
   "metadata": {
    "collapsed": true
   },
   "outputs": [],
   "source": [
    "import pandas as pd\n",
    "import numpy as np"
   ]
  },
  {
   "cell_type": "markdown",
   "metadata": {},
   "source": [
    "__Note__: For the given data set it's important that here that we are directly using preprocessed data. Because over here our main objective it to have better understanding of Optimization algorithms. "
   ]
  },
  {
   "cell_type": "code",
   "execution_count": 69,
   "metadata": {
    "collapsed": true
   },
   "outputs": [],
   "source": [
    "bank_data = pd.read_csv('https://github.com/insaid2018/Term-4/raw/master/Data/Assignment/bank_data.csv')"
   ]
  },
  {
   "cell_type": "code",
   "execution_count": 70,
   "metadata": {},
   "outputs": [
    {
     "data": {
      "text/html": [
       "<div>\n",
       "<style scoped>\n",
       "    .dataframe tbody tr th:only-of-type {\n",
       "        vertical-align: middle;\n",
       "    }\n",
       "\n",
       "    .dataframe tbody tr th {\n",
       "        vertical-align: top;\n",
       "    }\n",
       "\n",
       "    .dataframe thead th {\n",
       "        text-align: right;\n",
       "    }\n",
       "</style>\n",
       "<table border=\"1\" class=\"dataframe\">\n",
       "  <thead>\n",
       "    <tr style=\"text-align: right;\">\n",
       "      <th></th>\n",
       "      <th>Current Loan Amount</th>\n",
       "      <th>Credit Score</th>\n",
       "      <th>Annual Income</th>\n",
       "      <th>Monthly Debt</th>\n",
       "      <th>Years of Credit History</th>\n",
       "      <th>Number of Open Accounts</th>\n",
       "      <th>Number of Credit Problems</th>\n",
       "      <th>Current Credit Balance</th>\n",
       "      <th>Maximum Open Credit</th>\n",
       "      <th>Tax Liens</th>\n",
       "      <th>...</th>\n",
       "      <th>Purpose_Medical Bills</th>\n",
       "      <th>Purpose_Other</th>\n",
       "      <th>Purpose_major_purchase</th>\n",
       "      <th>Purpose_moving</th>\n",
       "      <th>Purpose_other</th>\n",
       "      <th>Purpose_renewable_energy</th>\n",
       "      <th>Purpose_small_business</th>\n",
       "      <th>Purpose_vacation</th>\n",
       "      <th>Purpose_wedding</th>\n",
       "      <th>Loan Status</th>\n",
       "    </tr>\n",
       "  </thead>\n",
       "  <tbody>\n",
       "    <tr>\n",
       "      <th>0</th>\n",
       "      <td>445412.0</td>\n",
       "      <td>709.000000</td>\n",
       "      <td>1.167493e+06</td>\n",
       "      <td>5214.74</td>\n",
       "      <td>17.2</td>\n",
       "      <td>6.0</td>\n",
       "      <td>1.0</td>\n",
       "      <td>228190.0</td>\n",
       "      <td>416746.0</td>\n",
       "      <td>0.0</td>\n",
       "      <td>...</td>\n",
       "      <td>0</td>\n",
       "      <td>0</td>\n",
       "      <td>0</td>\n",
       "      <td>0</td>\n",
       "      <td>0</td>\n",
       "      <td>0</td>\n",
       "      <td>0</td>\n",
       "      <td>0</td>\n",
       "      <td>0</td>\n",
       "      <td>Fully Paid</td>\n",
       "    </tr>\n",
       "    <tr>\n",
       "      <th>1</th>\n",
       "      <td>262328.0</td>\n",
       "      <td>1076.275101</td>\n",
       "      <td>1.378339e+06</td>\n",
       "      <td>33295.98</td>\n",
       "      <td>21.1</td>\n",
       "      <td>35.0</td>\n",
       "      <td>0.0</td>\n",
       "      <td>229976.0</td>\n",
       "      <td>850784.0</td>\n",
       "      <td>0.0</td>\n",
       "      <td>...</td>\n",
       "      <td>0</td>\n",
       "      <td>0</td>\n",
       "      <td>0</td>\n",
       "      <td>0</td>\n",
       "      <td>0</td>\n",
       "      <td>0</td>\n",
       "      <td>0</td>\n",
       "      <td>0</td>\n",
       "      <td>0</td>\n",
       "      <td>Fully Paid</td>\n",
       "    </tr>\n",
       "    <tr>\n",
       "      <th>2</th>\n",
       "      <td>99999999.0</td>\n",
       "      <td>741.000000</td>\n",
       "      <td>2.231892e+06</td>\n",
       "      <td>29200.53</td>\n",
       "      <td>14.9</td>\n",
       "      <td>18.0</td>\n",
       "      <td>1.0</td>\n",
       "      <td>297996.0</td>\n",
       "      <td>750090.0</td>\n",
       "      <td>0.0</td>\n",
       "      <td>...</td>\n",
       "      <td>0</td>\n",
       "      <td>0</td>\n",
       "      <td>0</td>\n",
       "      <td>0</td>\n",
       "      <td>0</td>\n",
       "      <td>0</td>\n",
       "      <td>0</td>\n",
       "      <td>0</td>\n",
       "      <td>0</td>\n",
       "      <td>Fully Paid</td>\n",
       "    </tr>\n",
       "    <tr>\n",
       "      <th>3</th>\n",
       "      <td>347666.0</td>\n",
       "      <td>721.000000</td>\n",
       "      <td>8.069490e+05</td>\n",
       "      <td>8741.90</td>\n",
       "      <td>12.0</td>\n",
       "      <td>9.0</td>\n",
       "      <td>0.0</td>\n",
       "      <td>256329.0</td>\n",
       "      <td>386958.0</td>\n",
       "      <td>0.0</td>\n",
       "      <td>...</td>\n",
       "      <td>0</td>\n",
       "      <td>0</td>\n",
       "      <td>0</td>\n",
       "      <td>0</td>\n",
       "      <td>0</td>\n",
       "      <td>0</td>\n",
       "      <td>0</td>\n",
       "      <td>0</td>\n",
       "      <td>0</td>\n",
       "      <td>Fully Paid</td>\n",
       "    </tr>\n",
       "    <tr>\n",
       "      <th>4</th>\n",
       "      <td>176220.0</td>\n",
       "      <td>1076.275101</td>\n",
       "      <td>1.378339e+06</td>\n",
       "      <td>20639.70</td>\n",
       "      <td>6.1</td>\n",
       "      <td>15.0</td>\n",
       "      <td>0.0</td>\n",
       "      <td>253460.0</td>\n",
       "      <td>427174.0</td>\n",
       "      <td>0.0</td>\n",
       "      <td>...</td>\n",
       "      <td>0</td>\n",
       "      <td>0</td>\n",
       "      <td>0</td>\n",
       "      <td>0</td>\n",
       "      <td>0</td>\n",
       "      <td>0</td>\n",
       "      <td>0</td>\n",
       "      <td>0</td>\n",
       "      <td>0</td>\n",
       "      <td>Fully Paid</td>\n",
       "    </tr>\n",
       "  </tbody>\n",
       "</table>\n",
       "<p>5 rows × 42 columns</p>\n",
       "</div>"
      ],
      "text/plain": [
       "   Current Loan Amount  Credit Score  Annual Income  Monthly Debt  \\\n",
       "0             445412.0    709.000000   1.167493e+06       5214.74   \n",
       "1             262328.0   1076.275101   1.378339e+06      33295.98   \n",
       "2           99999999.0    741.000000   2.231892e+06      29200.53   \n",
       "3             347666.0    721.000000   8.069490e+05       8741.90   \n",
       "4             176220.0   1076.275101   1.378339e+06      20639.70   \n",
       "\n",
       "   Years of Credit History  Number of Open Accounts  \\\n",
       "0                     17.2                      6.0   \n",
       "1                     21.1                     35.0   \n",
       "2                     14.9                     18.0   \n",
       "3                     12.0                      9.0   \n",
       "4                      6.1                     15.0   \n",
       "\n",
       "   Number of Credit Problems  Current Credit Balance  Maximum Open Credit  \\\n",
       "0                        1.0                228190.0             416746.0   \n",
       "1                        0.0                229976.0             850784.0   \n",
       "2                        1.0                297996.0             750090.0   \n",
       "3                        0.0                256329.0             386958.0   \n",
       "4                        0.0                253460.0             427174.0   \n",
       "\n",
       "   Tax Liens  ...  Purpose_Medical Bills  Purpose_Other  \\\n",
       "0        0.0  ...                      0              0   \n",
       "1        0.0  ...                      0              0   \n",
       "2        0.0  ...                      0              0   \n",
       "3        0.0  ...                      0              0   \n",
       "4        0.0  ...                      0              0   \n",
       "\n",
       "   Purpose_major_purchase  Purpose_moving  Purpose_other  \\\n",
       "0                       0               0              0   \n",
       "1                       0               0              0   \n",
       "2                       0               0              0   \n",
       "3                       0               0              0   \n",
       "4                       0               0              0   \n",
       "\n",
       "   Purpose_renewable_energy  Purpose_small_business  Purpose_vacation  \\\n",
       "0                         0                       0                 0   \n",
       "1                         0                       0                 0   \n",
       "2                         0                       0                 0   \n",
       "3                         0                       0                 0   \n",
       "4                         0                       0                 0   \n",
       "\n",
       "   Purpose_wedding  Loan Status  \n",
       "0                0   Fully Paid  \n",
       "1                0   Fully Paid  \n",
       "2                0   Fully Paid  \n",
       "3                0   Fully Paid  \n",
       "4                0   Fully Paid  \n",
       "\n",
       "[5 rows x 42 columns]"
      ]
     },
     "execution_count": 70,
     "metadata": {},
     "output_type": "execute_result"
    }
   ],
   "source": [
    "bank_data.head()"
   ]
  },
  {
   "cell_type": "markdown",
   "metadata": {},
   "source": [
    "<a id=section8></a>"
   ]
  },
  {
   "cell_type": "code",
   "execution_count": 71,
   "metadata": {},
   "outputs": [
    {
     "name": "stdout",
     "output_type": "stream",
     "text": [
      "(79835, 41)\n",
      "(19959, 41)\n",
      "(79835, 1)\n",
      "(19959, 1)\n"
     ]
    }
   ],
   "source": [
    "# Extract independent variables\n",
    "features = bank_data.drop('Loan Status',axis = 1)\n",
    "# Extract target variable\n",
    "targets = pd.DataFrame(bank_data['Loan Status'])\n",
    "\n",
    "from sklearn.model_selection import train_test_split\n",
    "\n",
    "# Split into 80% training and 20% testing set\n",
    "X_train, X_test, y_train, y_test = train_test_split(features, targets, test_size = 0.2, random_state = 1)\n",
    "\n",
    "print(X_train.shape)\n",
    "print(X_test.shape)\n",
    "print(y_train.shape)\n",
    "print(y_test.shape)"
   ]
  },
  {
   "cell_type": "markdown",
   "metadata": {},
   "source": [
    "Scaling of train and test data(Independent variables/Features)"
   ]
  },
  {
   "cell_type": "code",
   "execution_count": 72,
   "metadata": {
    "collapsed": true
   },
   "outputs": [],
   "source": [
    "from sklearn.preprocessing import StandardScaler\n",
    "sc = StandardScaler()\n",
    "X_train = sc.fit_transform(X_train)\n",
    "# While scaling the test data, mean and standard deviation of train data\n",
    "# should be considered.\n",
    "X_test = sc.transform(X_test)"
   ]
  },
  {
   "cell_type": "markdown",
   "metadata": {},
   "source": [
    "Convert Dependent variable into dummy column."
   ]
  },
  {
   "cell_type": "code",
   "execution_count": 73,
   "metadata": {},
   "outputs": [
    {
     "name": "stderr",
     "output_type": "stream",
     "text": [
      "C:\\Users\\vinay\\Anaconda3\\lib\\site-packages\\sklearn\\preprocessing\\label.py:111: DataConversionWarning: A column-vector y was passed when a 1d array was expected. Please change the shape of y to (n_samples, ), for example using ravel().\n",
      "  y = column_or_1d(y, warn=True)\n"
     ]
    }
   ],
   "source": [
    "# Encoding the Dependent Variable\n",
    "from sklearn.preprocessing import LabelEncoder\n",
    "labelencoder_y_train = LabelEncoder()\n",
    "y_train = labelencoder_y_train.fit_transform(y_train)\n",
    "labelencoder_y_test = LabelEncoder()\n",
    "y_test = labelencoder_y_test.fit_transform(y_test)"
   ]
  },
  {
   "cell_type": "code",
   "execution_count": 74,
   "metadata": {},
   "outputs": [
    {
     "data": {
      "text/plain": [
       "array([1, 0, 1, 1, 1, 1, 1, 1, 1, 1], dtype=int64)"
      ]
     },
     "execution_count": 74,
     "metadata": {},
     "output_type": "execute_result"
    }
   ],
   "source": [
    "y_train[:10]"
   ]
  },
  {
   "cell_type": "markdown",
   "metadata": {},
   "source": [
    "The following encoding is given to 'Loan Status column':\n",
    "**Fully Paid = 1\n",
    "Charged Off = 0**"
   ]
  },
  {
   "cell_type": "markdown",
   "metadata": {
    "collapsed": true
   },
   "source": [
    "Check frequency in 'Loan Status' column"
   ]
  },
  {
   "cell_type": "code",
   "execution_count": 76,
   "metadata": {},
   "outputs": [
    {
     "data": {
      "text/plain": [
       "Counter({0: 18030, 1: 61805})"
      ]
     },
     "execution_count": 76,
     "metadata": {},
     "output_type": "execute_result"
    }
   ],
   "source": [
    "from collections import Counter\n",
    "Counter(y_train)"
   ]
  },
  {
   "cell_type": "markdown",
   "metadata": {},
   "source": [
    "<a id=section></a>"
   ]
  },
  {
   "cell_type": "markdown",
   "metadata": {},
   "source": [
    "<a id=\"section7\"></a>\n",
    "## 7. Logistic Regression"
   ]
  },
  {
   "cell_type": "markdown",
   "metadata": {},
   "source": [
    "**Arguments for LogisticRegression model:**\n",
    "<br>\n",
    "<br>\n",
    "1.max_iter(epochs) = 100 by default\n",
    "<br>\n",
    "2.Batch Gradient Descent Optimization - by default"
   ]
  },
  {
   "cell_type": "code",
   "execution_count": 77,
   "metadata": {
    "collapsed": true
   },
   "outputs": [],
   "source": [
    "# # Logistic Regression\n",
    "from sklearn.linear_model import LogisticRegression\n",
    "log_model = LogisticRegression()"
   ]
  },
  {
   "cell_type": "markdown",
   "metadata": {},
   "source": [
    "Train the model"
   ]
  },
  {
   "cell_type": "code",
   "execution_count": 78,
   "metadata": {},
   "outputs": [
    {
     "name": "stdout",
     "output_type": "stream",
     "text": [
      "Wall time: 5.71 s\n"
     ]
    }
   ],
   "source": [
    "%time log_model = log_model.fit(X_train,y_train)"
   ]
  },
  {
   "cell_type": "markdown",
   "metadata": {},
   "source": [
    "Take a note of time in milli-seconds"
   ]
  },
  {
   "cell_type": "markdown",
   "metadata": {},
   "source": [
    "Predictions on train data"
   ]
  },
  {
   "cell_type": "code",
   "execution_count": 79,
   "metadata": {
    "collapsed": true
   },
   "outputs": [],
   "source": [
    "y_train_pred_lm = log_model.predict(X_train)"
   ]
  },
  {
   "cell_type": "markdown",
   "metadata": {},
   "source": [
    "<a id=section901></a>"
   ]
  },
  {
   "cell_type": "markdown",
   "metadata": {},
   "source": [
    "<a id=\"section701\"></a>\n",
    "### 7.1 LogisticRegression Model Evaluation"
   ]
  },
  {
   "cell_type": "markdown",
   "metadata": {},
   "source": [
    "Import metrics to evaluate the model"
   ]
  },
  {
   "cell_type": "code",
   "execution_count": 80,
   "metadata": {
    "collapsed": true
   },
   "outputs": [],
   "source": [
    "from sklearn.metrics import accuracy_score,confusion_matrix"
   ]
  },
  {
   "cell_type": "markdown",
   "metadata": {},
   "source": [
    "Accuracy of our model on train data"
   ]
  },
  {
   "cell_type": "code",
   "execution_count": 81,
   "metadata": {
    "scrolled": true
   },
   "outputs": [
    {
     "data": {
      "text/plain": [
       "0.819277259347404"
      ]
     },
     "execution_count": 81,
     "metadata": {},
     "output_type": "execute_result"
    }
   ],
   "source": [
    "accuracy_score(y_train,y_train_pred_lm)"
   ]
  },
  {
   "cell_type": "markdown",
   "metadata": {},
   "source": [
    "Accuracy score above 80% can be considered a descent model."
   ]
  },
  {
   "cell_type": "markdown",
   "metadata": {},
   "source": [
    "Confusion Matrix on train data"
   ]
  },
  {
   "cell_type": "code",
   "execution_count": 82,
   "metadata": {},
   "outputs": [
    {
     "name": "stdout",
     "output_type": "stream",
     "text": [
      "[[ 3656 14374]\n",
      " [   54 61751]]\n"
     ]
    }
   ],
   "source": [
    "cm_train_lm = confusion_matrix(y_train,y_train_pred_lm)\n",
    "print(cm_train_lm)"
   ]
  },
  {
   "cell_type": "markdown",
   "metadata": {},
   "source": [
    " - **Precision is more important in this case.**\n",
    " - False Positives should be as less as possible.\n",
    " - **False Positives in this case means the model is predicting that person has cleared the loan but the actually didn't clear the loan.**"
   ]
  },
  {
   "cell_type": "markdown",
   "metadata": {},
   "source": [
    "Recall on train data"
   ]
  },
  {
   "cell_type": "code",
   "execution_count": 83,
   "metadata": {},
   "outputs": [
    {
     "data": {
      "text/plain": [
       "0.999126284281207"
      ]
     },
     "execution_count": 83,
     "metadata": {},
     "output_type": "execute_result"
    }
   ],
   "source": [
    "cm_train_lm[1,1]/(cm_train_lm[1,1]+cm_train_lm[1,0])"
   ]
  },
  {
   "cell_type": "markdown",
   "metadata": {},
   "source": [
    "Precision on train data"
   ]
  },
  {
   "cell_type": "code",
   "execution_count": 84,
   "metadata": {},
   "outputs": [
    {
     "data": {
      "text/plain": [
       "0.8111789819376026"
      ]
     },
     "execution_count": 84,
     "metadata": {},
     "output_type": "execute_result"
    }
   ],
   "source": [
    "cm_train_lm[1,1]/(cm_train_lm[1,1]+cm_train_lm[0,1])"
   ]
  },
  {
   "cell_type": "markdown",
   "metadata": {},
   "source": [
    "Predictions on test data"
   ]
  },
  {
   "cell_type": "code",
   "execution_count": 85,
   "metadata": {
    "collapsed": true
   },
   "outputs": [],
   "source": [
    "y_test_pred_lm = log_model.predict(X_test)"
   ]
  },
  {
   "cell_type": "markdown",
   "metadata": {},
   "source": [
    "Accuracy score on test data"
   ]
  },
  {
   "cell_type": "code",
   "execution_count": 86,
   "metadata": {},
   "outputs": [
    {
     "data": {
      "text/plain": [
       "0.8186782904955158"
      ]
     },
     "execution_count": 86,
     "metadata": {},
     "output_type": "execute_result"
    }
   ],
   "source": [
    "accuracy_score(y_test,y_test_pred_lm)"
   ]
  },
  {
   "cell_type": "markdown",
   "metadata": {},
   "source": [
    "Confusion Matrix on test data"
   ]
  },
  {
   "cell_type": "code",
   "execution_count": 87,
   "metadata": {},
   "outputs": [
    {
     "name": "stdout",
     "output_type": "stream",
     "text": [
      "[[  960  3597]\n",
      " [   22 15380]]\n"
     ]
    }
   ],
   "source": [
    "cm_test_lm = confusion_matrix(y_test,y_test_pred_lm)\n",
    "print(cm_test_lm)"
   ]
  },
  {
   "cell_type": "markdown",
   "metadata": {},
   "source": [
    "Recall on test data"
   ]
  },
  {
   "cell_type": "code",
   "execution_count": 88,
   "metadata": {},
   "outputs": [
    {
     "data": {
      "text/plain": [
       "0.998571614076094"
      ]
     },
     "execution_count": 88,
     "metadata": {},
     "output_type": "execute_result"
    }
   ],
   "source": [
    "cm_test_lm[1,1]/(cm_test_lm[1,1]+cm_test_lm[1,0])"
   ]
  },
  {
   "cell_type": "markdown",
   "metadata": {},
   "source": [
    "Precision on test data"
   ]
  },
  {
   "cell_type": "code",
   "execution_count": 89,
   "metadata": {},
   "outputs": [
    {
     "data": {
      "text/plain": [
       "0.8104547610265058"
      ]
     },
     "execution_count": 89,
     "metadata": {},
     "output_type": "execute_result"
    }
   ],
   "source": [
    "cm_test_lm[1,1]/(cm_test_lm[1,1]+cm_test_lm[0,1])"
   ]
  },
  {
   "cell_type": "markdown",
   "metadata": {},
   "source": [
    "<a id=section10></a>"
   ]
  },
  {
   "cell_type": "markdown",
   "metadata": {},
   "source": [
    "<a id=\"section8\"></a>\n",
    "## 8. SGD Classifier"
   ]
  },
  {
   "cell_type": "markdown",
   "metadata": {},
   "source": [
    "**Arguments for SGD Classifier model:**\n",
    "<br>\n",
    "1. max_iter(epochs) = 5 by default\n",
    "<br>\n",
    "2. Stochastic Gradient Descent - by default\n",
    "<br>\n",
    "3. loss = 'log' since we are comparing with LogisticRegression model which uses log loss as cost function."
   ]
  },
  {
   "cell_type": "markdown",
   "metadata": {},
   "source": [
    "Import SGDClassifier from sklearn.linear_model"
   ]
  },
  {
   "cell_type": "code",
   "execution_count": 90,
   "metadata": {
    "collapsed": true
   },
   "outputs": [],
   "source": [
    "from sklearn.linear_model import SGDClassifier"
   ]
  },
  {
   "cell_type": "markdown",
   "metadata": {},
   "source": [
    "Instantiate the model"
   ]
  },
  {
   "cell_type": "code",
   "execution_count": 91,
   "metadata": {},
   "outputs": [
    {
     "name": "stderr",
     "output_type": "stream",
     "text": [
      "C:\\Users\\vinay\\Anaconda3\\lib\\site-packages\\sklearn\\linear_model\\stochastic_gradient.py:84: FutureWarning: max_iter and tol parameters have been added in <class 'sklearn.linear_model.stochastic_gradient.SGDClassifier'> in 0.19. If both are left unset, they default to max_iter=5 and tol=None. If tol is not None, max_iter defaults to max_iter=1000. From 0.21, default max_iter will be 1000, and default tol will be 1e-3.\n",
      "  \"and default tol will be 1e-3.\" % type(self), FutureWarning)\n"
     ]
    }
   ],
   "source": [
    "sgd_model = SGDClassifier(loss = 'log')"
   ]
  },
  {
   "cell_type": "markdown",
   "metadata": {},
   "source": [
    "Train the model. Take a note of the time taken"
   ]
  },
  {
   "cell_type": "code",
   "execution_count": 92,
   "metadata": {},
   "outputs": [
    {
     "name": "stdout",
     "output_type": "stream",
     "text": [
      "Wall time: 245 ms\n"
     ]
    }
   ],
   "source": [
    "%time sgd_model = sgd_model.fit(X_train,y_train)"
   ]
  },
  {
   "cell_type": "markdown",
   "metadata": {},
   "source": [
    "<a id=section1001></a>"
   ]
  },
  {
   "cell_type": "markdown",
   "metadata": {},
   "source": [
    "<a id='section801'></a>\n",
    "### 8.1 SGDClassifier Model Evaluation"
   ]
  },
  {
   "cell_type": "markdown",
   "metadata": {},
   "source": [
    "Predictions on train data"
   ]
  },
  {
   "cell_type": "code",
   "execution_count": 93,
   "metadata": {
    "collapsed": true
   },
   "outputs": [],
   "source": [
    "y_train_pred_sgd = sgd_model.predict(X_train)"
   ]
  },
  {
   "cell_type": "markdown",
   "metadata": {},
   "source": [
    "Accuracy of model on train data"
   ]
  },
  {
   "cell_type": "code",
   "execution_count": 94,
   "metadata": {},
   "outputs": [
    {
     "data": {
      "text/plain": [
       "0.8091939625477548"
      ]
     },
     "execution_count": 94,
     "metadata": {},
     "output_type": "execute_result"
    }
   ],
   "source": [
    "accuracy_score(y_train,y_train_pred_sgd)"
   ]
  },
  {
   "cell_type": "markdown",
   "metadata": {},
   "source": [
    "Confusion matrix on train data"
   ]
  },
  {
   "cell_type": "code",
   "execution_count": 95,
   "metadata": {},
   "outputs": [
    {
     "name": "stdout",
     "output_type": "stream",
     "text": [
      "[[ 4209 13821]\n",
      " [ 1412 60393]]\n"
     ]
    }
   ],
   "source": [
    "cm_train_sgd = confusion_matrix(y_train,y_train_pred_sgd)\n",
    "print(cm_train_sgd)"
   ]
  },
  {
   "cell_type": "markdown",
   "metadata": {},
   "source": [
    "Recall on train data"
   ]
  },
  {
   "cell_type": "code",
   "execution_count": 96,
   "metadata": {},
   "outputs": [
    {
     "data": {
      "text/plain": [
       "0.9771539519456355"
      ]
     },
     "execution_count": 96,
     "metadata": {},
     "output_type": "execute_result"
    }
   ],
   "source": [
    "cm_train_sgd[1,1]/(cm_train_sgd[1,1]+cm_train_sgd[1,0])"
   ]
  },
  {
   "cell_type": "markdown",
   "metadata": {},
   "source": [
    "Precision on train data"
   ]
  },
  {
   "cell_type": "code",
   "execution_count": 97,
   "metadata": {},
   "outputs": [
    {
     "data": {
      "text/plain": [
       "0.8137682916969844"
      ]
     },
     "execution_count": 97,
     "metadata": {},
     "output_type": "execute_result"
    }
   ],
   "source": [
    "cm_train_sgd[1,1]/(cm_train_sgd[1,1]+cm_train_sgd[0,1])"
   ]
  },
  {
   "cell_type": "markdown",
   "metadata": {},
   "source": [
    "Predictions on test data"
   ]
  },
  {
   "cell_type": "code",
   "execution_count": 98,
   "metadata": {
    "collapsed": true
   },
   "outputs": [],
   "source": [
    "y_test_pred_sgd = sgd_model.predict(X_test)"
   ]
  },
  {
   "cell_type": "markdown",
   "metadata": {},
   "source": [
    "Accuracy of SGDClassifier model on test data"
   ]
  },
  {
   "cell_type": "code",
   "execution_count": 99,
   "metadata": {},
   "outputs": [
    {
     "data": {
      "text/plain": [
       "0.8076556941730547"
      ]
     },
     "execution_count": 99,
     "metadata": {},
     "output_type": "execute_result"
    }
   ],
   "source": [
    "accuracy_score(y_test,y_test_pred_sgd)"
   ]
  },
  {
   "cell_type": "markdown",
   "metadata": {},
   "source": [
    "Confusion Matrix on test data"
   ]
  },
  {
   "cell_type": "code",
   "execution_count": 100,
   "metadata": {},
   "outputs": [
    {
     "name": "stdout",
     "output_type": "stream",
     "text": [
      "[[ 1100  3457]\n",
      " [  382 15020]]\n"
     ]
    }
   ],
   "source": [
    "cm_test_sgd = confusion_matrix(y_test,y_test_pred_sgd)\n",
    "print(cm_test_sgd)"
   ]
  },
  {
   "cell_type": "markdown",
   "metadata": {},
   "source": [
    "Recall on test data"
   ]
  },
  {
   "cell_type": "code",
   "execution_count": 101,
   "metadata": {},
   "outputs": [
    {
     "data": {
      "text/plain": [
       "0.9751980262303597"
      ]
     },
     "execution_count": 101,
     "metadata": {},
     "output_type": "execute_result"
    }
   ],
   "source": [
    "cm_test_sgd[1,1]/(cm_test_sgd[1,1]+cm_test_sgd[1,0])"
   ]
  },
  {
   "cell_type": "markdown",
   "metadata": {},
   "source": [
    "Precision on test data"
   ]
  },
  {
   "cell_type": "code",
   "execution_count": 102,
   "metadata": {},
   "outputs": [
    {
     "data": {
      "text/plain": [
       "0.8129025274665801"
      ]
     },
     "execution_count": 102,
     "metadata": {},
     "output_type": "execute_result"
    }
   ],
   "source": [
    "cm_test_sgd[1,1]/(cm_test_sgd[1,1]+cm_test_sgd[0,1])"
   ]
  },
  {
   "cell_type": "markdown",
   "metadata": {},
   "source": [
    "<a id=section1002></a>"
   ]
  },
  {
   "cell_type": "markdown",
   "metadata": {},
   "source": [
    "<a id=\"section802\"></a>\n",
    "### 8.2 Evaluating performance of SGD Classifier for no.of epochs ranging from 1 to 20"
   ]
  },
  {
   "cell_type": "code",
   "execution_count": 103,
   "metadata": {
    "scrolled": true
   },
   "outputs": [
    {
     "name": "stdout",
     "output_type": "stream",
     "text": [
      "Wall time: 6.83 s\n"
     ]
    }
   ],
   "source": [
    "%%time\n",
    "test_accuracy_list_epochs = []\n",
    "train_accuracy_list_epochs = []\n",
    "\n",
    "for  i in range(1,21):\n",
    "    \n",
    "    sgd = SGDClassifier(max_iter=i,loss = 'log')\n",
    "    sgd_model = sgd.fit(X_train,y_train)\n",
    "    \n",
    "    y_train_preds = sgd_model.predict(X_train)\n",
    "    y_test_preds = sgd_model.predict(X_test)\n",
    "    \n",
    "    y_train_accuracy = accuracy_score(y_train,y_train_preds)\n",
    "    y_test_accuracy = accuracy_score(y_test,y_test_preds)\n",
    "    \n",
    "    train_accuracy_list_epochs.append(y_train_accuracy)\n",
    "    test_accuracy_list_epochs.append(y_test_accuracy)"
   ]
  },
  {
   "cell_type": "markdown",
   "metadata": {},
   "source": [
    "#### Plotting Accuracy of the model against no.of epochs "
   ]
  },
  {
   "cell_type": "code",
   "execution_count": 104,
   "metadata": {
    "scrolled": false
   },
   "outputs": [
    {
     "data": {
      "text/plain": [
       "<matplotlib.legend.Legend at 0x22cb9508da0>"
      ]
     },
     "execution_count": 104,
     "metadata": {},
     "output_type": "execute_result"
    },
    {
     "data": {
      "image/png": "[encoded data removed]",
      "text/plain": [
       "<matplotlib.figure.Figure at 0x22cb94c3208>"
      ]
     },
     "metadata": {},
     "output_type": "display_data"
    }
   ],
   "source": [
    "plt.plot(range(1,21),train_accuracy_list_epochs,'-',label = 'train')\n",
    "plt.plot(range(1,21),test_accuracy_list_epochs,'-',label = 'test')\n",
    "plt.xticks(range(1,21))\n",
    "plt.xlabel('No.of Epochs')\n",
    "plt.ylabel('Accuracy')\n",
    "plt.grid()\n",
    "plt.legend()"
   ]
  },
  {
   "cell_type": "markdown",
   "metadata": {},
   "source": [
    "We can infer from the graph that after 3 epochs there is no much increase in accuracy. So we can set max_iter = 3. More epochs means more computations."
   ]
  },
  {
   "cell_type": "markdown",
   "metadata": {},
   "source": [
    "<a id=section1003></a>"
   ]
  },
  {
   "cell_type": "markdown",
   "metadata": {},
   "source": [
    "<a id='section803'></a>\n",
    "### 8.3 Evaluating performance of SGD Classifier for different learning_rates"
   ]
  },
  {
   "cell_type": "markdown",
   "metadata": {},
   "source": [
    "In SGDClassifier(), **alpha** is used **to calculate learning_rate**.\n",
    "So we will evaluate the model performace for different values of alpha =  [1e-4,3e-4,7e-4,1e-3,3e-3]"
   ]
  },
  {
   "cell_type": "code",
   "execution_count": 105,
   "metadata": {},
   "outputs": [
    {
     "name": "stderr",
     "output_type": "stream",
     "text": [
      "C:\\Users\\vinay\\Anaconda3\\lib\\site-packages\\sklearn\\linear_model\\stochastic_gradient.py:84: FutureWarning: max_iter and tol parameters have been added in <class 'sklearn.linear_model.stochastic_gradient.SGDClassifier'> in 0.19. If both are left unset, they default to max_iter=5 and tol=None. If tol is not None, max_iter defaults to max_iter=1000. From 0.21, default max_iter will be 1000, and default tol will be 1e-3.\n",
      "  \"and default tol will be 1e-3.\" % type(self), FutureWarning)\n"
     ]
    },
    {
     "name": "stdout",
     "output_type": "stream",
     "text": [
      "Wall time: 1.39 s\n"
     ]
    }
   ],
   "source": [
    "%%time\n",
    "test_accuracy_list_alpha = []\n",
    "train_accuracy_list_alpha = []\n",
    "for i in [1e-4,3e-4,7e-4,1e-3,3e-3,7e-3,1e-2]:\n",
    "    sgd = SGDClassifier(alpha = i,loss = 'log')\n",
    "    sgd_model = sgd.fit(X_train,y_train)\n",
    "    y_train_preds = sgd_model.predict(X_train)\n",
    "    y_test_preds = sgd_model.predict(X_test)\n",
    "    \n",
    "    y_train_accuracy = accuracy_score(y_train,y_train_preds)\n",
    "    train_accuracy_list_alpha.append(y_train_accuracy)\n",
    "    \n",
    "    y_test_accuracy = accuracy_score(y_test,y_test_preds)\n",
    "    test_accuracy_list_alpha.append(y_test_accuracy)"
   ]
  },
  {
   "cell_type": "markdown",
   "metadata": {},
   "source": [
    "#### Plotting Accuracy of the model against  alpha "
   ]
  },
  {
   "cell_type": "code",
   "execution_count": 106,
   "metadata": {},
   "outputs": [
    {
     "data": {
      "image/png": "[encoded data removed]",
      "text/plain": [
       "<matplotlib.figure.Figure at 0x22cb94e50f0>"
      ]
     },
     "metadata": {},
     "output_type": "display_data"
    }
   ],
   "source": [
    "plt.plot([1e-4,3e-4,7e-4,1e-3,3e-3,7e-3,1e-2],train_accuracy_list_alpha,'-',label = 'train')\n",
    "plt.plot([1e-4,3e-4,7e-4,1e-3,3e-3,7e-3,1e-2],test_accuracy_list_alpha,'-',label = 'test')\n",
    "plt.xticks([1e-4,3e-4,7e-4,1e-3,3e-3,7e-3,1e-2], rotation='vertical')\n",
    "plt.xlabel('alpha')\n",
    "plt.ylabel('Accuracy')\n",
    "plt.legend()\n",
    "plt.grid()"
   ]
  },
  {
   "cell_type": "markdown",
   "metadata": {},
   "source": [
    " - Optimum alpha value seems to be 0.0007. From alpha = 0.001 test accuracy is dreacesing. That means model starts to overfit from aplha = 0.001.\n",
    " - Also after aplha = 0.001 there is a dip in both train and test accuracy. That means the ball is jumping here and there instead of converging to the minimum of cost function."
   ]
  },
  {
   "cell_type": "markdown",
   "metadata": {},
   "source": [
    "<a id=section1004></a>"
   ]
  },
  {
   "cell_type": "markdown",
   "metadata": {},
   "source": [
    "<a id=\"section804\"></a>\n",
    "### 8.4 GridSearchCV on for SGD Classifier"
   ]
  },
  {
   "cell_type": "markdown",
   "metadata": {},
   "source": [
    "**GridSearchCV will help us to find right alpha and no.of iterations**"
   ]
  },
  {
   "cell_type": "code",
   "execution_count": 107,
   "metadata": {
    "scrolled": true
   },
   "outputs": [
    {
     "name": "stderr",
     "output_type": "stream",
     "text": [
      "C:\\Users\\vinay\\Anaconda3\\lib\\site-packages\\sklearn\\preprocessing\\label.py:111: DataConversionWarning: A column-vector y was passed when a 1d array was expected. Please change the shape of y to (n_samples, ), for example using ravel().\n",
      "  y = column_or_1d(y, warn=True)\n"
     ]
    }
   ],
   "source": [
    "sc1 = StandardScaler()\n",
    "X = sc1.fit_transform(features)\n",
    "\n",
    "labelencoder_y = LabelEncoder()\n",
    "y = labelencoder_y.fit_transform(targets)"
   ]
  },
  {
   "cell_type": "code",
   "execution_count": 108,
   "metadata": {},
   "outputs": [
    {
     "name": "stderr",
     "output_type": "stream",
     "text": [
      "C:\\Users\\vinay\\Anaconda3\\lib\\site-packages\\sklearn\\linear_model\\stochastic_gradient.py:84: FutureWarning: max_iter and tol parameters have been added in <class 'sklearn.linear_model.stochastic_gradient.SGDClassifier'> in 0.19. If both are left unset, they default to max_iter=5 and tol=None. If tol is not None, max_iter defaults to max_iter=1000. From 0.21, default max_iter will be 1000, and default tol will be 1e-3.\n",
      "  \"and default tol will be 1e-3.\" % type(self), FutureWarning)\n"
     ]
    }
   ],
   "source": [
    "from sklearn.model_selection import GridSearchCV\n",
    "\n",
    "params = {\n",
    "    \"alpha\" : [1e-4,3e-4,7e-4,1e-3,3e-3,7e-3,1e-2],\n",
    "    \"max_iter\" : list(range(1,21))\n",
    "}\n",
    "\n",
    "model = SGDClassifier(loss = 'log')\n",
    "clf = GridSearchCV(model, param_grid=params,scoring = 'accuracy',cv = 10)"
   ]
  },
  {
   "cell_type": "code",
   "execution_count": 109,
   "metadata": {
    "scrolled": true
   },
   "outputs": [
    {
     "name": "stdout",
     "output_type": "stream",
     "text": [
      "0.819327815299517\n",
      "Wall time: 10min 9s\n"
     ]
    }
   ],
   "source": [
    "%%time\n",
    "clf.fit(X, y)\n",
    "print(clf.best_score_)"
   ]
  },
  {
   "cell_type": "code",
   "execution_count": 110,
   "metadata": {},
   "outputs": [
    {
     "data": {
      "text/plain": [
       "{'alpha': 0.001, 'max_iter': 18}"
      ]
     },
     "execution_count": 110,
     "metadata": {},
     "output_type": "execute_result"
    }
   ],
   "source": [
    "clf.best_params_"
   ]
  },
  {
   "cell_type": "code",
   "execution_count": 111,
   "metadata": {},
   "outputs": [
    {
     "data": {
      "text/plain": [
       "0.819327815299517"
      ]
     },
     "execution_count": 111,
     "metadata": {},
     "output_type": "execute_result"
    }
   ],
   "source": [
    "clf.best_score_"
   ]
  },
  {
   "cell_type": "markdown",
   "metadata": {},
   "source": [
    "- One shouldn't blindly take best parameters from GridSearchCV. The results should be cross checked with above graphs and final decision has to be taken based on accuracy and time taken to train the model to obtain that level of accuracy."
   ]
  },
  {
   "cell_type": "markdown",
   "metadata": {},
   "source": [
    "<a id=\"section9\"></a>\n",
    "## 9. Conclusion"
   ]
  },
  {
   "cell_type": "markdown",
   "metadata": {},
   "source": [
    "- **Accuracy** obtaing in **SGDClassifier model** is **almost same** as accuracy obtained in **LogisticRegression model** but in much less time.\n",
    "\n",
    "    - **SGDClassifier model** will be almost **10-15 times faster than LogisticRegression model** on this small train dataset of size 79,835. This will **make a huge difference when training on much larger datasets** in real-world applications."
   ]
  }
 ],
 "metadata": {
  "kernelspec": {
   "display_name": "Python 3",
   "language": "python",
   "name": "python3"
  },
  "language_info": {
   "codemirror_mode": {
    "name": "ipython",
    "version": 3
   },
   "file_extension": ".py",
   "mimetype": "text/x-python",
   "name": "python",
   "nbconvert_exporter": "python",
   "pygments_lexer": "ipython3",
   "version": "3.6.7"
  }
 },
 "nbformat": 4,
 "nbformat_minor": 2
}
